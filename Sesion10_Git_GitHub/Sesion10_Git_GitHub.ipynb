{
 "cells": [
  {
   "cell_type": "markdown",
   "id": "fleet-panel",
   "metadata": {},
   "source": [
    "# **Sesión 10: Git y GitHub**\n",
    "\n",
    "<img src= \"./img/git-github.png\"  class= center width= 500 />\n",
    "\n",
    "## **Git**\n",
    "* Programa de línea de comandos que permite realizar `manejo de versiones` de documentos de texto plano. Se tiene registro del usuario que hizo un cambio determinado, la fecha, hora y otros datos relevantes.\n",
    "* Funciona de forma local (no se requiere acceso a internet). \n",
    "* Los archivos de los que se mantiene el manejo de versiones con Git se organizan en un `repositorio`. \n",
    "* Git tambiés es útil para trabajos colaborativos de creación y escritura de software. \n",
    "\n",
    "Para verificar si tienes instalado Git en tu computadora corre el siguiente comando:"
   ]
  },
  {
   "cell_type": "code",
   "execution_count": null,
   "id": "stretch-quantity",
   "metadata": {
    "tags": []
   },
   "outputs": [],
   "source": [
    "git --version"
   ]
  },
  {
   "cell_type": "markdown",
   "id": "numerical-accuracy",
   "metadata": {},
   "source": [
    "En caso que no tengas instalado Git, te dejamos este [tutorial](https://git-scm.com/book/en/v2/Getting-Started-Installing-Git) sobre su instalación en diferentes sistemas operativos. \n",
    "\n",
    "### **Comandos básicos de Git**\n",
    "\n",
    "Para empezar, vamos a crear un directorio, que será el repositorio de Git, y nos movemos ahí: "
   ]
  },
  {
   "cell_type": "code",
   "execution_count": null,
   "id": "daily-complement",
   "metadata": {},
   "outputs": [],
   "source": [
    "mkdir repo_prueba\n",
    "cd repo_prueba"
   ]
  },
  {
   "cell_type": "markdown",
   "id": "deluxe-preview",
   "metadata": {},
   "source": [
    "#### **1. Crear un repo de Git**\n",
    "Entonces, inicializamos el directorio que creamos previamente como un repositorio de Git con el comando `git init`: "
   ]
  },
  {
   "cell_type": "code",
   "execution_count": null,
   "id": "annoying-makeup",
   "metadata": {},
   "outputs": [],
   "source": [
    "git init"
   ]
  },
  {
   "cell_type": "markdown",
   "id": "supreme-civilization",
   "metadata": {},
   "source": [
    "Ahora, creamos algunos archivos en el repositorio para llevar el manejo de sus versiones: "
   ]
  },
  {
   "cell_type": "code",
   "execution_count": null,
   "id": "returning-warrant",
   "metadata": {},
   "outputs": [],
   "source": [
    "echo \"Este es mi repositorio de prueba\" > readme.txt\n",
    "echo \"echo Hola mundo\" > archivo1.sh\n",
    "echo \"print('Hola mundo')\" > archivo2.py\n",
    "echo \"'Hola mundo'\" > archivo3.R"
   ]
  },
  {
   "cell_type": "code",
   "execution_count": null,
   "id": "warming-sheffield",
   "metadata": {},
   "outputs": [],
   "source": [
    "bash archivo1.sh\n",
    "python archivo2.py\n",
    "Rscript archivo3.R"
   ]
  },
  {
   "cell_type": "markdown",
   "id": "composite-background",
   "metadata": {},
   "source": [
    "#### **2. Verificar el estado de un proyecto de Git**\n",
    "Entonces, analizamos el estado del repositorio con el comando `git status`: "
   ]
  },
  {
   "cell_type": "code",
   "execution_count": null,
   "id": "convinced-pleasure",
   "metadata": {},
   "outputs": [],
   "source": [
    "git status"
   ]
  },
  {
   "cell_type": "markdown",
   "id": "honest-thong",
   "metadata": {},
   "source": [
    "#### **3. Añadir un archivo a la lista de seguimiento de versiones del repo de Git**\n",
    "De momento, todos los archivos aparecen en la lista de archivos sin seguimiento, por lo que debemos especificar que queremos manejar las versiones de los archivos, para lo que usamos el comando `git add`:"
   ]
  },
  {
   "cell_type": "code",
   "execution_count": null,
   "id": "saving-ottawa",
   "metadata": {},
   "outputs": [],
   "source": [
    "git add readme.txt\n",
    "git add archivo1.sh"
   ]
  },
  {
   "cell_type": "markdown",
   "id": "adopted-blade",
   "metadata": {},
   "source": [
    "Verificamos nuevamente el estado del repositorio y constatamos que *readme.txt* y *archivo1.sh* están en la lista de archivos con seguimiento: "
   ]
  },
  {
   "cell_type": "code",
   "execution_count": null,
   "id": "young-stylus",
   "metadata": {},
   "outputs": [],
   "source": [
    "git status"
   ]
  },
  {
   "cell_type": "markdown",
   "id": "cellular-findings",
   "metadata": {},
   "source": [
    "#### **4. Eliminar un archivo de la lista de seguimiento de versiones del repo de Git**\n",
    "En caso de que ya no quisieramos realizar el siguimiento del archivo *readme.txt*, podemos usar el comando `git rm` con la opción *--cached* (para mantener el archivo en el repo): "
   ]
  },
  {
   "cell_type": "code",
   "execution_count": null,
   "id": "nervous-penguin",
   "metadata": {},
   "outputs": [],
   "source": [
    "git rm --cached readme.txt\n",
    "git status"
   ]
  },
  {
   "cell_type": "markdown",
   "id": "nearby-logging",
   "metadata": {},
   "source": [
    "#### **5. Guardar los cambios realizados en los archivos de la lista de seguimiento**\n",
    "Entonces, se debe crear un punto de referencia de los cambios que se han hecho sobre los archivos que están en la lista de seguimiento, lo que se realiza con el comando `git commit`, y se debe especificar un mensaje usando la opción *-m*"
   ]
  },
  {
   "cell_type": "code",
   "execution_count": null,
   "id": "planned-moral",
   "metadata": {},
   "outputs": [],
   "source": [
    "git commit -m \"Añadimos archivo1.sh al repo de prueba\""
   ]
  },
  {
   "cell_type": "markdown",
   "id": "mineral-crack",
   "metadata": {},
   "source": [
    "Ahora, añadimos una línea extra al archivo al que aplicamos el *commit* y vemos el estado del repo:"
   ]
  },
  {
   "cell_type": "code",
   "execution_count": null,
   "id": "active-pierre",
   "metadata": {},
   "outputs": [],
   "source": [
    "echo \"echo Hola mundo 2\" >> archivo1.sh\n",
    "git status"
   ]
  },
  {
   "cell_type": "markdown",
   "id": "fitting-greece",
   "metadata": {},
   "source": [
    "#### **6. Añadir todos los archivos del repo a la lista de seguimiento de versiones**\n",
    "Para añadir todos los archivos del repositorio a la lista de seguimiento se usa la opción *-A* o *.* del comando `git add`: "
   ]
  },
  {
   "cell_type": "code",
   "execution_count": null,
   "id": "under-tonight",
   "metadata": {},
   "outputs": [],
   "source": [
    "git add -A # o git add .\n",
    "git status"
   ]
  },
  {
   "cell_type": "markdown",
   "id": "warming-admission",
   "metadata": {},
   "source": [
    "Y hacemos el commit de todos los archivos de la lista de seguimiento con su mensaje correspondiente: "
   ]
  },
  {
   "cell_type": "code",
   "execution_count": null,
   "id": "configured-count",
   "metadata": {},
   "outputs": [],
   "source": [
    "git commit -m \"Añadimos readme.txt, y scripts de Hola mundo en diferentes lenguajes\"\n",
    "git status"
   ]
  },
  {
   "cell_type": "markdown",
   "id": "flying-smart",
   "metadata": {},
   "source": [
    "#### **7. Deshacer el commit más reciente**\n",
    "En caso de existir algún error con la versión de alguno de los archivos de los que se hizo el commit, es posible deshacer el commit más reciente, lo que se puede realizar con el comando `git reset --soft HEAD~`:"
   ]
  },
  {
   "cell_type": "code",
   "execution_count": null,
   "id": "fancy-wisdom",
   "metadata": {},
   "outputs": [],
   "source": [
    "git reset --soft HEAD~\n",
    "git status"
   ]
  },
  {
   "cell_type": "code",
   "execution_count": null,
   "id": "powerful-scout",
   "metadata": {},
   "outputs": [],
   "source": [
    "git add -A\n",
    "git commit -m \"Añadimos archivos corregidos\"\n",
    "git status"
   ]
  },
  {
   "cell_type": "markdown",
   "id": "veterinary-database",
   "metadata": {
    "jupyter": {
     "outputs_hidden": true
    }
   },
   "source": [
    "### **Características importantes de Git** \n",
    "\n",
    "#### **1. Ayuda**\n",
    "\n",
    "El comando `git help` permite obtener información de otros comandos de git: "
   ]
  },
  {
   "cell_type": "code",
   "execution_count": null,
   "id": "radical-feeling",
   "metadata": {},
   "outputs": [],
   "source": [
    "git help status"
   ]
  },
  {
   "cell_type": "markdown",
   "id": "owned-movement",
   "metadata": {},
   "source": [
    "#### **2. Log**\n",
    "Para conocer la lista de todos los commits del repositorio de Git se puede usar el comando `git log`;"
   ]
  },
  {
   "cell_type": "code",
   "execution_count": 2,
   "id": "bored-election",
   "metadata": {},
   "outputs": [
    {
     "name": "stdout",
     "output_type": "stream",
     "text": [
      "\u001b[0m\u001b[34;42mimg\u001b[0m  \u001b[01;32mSesion10_Git_GitHub.ipynb\u001b[0m\n",
      "\u001b[?2004h"
     ]
    },
    {
     "ename": "",
     "evalue": "1",
     "output_type": "error",
     "traceback": []
    }
   ],
   "source": [
    "git log"
   ]
  },
  {
   "cell_type": "markdown",
   "id": "proprietary-maldives",
   "metadata": {},
   "source": [
    "#### **3. Diff**\n",
    "El comando `git diff` permite ver las diferencias entre la versión de un archivo sin seguimiento y el último commit del archivo: "
   ]
  },
  {
   "cell_type": "code",
   "execution_count": null,
   "id": "bizarre-symphony",
   "metadata": {
    "tags": []
   },
   "outputs": [],
   "source": [
    "echo \"Esta es otra línea del repo de prueba\" >> readme.txt\n",
    "git diff readme.txt"
   ]
  },
  {
   "cell_type": "markdown",
   "id": "portuguese-terrain",
   "metadata": {},
   "source": [
    "#### **4. Eliminar cambios realizados en un archivo**\n",
    "Debido a la modificación que hicimos en el archivo, ahora podemos usar el comando `git add` para añadir los cambios o `git checkout` para eliminar todos los cambios hechos en el archivo y regresar al estado del último commit:"
   ]
  },
  {
   "cell_type": "code",
   "execution_count": null,
   "id": "indie-baltimore",
   "metadata": {},
   "outputs": [],
   "source": [
    "git status"
   ]
  },
  {
   "cell_type": "code",
   "execution_count": null,
   "id": "fantastic-verification",
   "metadata": {},
   "outputs": [],
   "source": [
    "git checkout readme.txt"
   ]
  },
  {
   "cell_type": "code",
   "execution_count": null,
   "id": "fitted-desktop",
   "metadata": {},
   "outputs": [],
   "source": [
    "cat readme.txt\n",
    "git status"
   ]
  },
  {
   "cell_type": "markdown",
   "id": "humanitarian-practitioner",
   "metadata": {},
   "source": [
    "#### **5. Ignorar archivos o directorios**\n",
    "\n",
    "Puede ser que existan archivos o directorios del repositorio de Git de los que no se quiera hacer el manejo de versiones. Esto puede ser porque no son archivos de texto plano (jpg, pdf, entre otros) o porque almacenan información confidencial. \n",
    "\n",
    "Para evitar realizar el manejo de versiones con Git de ciertos archivos o directorios se puede emplear el archivo `.gitignore`, en el que se puede añadir una lista de archivos y directorios, o añadir expresiones regulares para especificar arhivos con una extensión determinada u otro criterio. "
   ]
  },
  {
   "cell_type": "code",
   "execution_count": null,
   "id": "respiratory-mobile",
   "metadata": {},
   "outputs": [],
   "source": [
    "touch imagen1.png\n",
    "touch imagen2.jpg\n",
    "touch imagen3.jpg\n",
    "mkdir sub_directorio1\n",
    "touch sub_directorio1/imagen4.png\n",
    "git status"
   ]
  },
  {
   "cell_type": "code",
   "execution_count": null,
   "id": "charitable-relationship",
   "metadata": {},
   "outputs": [],
   "source": [
    "echo \"imagen1.png\" > .gitignore\n",
    "git status"
   ]
  },
  {
   "cell_type": "code",
   "execution_count": null,
   "id": "accessory-income",
   "metadata": {},
   "outputs": [],
   "source": [
    "echo \"*.jpg\" >> .gitignore\n",
    "git status"
   ]
  },
  {
   "cell_type": "code",
   "execution_count": null,
   "id": "speaking-technical",
   "metadata": {},
   "outputs": [],
   "source": [
    "echo \"sub_directorio1/\" >> .gitignore\n",
    "git status"
   ]
  },
  {
   "cell_type": "markdown",
   "id": "novel-cleaners",
   "metadata": {},
   "source": [
    "Añadimos el archivo `.gitignore` a la lista de archivos con seguimiento y hacemos un commit:"
   ]
  },
  {
   "cell_type": "code",
   "execution_count": null,
   "id": "imposed-feature",
   "metadata": {},
   "outputs": [],
   "source": [
    "git add -A\n",
    "git commit -m \"Añadimos .gitignore\""
   ]
  },
  {
   "cell_type": "code",
   "execution_count": null,
   "id": "soviet-demand",
   "metadata": {},
   "outputs": [],
   "source": [
    "git status"
   ]
  },
  {
   "cell_type": "markdown",
   "id": "objective-plastic",
   "metadata": {},
   "source": [
    "#### **6. Ramas**\n",
    "\n",
    "Se puede considerar las ramas de Git como una **copia del repo en un punto específico de tiempo** que se puede modificar de forma independiente de las otras ramas. Permiten trabajar con un conjunto de archivos de un repositorio de forma independiente a otras copias de estos archivos. Así, es posible modificar varias partes de un archivo en diferentes ramas, y luego unir los cambios en un archivo consenso. \n",
    "\n",
    "Un ejemplo para entender esto es en el caso de la escritura de un libro, donde tendríamos las siguientes ramas:\n",
    "\n",
    "* rama principal (main)\n",
    "* tabla de contenidos \n",
    "* capítulo 1\n",
    "* capítulo 2\n",
    "* etc \n",
    "\n",
    "##### **6.1. Verificar las ramas del repo**\n",
    "Para listar las ramas de un repositorio de Git se usa el coamndo `git branch`:"
   ]
  },
  {
   "cell_type": "code",
   "execution_count": null,
   "id": "funky-beast",
   "metadata": {
    "tags": []
   },
   "outputs": [],
   "source": [
    "git branch"
   ]
  },
  {
   "cell_type": "markdown",
   "id": "pediatric-wrestling",
   "metadata": {
    "tags": []
   },
   "source": [
    "##### **6.2. Crear una nueva rama**\n",
    "Para crear una nueva rama se usa el comando `git branch` seguido del nombre de la rama:"
   ]
  },
  {
   "cell_type": "code",
   "execution_count": null,
   "id": "fluid-victorian",
   "metadata": {
    "tags": []
   },
   "outputs": [],
   "source": [
    "git branch test_branch\n",
    "git branch"
   ]
  },
  {
   "cell_type": "markdown",
   "id": "crucial-missouri",
   "metadata": {
    "jupyter": {
     "outputs_hidden": true
    }
   },
   "source": [
    "##### **6.3. Cambiarse de una rama a otra**\n",
    "Para cambiar de rama actual de trabajo se usa el comando `git checkout`:"
   ]
  },
  {
   "cell_type": "code",
   "execution_count": null,
   "id": "rural-drilling",
   "metadata": {},
   "outputs": [],
   "source": [
    "git checkout test_branch\n",
    "git branch"
   ]
  },
  {
   "cell_type": "markdown",
   "id": "smoking-communication",
   "metadata": {},
   "source": [
    "##### **6.4. Elimnar una rama**\n",
    "Para eliminar una rama se usa el comando `git branch` con la opción *-d*: "
   ]
  },
  {
   "cell_type": "code",
   "execution_count": null,
   "id": "desirable-debate",
   "metadata": {},
   "outputs": [],
   "source": [
    "git checkout master\n",
    "git branch -d test_branch\n",
    "git branch"
   ]
  },
  {
   "cell_type": "markdown",
   "id": "unable-impossible",
   "metadata": {
    "jupyter": {
     "outputs_hidden": true
    }
   },
   "source": [
    "##### **6.5. Crear una rama y convertirla en la rama de trabajo**\n",
    "Es posible crear una rama y hacer que esta sea la rama de trabajo actual al mismo tiempo, para lo que se usa el comando `git checkout` con la opción *-b*, seguido del nombre de la nueva rama:"
   ]
  },
  {
   "cell_type": "code",
   "execution_count": null,
   "id": "arbitrary-tension",
   "metadata": {},
   "outputs": [],
   "source": [
    "git checkout -b nueva_rama\n",
    "git branch"
   ]
  },
  {
   "cell_type": "markdown",
   "id": "upper-ethiopia",
   "metadata": {},
   "source": [
    "En la nueva rama modificaremos el archivo `readme.txt`, lo añadiremos a la lista de seguimiento y haremos commit:"
   ]
  },
  {
   "cell_type": "code",
   "execution_count": null,
   "id": "explicit-malta",
   "metadata": {},
   "outputs": [],
   "source": [
    "echo \"Esta línea se añadió en el archivo de la nueva rama\" >> readme.txt\n",
    "git add -A\n",
    "git commit -m \"Modificación readme.txt en nueva rama\"\n",
    "cat readme.txt"
   ]
  },
  {
   "cell_type": "markdown",
   "id": "latest-founder",
   "metadata": {},
   "source": [
    "Ahora volvemos a la rama *master* y verificamos el archivo *readme.txt*:"
   ]
  },
  {
   "cell_type": "code",
   "execution_count": null,
   "id": "collaborative-pledge",
   "metadata": {},
   "outputs": [],
   "source": [
    "git checkout master\n",
    "cat readme.txt"
   ]
  },
  {
   "cell_type": "code",
   "execution_count": null,
   "id": "substantial-circle",
   "metadata": {},
   "outputs": [],
   "source": [
    "git branch"
   ]
  },
  {
   "cell_type": "markdown",
   "id": "fantastic-compression",
   "metadata": {},
   "source": [
    "##### **6.6. Unir los contenidos de diferentes ramas**\n",
    "Para unir los cambios realizados de un archivo en diferentes ramas se usa el comando `git merge`: "
   ]
  },
  {
   "cell_type": "code",
   "execution_count": null,
   "id": "plastic-hebrew",
   "metadata": {},
   "outputs": [],
   "source": [
    "git merge nueva_rama\n",
    "cat readme.txt"
   ]
  },
  {
   "cell_type": "markdown",
   "id": "compliant-sandwich",
   "metadata": {},
   "source": [
    "Así, Git permite trabajar de forma paralela sobre un mismo código base, lo que ayuda al trabajo colaborativo de escritura de código y desarrollo de software. \n",
    "\n",
    "Sin embargo, si el contenido de los archivos de dos ramas diferentes, de los que se ha hecho commit, possen cambios distintos pueden surgir `conflictos`. A continuación se creará un conflicto y se mostrará cómo resolverlo.\n",
    "\n",
    "Primero, cambiamos la palabra *archivo* por *documento* en readme.txt de la nueva_rama, lo añadimos a la lista de seguimiento y hacemos el commit:"
   ]
  },
  {
   "cell_type": "code",
   "execution_count": null,
   "id": "lyric-horror",
   "metadata": {
    "tags": []
   },
   "outputs": [],
   "source": [
    "git checkout nueva_rama\n",
    "# La modificación del archivo se debe hacer por la consola para barir nano o con otro editor de texto\n",
    "cat readme.txt"
   ]
  },
  {
   "cell_type": "code",
   "execution_count": null,
   "id": "coupled-corporation",
   "metadata": {
    "tags": []
   },
   "outputs": [],
   "source": [
    "git add -A\n",
    "git commit -m \"Cambio de archivo por documento\""
   ]
  },
  {
   "cell_type": "markdown",
   "id": "loving-submission",
   "metadata": {},
   "source": [
    "Ahora regresamos a la rama *master*, cambiamos la palabra arhivo por file, lo añadimos a la lista de seguimiento, hacemos commit y tratamos de hacer el merge como hicimos antes:"
   ]
  },
  {
   "cell_type": "code",
   "execution_count": null,
   "id": "imposed-principal",
   "metadata": {
    "tags": []
   },
   "outputs": [],
   "source": [
    "git checkout master\n",
    "# La modificación del archivo se debe hacer por la consola para barir nano o con otro editor de texto\n",
    "cat readme.txt"
   ]
  },
  {
   "cell_type": "code",
   "execution_count": null,
   "id": "respiratory-means",
   "metadata": {
    "tags": []
   },
   "outputs": [],
   "source": [
    "git add -A\n",
    "git commit -m \"Cambio de archivo por file\""
   ]
  },
  {
   "cell_type": "code",
   "execution_count": null,
   "id": "thorough-majority",
   "metadata": {
    "tags": []
   },
   "outputs": [],
   "source": [
    "git merge nueva_rama"
   ]
  },
  {
   "cell_type": "markdown",
   "id": "selected-movement",
   "metadata": {},
   "source": [
    "Observamos que se ha generado un conflicto, lo que se verifica al correr el comando `git status` y ver el contenido del archivo *readme.txt*:"
   ]
  },
  {
   "cell_type": "code",
   "execution_count": null,
   "id": "cross-beverage",
   "metadata": {},
   "outputs": [],
   "source": [
    "git status"
   ]
  },
  {
   "cell_type": "code",
   "execution_count": null,
   "id": "incredible-thousand",
   "metadata": {},
   "outputs": [],
   "source": [
    "cat readme.txt"
   ]
  },
  {
   "cell_type": "markdown",
   "id": "expected-kernel",
   "metadata": {},
   "source": [
    "Para resolver el conflicto se debe eliminar la línea que es diferente en la otra rama, y hacer commit de la versión corregida: "
   ]
  },
  {
   "cell_type": "code",
   "execution_count": null,
   "id": "modified-offer",
   "metadata": {},
   "outputs": [],
   "source": [
    "git add -A\n",
    "git commit -m \"Conflicto resuelto\""
   ]
  },
  {
   "cell_type": "code",
   "execution_count": null,
   "id": "improved-tooth",
   "metadata": {
    "tags": []
   },
   "outputs": [],
   "source": [
    "git merge nueva_rama"
   ]
  },
  {
   "cell_type": "markdown",
   "id": "treated-bolivia",
   "metadata": {},
   "source": [
    "## **GitHub**\n",
    "* Sitio web que provee repositorios de Git de forma remota. Un `repositorio remoto` se almacena en un servidor externo y se puede acceder mediante conección a internet. \n",
    "* En GitHub se pueden crear repositorios remotos públicos o privados.\n",
    "* Permite `sincronizar cambios` en los archivos de código entre varios usuarios con acceso al repositorio remoto.\n",
    "* Red social de geeks. \n",
    "\n",
    "### **1. Definir las variables de ambiente de usuario e email**\n",
    "Lo primero que debeos hacer es establecer las variables de ambiente de Git de nuestro usuatio y correo de la cuenta de GitHub, lo que se realiza con los siguiente comandos:"
   ]
  },
  {
   "cell_type": "code",
   "execution_count": null,
   "id": "shared-yellow",
   "metadata": {},
   "outputs": [],
   "source": [
    "git config --global user.name \"usuario\"\n",
    "git config --global user.email \"correo\""
   ]
  },
  {
   "cell_type": "markdown",
   "id": "dressed-adapter",
   "metadata": {},
   "source": [
    "Para comprobar que las variables fueron configuradas se usa el siguiente comando:"
   ]
  },
  {
   "cell_type": "code",
   "execution_count": null,
   "id": "multiple-ancient",
   "metadata": {},
   "outputs": [],
   "source": [
    " git config --list"
   ]
  },
  {
   "cell_type": "markdown",
   "id": "consecutive-government",
   "metadata": {},
   "source": [
    "### **2. Conectar con repositorio remoto**\n",
    "Para conectar un repositorio remoto con nuestro repositorio local usamos el comando `git remote add` seguido del nombre que le asignamos al repositorio (ej. `origin`), y la dirección URL del repo de GitHub:"
   ]
  },
  {
   "cell_type": "code",
   "execution_count": null,
   "id": "opposed-teddy",
   "metadata": {},
   "outputs": [],
   "source": [
    "git remote add origin https://github.com/asar1245/repo_prueba.git"
   ]
  },
  {
   "cell_type": "markdown",
   "id": "advisory-order",
   "metadata": {},
   "source": [
    "Para comprobar los repositorios remotos a los que está conectado el repositorio local usamos el comando `git remote`:  "
   ]
  },
  {
   "cell_type": "code",
   "execution_count": null,
   "id": "sized-bicycle",
   "metadata": {},
   "outputs": [],
   "source": [
    "git remote"
   ]
  },
  {
   "cell_type": "markdown",
   "id": "endless-jaguar",
   "metadata": {},
   "source": [
    "### **3. Actualizar los contenidos del repo remoto con los cambios en el repo local**\n",
    "Luego de establecer esta conexión, podemos actualizar los contenidos del repo remoto, incluyendo todos sus commits, con los del repo local. Esto se realiza con el comando `git push`. La primera vez que se establece la conexión se debe usa la opción *-u* (con esto se establece origin por defecto y ya no se debe especificar en los futuros push) seguido del nombre asignado al repo remoto (ej. origin), y el nombre de la rama asignada al repo remoto (ej. master)."
   ]
  },
  {
   "cell_type": "code",
   "execution_count": null,
   "id": "animated-canvas",
   "metadata": {},
   "outputs": [],
   "source": [
    "# Este comando se debe correr en la terminal porque pide el usuario y clave \n",
    "git push -u origin master"
   ]
  },
  {
   "cell_type": "markdown",
   "id": "sustainable-basin",
   "metadata": {},
   "source": [
    "### **4. Comparar dos ramas antes de hacer merge - pull requests**\n",
    "\n",
    "La herramienta *pull request* de GitHub permite comparar de forma interactiva dos ramas diferentes antes de realizar un *merge* entre estas. De esta forma, un usuario puede preguntar a otro si quiere incorporar los cambios de una rama en otra. \n",
    "\n",
    "Para probar esta herramienta, cambiaremos los contenidos de *nueva_rama*, haremos el commit respectivo y el push al repositorio remoto: "
   ]
  },
  {
   "cell_type": "code",
   "execution_count": null,
   "id": "static-collective",
   "metadata": {},
   "outputs": [],
   "source": [
    "git checkout nueva_rama\n",
    "rm archivo1.sh\n",
    "# Y cambiaremos el contenido de readme.txt, usando el comando nano desde la terminal "
   ]
  },
  {
   "cell_type": "code",
   "execution_count": null,
   "id": "sized-ocean",
   "metadata": {},
   "outputs": [],
   "source": [
    "git add -A\n",
    "git commit -m \"Actualización readme.txt y eliminación archivo1.sh\""
   ]
  },
  {
   "cell_type": "code",
   "execution_count": null,
   "id": "double-firewall",
   "metadata": {},
   "outputs": [],
   "source": [
    "# Este comando se debe correr en la terminal porque pide el usuario y clave \n",
    "git push origin nueva_rama"
   ]
  },
  {
   "cell_type": "markdown",
   "id": "supposed-solution",
   "metadata": {},
   "source": [
    "Ahora veremos cómo realizar el *pull request* en la página del repositorio remoto de GitHub\n",
    "\n",
    "### **5. Actualizar el repo local con los cambios hechos en el repo remoto**\n",
    "Cuando se realizan cambios en el repositorio remoto, es importante actualizar el repositorio local con estos cambios, lo que se realiza con el comando `git pull`:"
   ]
  },
  {
   "cell_type": "code",
   "execution_count": null,
   "id": "clinical-galaxy",
   "metadata": {},
   "outputs": [],
   "source": [
    "git checkout master\n",
    "git pull"
   ]
  },
  {
   "cell_type": "markdown",
   "id": "worldwide-storm",
   "metadata": {},
   "source": [
    "### **6. Clonar repositorio remoto a cuenta personal de GitHub - Fork**\n",
    "\n",
    "Herrmienta de GitHub que permite clonar un repositorio remoto de otros usuarios en nuestra cuenta, y poder modificar el código fuente. Depués, se pueden añadir los cambios hechos en el repositorio local al repositorio remoto de origen mediante *pull request*.\n",
    "\n",
    "### **7. Clonar repositorio remoto a un directorio local**\n",
    "\n",
    "Luego de realizar el fork de un repositorio a nuestra cuenta de GitHub, podemos descargarlo a nuestra computadora desde la terminal usando el comando `git clone`. Como ejemplo, descargaremos el repositorio del grupo de estudio de nuestra cuenta de GitHub desde la terminal:"
   ]
  },
  {
   "cell_type": "code",
   "execution_count": null,
   "id": "derived-neighbor",
   "metadata": {},
   "outputs": [],
   "source": [
    "cd ~"
   ]
  },
  {
   "cell_type": "code",
   "execution_count": null,
   "id": "ranging-harvey",
   "metadata": {},
   "outputs": [],
   "source": [
    "git clone https://github.com/asar1245/Grupo-De-Estudio-Linux-Bash.git"
   ]
  },
  {
   "cell_type": "code",
   "execution_count": null,
   "id": "contemporary-television",
   "metadata": {},
   "outputs": [],
   "source": [
    "cd Grupo-De-Estudio-Linux-Bash"
   ]
  },
  {
   "cell_type": "markdown",
   "id": "straight-dominant",
   "metadata": {},
   "source": [
    "### **8. Verificar los repositorios remotos conectados al repo local**\n",
    "Clonar un repositorio tiene la ventaja de que mantiene el seguimiento del repositorio remoto asociado al repo local. Esto lo podemos comprobar con el comando `git remote -v`:"
   ]
  },
  {
   "cell_type": "code",
   "execution_count": null,
   "id": "atlantic-depth",
   "metadata": {},
   "outputs": [],
   "source": [
    "git remote -v"
   ]
  },
  {
   "cell_type": "markdown",
   "id": "foreign-forwarding",
   "metadata": {},
   "source": [
    "De esta forma, podemos cambiar los contenidos del repo local y actualizar el repo remoto mediante commits y pulls, como vimos en las secciones anteriores. \n",
    "### **9. Actualizar repo local del que se hizo un fork con los cambios del repo original**\n",
    "\n",
    "En caso de que querramos actualizar los contenidos de nuestro repo local y remoto con los cambios hechos en el repo del que hicimos el fork, lo podemos hacer con los comandos `git remote add`, `git fetch`, y `git merge`:\n",
    "\n",
    "\n",
    "Nota: El comando `git pull` agrupa los comandos `git fetch`, y `git merge` en un solo comando."
   ]
  },
  {
   "cell_type": "code",
   "execution_count": null,
   "id": "inside-insurance",
   "metadata": {},
   "outputs": [],
   "source": [
    "git remote add upstream https://github.com/RSG-Ecuador/Grupo-De-Estudio-Linux-Bash.git"
   ]
  },
  {
   "cell_type": "code",
   "execution_count": null,
   "id": "turned-poland",
   "metadata": {},
   "outputs": [],
   "source": [
    "git fetch upstream"
   ]
  },
  {
   "cell_type": "code",
   "execution_count": null,
   "id": "general-manitoba",
   "metadata": {},
   "outputs": [],
   "source": [
    "git merge upstream/main"
   ]
  },
  {
   "cell_type": "markdown",
   "id": "fiscal-wiring",
   "metadata": {},
   "source": [
    "## **Referencias**\n",
    "* Kross, S. (2017). The unix workbench. Capítulo *Git and GitHub* (pp 154-209) Leanpub. https://leanpub.com/unix\n",
    "* https://www.freecodecamp.org/news/practical-git-and-git-workflows/"
   ]
  }
 ],
 "metadata": {
  "kernelspec": {
   "display_name": "Bash",
   "language": "bash",
   "name": "bash"
  },
  "language_info": {
   "codemirror_mode": "shell",
   "file_extension": ".sh",
   "mimetype": "text/x-sh",
   "name": "bash"
  },
  "toc-autonumbering": false,
  "toc-showcode": false,
  "toc-showmarkdowntxt": false,
  "toc-showtags": false
 },
 "nbformat": 4,
 "nbformat_minor": 5
}
