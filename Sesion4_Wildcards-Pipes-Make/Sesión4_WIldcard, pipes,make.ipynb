{
 "cells": [
  {
   "cell_type": "markdown",
   "metadata": {},
   "source": [
    "# Tema: Wildcard, pipes, make\n",
    "\n",
    "## Objetivos: "
   ]
  },
  {
   "cell_type": "markdown",
   "metadata": {},
   "source": [
    "# Wildcard \n",
    "\n",
    "Un \"Wildcard\" es un símbolo que se utiliza para reemplazar o representar uno o más caracteres. Se utilizan en programas informáticos, motores de búsqueda y sistemas operativos para simplificar los criterios de búsqueda. El wildcard que usaremos en esta ocasión será mediante ( * )\n",
    "\n",
    "Por ejemplo: Observemos que archivos tenemos en nuestro actual ambiente de trabajo "
   ]
  },
  {
   "cell_type": "code",
   "execution_count": 12,
   "metadata": {},
   "outputs": [
    {
     "name": "stdout",
     "output_type": "stream",
     "text": [
      " \u001b[0m\u001b[01;35mCaptopril.png\u001b[0m\r\n",
      "\u001b[01;35m'Captura de pantalla de 2021-01-15 15-06-25.png'\u001b[0m\r\n",
      "'FO-GVI-04-V.2.0 Planificación de prácticas(1).docx'\r\n",
      "'FO-GVI-04-V.2.0 Planificación de prácticas.docx.pdf'\r\n",
      "'FO-GVI-06-V.2.0 Informe prácticas pre profesionales estudiante.docx'\r\n",
      "'FO-GVI-07-V.3.0 Informe prácticas pre profesionales docente.docx'\r\n",
      "'FO-GVI-07-V.3.0 Informe prácticas pre profesionales docente.docx.pdf'\r\n",
      " \u001b[01;35míndice.jpeg\u001b[0m\r\n",
      " \u001b[01;35mlogo.png\u001b[0m\r\n",
      "'Sesión4_WIldcard, pipes,make.ipynb'\r\n"
     ]
    }
   ],
   "source": [
    "ls"
   ]
  },
  {
   "cell_type": "markdown",
   "metadata": {},
   "source": [
    "## Ejemplo Enlistar archivos que finalicen con \"docx\"\n",
    "Observamos que tenemos varios archivos con extensión png, docx, jpeg y pdf\n",
    "\n",
    "Lo que ahora realizaré es que me enliste aquellos archivos que tengan la extensión .docx y esto lo realizaremos con wildcard"
   ]
  },
  {
   "cell_type": "code",
   "execution_count": 4,
   "metadata": {},
   "outputs": [
    {
     "name": "stdout",
     "output_type": "stream",
     "text": [
      "'FO-GVI-04-V.2.0 Planificación de prácticas(1).docx'\r\n",
      "'FO-GVI-06-V.2.0 Informe prácticas pre profesionales estudiante.docx'\r\n",
      "'FO-GVI-07-V.3.0 Informe prácticas pre profesionales docente.docx'\r\n"
     ]
    }
   ],
   "source": [
    "ls *docx"
   ]
  },
  {
   "cell_type": "markdown",
   "metadata": {},
   "source": [
    "## Ejemplo Enlistar archivos que inicien con \"FO-GVI-04-V.2.0\"\n",
    "\n",
    "Lo que realizaré es que me enliste aquellos archivos que inicien con \"FO-GVI-04-V.2.0\" y nuevamente lo realizaremos con un wildcard"
   ]
  },
  {
   "cell_type": "code",
   "execution_count": 11,
   "metadata": {},
   "outputs": [
    {
     "name": "stdout",
     "output_type": "stream",
     "text": [
      "'FO-GVI-04-V.2.0 Planificación de prácticas(1).docx'\r\n",
      "'FO-GVI-04-V.2.0 Planificación de prácticas.docx.pdf'\r\n"
     ]
    }
   ],
   "source": [
    "ls FO-GVI-04-V.2.0*"
   ]
  },
  {
   "cell_type": "markdown",
   "metadata": {},
   "source": [
    "## Ejemplo: Mover archivos .png\n",
    "\n",
    "A continuación crearemos una carpeta donde solo contengan archivos png. Esto resultaría tedioso haciendolo uno por uno, sin embargo, lo realizaremos mediante wildcard"
   ]
  },
  {
   "cell_type": "code",
   "execution_count": 23,
   "metadata": {},
   "outputs": [],
   "source": [
    "mkdir imagenes_png_"
   ]
  },
  {
   "cell_type": "code",
   "execution_count": 27,
   "metadata": {},
   "outputs": [],
   "source": [
    "mv *png imagenes_png_/"
   ]
  },
  {
   "cell_type": "markdown",
   "metadata": {},
   "source": [
    "En nuestro actual ambiente de trabajo corroboraremos que esto fue así, por lo tanto, al enlistar no debemos observar nigún archivo con extensión \"png\"\n",
    "\n",
    "O también podemos corroborar ingresando a la carpeta donde se movió las imagenes y de esa manera enlistar y observar que archivos contiene"
   ]
  },
  {
   "cell_type": "code",
   "execution_count": 28,
   "metadata": {},
   "outputs": [
    {
     "name": "stdout",
     "output_type": "stream",
     "text": [
      "'FO-GVI-04-V.2.0 Planificación de prácticas(1).docx'\r\n",
      "'FO-GVI-04-V.2.0 Planificación de prácticas.docx.pdf'\r\n",
      "'FO-GVI-06-V.2.0 Informe prácticas pre profesionales estudiante.docx'\r\n",
      "'FO-GVI-07-V.3.0 Informe prácticas pre profesionales docente.docx'\r\n",
      "'FO-GVI-07-V.3.0 Informe prácticas pre profesionales docente.docx.pdf'\r\n",
      " \u001b[0m\u001b[01;34mimagenes_png_\u001b[0m/\r\n",
      " \u001b[01;35míndice.jpeg\u001b[0m\r\n",
      "'Sesión4_WIldcard, pipes,make.ipynb'\r\n"
     ]
    }
   ],
   "source": [
    "ls"
   ]
  },
  {
   "cell_type": "markdown",
   "metadata": {},
   "source": [
    "# Pipes\n",
    "\n",
    "Nos permite tomar la salida de un comando, que normalmente se imprimiría a la consola, y utilizarlo como entrada para otro comando. Esto se lo considera como una forma de redirección. \n"
   ]
  },
  {
   "cell_type": "code",
   "execution_count": 1,
   "metadata": {},
   "outputs": [
    {
     "name": "stdout",
     "output_type": "stream",
     "text": [
      "Alabama\r\n",
      "Alaska\r\n",
      "Arizona\r\n",
      "Arkansas\r\n",
      "California\r\n",
      "Colorado\r\n",
      "Connecticut\r\n",
      "Delaware\r\n",
      "Florida\r\n",
      "Georgia\r\n",
      "Hawaii\r\n",
      "Idaho\r\n",
      "Illinois\r\n",
      "Indiana\r\n",
      "Iowa\r\n",
      "Kansas\r\n",
      "Kentucky\r\n",
      "Louisiana\r\n",
      "Maine\r\n",
      "Maryland\r\n",
      "Massachusetts\r\n",
      "Michigan\r\n",
      "Minnesota\r\n",
      "Mississippi\r\n",
      "Missouri\r\n",
      "Montana\r\n",
      "Nebraska\r\n",
      "Nevada\r\n",
      "New Hampshire\r\n",
      "New Jersey\r\n",
      "New Mexico\r\n",
      "New York\r\n",
      "North Carolina\r\n",
      "North Dakota\r\n",
      "Ohio\r\n",
      "Oklahoma\r\n",
      "Oregon\r\n",
      "Pennsylvania\r\n",
      "Rhode Island\r\n",
      "South Carolina\r\n",
      "South Dakota\r\n",
      "Tennessee\r\n",
      "Texas\r\n",
      "Utah\r\n",
      "Vermont\r\n",
      "Virginia\r\n",
      "Washington\r\n",
      "West Virginia\r\n",
      "Wisconsin\r\n",
      "Wyoming\r\n"
     ]
    }
   ],
   "source": [
    "cat usa_states.txt"
   ]
  },
  {
   "cell_type": "markdown",
   "metadata": {},
   "source": [
    "## Ejemplo: Contar el número de líneas que tiene la salida de un comando o un fichero. \n",
    "Por ejemplo, (1) ver las líneas que tiene el fichero usa_states.txt (recuerda restar 1, porque la primera línea es la cabecera) o (2) ver los archivos que tenemos en nuestro actual directorio de trabajo."
   ]
  },
  {
   "cell_type": "code",
   "execution_count": 2,
   "metadata": {},
   "outputs": [
    {
     "name": "stdout",
     "output_type": "stream",
     "text": [
      "50\r\n"
     ]
    }
   ],
   "source": [
    "cat usa_states.txt | wc -l"
   ]
  },
  {
   "cell_type": "code",
   "execution_count": 3,
   "metadata": {},
   "outputs": [
    {
     "name": "stdout",
     "output_type": "stream",
     "text": [
      "9\r\n"
     ]
    }
   ],
   "source": [
    "ls | wc -l"
   ]
  },
  {
   "cell_type": "markdown",
   "metadata": {},
   "source": [
    "## Ejemplo: Localizar una línea o palabra concreta\n",
    "(1) ¿Cuantos estados en el archivo usa_states.txt tienen New?\n",
    "(2) Imprimir aquellos estados que empiezen con New en el archivo usa_states.txt"
   ]
  },
  {
   "cell_type": "code",
   "execution_count": 11,
   "metadata": {},
   "outputs": [
    {
     "name": "stdout",
     "output_type": "stream",
     "text": [
      "4\r\n"
     ]
    }
   ],
   "source": [
    "cat usa_states.txt | grep \"New\" | wc -l"
   ]
  },
  {
   "cell_type": "code",
   "execution_count": 12,
   "metadata": {},
   "outputs": [
    {
     "name": "stdout",
     "output_type": "stream",
     "text": [
      "New Hampshire\r\n",
      "New Jersey\r\n",
      "New Mexico\r\n",
      "New York\r\n"
     ]
    }
   ],
   "source": [
    "cat usa_states.txt | grep \"New\""
   ]
  },
  {
   "cell_type": "code",
   "execution_count": 14,
   "metadata": {},
   "outputs": [
    {
     "name": "stdout",
     "output_type": "stream",
     "text": [
      "      4       8      45\r\n"
     ]
    }
   ],
   "source": [
    "cat usa_states.txt | grep \"New\" | wc"
   ]
  },
  {
   "cell_type": "markdown",
   "metadata": {},
   "source": [
    "(3) Mediante expresiones regulares buscar los estados que finalizan en vocal\n",
    "\n",
    "-E hace uso de expresiones regulares extendidas grep -E ‘^XXX|YYY|zzz$’ FILE; correr el siguiente comando en la terminal\n",
    "\n",
    "grep -E \"[aeiou]$\" states.txt | wc -l"
   ]
  },
  {
   "cell_type": "markdown",
   "metadata": {},
   "source": [
    "## Ejemplo: Ordenar las líneas de un fichero por orden alfabético"
   ]
  },
  {
   "cell_type": "code",
   "execution_count": 14,
   "metadata": {},
   "outputs": [
    {
     "name": "stdout",
     "output_type": "stream",
     "text": [
      "Sebastian\r\n",
      "Stalin\r\n",
      "Jean\r\n",
      "Vinicio\r\n",
      "Jair \r\n",
      "Carlos\r\n",
      "Mauricio\r\n",
      "Andres\r\n",
      "Carolina\r\n",
      "Angelica\r\n",
      "Marcela\r\n"
     ]
    }
   ],
   "source": [
    "cat nombre_estudiantes.txt"
   ]
  },
  {
   "cell_type": "code",
   "execution_count": 16,
   "metadata": {},
   "outputs": [
    {
     "name": "stdout",
     "output_type": "stream",
     "text": [
      "Andres\r\n",
      "Angelica\r\n",
      "Carlos\r\n",
      "Carolina\r\n",
      "Jair \r\n",
      "Jean\r\n",
      "Marcela\r\n",
      "Mauricio\r\n",
      "Sebastian\r\n",
      "Stalin\r\n",
      "Vinicio\r\n"
     ]
    }
   ],
   "source": [
    "cat nombre_estudiantes.txt | sort "
   ]
  },
  {
   "cell_type": "markdown",
   "metadata": {},
   "source": [
    "# Make\n",
    "\n",
    "El comando make nos ayuda a compilar nuestros programas.Para instalar un nuevo software uno debe: \n",
    "(1) Descargar todos los archivos que se requieren para la instalación\n",
    "(2) Ir al directorio de trabajo (cd)\n",
    "(3) Make\n",
    "\n",
    "Esto se logra especificando un archivo llamado makefile, que describe las relaciones entre diferentes archivos y programas. Además de instalar programas, make también es útil para crear documentos automáticamente. \n",
    "\n",
    "### Construyamos un archivo MAKE que crea un archivo readme.txt que se llena automáticamente con información sobre nuestro directorio actual."
   ]
  },
  {
   "cell_type": "markdown",
   "metadata": {},
   "source": [
    "# Deber \n",
    "\n",
    "El deber de esta sesión consiste en usar los comandos estudiados en sesiones anteriores y la actual. \n",
    "(1) Crear un archivo (con extensión .tsv) que contenga la información que está en la celda a continuación, (2) del archivo creado, usted debe buscar e imprimir a la vez aquellos que sean enviados (\"submitter\") por la UNAM y la Universidad de Valencia y que la respuesta esté en orden alfabetico.\n",
    "\n",
    "Ayuda: Para imprimir a la vez usted puede usar expresiones regulares. \n",
    "\n",
    "Respuesta: \n",
    "\n",
    "GCF_000284595.1  Stenotrophomonas maltophilia D457   2012/04/11  ASM28459v1  University of Valencia\n",
    "\n",
    "GCF_003086675.1  Stenotrophomonas sp. ZAC14D2_NAIMI4_7   2018/05/03  ASM308667v1 CCG-UNAM\n",
    "\n",
    "GCF_003086855.1  Stenotrophomonas sp. YAU14A_MKIMI4_1    2018/05/03  ASM308685v1 CCG-UNAM\n"
   ]
  },
  {
   "cell_type": "code",
   "execution_count": 10,
   "metadata": {},
   "outputs": [
    {
     "name": "stdout",
     "output_type": "stream",
     "text": [
      "## #assembly_accession  organism_name   seq_rel_date    asm_name    submitter\r\n",
      "## GCF_004343645.1  Klebsiella grimontii    2019/03/11  ASM434364v1 Aarhus University\r\n",
      "## GCF_901563825.1  Klebsiella grimontii    2019/05/29  SB3355_SG266_Ko4    Institut Pasteur\r\n",
      "## GCF_003086675.1  Stenotrophomonas sp. ZAC14D2_NAIMI4_7   2018/05/03  ASM308667v1 CCG-UNAM\r\n",
      "## GCF_003086855.1  Stenotrophomonas sp. YAU14A_MKIMI4_1    2018/05/03  ASM308685v1 CCG-UNAM\r\n",
      "## GCF_000534095.1  Klebsiella aerogenes UCI 47 2014/02/03  Ente_aero_UCI_47_V1 Broad Institute\r\n",
      "## GCF_000006765.1  Pseudomonas aeruginosa PAO1 2006/07/07  ASM676v1    PathoGenesis Corporation\r\n",
      "## GCF_000017205.1  Pseudomonas aeruginosa PA7  2007/07/05  ASM1720v1   J. Craig Venter Institute\r\n",
      "## GCF_000072485.1  Stenotrophomonas maltophilia K279a  2008/06/10  ASM7248v1   Wellcome Trust Sanger Institute\r\n",
      "## GCF_000284595.1  Stenotrophomonas maltophilia D457   2012/04/11  ASM28459v1  University of Valencia\r\n"
     ]
    }
   ],
   "source": [
    "cat mini_tabla.tsv"
   ]
  },
  {
   "cell_type": "markdown",
   "metadata": {},
   "source": [
    "## Referencias \n",
    "\n",
    "Kross, S. (2017). The unix workbench. Leanpub. https://leanpub.com/unix"
   ]
  }
 ],
 "metadata": {
  "kernelspec": {
   "display_name": "Python 3",
   "language": "python",
   "name": "python3"
  },
  "language_info": {
   "codemirror_mode": {
    "name": "ipython",
    "version": 3
   },
   "file_extension": ".py",
   "mimetype": "text/x-python",
   "name": "python",
   "nbconvert_exporter": "python",
   "pygments_lexer": "ipython3",
   "version": "3.7.7"
  }
 },
 "nbformat": 4,
 "nbformat_minor": 4
}
