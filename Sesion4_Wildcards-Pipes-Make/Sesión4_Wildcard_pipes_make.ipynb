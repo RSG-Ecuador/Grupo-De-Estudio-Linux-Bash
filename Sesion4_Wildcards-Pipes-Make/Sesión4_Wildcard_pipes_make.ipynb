{
 "cells": [
  {
   "cell_type": "markdown",
   "metadata": {},
   "source": [
    "# **Tema: Wildcards, pipes (|), make**"
   ]
  },
  {
   "cell_type": "markdown",
   "metadata": {},
   "source": [
    "## **1. Wildcards** \n",
    "\n",
    "Un \"Wildcard\" es un símbolo que se utiliza para reemplazar o representar uno o más caracteres. Se utilizan en programas informáticos, motores de búsqueda y sistemas operativos para simplificar los criterios de búsqueda. El wildcard que usaremos será **\" * \"**, que representa cero o más instancias de cualquier caracter. \n",
    "\n",
    "Primero, observemos qué archivos tenemos en nuestro ambiente de trabajo actual"
   ]
  },
  {
   "cell_type": "code",
   "execution_count": null,
   "metadata": {},
   "outputs": [],
   "source": [
    "ls"
   ]
  },
  {
   "cell_type": "markdown",
   "metadata": {},
   "source": [
    "### **Ejemplo 1: Enlistar archivos que finalicen con \"docx\"**\n",
    "En mi directorio actual hay varios archivos con extensión png, docx, jpeg y pdf\n",
    "\n",
    "Ahora, se listarán aquellos archivos que tengan la extensión .docx y esto lo realizaremos con el wildcard *"
   ]
  },
  {
   "cell_type": "code",
   "execution_count": null,
   "metadata": {},
   "outputs": [],
   "source": [
    "ls *docx"
   ]
  },
  {
   "cell_type": "markdown",
   "metadata": {},
   "source": [
    "### **Ejemplo 2: Enlistar archivos que inicien con \"FO-GVI-04-V.2.0\"**\n",
    "\n",
    "A continuación, se listarán los archivos que inicien con \"FO-GVI-04-V.2.0\" y nuevamente lo realizaremos con el wildcard *"
   ]
  },
  {
   "cell_type": "code",
   "execution_count": null,
   "metadata": {},
   "outputs": [],
   "source": [
    "ls FO-GVI-04-V.2.0*"
   ]
  },
  {
   "cell_type": "markdown",
   "metadata": {},
   "source": [
    "### **Ejemplo 3: Mover archivos .png**\n",
    "\n",
    "A continuación crearemos una carpeta que solo contengan archivos png. Esto resultaría tedioso haciendolo uno por uno, sin embargo, lo realizaremos usando el wildcard *"
   ]
  },
  {
   "cell_type": "code",
   "execution_count": null,
   "metadata": {},
   "outputs": [],
   "source": [
    "mkdir imagenes_png_"
   ]
  },
  {
   "cell_type": "code",
   "execution_count": null,
   "metadata": {},
   "outputs": [],
   "source": [
    "mv *png imagenes_png_/"
   ]
  },
  {
   "cell_type": "markdown",
   "metadata": {},
   "source": [
    "En nuestro ambiente de trabajo actual corroboraremos que esto fue así, por lo tanto, al enlistar no debemos observar nigún archivo con extensión \"png\"\n",
    "\n",
    "O también podemos corroborar ingresando a la carpeta donde se movió las imagenes y de esa manera enlistar y observar que archivos contiene"
   ]
  },
  {
   "cell_type": "code",
   "execution_count": null,
   "metadata": {},
   "outputs": [],
   "source": [
    "ls"
   ]
  },
  {
   "cell_type": "markdown",
   "metadata": {},
   "source": [
    "## **2. Pipes (|)**\n",
    "\n",
    "Nos permite tomar la salida de un comando, que normalmente se imprimiría a la consola, y utilizarlo como entrada para otro comando. Esto se lo considera como una forma de redirección. \n",
    "\n",
    "Primero, realizaremos algunos ejemplos con archivos de los estados de USA y una lista de nombres de estudiantes.\n"
   ]
  },
  {
   "cell_type": "markdown",
   "metadata": {},
   "source": [
    "### **Ejemplo 1: Contar el número de líneas que tiene la salida de un comando o un fichero.**\n",
    "Por ejemplo, (1) ver las líneas que tiene el fichero usa_states.txt (recuerda restar 1, porque la primera línea es la cabecera) o (2) ver los archivos que tenemos en nuestro actual directorio de trabajo."
   ]
  },
  {
   "cell_type": "code",
   "execution_count": null,
   "metadata": {},
   "outputs": [],
   "source": [
    "cat usa_states.txt | wc -l"
   ]
  },
  {
   "cell_type": "code",
   "execution_count": null,
   "metadata": {},
   "outputs": [],
   "source": [
    "ls | wc -l"
   ]
  },
  {
   "cell_type": "markdown",
   "metadata": {},
   "source": [
    "### **Ejemplo 2 : Localizar una línea o palabra concreta**\n",
    "(1) ¿Cuantos estados en el archivo usa_states.txt tienen New?\n",
    "(2) Imprimir aquellos estados que empiezen con New en el archivo usa_states.txt"
   ]
  },
  {
   "cell_type": "code",
   "execution_count": null,
   "metadata": {},
   "outputs": [],
   "source": [
    "cat usa_states.txt | grep \"New\" | wc -l"
   ]
  },
  {
   "cell_type": "code",
   "execution_count": null,
   "metadata": {},
   "outputs": [],
   "source": [
    "cat usa_states.txt | grep \"New\""
   ]
  },
  {
   "cell_type": "code",
   "execution_count": null,
   "metadata": {},
   "outputs": [],
   "source": [
    "cat usa_states.txt | grep \"New\" | wc"
   ]
  },
  {
   "cell_type": "markdown",
   "metadata": {},
   "source": [
    "(3) Mediante expresiones regulares buscar los estados que finalizan en vocal\n",
    "\n",
    "-E hace uso de expresiones regulares extendidas grep -E ‘^XXX|YYY|zzz$’ FILE; correr el siguiente comando en la terminal\n",
    "\n",
    "grep -E \"[aeiou]$\" states.txt | wc -l"
   ]
  },
  {
   "cell_type": "markdown",
   "metadata": {},
   "source": [
    "### **Ejemplo 3: Ordenar las líneas de un fichero por orden alfabético**"
   ]
  },
  {
   "cell_type": "code",
   "execution_count": null,
   "metadata": {},
   "outputs": [],
   "source": [
    "cat nombre_estudiantes.txt"
   ]
  },
  {
   "cell_type": "code",
   "execution_count": null,
   "metadata": {},
   "outputs": [],
   "source": [
    "cat nombre_estudiantes.txt | sort "
   ]
  },
  {
   "cell_type": "markdown",
   "metadata": {},
   "source": [
    "Ahora vamos a realizar algunos ejemplos de Bioinformática:"
   ]
  },
  {
   "cell_type": "markdown",
   "metadata": {},
   "source": [
    "### **Ejemplo 4: El archivo `3c5x.pdb` de la carpeta `archivos` contiene la información estrucutal de la proteína prM del virus del Dengue (PDB ID: 3c5x). Se conoce que la final de cada línea de las coordenadas de estos archivos está la letra del átomo correspondiente. Usando los comandos aprendidos conectados por pipes queremos extraer la información de la cadena A (578-3627), buscar los átomos de N en la cadena A, y exportar esta ifnromación a un archivo llamado `3c5x_cadA_N.txt`.**"
   ]
  },
  {
   "cell_type": "code",
   "execution_count": 2,
   "metadata": {},
   "outputs": [],
   "source": [
    "sed -n '578,3627p' archivos/3c5x.pdb | grep \"N$\" >  archivos/3c5x_cadA_N.txt"
   ]
  },
  {
   "cell_type": "markdown",
   "metadata": {},
   "source": [
    "## **3. Make**\n",
    "\n",
    "El comando `make` es un programa que crea relaciones entre archivos y programas de forma que los archivos que deende de otros se pueden reconstruir de forma automática. Esto se usa mucho en la instalación de programas. Para instalar un nuevo software usando make se deben seguir los siguientes pasos: \n",
    "1. Descargar todos los archivos que se requieren para la instalación\n",
    "2. Ir al directorio de trabajo (cd)\n",
    "3. Correr el comando make\n",
    "\n",
    "Para correr el comand `make` se requiere un archivo llamado `makefile`, que describe las relaciones entre diferentes archivos y programas mediante un conjunto de reglas. \n",
    "\n",
    "Las reglas del archivo `makefile` se forman de:\n",
    "1. Archivos objetivo \n",
    "2. Comandos de bash que se realizarán en los archivos objetivo\n",
    "3. Dependencias: archivos de los que el objetivo depende para ser construido."
   ]
  },
  {
   "cell_type": "markdown",
   "metadata": {},
   "source": [
    "### **Ejemplo 1: Construir un `makefile` que crea un archivo readme.txt que se llena automáticamente con información de un archivo del directorio actual.**"
   ]
  },
  {
   "cell_type": "markdown",
   "metadata": {},
   "source": [
    "Para esto, primero debemos movernos al directorio `archivos` con cd y crear un `makefile` usando `nano`"
   ]
  },
  {
   "cell_type": "code",
   "execution_count": 3,
   "metadata": {},
   "outputs": [
    {
     "name": "stdout",
     "output_type": "stream",
     "text": [
      "\u001b[0m\u001b[01;34marchivos\u001b[0m  README.md                         Sesión4_Wildcard_pipes_make.ipynb\n",
      "\u001b[01;34mimg\u001b[0m       Sesión4_Wildcard_pipes_make.html\n"
     ]
    }
   ],
   "source": [
    "ls"
   ]
  },
  {
   "cell_type": "code",
   "execution_count": 4,
   "metadata": {},
   "outputs": [],
   "source": [
    "cd archivos "
   ]
  },
  {
   "cell_type": "code",
   "execution_count": 12,
   "metadata": {},
   "outputs": [
    {
     "name": "stdout",
     "output_type": "stream",
     "text": [
      "3c5x_cadA_N.txt  3c5x.pdb  draft_journal_entry.txt  makefile  toc.txt\n"
     ]
    }
   ],
   "source": [
    "echo \"This is the first line of toc.txt\" > toc.txt"
   ]
  },
  {
   "cell_type": "code",
   "execution_count": 4,
   "metadata": {},
   "outputs": [],
   "source": [
    "nano makefile"
   ]
  },
  {
   "cell_type": "markdown",
   "metadata": {},
   "source": [
    "Luego, se deben añadir las reglas que se desean realizar:\n",
    "\n",
    "![makefile](img/makefile.png)"
   ]
  },
  {
   "cell_type": "code",
   "execution_count": 5,
   "metadata": {},
   "outputs": [
    {
     "name": "stdout",
     "output_type": "stream",
     "text": [
      "touch draft_journal_entry.txt\n",
      "echo \"This journal contains the following numberr of entries:\" > readme.txt\n",
      "wc -l toc.txt | egrep -o \"[0-9]+\" >> readme.txt\n"
     ]
    }
   ],
   "source": [
    "make"
   ]
  },
  {
   "cell_type": "code",
   "execution_count": 6,
   "metadata": {},
   "outputs": [
    {
     "name": "stdout",
     "output_type": "stream",
     "text": [
      "3c5x_cadA_N.txt          makefile                toc.txt\n",
      "3c5x.pdb                 nombre_estudiantes.txt  usa_states.txt\n",
      "draft_journal_entry.txt  readme.txt\n"
     ]
    }
   ],
   "source": [
    "ls"
   ]
  },
  {
   "cell_type": "code",
   "execution_count": 8,
   "metadata": {},
   "outputs": [
    {
     "name": "stdout",
     "output_type": "stream",
     "text": [
      "This is the first line of toc.txt\n"
     ]
    }
   ],
   "source": [
    "cat toc.txt"
   ]
  },
  {
   "cell_type": "code",
   "execution_count": 7,
   "metadata": {},
   "outputs": [
    {
     "name": "stdout",
     "output_type": "stream",
     "text": [
      "This journal contains the following numberr of entries:\n",
      "1\n"
     ]
    }
   ],
   "source": [
    "cat readme.txt"
   ]
  },
  {
   "cell_type": "code",
   "execution_count": 9,
   "metadata": {},
   "outputs": [
    {
     "name": "stdout",
     "output_type": "stream",
     "text": [
      "rm draft_journal_entry.txt\n",
      "rm readme.txt\n"
     ]
    }
   ],
   "source": [
    "make clean"
   ]
  },
  {
   "cell_type": "code",
   "execution_count": 10,
   "metadata": {},
   "outputs": [
    {
     "name": "stdout",
     "output_type": "stream",
     "text": [
      "3c5x_cadA_N.txt  makefile                toc.txt\n",
      "3c5x.pdb         nombre_estudiantes.txt  usa_states.txt\n"
     ]
    }
   ],
   "source": [
    "ls"
   ]
  },
  {
   "cell_type": "markdown",
   "metadata": {},
   "source": [
    "## **Deber** \n",
    "\n",
    "El deber de esta sesión consiste en usar los comandos estudiados en sesiones anteriores y la actual. \n",
    "(1) Crear un archivo (con extensión .tsv) que contenga la información que está en la celda a continuación, (2) del archivo creado, usted debe buscar e imprimir a la vez aquellos que sean enviados (\"submitter\") por la UNAM y la Universidad de Valencia y que la respuesta esté en orden alfabetico.\n",
    "\n",
    "Ayuda: Para imprimir a la vez usted puede usar expresiones regulares. \n",
    "\n",
    "Respuesta: \n",
    "\n",
    "GCF_000284595.1  Stenotrophomonas maltophilia D457   2012/04/11  ASM28459v1  University of Valencia\n",
    "\n",
    "GCF_003086675.1  Stenotrophomonas sp. ZAC14D2_NAIMI4_7   2018/05/03  ASM308667v1 CCG-UNAM\n",
    "\n",
    "GCF_003086855.1  Stenotrophomonas sp. YAU14A_MKIMI4_1    2018/05/03  ASM308685v1 CCG-UNAM\n"
   ]
  },
  {
   "cell_type": "code",
   "execution_count": null,
   "metadata": {},
   "outputs": [],
   "source": [
    "cat mini_tabla.tsv"
   ]
  },
  {
   "cell_type": "markdown",
   "metadata": {},
   "source": [
    "## Referencias \n",
    "\n",
    "Kross, S. (2017). The unix workbench. Leanpub. https://leanpub.com/unix"
   ]
  }
 ],
 "metadata": {
  "kernelspec": {
   "display_name": "Bash",
   "language": "bash",
   "name": "bash"
  },
  "language_info": {
   "codemirror_mode": "shell",
   "file_extension": ".sh",
   "mimetype": "text/x-sh",
   "name": "bash"
  }
 },
 "nbformat": 4,
 "nbformat_minor": 4
}
