{
 "cells": [
  {
   "cell_type": "markdown",
   "id": "moderate-bones",
   "metadata": {},
   "source": [
    "# Sesion 9: Lógica. Condicionales. Arreglos.\n",
    "\n",
    "`Libro The Unix Workbench por Sean Kross, pg. 96 - 118`\n",
    "\n",
    "- `true` : booleano para verdad \n",
    "- `false` : booleano para flasedad\n",
    "- `$?` : variable de estado de salida (*exit status*)\n",
    "- `&&` : operador lógico binario AND \n",
    "- `||` : operador lógico binario OR \n",
    "- if $ \\cdots $ : inicio de una sentencia condicional\n",
    "- fi : final de una sentencia condicional\n",
    "- else $ \\cdots $ : siguiente posible decisión condicional en una estructura *if*\n",
    "- \\[\\[ $ \\cdots $ \\]\\] : doble braces\n",
    "- ( $ \\cdots $ ) : declaración de arreglos\n",
    "- `#` : longitud de un arreglo\n",
    "\n",
    "\n",
    "## Estructuras de control condicional: `if` `else`\n",
    "\n",
    "Los programas son capaces de ejecutar lógicas bastante complejas. La forma de hacerlo es concatenando **estructuras de control** o secuencias de control. Estas sentencias permiten controlar el flujo de ejecución de las instrucciones de un programa. La primera estructura que veremos son los condicionales. \n",
    "\n",
    "Los condicionales le permiten a un programa decidir en función de la veracidad de una sentencia lógica. Una sentencia lógica puede clasificarse en 2 tipos de acuerdo a su veracidad: *verdadera* o *falsa*. Por ejemplo, al procesar un archivo de secuencias, un script puede analizar de un conjunto de lecturas solo las que cumplan con un criterio de calidad o un script podría decidir si extraer secuencias con un patrón específico. Los tipos de datos que guardan el estado de verdad de una sentencia se llaman **booleanos**. \n",
    "\n",
    "En Bash, las variables booleanas se llaman `true` y `false`. Ambas se guardan en memoria como un `0` y un `1`, respectivamente. Esto se puede ver al imprimir la *variable de estado de salida* `$?`. "
   ]
  },
  {
   "cell_type": "code",
   "execution_count": null,
   "id": "southwest-arkansas",
   "metadata": {},
   "outputs": [],
   "source": [
    "true\n",
    "echo $?\n",
    "false\n",
    "echo $?"
   ]
  },
  {
   "cell_type": "markdown",
   "id": "cooked-founder",
   "metadata": {},
   "source": [
    "Hay varios tipos de *estados de salida*. Uno importante es el `127`, que denota un error en el script. "
   ]
  },
  {
   "cell_type": "code",
   "execution_count": null,
   "id": "biblical-south",
   "metadata": {},
   "outputs": [],
   "source": [
    "RSG_ECUADOR\n",
    "echo $?"
   ]
  },
  {
   "cell_type": "markdown",
   "id": "christian-silence",
   "metadata": {},
   "source": [
    "Es posible también concatenar variables lógicas y evaluar su veracidad a la vez. Por ejemplo, podríamos evaluar si la sentencia `E. coli es un animal procariota`. Hay dos proposiciones de verdad que evaluar: *si E. coli es animal* y *si E. coli es procariota*. Sabemos que la primera es `falsa` y la segunda es `verdadera`. Si juntamos ambas en una sola sentencia, claramente es `falsa`, porque *E. coli* no puede ser procariota `Y (AND)` animal a la vez. Instantáneamente al combinar una sentencia falsa con una verdadera, el conjunto es falso. Las 4 combinaciones posibles de sentencias son:"
   ]
  },
  {
   "cell_type": "code",
   "execution_count": null,
   "id": "brown-folks",
   "metadata": {},
   "outputs": [],
   "source": [
    "true && false\n",
    "echo $?\n",
    "false && true\n",
    "echo $?\n",
    "false && false\n",
    "echo $?\n",
    "true && true\n",
    "echo $?"
   ]
  },
  {
   "cell_type": "markdown",
   "id": "employed-mountain",
   "metadata": {},
   "source": [
    "¡Hay solo 1 sentencia verdadera! El operador lógico para `AND` en Bash es `&&`. Es binario, por lo que concatena dos proposiciones lógicas a la vez. Por ejemplo, podemos hacer dos comparaciones de equivalencia y ver si ambas son verdad a la vez."
   ]
  },
  {
   "cell_type": "code",
   "execution_count": null,
   "id": "mighty-acquisition",
   "metadata": {},
   "outputs": [],
   "source": [
    "[[ 1 == 2 ]] && [[ 1 == 1 ]]\n",
    "echo $?"
   ]
  },
  {
   "cell_type": "markdown",
   "id": "limited-judgment",
   "metadata": {},
   "source": [
    "Si repetimos el penúltimo escript con el operador `OR` `||`, veremos que los resultados son distintos. Ahora solo hay 1 sentencia falsa. En `OR` basta que uno de ambas propociciones comparadas sea verdad, para que el resultado sea también verdad. Entonces solo cuando hubiera dos false sería el resultado false. "
   ]
  },
  {
   "cell_type": "code",
   "execution_count": null,
   "id": "identical-reducing",
   "metadata": {},
   "outputs": [],
   "source": [
    "true || false\n",
    "echo $?\n",
    "false || true\n",
    "echo $?\n",
    "false || false\n",
    "echo $?\n",
    "true || true\n",
    "echo $?"
   ]
  },
  {
   "cell_type": "markdown",
   "id": "charged-breakfast",
   "metadata": {},
   "source": [
    "Podemos combinar `AND` y `OR`. ¿Qué resulta de estas sentencias? ¿Verdadero o falso?"
   ]
  },
  {
   "cell_type": "code",
   "execution_count": null,
   "id": "alternative-commodity",
   "metadata": {},
   "outputs": [],
   "source": [
    "true || false && true\n",
    "echo $?"
   ]
  },
  {
   "cell_type": "code",
   "execution_count": null,
   "id": "alert-falls",
   "metadata": {},
   "outputs": [],
   "source": [
    "false || false && true\n",
    "echo $?"
   ]
  },
  {
   "cell_type": "code",
   "execution_count": null,
   "id": "impossible-windsor",
   "metadata": {},
   "outputs": [],
   "source": [
    "true || false && false\n",
    "echo $?"
   ]
  },
  {
   "cell_type": "code",
   "execution_count": null,
   "id": "cognitive-hunter",
   "metadata": {},
   "outputs": [],
   "source": [
    "true || false && true || false\n",
    "echo $?"
   ]
  },
  {
   "cell_type": "markdown",
   "id": "administrative-cologne",
   "metadata": {},
   "source": [
    "Las expresiones condicionales utilizan precisamente este tipo de variables para analizar si agluna propocición es verdadera o falsa, y dependiendo del resultado, ejecutar o no una acción. Las `sentencias lógicas` se declaran utilizando doble corchete o `double braces`, y aceptan **operadores lógicos** como AND y OR, o también **flags lógicas**. Existen varios flags útiles en Bash `revisar página 104`."
   ]
  },
  {
   "cell_type": "code",
   "execution_count": null,
   "id": "engaged-moore",
   "metadata": {},
   "outputs": [],
   "source": [
    "# -gt : greater than\n",
    "[[ 4 - 3 ]]\n",
    "echo $?"
   ]
  },
  {
   "cell_type": "code",
   "execution_count": null,
   "id": "extreme-bottom",
   "metadata": {},
   "outputs": [],
   "source": [
    "[[ 4 -ge 3 ]]\n",
    "echo $?"
   ]
  },
  {
   "cell_type": "code",
   "execution_count": null,
   "id": "light-demographic",
   "metadata": {},
   "outputs": [],
   "source": [
    "number=7\n",
    "[[ $number -gt 3 ]] && echo t || echo f\n",
    "[[ $number -gt 10 ]] && echo t || echo f\n",
    "[[ -e $number ]] && echo t || echo f"
   ]
  },
  {
   "cell_type": "markdown",
   "id": "increased-combine",
   "metadata": {},
   "source": [
    "Ahora veamos como funciona un script de Bash utilizando sentencias `if`\n",
    "\n",
    "```bash\n",
    "#!/usr/bin/env bash\n",
    "# File: sif.sh\n",
    "echo \"Start program\"\n",
    "if [[ $1 -eq 4 ]]\n",
    "then\n",
    "    echo \"You entered $1\"\n",
    "fi\n",
    "echo \"End program\"\n",
    "```"
   ]
  },
  {
   "cell_type": "code",
   "execution_count": null,
   "id": "vocational-values",
   "metadata": {},
   "outputs": [],
   "source": [
    "bash ./archivos/sif.sh 4"
   ]
  },
  {
   "cell_type": "code",
   "execution_count": null,
   "id": "injured-situation",
   "metadata": {},
   "outputs": [],
   "source": [
    "bash ./archivos/sif.sh 5"
   ]
  },
  {
   "cell_type": "markdown",
   "id": "ongoing-russell",
   "metadata": {},
   "source": [
    "Ahora veamos cómo podemos aumentar las capas lógics al utilizar sentencias `if` anidadas, es decir, doble condición.\n",
    "\n",
    "```bash\n",
    "#!/usr/bin/env bash\n",
    "# File: sif2.sh\n",
    "if [[ $1 -gt 3 ]] && [[ $1 -lt 7 ]]\n",
    "then\n",
    "    if [[ $1 -eq 4 ]]\n",
    "    then\n",
    "        echo \"four\"\n",
    "    elif [[ $1 -eq 5 ]]\n",
    "    then\n",
    "        echo \"five\"\n",
    "    else\n",
    "        echo \"six\"\n",
    "    fi\n",
    "else\n",
    "    echo \"You entered: $1, not what I was looking for.\"\n",
    "fi\n",
    "```"
   ]
  },
  {
   "cell_type": "code",
   "execution_count": null,
   "id": "reported-location",
   "metadata": {},
   "outputs": [],
   "source": [
    "bash ./archivos/sif2.sh 2"
   ]
  },
  {
   "cell_type": "code",
   "execution_count": null,
   "id": "interior-roulette",
   "metadata": {},
   "outputs": [],
   "source": [
    "bash ./archivos/sif2.sh 4"
   ]
  },
  {
   "cell_type": "code",
   "execution_count": null,
   "id": "middle-timothy",
   "metadata": {},
   "outputs": [],
   "source": [
    "bash ./archivos/sif2.sh 100"
   ]
  },
  {
   "cell_type": "code",
   "execution_count": null,
   "id": "alien-collins",
   "metadata": {},
   "outputs": [],
   "source": [
    "a=1"
   ]
  },
  {
   "cell_type": "code",
   "execution_count": null,
   "id": "isolated-instrumentation",
   "metadata": {},
   "outputs": [],
   "source": [
    "[[ $a == 5 ]]\n",
    "echo $?"
   ]
  },
  {
   "cell_type": "markdown",
   "id": "sufficient-cocktail",
   "metadata": {},
   "source": [
    "Ahora vamos a usar este script en un archivo .sh. Los resultados, como se puede ver, son varios archivos `.txt`.\n",
    "```bash\n",
    "# Input de archivo\n",
    "echo \"Archivo a procesar > $@\"\n",
    "echo \"Numero de argumentos: $#\"\n",
    "\n",
    "# Conteo de secuencias, separación de malas secuencias\n",
    "numero_secuencias=$(grep -c '^@SRR098026' $@)\n",
    "grep -B1 -A2 NNNNNNNNNN $@ > malas_lecturas.fastq\n",
    "malas=$(cat malas_lecturas.fastq | wc -l)\n",
    "echo \"Número de malas lecturas: $malas\"\n",
    "\n",
    "# Búsqueda de patrones\n",
    "echo \"Desea buscar patrones (y/n): \"\n",
    "read d\n",
    "\n",
    "if [[ $d == \"y\" ]]; then\n",
    "    echo \"Los patrones se guardarán en: patrones.txt\"\n",
    "    echo -e 'ACTG\\nCCCCC\\nNNNCNNN\\nNNNGNNN\\nTTTT\\nTATA\\nAAA' > patrones.txt\n",
    "    grep -f patrones.txt $@ > busqueda.txt\n",
    "    echo \"Búsqueda de patrones guardada en: busqueda.txt\"\n",
    "else\n",
    "    echo \"ok :P\"\n",
    "fi\n",
    "\n",
    "# Mensaje final\n",
    "echo \"Fin :)\"\n",
    "```"
   ]
  },
  {
   "cell_type": "code",
   "execution_count": null,
   "id": "valuable-wallet",
   "metadata": {},
   "outputs": [],
   "source": [
    "bash ./archivos/sesion7.sh ./archivos/secuencias3.fastq"
   ]
  },
  {
   "cell_type": "markdown",
   "id": "canadian-benjamin",
   "metadata": {},
   "source": [
    "## Arreglos\n",
    "\n",
    "La información puede ser procesada de manera eficiente en **estructuras de datos**. Las esturcturas de datos son formas es una manera particular de organizar los datos. Puede ser tan compleja como sea necesaria. Varios algoritmos requieren el diseño de estructuras de datos diseñadas con particularidades para facilitar el procesamiento de dato. La primera estructura de datos se deriva del *álgebra lineal*, específicamente de las **tuplas**. Una *n-tupla* es una lista finita con *n* elementos ordenados. Abajo tenemos una tupla llamada $ \\textbf{x} $. El conteo empieza desde 0, hasta *n-1*.\n",
    "\n",
    "$$ \\textbf{x} = (x_0, x_1, x_2, \\ldots, x_{n-1}) $$\n",
    "\n",
    "Otros objetos matemáticos similares son los vectores y las matrices. Las tuplas se pueden operar con ciertas reglas algebráicas, e inspiraron varios tipos de estructuras de datos similares en computación. El primero que vamos a aprender son los **arreglos unidimensionales**. Estos contenedores se declaran con paréntesis `()` y cada elemento va separado por espacios, no por comas, como en una tupla. Podemos acceder a cada elmento"
   ]
  },
  {
   "cell_type": "code",
   "execution_count": null,
   "id": "inside-phrase",
   "metadata": {},
   "outputs": [],
   "source": [
    "plagues=(blood frogs lice flies sickness boils hail locusts darkness death)\n",
    "echo ${plagues[0]}\n",
    "echo ${plagues[1]}\n",
    "echo ${plagues[2]}\n",
    "echo ${plagues[*]}"
   ]
  },
  {
   "cell_type": "markdown",
   "id": "opposite-poster",
   "metadata": {},
   "source": [
    "También podemos actualizar los valores"
   ]
  },
  {
   "cell_type": "code",
   "execution_count": null,
   "id": "subject-accident",
   "metadata": {},
   "outputs": [],
   "source": [
    "# sickness por disease\n",
    "echo ${plagues[*]}\n",
    "plagues[4]=disease\n",
    "echo ${plagues[*]}"
   ]
  },
  {
   "cell_type": "markdown",
   "id": "grand-planning",
   "metadata": {},
   "source": [
    "Podemos declarar subconjuntos de el mismo arreglo."
   ]
  },
  {
   "cell_type": "code",
   "execution_count": null,
   "id": "normal-sierra",
   "metadata": {},
   "outputs": [],
   "source": [
    "echo ${plagues[*]:5:3}"
   ]
  },
  {
   "cell_type": "markdown",
   "id": "naval-postage",
   "metadata": {},
   "source": [
    "O encontrar la cantidad de elementos de una arreglo con el operador `#`."
   ]
  },
  {
   "cell_type": "code",
   "execution_count": null,
   "id": "extensive-study",
   "metadata": {},
   "outputs": [],
   "source": [
    "echo ${#plagues[*]}"
   ]
  },
  {
   "cell_type": "markdown",
   "id": "rational-testimony",
   "metadata": {},
   "source": [
    "Si intentamos utilizar más de los elementos que posee el arreglo, entonces busca fuera del arreglo o no retorna nada."
   ]
  },
  {
   "cell_type": "code",
   "execution_count": null,
   "id": "posted-rocket",
   "metadata": {},
   "outputs": [],
   "source": [
    "echo ${plagues[10]}"
   ]
  },
  {
   "cell_type": "code",
   "execution_count": null,
   "id": "worthy-parade",
   "metadata": {},
   "outputs": [],
   "source": [
    "echo ${plagues[9]}"
   ]
  },
  {
   "cell_type": "markdown",
   "id": "involved-nomination",
   "metadata": {},
   "source": [
    "Y podemos usar el operador `+=` para concatenar dos arreglos."
   ]
  },
  {
   "cell_type": "code",
   "execution_count": null,
   "id": "hundred-discipline",
   "metadata": {},
   "outputs": [],
   "source": [
    "dwarfs=(grumpy sleepy sneezy doc)\n",
    "echo ${dwarfs[*]}\n",
    "dwarfs+=(bashful dopey happy)\n",
    "echo ${dwarfs[*]}"
   ]
  },
  {
   "cell_type": "code",
   "execution_count": null,
   "id": "approximate-spanking",
   "metadata": {},
   "outputs": [],
   "source": []
  }
 ],
 "metadata": {
  "kernelspec": {
   "display_name": "Bash",
   "language": "bash",
   "name": "bash"
  },
  "language_info": {
   "codemirror_mode": "shell",
   "file_extension": ".sh",
   "mimetype": "text/x-sh",
   "name": "bash"
  }
 },
 "nbformat": 4,
 "nbformat_minor": 5
}
