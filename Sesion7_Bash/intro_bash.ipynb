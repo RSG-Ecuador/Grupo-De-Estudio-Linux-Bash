{
 "cells": [
  {
   "cell_type": "markdown",
   "id": "annual-broadcast",
   "metadata": {},
   "source": [
    "# 7. Programación en Bash: Introducción\n",
    "\n",
    "<img src=\"./img/bash.png\" class=\"center\" width=\"300\"/>\n",
    "\n",
    "Hemos aprendido ya a usar la `shell de Bash`, al usar concomandos para procesamiento de ficheros, visualizar documentos y navegar entre carpetas. Ahora vamos a ver cómo Bash es un `lenguaje de programación`. Antes, algunas definiciones.\n",
    "\n",
    "<dl>\n",
    "  <dt><strong>Lenguaje de programación</strong></dt>\n",
    "  <dd>Es un lenguaje formal compuesto de comandos, instrucciones y sintáxis para crear varios tipos de lógica a través de un computador. Se utilizan con frecuencia para implementar algoritmos. \n",
    "  </dd>\n",
    "  <dt><strong>Algoritmo</strong></dt>\n",
    "  <dd>Secuencia finita de instrucciones bien definidas, computables, diseñada para resolver problemas lógicos y hacer computación. Se estudian formalmente en matemáticas y en ciencias de la computación. Se usan frecuentemente para procesar datos, hacer cálculos o automatizar procesos.</dd>\n",
    "  <dt><strong>Lenguajes de bajo nivel</strong></dt>\n",
    "  <dd>Lenguajes de programación con sintáxis diseñada para la interpretación de la computadora. Son dependientes de la computadora y necesitan un ensamblador para traducir el código a lenguaje de máquina y así las computadoras entiendan qué deben hacer.</dd>\n",
    "  <dt><strong>Lenguajes de alto nivel</strong></dt>\n",
    "  <dd>Lenguajes de programación con sintáxis diseñada para la interpretación del programador. Se parece mucho al lenguaje utilizado por los humanos para comunicarnos. Es fácil de entender. Necesita de compiladores o intérpretes para traducirlo a lenguaje de máquina y así las computadoras entiendan qué deben hacer.</dd>\n",
    "  <dt><strong>Shell</strong></dt>\n",
    "  <dd>Programa que expone los servicios de un sistema operativo al usuario o a otro programa. Pueden usar una interfaz de usuario por línea de comandos o gráfica. Existen varias shell para los sistemas operativos UNIX, como Bash, Zsh, Ksh, Ash, entre otras. </dd>\n",
    "  <dt><strong>Bash</strong></dt>\n",
    "  <dd>Es una shell de UNIX y también un lenguaje de comandos, creada por Brian Fox para el Proyecto GNU. Así, cuando abrimos la terminal o consola, podemos interactuar con Bash por su propio lenguaje de programación de alto nivel. Es un lenguaje interpretado y se utiliza para el control de las tareas que lleva a cabo un sistema de computación. </dd>\n",
    "</dl>\n"
   ]
  },
  {
   "cell_type": "markdown",
   "id": "interested-variation",
   "metadata": {},
   "source": [
    "## Editores de texto\n",
    "\n",
    "Nosotros podemos programar algoritmos en Bash y `correrlos desde la terminal`. Para escribirlos debemos usar algún editor de texto. Hay varias opciones. Un editor que ya tenemos en nuestro computador es GNU Nano (https://www.nano-editor.org).\n",
    "\n",
    "<img src=\"./img/nano.png\" class=\"center\" width=\"500\"/>\n",
    "\n",
    "Podemos llamarlo desde la terminal con el comando `nano`. Hay otros editores independientes al Proyecto GNU que también pueden utilizarse, como Atom (https://atom.io) o Visual Studio Code (https://code.visualstudio.com). Atom tiene una muy bonita interfaz gráfica. VSCode es bastante rápido y muy popular. Sin embargo, les recomendamos usar `Jupyter Lab`, porque es un editor de texto y entorno de desarrollo completo, que posee acceso a la terminal y nos evita tener que cambiar de ventana cada vez que querramos correr un script. Además, Jupyter Lab permite documentar todo lo que ocurre en los programas mediante lenguaje `Markdown` (https://www.markdownguide.org/basic-syntax).\n",
    "\n",
    "<img src=\"./img/jl.png\" class=\"center\" width=\"150\"/>"
   ]
  },
  {
   "cell_type": "markdown",
   "id": "spare-foundation",
   "metadata": {},
   "source": [
    "## Shell script .sh\n",
    "\n",
    "Los `scripts` son archivos de texto que contienen instrucciones que pueden ser ejecutadas por un intérprete de un lenguaje de programación para el control de tareas de un sistema. Hoy en día se utiliza el término script de manera intercambiable para referirse a archivos de texto de lenguajes de alto nivel interpretados, como Python, Perl y otros. El formato `.sh` se utiliza para escribir `scripts ejecutables` en una `UNIX Shell`, como Bash."
   ]
  },
  {
   "cell_type": "markdown",
   "id": "friendly-increase",
   "metadata": {},
   "source": [
    "## Primer programa: álgebra\n",
    "\n",
    "1. *expresión de Bash*: String de código en Bash que produce un resultado al correr.\n",
    "2. **expr**: Comando para evaluar una expresión de Bash.\n",
    "3. *operador*: Caracteres que realizan una operación con 1 o más variables. \n",
    "4. `+`: Operador de suma entre dos números. \n",
    "5. `/`: Operador de división entera entre dos números. Devuelve el entero más cercano al resutado real. \n",
    "6. `-`: Operador de resta entre dos números.\n",
    "7. `\\*`: Operador de producto entre dos números. Hay que escapar el caracter `*` *antes de usarlo en la shell* como operador de producto o Bash creerá que será usado como expresión regular. Si se usa en *bc* no hay problema.\n",
    "8. `%`: Operador residuo entre dos números. Retorna el residuo de una división larga entre números.\n",
    "9. **bc**: Pograma *bench calculator*. Toma strings de operaciones algebraicas y da el resultado.\n",
    "\n",
    "Vamos a crear en nuestra carpeta de trabajo una subcarpeta que se llame **Code**. En esa carpeta, cremos un archivo de formato `.sh` llamado **math**, usando el comando `touch`. Podemos visualizar con **nano**, pero también con **Jupyter Lab**, **Atom** o **VSCode**. "
   ]
  },
  {
   "cell_type": "code",
   "execution_count": null,
   "id": "computational-style",
   "metadata": {},
   "outputs": [],
   "source": [
    "mkdir Code\n",
    "touch ./Code/math.sh # luego colocamos el codigo en el file"
   ]
  },
  {
   "cell_type": "markdown",
   "id": "cheap-prophet",
   "metadata": {},
   "source": [
    "En el archivo `math.sh` colocamos el contenido que se encuentra debajo. Lo guardamos y lo corremos desde la terminal. Lo que se encuentra en comentario, después del símbolo `#` indica donde se encuentra Bash en nuestro sistema y el nombre del archivo. Es bueno incluir comentarios para documentar el archivo.\n",
    "\n",
    "```bash\n",
    "#!/usr/bin/env bash\n",
    "# File: math.sh\n",
    "\n",
    "expr 4 + 3\n",
    "expr 4 - 3\n",
    "expr 4 \\* 3\n",
    "expr 4 / 3\n",
    "```\n",
    "\n",
    "Para hacer eso llamamos directamente al interprete de `bash`. Este comando se lo puede correr desde este mismo Jupyter Notebook, o abrimos una pestaña de Terminal en Jupyter Lab o con la Terminal propia de Linux. "
   ]
  },
  {
   "cell_type": "code",
   "execution_count": null,
   "id": "obvious-bermuda",
   "metadata": {},
   "outputs": [],
   "source": [
    "bash ./Code/math.sh"
   ]
  },
  {
   "cell_type": "markdown",
   "id": "touched-cambridge",
   "metadata": {},
   "source": [
    "Vemos cómo claramente la expresión `4 / 3` devuelve el valor 1, cuando sabemos que equivale a un fraccionario irracional `1.333333 ...`. Esto ocurre porque la división entera aproxima tal que \n",
    "$$\\frac{4}{3} \\sim 1$$"
   ]
  },
  {
   "cell_type": "markdown",
   "id": "whole-tiger",
   "metadata": {},
   "source": [
    "A veces retornará resultados extraños, pero ahora ya sabemos que solo está aproximando. Solamente cuando la división es perfecta, retorna el número entero resultante:"
   ]
  },
  {
   "cell_type": "code",
   "execution_count": null,
   "id": "formal-diversity",
   "metadata": {},
   "outputs": [],
   "source": [
    "expr 1 / 10\n",
    "expr 10 / 4\n",
    "expr 10 / 2"
   ]
  },
  {
   "cell_type": "markdown",
   "id": "restricted-paris",
   "metadata": {},
   "source": [
    "Si usamos el operador de residuo `%` vemos cuanto nos queda de remanente al dividir una fracción irracional:\n",
    "\n",
    "<img src=\"./img/remainder.png\" class=\"center\" width=\"200\"/>"
   ]
  },
  {
   "cell_type": "code",
   "execution_count": 9,
   "id": "comparable-plane",
   "metadata": {},
   "outputs": [
    {
     "name": "stdout",
     "output_type": "stream",
     "text": [
      "7[?2004l\n",
      "1[?2004h\u001b[?2004l\n",
      "2[?2004h\u001b[?2004l\n",
      "0[?2004h\u001b[?2004l\n",
      "\u001b[?2004h"
     ]
    },
    {
     "ename": "",
     "evalue": "1",
     "output_type": "error",
     "traceback": []
    }
   ],
   "source": [
    "expr 487 % 32\n",
    "expr 1 % 10\n",
    "expr 10 % 4\n",
    "expr 10 % 5"
   ]
  },
  {
   "cell_type": "markdown",
   "id": "administrative-annex",
   "metadata": {},
   "source": [
    "Esto es un poco restrictivo ya que habrá ocasiones donde necesitemos utilizar todos los decimales posibles de una división. Para esto podemos exportar un string con una operación algebraica al programa bench calculator `bc` con un pipe. Creemos un archivo `.sh` con el siguiente contenido:\n",
    "\n",
    "```bash\n",
    "#!/usr/bin/env bash\n",
    "# File: bigmath.sh\n",
    "\n",
    "# aproximación de pi\n",
    "echo \"scale=7; 355 / 113\" | bc -l\n",
    "echo \"4 ^ 2\" | bc -l\n",
    "echo \"scale=2; sqrt(4)\" | bc -l\n",
    "echo \"scale=3; (1.23 / 0.32) + (5 * 2)\" | bc -l\n",
    "```"
   ]
  },
  {
   "cell_type": "code",
   "execution_count": null,
   "id": "comparative-opposition",
   "metadata": {},
   "outputs": [],
   "source": [
    "touch ./Code/bigmath.sh # luego colocamos el codigo en el file"
   ]
  },
  {
   "cell_type": "code",
   "execution_count": null,
   "id": "alike-straight",
   "metadata": {},
   "outputs": [],
   "source": [
    "bash ./Code/bigmath.sh"
   ]
  },
  {
   "cell_type": "markdown",
   "id": "heavy-accent",
   "metadata": {},
   "source": [
    "Es posible notar que hay como darle presición a los números de output después de usar `bc` con el comando `scale` en el string después de `echo`."
   ]
  },
  {
   "cell_type": "markdown",
   "id": "impressed-upper",
   "metadata": {},
   "source": [
    "## Segundo programa: Variables\n",
    "\n",
    "1. `=`: Operador de asignación\n",
    "2. `$`: Caracter especial que revela contenido de una variable.\n",
    "3. **let**: Comando que permite actualizar una variable con una operación algebraica.\n",
    "4. `$()`: Operador para *sustitución de comando*. Corre un comando y guarda el resultado en una variable.\n",
    "5. `$@`: Variable nativa que imprime los nombres de los argumentos dados a un script.\n",
    "6. `$1`: Variable nativa que guarda el primer argumento pasado al script.\n",
    "7. `$2`: Variable nativa que guarda el segundo argumento pasado al script.\n",
    "8. `$#`: Variable nativa que guarda el número de argumentos pasados al scritp.\n",
    "\n",
    "Es importante lograr guardar datos en la memoria del computador. Para ello usamos `variables`. Hay cuatro reglas que seguir:\n",
    "- El nombre de la variable debe estar en minúsculas\n",
    "- La variable empieza con una letra, no un número\n",
    "- Solo debe contener caracteres alfanuméricos y  `_` guiones bajos.\n",
    "- Es útil separar las palabras por `_` guiones bajos.\n",
    "- Los valores que se asignen a las variables y los nombres de las variables siempre deben estar pegados al operador `=` se asignación.\n",
    "\n",
    "Creemos una variable para guardar el número de sesión del grupo de estudio del RSG Ecuador. "
   ]
  },
  {
   "cell_type": "code",
   "execution_count": null,
   "id": "acting-worry",
   "metadata": {},
   "outputs": [],
   "source": [
    "# Así no: rsg_sesion = 7\n",
    "rsg_sesion=7"
   ]
  },
  {
   "cell_type": "markdown",
   "id": "following-decline",
   "metadata": {},
   "source": [
    "Ahora imprimamos el contenido de la variable! Usamos el operador `$`"
   ]
  },
  {
   "cell_type": "code",
   "execution_count": null,
   "id": "organic-miller",
   "metadata": {},
   "outputs": [],
   "source": [
    "echo $rsg_sesion"
   ]
  },
  {
   "cell_type": "markdown",
   "id": "measured-endorsement",
   "metadata": {},
   "source": [
    "Podemos modificar la variable utilizando el operador de asignación. ¡Hay que tener cuidado! Es posible que actualicemos el valor de la variable inicial y ya no tenga el mismo valor que antes. "
   ]
  },
  {
   "cell_type": "code",
   "execution_count": null,
   "id": "noble-cosmetic",
   "metadata": {},
   "outputs": [],
   "source": [
    "rsg_sesion=\"que esta pasando :O\"\n",
    "echo $rsg_sesion\n",
    "rsg_sesion=\"mejor corregimos\"\n",
    "echo $rsg_sesion\n",
    "rsg_sesion=7\n",
    "echo $rsg_sesion\n",
    "echo \"mejor :)\""
   ]
  },
  {
   "cell_type": "markdown",
   "id": "metric-consumption",
   "metadata": {},
   "source": [
    "Si usamos expresiones algebraicas al momento de actualizar una variable podemos usar el comando `let`."
   ]
  },
  {
   "cell_type": "code",
   "execution_count": 8,
   "id": "casual-oklahoma",
   "metadata": {},
   "outputs": [
    {
     "name": "stdout",
     "output_type": "stream",
     "text": [
      "El número es -40\u001b[?2004l\u001b[?2004l\u001b[?2004l\n",
      "\u001b[?2004h"
     ]
    },
    {
     "ename": "",
     "evalue": "1",
     "output_type": "error",
     "traceback": []
    }
   ],
   "source": [
    "a=1\n",
    "b=41\n",
    "c=0\n",
    "let c=a-b\n",
    "echo El número es $c"
   ]
  },
  {
   "cell_type": "markdown",
   "id": "italic-masters",
   "metadata": {},
   "source": [
    "Además podemos imprimir variables en un string si usamos el operador `$` antes de la variable que queremos imprimir."
   ]
  },
  {
   "cell_type": "code",
   "execution_count": 7,
   "id": "copyrighted-norfolk",
   "metadata": {},
   "outputs": [
    {
     "name": "stdout",
     "output_type": "stream",
     "text": [
      "El misterioso número -40\n",
      "\u001b[?2004h"
     ]
    },
    {
     "ename": "",
     "evalue": "1",
     "output_type": "error",
     "traceback": []
    }
   ],
   "source": [
    "echo \"El misterioso número $c\""
   ]
  },
  {
   "cell_type": "markdown",
   "id": "secondary-theater",
   "metadata": {},
   "source": [
    "Ahora podemos usar el comando `$()` y guardar el resultado en una variable. Por ejemplo, vamos a guardar el número de líneas con código en el archivo `math.sh`"
   ]
  },
  {
   "cell_type": "code",
   "execution_count": 4,
   "id": "located-stone",
   "metadata": {},
   "outputs": [
    {
     "name": "stdout",
     "output_type": "stream",
     "text": [
      "cat: ./Code/math.sh: No such file or directory\n",
      "0[?2004h\u001b[?2004l\n",
      "\u001b[?2004h"
     ]
    },
    {
     "ename": "",
     "evalue": "1",
     "output_type": "error",
     "traceback": []
    }
   ],
   "source": [
    "math_lines=$(cat ./Code/math.sh | wc -l)\n",
    "echo $math_lines"
   ]
  },
  {
   "cell_type": "markdown",
   "id": "southeast-steam",
   "metadata": {},
   "source": [
    "Hay variables especiales de Bash que podemos usar para **pasar argumentos al script cuando lo corremos**. Primero creemos un archivo `.sh` llamado `vars` con el siguiente contenido:\n",
    "\n",
    "```bash\n",
    "#!/usr/bin/env bash\n",
    "# File: vars.sh\n",
    "\n",
    "echo \"Argumentos del script: $@\"\n",
    "echo \"Primer argumento: $1. Segundo argumento: $2.\"\n",
    "echo \"Numero de argumentos: $#\"\n",
    "```"
   ]
  },
  {
   "cell_type": "code",
   "execution_count": null,
   "id": "broke-spencer",
   "metadata": {},
   "outputs": [],
   "source": [
    "touch ./Code/vars.sh"
   ]
  },
  {
   "cell_type": "markdown",
   "id": "secondary-stanford",
   "metadata": {},
   "source": [
    "Ahora corramos cada uno de estos comandos en la terminal y veamos su output."
   ]
  },
  {
   "cell_type": "code",
   "execution_count": null,
   "id": "progressive-answer",
   "metadata": {},
   "outputs": [],
   "source": [
    "bash ./Code/vars.sh"
   ]
  },
  {
   "cell_type": "code",
   "execution_count": null,
   "id": "literary-packet",
   "metadata": {},
   "outputs": [],
   "source": [
    "bash ./Code/vars.sh red"
   ]
  },
  {
   "cell_type": "code",
   "execution_count": null,
   "id": "bulgarian-result",
   "metadata": {},
   "outputs": [],
   "source": [
    "bash ./Code/vars.sh red blue"
   ]
  },
  {
   "cell_type": "markdown",
   "id": "asian-kansas",
   "metadata": {},
   "source": [
    "¿Y qué pasa si ingresamos más argumentos de los que teníamos planeados?"
   ]
  },
  {
   "cell_type": "code",
   "execution_count": null,
   "id": "contemporary-angola",
   "metadata": {},
   "outputs": [],
   "source": [
    "bash ./Code/vars.sh red blue green"
   ]
  },
  {
   "cell_type": "markdown",
   "id": "acquired-psychiatry",
   "metadata": {},
   "source": [
    "## Tercer programa: Usuarios ingresan datos\n",
    "1. **read**: Comando para guardar un input del usuario desde el teclado.\n",
    "\n",
    "Es posible hacer un script de Bash que interactúe con un usuario y le permita ingresar un string desde el teclado. La meta es que el script haga algo con esa variable. Para ello usamos el comando `read` antes del nombre de una variable nueva que vamos a usar. Por ejemplo, creemos un archivo `.sh` llamado `input` y coloquemos el siguiente código:\n",
    "\n",
    "```bash\n",
    "#!/usr/bin/env bash\n",
    "# File: input.sh\n",
    "\n",
    "echo \"Type in a string and then press Enter:\"\n",
    "read response\n",
    "echo \"You entered: $response\"\n",
    "```"
   ]
  },
  {
   "cell_type": "code",
   "execution_count": null,
   "id": "focused-commitment",
   "metadata": {},
   "outputs": [],
   "source": [
    "touch ./Code/input.sh"
   ]
  },
  {
   "cell_type": "markdown",
   "id": "painted-compression",
   "metadata": {},
   "source": [
    "Este tipo de interacción **necesariamente debe ocurrir desde la Terminal**, no desde un Jupyter Notebook. Jupyter lab tiene una pestaña para Terminal que podemos usar. También podemos usar la Terminal nativa de Linux. "
   ]
  },
  {
   "cell_type": "code",
   "execution_count": null,
   "id": "communist-vision",
   "metadata": {},
   "outputs": [],
   "source": [
    "# Correr esto en la terminal\n",
    "bash ./Code/input.sh"
   ]
  },
  {
   "cell_type": "markdown",
   "id": "strategic-cross",
   "metadata": {},
   "source": [
    "## ¿Qué tiene que ver todo esto con bioinformática?\n",
    "\n",
    "Todo. ¡Podemos automatizar procesamiento de datos en bash utilizando todo lo que hemos aprendido antes! Veamos un ejemplo de cómo podemos colocar varios comandos de uno de los ejercicios del **deber de la semana 3**, todo en un archivo `.sh`. Luego lo correremos en la Terminal para ver cómo sería. Todo este procesamiento lo guardaremos en un script llamado `demo.sh`. Este script hará el siguiente procesamiento:\n",
    "1. Tomará como input el nombre del archivo de secuencias fastq para analizar.\n",
    "2. Buscará dentro del archivo provisto por el usuario las secuencias con el string @SRR098026 y las contará.\n",
    "3. Exportará las malas secuencias a un archivo llamado `malas_lecturas.fastq`, usando el string \"NNNNNNNNNN\" como plantilla. \n",
    "4. Reportará el número de malas secuencias.\n",
    "5. Luego buscaremos patrones en el archivo `buenas_lecturas.fastq`, si es que el usuario lo desea."
   ]
  },
  {
   "cell_type": "code",
   "execution_count": null,
   "id": "positive-single",
   "metadata": {},
   "outputs": [],
   "source": [
    "touch ./demo/demo.sh"
   ]
  },
  {
   "cell_type": "markdown",
   "id": "sustained-springfield",
   "metadata": {},
   "source": [
    "El contenido de nuestro archivo es el siguiente:\n",
    "\n",
    "```bash\n",
    "# Input de archivo\n",
    "echo \"Archivo a procesar > $@\"\n",
    "echo \"Numero de argumentos: $#\"\n",
    "\n",
    "# Conteo de secuencias, separación de malas secuencias\n",
    "numero_secuencias=$(grep -c '^@SRR098026' $@)\n",
    "grep -B1 -A2 NNNNNNNNNN $@ > malas_lecturas.fastq\n",
    "malas=$(cat malas_lecturas.fastq | wc -l)\n",
    "echo \"Número de malas lecturas: $malas\"\n",
    "\n",
    "# Búsqueda de patrones\n",
    "echo \"Desea buscar patrones (y/n): \"\n",
    "read d\n",
    "\n",
    "if [[ $d == \"y\" ]]; then\n",
    "    echo \"Los patrones se guardarán en: patrones.txt\"\n",
    "    echo -e 'ACTG\\nCCCCC\\nNNNCNNN\\nNNNGNNN\\nTTTT\\nTATA\\nAAA' > patrones.txt\n",
    "    grep -f patrones.txt $@ > busqueda.txt\n",
    "    echo \"Búsqueda de patrones guardada en: busqueda.txt\"\n",
    "else\n",
    "    echo \"ok :P\"\n",
    "fi\n",
    "\n",
    "# Mensaje final\n",
    "echo \"Fin :)\"\n",
    "```"
   ]
  },
  {
   "cell_type": "markdown",
   "id": "silent-adventure",
   "metadata": {},
   "source": [
    "## Ejercicio\n",
    "Tomar un deber antiguo y hacer un script que corra varios pasos al mismo tiempo."
   ]
  },
  {
   "cell_type": "markdown",
   "id": "going-salem",
   "metadata": {},
   "source": [
    "# Deber\n",
    "\n",
    "Ya les subiremos hasta mañana en la tarde el deber. "
   ]
  },
  {
   "cell_type": "code",
   "execution_count": null,
   "id": "piano-marking",
   "metadata": {},
   "outputs": [],
   "source": []
  }
 ],
 "metadata": {
  "kernelspec": {
   "display_name": "Bash",
   "language": "bash",
   "name": "bash"
  },
  "language_info": {
   "codemirror_mode": "shell",
   "file_extension": ".sh",
   "mimetype": "text/x-sh",
   "name": "bash"
  }
 },
 "nbformat": 4,
 "nbformat_minor": 5
}
