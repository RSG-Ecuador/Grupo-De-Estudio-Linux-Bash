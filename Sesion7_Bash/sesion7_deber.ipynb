{
 "cells": [
  {
   "cell_type": "markdown",
   "id": "severe-capability",
   "metadata": {},
   "source": [
    "# Deber de la sesión 7: Introducción a Bash\n",
    "\n",
    "Este deber es sencillo. Solo debes tomar 3 de los ejercicios de cualquiera de los deberes anteriores y ver si es posible hacer un script de Bash juntando todos los comandos en un archivo `.sh`. Puedes seguir el ejemplo que usamos en clase. Lo colocamos aquí nuevamente para que lo puedas ver. En este ejemplo, tomamos el ejercicio 4 de la semana 3 y juntamos los comandos en un archivo .sh. No tienen que ser exactamente los mismos comandos, puedes cambiarlos ligeramente para que tenga sentido hacer un script.\n",
    "\n",
    "### Entregables\n",
    "En una carpeta vas a colocar:\n",
    "1. Un script por cada ejercicio (son 3 scripts en formato .sh)\n",
    "2. Si utilizas en tu script un archivo con secuencias FASTA o similares, colocarlos junto a los scripts.\n",
    "3. Jupyter Notebook (.ipynb) donde llames a los scripts que creaste. Puedes hacerlo de manera similar como el notebook de la sesión 7. Esta parte es importante porque se verá el resultado del script.\n",
    "\n",
    "Luego subes la carpeta al Google Docs. :)"
   ]
  },
  {
   "cell_type": "markdown",
   "id": "hispanic-occurrence",
   "metadata": {},
   "source": [
    "## Ejemplo: Script a partir del ejercicio 4 del deber 3.\n",
    "\n",
    "**Instrucción del deber 3 ejercicio 4**:\n",
    "\n",
    "En este ejercicio se obtendrá información de archivos fastq, que cotienen secuencias de nucleótidos y la calidad de su proceso de secuenciación. Para esto usaremos los archivos secuencias1.fastq, secuencias2.fastq y secuencias3.fastq que se encuentran en la carpeta archivos_deber\n",
    "- La letra N representa un nucleótido que no pudo ser leído correctamente, y se reporta como ninguno, o missing data. Muestra los resultados de todas las secuencias dentro de los archivos secuencias1.fastq, secuencias2.fastq y secuencias3.fastq que contengan la secuencia NNNNNNNNNN. Primero haslo archivo por archivo, en 3 líneas de código distintas. Luego examína todos los archivos a la vez. ¿Cuál es la diferencia entre especificar un archivo y varios archivos a la vez? (Pista: se puede realizar con grep).\n",
    "- Ahora, usa alguna expresión regular para contar las secuencias de cada archivo por separado. Usa una sola línea de código. Se conoce que los títulos de las corridas en cada archivo .fastq empiezan con el string @SRR098026(Pista: se puede realizar con grep).\n",
    "- Pero esta información está muy desordenada. No sabemos a qué corrida le petenece esta secuencia. Podríamos imprimir más del archivo FASTQ. Entonces podríamos incluir las 4 líneas de cada corrida. ¿Cómo usarías las opciones -A y -B para incluir las 4 lineas en total de información de cada corrida que contenga la secuencia NNNNNNNNNN del archivo secuencias1.fastq? (Pista: se puede realizar con grep).\n",
    "- Pero esta información nos podría servir mucho más si está en un archivo FASTQ y no solo en la pantalla del jupyter notebook o de la terminal. Qué tal si exportamos todas estas secuencias a un archivo llamado malas_lecturas.fastq (Pista: se puede realizar con grep).\n",
    "- Ahora, coloca las anteriores secuencias en el archivo malas_lecturas.fastq sin sobre escribir el archivo. Luego imprime las últimas 40 líneas del archivo malas_lecturas.fastq ¿Qué operador puedes usar? (Pista: se puede realizar con grep y tail)\n",
    "- Ahora vamos a buscar patrones en el archivo malas_lecturas.fastq. Antes creamos un archivo llamadopatrones.txt, donde imprimirás estos motivos ACTG, CCCCC, NNNCNNN, NNNGNNN, TTTT, TATA, AAA. Luego, usa este archivo para buscar estos patrones en el arcvhio malas_lecturas.fastq la opciones. Se puede usar grep. (Pista: se puede realizar con echo o touch, y grep).\n",
    "- Tomando el archivo acg.txt, convierte las secuencias de ADN en secuencias de ARN. Recuerda que se puede hacer esto cambiando las timinas por uracilos (reemplzar T por U). Usa una línea de código (Pista: se puede realizar con grep).\n",
    "\n",
    "**Solución en un file .sh (solo se muestra el contenido del archivo, no el archivo en sí)**:\n",
    "\n",
    "Esta solución toma como argumento un archivo .fastq. \n",
    "\n",
    "```bash\n",
    "# Input de archivo\n",
    "echo \"Archivo a procesar > $@\"\n",
    "echo \"Numero de argumentos: $#\"\n",
    "\n",
    "# Conteo de secuencias, separación de malas secuencias\n",
    "numero_secuencias=$(grep -c '^@SRR098026' $@)\n",
    "grep -B1 -A2 NNNNNNNNNN $@ > malas_lecturas.fastq\n",
    "malas=$(cat malas_lecturas.fastq | wc -l)\n",
    "echo \"Número de malas lecturas: $malas\"\n",
    "\n",
    "# Búsqueda de patrones\n",
    "echo \"Desea buscar patrones (y/n): \"\n",
    "read d\n",
    "\n",
    "if [[ $d == \"y\" ]]; then\n",
    "    echo \"Los patrones se guardarán en: patrones.txt\"\n",
    "    echo -e 'ACTG\\nCCCCC\\nNNNCNNN\\nNNNGNNN\\nTTTT\\nTATA\\nAAA' > patrones.txt\n",
    "    grep -f patrones.txt $@ > busqueda.txt\n",
    "    echo \"Búsqueda de patrones guardada en: busqueda.txt\"\n",
    "else\n",
    "    echo \"ok :P\"\n",
    "fi\n",
    "\n",
    "# Mensaje final\n",
    "echo \"Fin :)\"\n",
    "```"
   ]
  },
  {
   "cell_type": "code",
   "execution_count": null,
   "id": "persistent-phone",
   "metadata": {},
   "outputs": [],
   "source": []
  }
 ],
 "metadata": {
  "kernelspec": {
   "display_name": "Bash",
   "language": "bash",
   "name": "bash"
  },
  "language_info": {
   "codemirror_mode": "shell",
   "file_extension": ".sh",
   "mimetype": "text/x-sh",
   "name": "bash"
  }
 },
 "nbformat": 4,
 "nbformat_minor": 5
}
