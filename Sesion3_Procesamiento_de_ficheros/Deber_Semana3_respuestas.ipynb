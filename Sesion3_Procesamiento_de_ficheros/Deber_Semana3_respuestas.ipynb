{
 "cells": [
  {
   "cell_type": "markdown",
   "metadata": {},
   "source": [
    "# **Deber Semana 3 Grupo de estudio GNU/Linux y Bash**\n",
    "A continuación se presentan algunos ejercicios sobre manejo de archivos y expresones reglares aplicados a Bioinformática:"
   ]
  },
  {
   "cell_type": "markdown",
   "metadata": {},
   "source": [
    "### **1. Vamos a realizar una simulación de dinámica molecular de la proteína prM del virus del Dengue (PDB ID: 3c5x) para replicar las condiciones biológicas en las que esta proteína se encuentra y obtener una estructura estable. Para esto usaremos el archivo `3c5x.pdb` que se encuentra en la carpeta `archivos_deber`**"
   ]
  },
  {
   "cell_type": "markdown",
   "metadata": {},
   "source": [
    "1.1. Los archivos del Protein Data Bank (PDB) tienen una nomenclatura por defecto para los aminoácidos. En esta nomenclatura, la cysteína se nombra como *CYS*. Sin embargo, en algunos programas de simulación como *Amber* la nomenclatura de los aminoácidos es diferente. Para que el programa pueda reconocer los aminoácidos de cisteína, estos se deben nombrar como *CYX* en lugar de *CYS*. Usando los conocimientos adquiridos en la clase, transformar el nombre de todos los aminoácidos de cisteína del archivo `3c5x.pdb` de *CYS* a *CYX* y guardar el nuevo archivo como `3c5x_cyx.pdb` (**Pista: se puede realizar con sed**)."
   ]
  },
  {
   "cell_type": "code",
   "execution_count": 29,
   "metadata": {},
   "outputs": [],
   "source": [
    "sed 's/CYS/CYX/g' archivos_deber/3c5x.pdb > archivos_deber/3c5x_cyx.pdb"
   ]
  },
  {
   "cell_type": "markdown",
   "metadata": {},
   "source": [
    "**1.2.** Las primeras 579 líneas del archivo *3c5x.pdb* son informativas y no son parte de la secuencia que necesita el programa para realizar la simulación. Por tanto, queremos reemplazar el nombre *CYX* por *CYS* de las primeras 579 líneas del archivo `3c5x_cyx.pdb` creado previamente, y guardar el nuevo archivo como `3c5x_cyx_cys.pdb`. (**Pista: se puede realizar con sed**)."
   ]
  },
  {
   "cell_type": "code",
   "execution_count": 30,
   "metadata": {},
   "outputs": [],
   "source": [
    "sed ' 1,579 s/CYX/CYS/g' archivos_deber/3c5x_cyx.pdb > archivos_deber/3c5x_cyx_cys.pdb"
   ]
  },
  {
   "cell_type": "markdown",
   "metadata": {},
   "source": [
    "**1.3.** Las primeras 579 líneas son solamente informativas y no influyen en la simulación de la proteína. Por tanto, queremos eliminar las líneas 4-579 del archivo `3c5x_cyx_cys.pdb` y guardar el nuevo archivo como `3c5x_cyx_clean.pdb`. (**Pista: se puede realizar con sed**)."
   ]
  },
  {
   "cell_type": "code",
   "execution_count": 33,
   "metadata": {},
   "outputs": [],
   "source": [
    "sed '4, 579d' archivos_deber/3c5x_cyx_cys.pdb  > archivos_deber/3c5x_cyx_clean.pdb"
   ]
  },
  {
   "cell_type": "markdown",
   "metadata": {},
   "source": [
    "**1.4.** Además de la información de los aminoácidos de las proteínas, los archivos PDB suelen tener información sobre átomos especiales como metales o puentes de hidrógeno, que se identifican con el código *HETATM*. Supongamos que en nuestra simulación no nos interesan estos átomos y queremos eliminarlos del archivo `3c5x_cyx_clean.pdb` y guardar el nuevo archivo como `3c5x_cyx_no_HETATM.pdb`. (**Pista: se puede realizar con grep y sed**)."
   ]
  },
  {
   "cell_type": "code",
   "execution_count": null,
   "metadata": {},
   "outputs": [],
   "source": [
    "# Primero buscamos las líneas que poseen el código HETATM \n",
    "grep -n \"HETATM\" archivos_deber/3c5x_cyx_clean.pdb"
   ]
  },
  {
   "cell_type": "code",
   "execution_count": 43,
   "metadata": {},
   "outputs": [],
   "source": [
    "# Ahora eliminamos estas líneas\n",
    "sed '3693,3776d' archivos_deber/3c5x_cyx_clean.pdb > archivos_deber/3c5x_cyx_no_HETATM.pdb"
   ]
  },
  {
   "cell_type": "markdown",
   "metadata": {},
   "source": [
    "**1.5.** Otros datos que se muestran en los archivos PDB  son los puentes disulfuro entre átomos S de los aminoácidos de cisteína, que se identifican con el código *CONECT*. Supongamos que también queremos eliminar esta información del archivo `3c5x_cyx_no_HETATM.pdb` y guardar el nuevo archivo como `3c5x_cyx_no_HETATM_CONN.pdb` (**Pista: se puede realizar con grep y sed, es similar al anterior ejercicio**)."
   ]
  },
  {
   "cell_type": "code",
   "execution_count": null,
   "metadata": {},
   "outputs": [],
   "source": [
    "# Primero buscamos las líneas que poseen el código CONECT \n",
    "grep -n \"CONECT\" archivos_deber/3c5x_cyx_no_HETATM.pdb"
   ]
  },
  {
   "cell_type": "code",
   "execution_count": 45,
   "metadata": {},
   "outputs": [],
   "source": [
    "# Ahora eliminamos estas líneas\n",
    "sed '3693,3710d' archivos_deber/3c5x_cyx_no_HETATM.pdb > archivos_deber/3c5x_cyx_no_HETATM_CONN.pdb"
   ]
  },
  {
   "cell_type": "markdown",
   "metadata": {},
   "source": [
    "**1.6.** Los archivos PDB suelen tener más de una cadena en su estructura proteica. Para establecer el fin de una cadena y el inicio de otra, en estos archivos se usa el código *TER*. Buscar el número de línea en el que finaliza la cadena A y empieza la cadena C del  del archivo `3c5x_cyx_no_HETATM_CONN.pdb` (**Pista: se puede realizar con grep**)"
   ]
  },
  {
   "cell_type": "code",
   "execution_count": null,
   "metadata": {},
   "outputs": [],
   "source": [
    "# Opción 1\n",
    "grep -n \"TER\" archivos_deber/3c5x_cyx_no_HETATM_CONN.pdb"
   ]
  },
  {
   "cell_type": "code",
   "execution_count": null,
   "metadata": {},
   "outputs": [],
   "source": [
    "# Opción 2\n",
    "grep --line-number \"TER\" archivos_deber/3c5x_cyx_no_HETATM_CONN.pdb"
   ]
  },
  {
   "cell_type": "markdown",
   "metadata": {},
   "source": [
    "**1.7.** Ahora que conocemos el número de línea en la que termina la cadena A y empieza la cadena C del archivo `3c5x_cyx_no_HETATM_CONN.pdb`, queremos separar las dos cadenas en dos archivos diferentes (*3c5x_cadA.pdb* y *3c5x_cadB.pdb*) (**Pista: se puede realizar con sed o split**)."
   ]
  },
  {
   "cell_type": "code",
   "execution_count": null,
   "metadata": {},
   "outputs": [],
   "source": [
    "# Opción 1 sed\n",
    "# Cadena A\n",
    "sed -n '1,3051p' archivos_deber/3c5x_cyx_clean.pdb > archivos_deber/3c5x_cadA.pdb\n",
    "# Cadena B \n",
    "sed -n '3052,3692p' archivos_deber/3c5x_cyx_clean.pdb > archivos_deber/3c5x_cadB.pdb"
   ]
  },
  {
   "cell_type": "code",
   "execution_count": null,
   "metadata": {},
   "outputs": [],
   "source": [
    "# Opción 2 sed\n",
    "# Cadena A\n",
    "sed '3052,3692d' archivos_deber/3c5x_cyx_clean.pdb > archivos_deber/3c5x_cadA.pdb\n",
    "# Cadena B \n",
    "sed '1,3051d' archivos_deber/3c5x_cyx_clean.pdb > archivos_deber/3c5x_cadB.pdb"
   ]
  },
  {
   "cell_type": "code",
   "execution_count": 5,
   "metadata": {},
   "outputs": [],
   "source": [
    "# Opción 3 split\n",
    "split -l 3051 archivos_deber/3c5x.pdb"
   ]
  },
  {
   "cell_type": "code",
   "execution_count": 7,
   "metadata": {},
   "outputs": [
    {
     "name": "stdout",
     "output_type": "stream",
     "text": [
      "\u001b[0m\u001b[01;34marchivos\u001b[0m                        \u001b[01;34mimagenes\u001b[0m                        Regex.html\n",
      "\u001b[01;34marchivos_deber\u001b[0m                  Procesamiento_ficheros.ipynb    Regex.ipynb\n",
      "Deber_Semana3.ipynb             Procesmiento_ficheros_ppt.html  xaa\n",
      "Deber_Semana3_respuestas.ipynb  README.md                       xab\n"
     ]
    }
   ],
   "source": [
    "ls "
   ]
  },
  {
   "cell_type": "markdown",
   "metadata": {},
   "source": [
    "### **2. En este ejercicio se obtendrá información de un archivo fasta, que contiene la secuencia de nucleótidos de un gen de un microorganismo.  Para esto usaremos el archivo `secuencia1.fasta` que se encuentra en la carpeta `archivos_deber`**"
   ]
  },
  {
   "cell_type": "markdown",
   "metadata": {},
   "source": [
    "**2.1.** En las secuencias de ADN se encuentran varios motivos (secuencias pequeñas muy conservadas) como los que dan inicio y término a los procesos de replicación, transcripción y traducción. La señal para el inicio de la transcripción es dada por la presencia de la TATA box (*TATAAA* o *TATAAT*) y la señal para el término de la transcripción es la presencia de varias Adeninas (5 o más), con lo que se obtiene un transcrito (ARN mensajero). Determinar el número de señales de inicio y de terminación del archivo `secuencia1.fasta` y establecer si hay igual número de señales de inicio y terminación (**Pista: se puede realizar con egrep o egrep y wc**)."
   ]
  },
  {
   "cell_type": "code",
   "execution_count": null,
   "metadata": {},
   "outputs": [],
   "source": [
    "# Opción 1\n",
    "# Señales de inicio \n",
    "egrep -c \"TATAAA\" archivos_deber/secuencia1.fasta\n",
    "egrep -c \"TATAAT\" archivos_deber/secuencia1.fasta\n",
    "# Señales de terminación \n",
    "egrep -c \"A{5,}\" archivos_deber/secuencia1.fasta"
   ]
  },
  {
   "cell_type": "code",
   "execution_count": null,
   "metadata": {},
   "outputs": [],
   "source": [
    "# Opción 2\n",
    "# Señales de inicio \n",
    "grep \"TATAAA\" archivos_deber/secuencia1.fasta > archivos_deber/secuencia1_in.fasta\n",
    "grep \"TATAAT\" archivos_deber/secuencia1.fasta >> archivos_deber/secuencia1_in.fasta\n",
    "wc archivos_deber/secuencia1_in.fasta\n",
    "# Señales de terminación \n",
    "egrep \"A{5,}\" archivos_deber/secuencia1.fasta > archivos_deber/secuencia1_ter.fasta\n",
    "wc archivos_deber/secuencia1_ter.fasta"
   ]
  },
  {
   "cell_type": "markdown",
   "metadata": {},
   "source": [
    "**2.2.** Otros motivos importantes son los de unión para factores de transcripción (FT). Se conoce que un FT se puede unir específicamente al motivo *ATXXTC*, en donde la X puede corresponder a cualquier nucleótido. Determine si la secuencia del archivo `secuencia1.fasta` posee motivos de unión a FTs, y en caso de tenerlos cuántos de estos motivos posee (**Pista: se puede realizar con egrep o egrep y wc**)."
   ]
  },
  {
   "cell_type": "code",
   "execution_count": null,
   "metadata": {},
   "outputs": [],
   "source": [
    "# Opción 1\n",
    "egrep -c \"AT..TC\" archivos_deber/secuencia1.fasta"
   ]
  },
  {
   "cell_type": "code",
   "execution_count": null,
   "metadata": {},
   "outputs": [],
   "source": [
    "# Opción 2\n",
    "egrep \"AT..TC\" archivos_deber/secuencia1.fasta > archivos_deber/secuencia1_FT.fasta\n",
    "wc archivos_deber/secuencia1_FT.fasta"
   ]
  },
  {
   "cell_type": "markdown",
   "metadata": {},
   "source": [
    "**2.3.** Crear una expresión regular para determinar la o las sub-secuencias del archivo `secuencia1.fasta` que empieza con *TACA* y terminen con *AAAAAT* (**Pista: se puede realizar con egrep**)."
   ]
  },
  {
   "cell_type": "code",
   "execution_count": null,
   "metadata": {},
   "outputs": [],
   "source": [
    "egrep \"TACA.+AAAAAT\" archivos_deber/secuencia1.fasta"
   ]
  },
  {
   "cell_type": "markdown",
   "metadata": {},
   "source": [
    "**2.4.** Crear una expresión regular para determinar si la secuencia del archivo `secuencia1.fasta` termina con *TATACAATGA* (**Pista: se puede realizar con egrep**)."
   ]
  },
  {
   "cell_type": "code",
   "execution_count": null,
   "metadata": {},
   "outputs": [],
   "source": [
    "egrep \"TATACAATGA$\" archivos_deber/secuencia1.fasta"
   ]
  },
  {
   "cell_type": "markdown",
   "metadata": {},
   "source": [
    "### **3. En este ejercicio se obtendrá información de un archivo multifasta, compuestos por varias secuencias de nucleótidos, en el que cada secuencia es un genoma completo de diferentes cepas o muestras de *Sulcia muelleri* (un endosimbionte de insectos). Para esto usaremos el archivo `sul_genomas.fasta` que se encuentra en la carpeta `archivos_deber`**"
   ]
  },
  {
   "cell_type": "markdown",
   "metadata": {},
   "source": [
    "**3.1.** Se debe considerar que en un archivo multifasta cada secuencia posee un header que empieza con el caracter *>*. Determinar cuántos genomas en total se encuentran en el archivo `sul_genomas.fasta` (**Pista: se puede realizar con grep y wc**)."
   ]
  },
  {
   "cell_type": "code",
   "execution_count": null,
   "metadata": {},
   "outputs": [],
   "source": [
    "# Opción 1\n",
    "egrep -c \">\" archivos_deber/sul_genomas.fasta"
   ]
  },
  {
   "cell_type": "code",
   "execution_count": null,
   "metadata": {},
   "outputs": [],
   "source": [
    "# Opción 2\n",
    "grep \">\" archivos_deber/sul_genomas.fasta > archivos_deber/sul_genomas_head.fasta\n",
    "wc archivos_deber/sul_genomas_head.fasta"
   ]
  },
  {
   "cell_type": "markdown",
   "metadata": {},
   "source": [
    "**3.2.** Se desea crear una expresión regular que permita identificar los códigos de todas las secuencias, que se encuentran en los headers junto al caracter >, del archivo `sul_genomas.fasta` (**Pista: se puede realizar con egrep**)."
   ]
  },
  {
   "cell_type": "code",
   "execution_count": null,
   "metadata": {},
   "outputs": [],
   "source": [
    "egrep \"^>.+\\.[1-9]+ C\" archivos_deber/sul_genomas.fasta "
   ]
  },
  {
   "cell_type": "code",
   "execution_count": 5,
   "metadata": {},
   "outputs": [
    {
     "name": "stdout",
     "output_type": "stream",
     "text": [
      "\u001b[01;31m\u001b[K>C\u001b[m\u001b[KP006060.1 Candidatus Sulcia muelleri str. Sulcia-ALF, complete genome\n",
      "\u001b[01;31m\u001b[K>C\u001b[m\u001b[KP008986.1 Candidatus Sulcia muelleri strain BGSS, complete genome\n",
      "\u001b[01;31m\u001b[K>C\u001b[m\u001b[KP002163.1 Candidatus Sulcia muelleri CARI, complete genome\n",
      "\u001b[01;31m\u001b[K>C\u001b[m\u001b[KP001981.1 Candidatus Sulcia muelleri DMIN, complete genome\n",
      "\u001b[01;31m\u001b[K>C\u001b[m\u001b[KP021172.1 Candidatus Sulcia muelleri strain ENCA chromosome, complete genome\n",
      "\u001b[01;31m\u001b[K>C\u001b[m\u001b[KP000770.2 Candidatus Sulcia muelleri GWSS, complete genome\n",
      "\u001b[01;31m\u001b[K>C\u001b[m\u001b[KP010105.1 Candidatus Sulcia muelleri strain ML, complete genome\n",
      "\u001b[01;31m\u001b[K>C\u001b[m\u001b[KP016223.1 Candidatus Sulcia muelleri strain NC chromosome, complete genome\n",
      "\u001b[01;31m\u001b[K>C\u001b[m\u001b[KP028359.1 Candidatus Sulcia muelleri strain OLIH chromosome, complete genome\n",
      "\u001b[01;31m\u001b[K>N\u001b[m\u001b[KZ_CP059212.1 Blattabacterium cuenoti strain COSMOsp chromosome, complete genome\n",
      "\u001b[01;31m\u001b[K>A\u001b[m\u001b[KP013293.1 Candidatus Sulcia muelleri PSPU DNA, complete genome\n",
      "\u001b[01;31m\u001b[K>C\u001b[m\u001b[KP013212.1 Candidatus Sulcia muelleri strain PUNC, complete genome\n",
      "\u001b[01;31m\u001b[K>C\u001b[m\u001b[KP029020.1 Candidatus Sulcia muelleri isolate SMAURBIH chromosome, complete genome\n",
      "\u001b[01;31m\u001b[K>C\u001b[m\u001b[KP029021.1 Candidatus Sulcia muelleri isolate SMAURJAP chromosome, complete genome\n",
      "\u001b[01;31m\u001b[K>C\u001b[m\u001b[KP029009.1 Candidatus Sulcia muelleri isolate SMCRYATR chromosome, complete genome\n",
      "\u001b[01;31m\u001b[K>C\u001b[m\u001b[KP029010.1 Candidatus Sulcia muelleri isolate SMCRYFAC chromosome, complete genome\n",
      "\u001b[01;31m\u001b[K>C\u001b[m\u001b[KP001605.1 Candidatus Sulcia muelleri SMDSEM, complete genome\n",
      "\u001b[01;31m\u001b[K>C\u001b[m\u001b[KP029011.1 Candidatus Sulcia muelleri isolate SMEUTCHI chromosome, complete genome\n",
      "\u001b[01;31m\u001b[K>C\u001b[m\u001b[KP029012.1 Candidatus Sulcia muelleri isolate SMGRABIM chromosome, complete genome\n",
      "\u001b[01;31m\u001b[K>C\u001b[m\u001b[KP029013.1 Candidatus Sulcia muelleri isolate SMGRANIG chromosome, complete genome\n",
      "\u001b[01;31m\u001b[K>C\u001b[m\u001b[KP029014.1 Candidatus Sulcia muelleri isolate SMHYAMAC chromosome, complete genome\n",
      "\u001b[01;31m\u001b[K>C\u001b[m\u001b[KP029015.1 Candidatus Sulcia muelleri isolate SMKOSYEZ chromosome, complete genome\n",
      "\u001b[01;31m\u001b[K>C\u001b[m\u001b[KP010828.1 Candidatus Sulcia muelleri isolate SMMAGTRE, complete genome\n",
      "\u001b[01;31m\u001b[K>C\u001b[m\u001b[KP029025.1 Candidatus Sulcia muelleri isolate SMMEIIWA chromosome, complete genome\n",
      "\u001b[01;31m\u001b[K>C\u001b[m\u001b[KP029026.1 Candidatus Sulcia muelleri isolate SMMEIKUR chromosome, complete genome\n",
      "\u001b[01;31m\u001b[K>C\u001b[m\u001b[KP029027.1 Candidatus Sulcia muelleri isolate SMMEIOPA chromosome, complete genome\n",
      "\u001b[01;31m\u001b[K>C\u001b[m\u001b[KP029028.1 Candidatus Sulcia muelleri isolate SMMEIOSH chromosome, complete genome\n",
      "\u001b[01;31m\u001b[K>C\u001b[m\u001b[KP029016.1 Candidatus Sulcia muelleri isolate SMMOGMIN chromosome, complete genome\n",
      "\u001b[01;31m\u001b[K>C\u001b[m\u001b[KP029017.1 Candidatus Sulcia muelleri isolate SMMUDKUR chromosome, complete genome\n",
      "\u001b[01;31m\u001b[K>C\u001b[m\u001b[KP029019.1 Candidatus Sulcia muelleri isolate SMPLAKAE chromosome, complete genome\n",
      "\u001b[01;31m\u001b[K>C\u001b[m\u001b[KP029018.1 Candidatus Sulcia muelleri isolate SMTANJAP chromosome, complete genome\n",
      "\u001b[01;31m\u001b[K>C\u001b[m\u001b[KP029023.1 Candidatus Sulcia muelleri isolate SMTERNIG chromosome, complete genome\n",
      "\u001b[01;31m\u001b[K>C\u001b[m\u001b[KP029024.1 Candidatus Sulcia muelleri isolate SMTERVAC chromosome, complete genome\n",
      "\u001b[01;31m\u001b[K>C\u001b[m\u001b[KP029022.1 Candidatus Sulcia muelleri isolate SMVAGTER chromosome, complete genome\n",
      "\u001b[01;31m\u001b[K>C\u001b[m\u001b[KP060020.1 Candidatus Sulcia muelleri isolate SUL-MSEV chromosome, complete genome\n",
      "\u001b[01;31m\u001b[K>C\u001b[m\u001b[KP007234.1 Candidatus Sulcia muelleri strain TETUND, complete genome\n"
     ]
    }
   ],
   "source": [
    "egrep \"^>[A-Za-z0-9]\" archivos_deber/sul_genomas.fasta "
   ]
  },
  {
   "cell_type": "markdown",
   "metadata": {},
   "source": [
    "**3.3.** Se desea extraer los códigos de todas las secuencias del archivo *sul_genomas.fasta* y colocar esta información en un nuevo archivo llamado `sul_genomas_codigos.txt` (**Pista: se puede realizar con grep y cut**)."
   ]
  },
  {
   "cell_type": "code",
   "execution_count": null,
   "metadata": {},
   "outputs": [],
   "source": [
    "grep \">\" archivos_deber/sul_genomas.fasta > archivos_deber/sul_genomas_head.fasta"
   ]
  },
  {
   "cell_type": "code",
   "execution_count": null,
   "metadata": {},
   "outputs": [],
   "source": [
    "cut -f1 -d ' ' archivos_deber/sul_genomas_head.fasta > archivos_deber/sul_genomas_codigos.txt"
   ]
  },
  {
   "cell_type": "markdown",
   "metadata": {},
   "source": [
    "**3.4.** Se desea crear una expresión regular que permita identificar el nombre de la cepa o el nombre de la muestra de todas las secuencias del archivo `sul_genomas.fasta`. Un ejemplo del nombre de la cepa es *Sulcia-ALF* y de la muestra *SMAURBIH* (**Pista: se puede realizar con egrep**)."
   ]
  },
  {
   "cell_type": "code",
   "execution_count": null,
   "metadata": {},
   "outputs": [],
   "source": [
    "egrep \"i .+,\" archivos_deber/sul_genomas.fasta "
   ]
  },
  {
   "cell_type": "markdown",
   "metadata": {},
   "source": [
    "**3.5** Se desea buscar la secuencia *TTTATTCCTAAAATAAAAGAAGATGAA* en el genoma de *Candidatus Sulcia muelleri CARI* del archivo `sul_genomas.fasta` (**Pista: se puede realizar con grep y sed**)."
   ]
  },
  {
   "cell_type": "code",
   "execution_count": null,
   "metadata": {},
   "outputs": [],
   "source": [
    "grep -n \">\" archivos_deber/sul_genomas.fasta"
   ]
  },
  {
   "cell_type": "code",
   "execution_count": null,
   "metadata": {},
   "outputs": [],
   "source": [
    "sed -n '5446,8903p' archivos_deber/sul_genomas.fasta > archivos_deber/sul_CARI.fasta"
   ]
  },
  {
   "cell_type": "code",
   "execution_count": null,
   "metadata": {},
   "outputs": [],
   "source": [
    "grep -n \"TTTATTCCTAAAATAAAAGAAGATGAA\" archivos_deber/sul_CARI.fasta"
   ]
  },
  {
   "cell_type": "markdown",
   "metadata": {},
   "source": [
    "### **4. En este ejercicio se obtendrá información de archivos fastq, que cotienen secuencias de nucleótidos y la calidad de su proceso de secuenciación. Para esto usaremos los archivos `secuencias1.fastq`, `secuencias2.fastq` y `secuencias3.fastq` que se encuentran en la carpeta `archivos_deber`** "
   ]
  },
  {
   "cell_type": "markdown",
   "metadata": {},
   "source": [
    "**4.1.** La letra `N` representa un nucleótido que no pudo ser leído correctamente, y se reporta como ninguno, o `missing data`. Muestra los resultados de todas las secuencias dentro de los archivos `secuencias1.fastq`, `secuencias2.fastq` y `secuencias3.fastq` que contengan la secuencia `NNNNNNNNNN`. Primero haslo archivo por archivo, en 3 líneas de código distintas. Luego examína todos los archivos a la vez. ¿Cuál es la diferencia entre especificar un archivo y varios archivos a la vez? (**Pista: se puede realizar con grep**)."
   ]
  },
  {
   "cell_type": "code",
   "execution_count": null,
   "metadata": {},
   "outputs": [],
   "source": [
    "# Secuencias de secuencias1.fastq\n",
    "grep NNNNNNNNNN secuencias1.fastq"
   ]
  },
  {
   "cell_type": "code",
   "execution_count": null,
   "metadata": {},
   "outputs": [],
   "source": [
    "# Secuencias de secuencias2.fastq\n",
    "grep NNNNNNNNNN secuencias2.fastq"
   ]
  },
  {
   "cell_type": "code",
   "execution_count": null,
   "metadata": {},
   "outputs": [],
   "source": [
    "# Secuencias de secuencias3.fastq\n",
    "grep NNNNNNNNNN secuencias3.fastq"
   ]
  },
  {
   "cell_type": "code",
   "execution_count": null,
   "metadata": {},
   "outputs": [],
   "source": [
    "# Secuencias de los 3 fastq\n",
    "grep NNNNNNNNNN secuencias1.fastq secuencias2.fastq secuencias3.fastq"
   ]
  },
  {
   "cell_type": "code",
   "execution_count": null,
   "metadata": {},
   "outputs": [],
   "source": [
    "# La diferencia es que: al especificar varios archivos, las líneas se imprimen \n",
    "# con el nombre del archivo del que provienen."
   ]
  },
  {
   "cell_type": "markdown",
   "metadata": {},
   "source": [
    "**4.2.** Ahora, usa alguna expresión regular para contar las secuencias de cada archivo por separado. *Usa una sola línea de código*. Se conoce que los títulos de las corridas en cada archivo `.fastq` empiezan con el string `@SRR098026`(**Pista: se puede realizar con grep**)."
   ]
  },
  {
   "cell_type": "code",
   "execution_count": 17,
   "metadata": {},
   "outputs": [],
   "source": [
    "# Contar archivos que contienen líneas con caracter '^@SRR098026'\n",
    "grep -c '^@SRR098026' secuencias1.fastq secuencias2.fastq secuencias3.fastq"
   ]
  },
  {
   "cell_type": "markdown",
   "metadata": {},
   "source": [
    "**4.3.** Pero esta información está muy desordenada. No sabemos a qué corrida le petenece esta secuencia. Podríamos imprimir más del archivo FASTQ. Entonces podríamos incluir las 4 líneas de cada corrida. ¿Cómo usarías las opciones `-A` y `-B` para incluir las 4 lineas en total de información de cada corrida que contenga la secuencia `NNNNNNNNNN` del archivo `secuencias1.fastq`? (**Pista: se puede realizar con grep**)."
   ]
  },
  {
   "cell_type": "code",
   "execution_count": 18,
   "metadata": {},
   "outputs": [],
   "source": [
    "# Usa -A y -B en secuencias1.fastq\n",
    "grep -A1 -B2 NNNNNNNNNN secuencias1.fastq"
   ]
  },
  {
   "cell_type": "markdown",
   "metadata": {},
   "source": [
    "**4.4.** Pero esta información nos podría servir mucho más si está en un archivo FASTQ y no solo en la pantalla del `jupyter notebook` o de la `terminal`. Qué tal si exportamos todas estas secuencias a un archivo llamado `malas_lecturas.fastq` (**Pista: se puede realizar con grep**)."
   ]
  },
  {
   "cell_type": "code",
   "execution_count": 19,
   "metadata": {},
   "outputs": [],
   "source": [
    "# Exporta los resultados de los 3 archivos fastq. Exporta las 4 líneas del formato.\n",
    "grep -B1 -A2 NNNNNNNNNN secuencias1.fastq secuencias2.fastq secuencias3.fastq > malas_lecturas.fastq"
   ]
  },
  {
   "cell_type": "markdown",
   "metadata": {},
   "source": [
    "**4.5.** Tomando los tres archivos fastq, crea un archivo llamado `acg.txt` con las secuencias que contienen `ACG`. ¿Cuántas **secuencias** contienen `ACG` en los 3 archivos?. (**Pista: se puede realizar con grep y wc**)."
   ]
  },
  {
   "cell_type": "code",
   "execution_count": null,
   "metadata": {},
   "outputs": [],
   "source": [
    "grep ACG secuencias1.fastq secuencias2.fastq secuencias3.fastq > acg.txt\n",
    "wc -l acg.txt"
   ]
  },
  {
   "cell_type": "markdown",
   "metadata": {},
   "source": [
    "**4.6.** Ahora, coloca las anteriores secuencias en el archivo `malas_lecturas.fastq` **sin sobre escribir el archivo**. Luego imprime las últimas 40 líneas del archivo `malas_lecturas.fastq` ¿Qué operador puedes usar? (**Pista: se puede realizar con grep y tail**)."
   ]
  },
  {
   "cell_type": "code",
   "execution_count": null,
   "metadata": {},
   "outputs": [],
   "source": [
    "grep ACG secuencias1.fastq secuencias2.fastq secuencias3.fastq >> malas_lecturas.fastq\n",
    "tail -n 40 malas_lecturas.fastq"
   ]
  },
  {
   "cell_type": "markdown",
   "metadata": {},
   "source": [
    "**4.7.** Ves que se ha escrito el archivo de origen de las líneas que hemos copiado en `malas_lecturas.fastq`, un string como *secuencias1.fastq* o similares. Remueve estos strings. Sobreescribe el archivo `malas_lecturas.fastq` con los nuevos cambios. **Debes hacerlo en una línea de código**. Luego verifica si existe alguna línea con los strings no deseados. `Puede que esto sea diferente para Linux y para macOS`. (**Pista: se puede realizar con grep o sed**)."
   ]
  },
  {
   "cell_type": "code",
   "execution_count": null,
   "metadata": {},
   "outputs": [],
   "source": [
    "# para MAC\n",
    "sed -i '' -e 's/secuencias1.fastq//' -e 's/secuencias2.fastq//' -e 's/secuencias3.fastq//' malas_lecturas.fastq\n",
    "# para Linux \n",
    "# sed -i -e 's/secuencias1.fastq//' -e 's/secuencias2.fastq//' -e 's/secuencias3.fastq//' malas_lecturas.fastq\n",
    "grep NNNNNNNNNN malas_lecturas.fastq | wc -l"
   ]
  },
  {
   "cell_type": "markdown",
   "metadata": {},
   "source": [
    "**4.8.** Ahora vamos a buscar patrones en el archivo `malas_lecturas.fastq`. Antes creamos un archivo llamado`patrones.txt`, donde imprimirás estos motivos *ACTG, CCCCC, NNNCNNN, NNNGNNN, TTTT, TATA, AAA*. Luego, usa este archivo para buscar estos patrones en el arcvhio ` malas_lecturas.fastq` la opciones. Se puede usar grep. (**Pista: se puede realizar con echo o touch, y grep**)."
   ]
  },
  {
   "cell_type": "code",
   "execution_count": null,
   "metadata": {},
   "outputs": [],
   "source": [
    "echo -e 'ACTG\\nCCCCC\\nNNNCNNN\\nNNNGNNN\\nTTTT\\nTATA\\nAAA' > patrones.txt\n",
    "grep -f patrones.txt malas_lecturas.fastq"
   ]
  },
  {
   "cell_type": "markdown",
   "metadata": {},
   "source": [
    "**4.9.** Tomando el archivo `acg.txt`, convierte los fragmentos `ACG` y conviertelos en secuencias de ARN. Recuerda que se puede hacer esto cambiando las timinas por uracilos (Reemplzar T por U). Usa una línea de código (**Pista: se puede realizar con grep**)."
   ]
  },
  {
   "cell_type": "code",
   "execution_count": null,
   "metadata": {},
   "outputs": [],
   "source": [
    "sed -i '' -e 's/T/U/' acg.txt # macOS\n",
    "sed -i -e 's/T/U/' acg.txt # Linux"
   ]
  }
 ],
 "metadata": {
  "kernelspec": {
   "display_name": "Bash",
   "language": "bash",
   "name": "bash"
  },
  "language_info": {
   "codemirror_mode": "shell",
   "file_extension": ".sh",
   "mimetype": "text/x-sh",
   "name": "bash"
  }
 },
 "nbformat": 4,
 "nbformat_minor": 4
}
