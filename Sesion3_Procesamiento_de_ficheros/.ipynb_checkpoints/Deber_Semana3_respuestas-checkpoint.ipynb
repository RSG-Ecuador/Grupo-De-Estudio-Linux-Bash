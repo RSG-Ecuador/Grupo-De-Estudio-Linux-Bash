{
 "cells": [
  {
   "cell_type": "markdown",
   "metadata": {},
   "source": [
    "# **Deber Semana 3 Grupo de estudio GNU/Linux y Bash**\n",
    "A continuación se presentan algunos ejercicios sobre manejo de archivos y expresiones regulares aplicados a Bioinformática:"
   ]
  },
  {
   "cell_type": "markdown",
   "metadata": {},
   "source": [
    "### **1. Supongamos que se desea realizar una simulación de dinámica molecular de la proteína prM del virus del Dengue (PDB ID: 3c5x) para replicar las condiciones biológicas en las que esta proteína se encuentra y obtener una estructura estable. Para esto usaremos el archivo *3c5x.pdb* que se encuentra en la carpeta *archivos_deber.***"
   ]
  },
  {
   "cell_type": "markdown",
   "metadata": {},
   "source": [
    " 1.1. Los archivos del Protein Data Bank (PDB) tienen una nomenclatura por defecto para los aminoácidos. En esta nomenclatura, la cisteína se nombra como *CYS*. Sin embargo, en algunos programas de simulación como *Amber* la nomenclatura de los aminoácidos es diferente. Para que el programa pueda reconocer los aminoácidos de cisteína, estos se deben nombrar como *CYX* en lugar de *CYS*. Usando los conocimientos adquiridos en la clase, transformar el nombre de todos los aminoácidos de cisteína del archivo *3c5x.pdb* de *CYS* a *CYX* y guardar el nuevo archivo como *3c5x_cyx.pdb* (**Pista: se puede realizar con sed**)."
   ]
  },
  {
   "cell_type": "code",
   "execution_count": 29,
   "metadata": {},
   "outputs": [],
   "source": [
    "sed 's/CYS/CYX/g' archivos_deber/3c5x.pdb > archivos_deber/3c5x_cyx.pdb"
   ]
  },
  {
   "cell_type": "markdown",
   "metadata": {},
   "source": [
    "1.2. Las primeras 579 líneas del archivo *3c5x.pdb* son informativas y no son parte de la secuencia que necesita el programa para realizar la simulación. Por tanto, queremos reemplazar el nombre *CYX* por *CYS* de las primeras 579 líneas del archivo *3c5x_cyx.pdb* creado previamente, y guardar el nuevo archivo como *3c5x_cyx_cys.pdb*. (**Pista: se puede realizar con sed**)."
   ]
  },
  {
   "cell_type": "code",
   "execution_count": 30,
   "metadata": {},
   "outputs": [],
   "source": [
    "sed ' 1,579 s/CYX/CYS/g' archivos_deber/3c5x_cyx.pdb > archivos_deber/3c5x_cyx_cys.pdb"
   ]
  },
  {
   "cell_type": "markdown",
   "metadata": {},
   "source": [
    "1.3. Las primeras 579 líneas son solamente informativas y no influyen en la simulación de la proteína. Por tanto, queremos eliminar las líneas 4-579 del archivo *3c5x_cyx_cys.pdb* y guardar el nuevo archivo como *3c5x_cyx_clean.pdb*. (**Pista: se puede realizar con sed**)."
   ]
  },
  {
   "cell_type": "code",
   "execution_count": 33,
   "metadata": {},
   "outputs": [],
   "source": [
    "sed '4, 579d' archivos_deber/3c5x_cyx_cys.pdb  > archivos_deber/3c5x_cyx_clean.pdb"
   ]
  },
  {
   "cell_type": "markdown",
   "metadata": {},
   "source": [
    "1.4. Además de la información de los aminoácidos de las proteínas, los archivos PDB suelen tener información sobre átomos especiales como metales o puentes de hidrógeno, que se identifican con el código *HETATM*. Supongamos que en nuestra simulación no nos interesan estos átomos y queremos eliminarlos del archivo *3c5x_cyx_clean.pdb* y guardar el nuevo archivo como *3c5x_cyx_no_HETATM.pdb*. (**Pista: se puede realizar con grep y sed**)."
   ]
  },
  {
   "cell_type": "code",
   "execution_count": null,
   "metadata": {
    "scrolled": true
   },
   "outputs": [],
   "source": [
    "# Primero buscamos las líneas que poseen el código HETATM \n",
    "grep -n \"HETATM\" archivos_deber/3c5x_cyx_clean.pdb"
   ]
  },
  {
   "cell_type": "code",
   "execution_count": 43,
   "metadata": {},
   "outputs": [],
   "source": [
    "# Ahora eliminamos estas líneas\n",
    "sed '3693,3776d' archivos_deber/3c5x_cyx_clean.pdb > archivos_deber/3c5x_cyx_no_HETATM.pdb"
   ]
  },
  {
   "cell_type": "markdown",
   "metadata": {},
   "source": [
    "1.5. Otros datos que se muestran en los archivos PDB  son los puentes disulfuro entre átomos S de los aminoácidos de cisteína, que se identifican con el código *CONECT*. Supongamos que también queremos eliminar esta información del archivo *3c5x_cyx_no_HETATM.pdb* y guardar el nuevo archivo como *3c5x_cyx_no_HETATM_CONN.pdb*. (**Pista: se puede realizar con grep y sed, es similar al anterior ejercicio**)."
   ]
  },
  {
   "cell_type": "code",
   "execution_count": null,
   "metadata": {},
   "outputs": [],
   "source": [
    "# Primero buscamos las líneas que poseen el código CONECT \n",
    "grep -n \"CONECT\" archivos_deber/3c5x_cyx_no_HETATM.pdb"
   ]
  },
  {
   "cell_type": "code",
   "execution_count": 45,
   "metadata": {},
   "outputs": [],
   "source": [
    "# Ahora eliminamos estas líneas\n",
    "sed '3693,3710d' archivos_deber/3c5x_cyx_no_HETATM.pdb > archivos_deber/3c5x_cyx_no_HETATM_CONN.pdb"
   ]
  },
  {
   "cell_type": "markdown",
   "metadata": {},
   "source": [
    "1.6. Los archivos PDB suelen tener más de una cadena en su estructura proteica. Para establecer el fin de una cadena y el inicio de otra, en estos archivos se usa el código *TER*. Buscar el número de línea en el que finaliza la cadena A y empieza la cadena C del  del archivo *3c5x_cyx_no_HETATM_CONN.pdb* (**Pista: se puede realizar con grep**)"
   ]
  },
  {
   "cell_type": "code",
   "execution_count": 48,
   "metadata": {},
   "outputs": [
    {
     "name": "stdout",
     "output_type": "stream",
     "text": [
      "\u001b[32m\u001b[K3\u001b[m\u001b[K\u001b[36m\u001b[K:\u001b[m\u001b[KTITLE    2 HE\u001b[01;31m\u001b[KTER\u001b[m\u001b[KODIMER FROM THE DENGUE 2 VIRUS AT LOW PH                        \n",
      "\u001b[32m\u001b[K3051\u001b[m\u001b[K\u001b[36m\u001b[K:\u001b[m\u001b[K\u001b[01;31m\u001b[KTER\u001b[m\u001b[K    3048      LYS A 394\n",
      "\u001b[32m\u001b[K3692\u001b[m\u001b[K\u001b[36m\u001b[K:\u001b[m\u001b[K\u001b[01;31m\u001b[KTER\u001b[m\u001b[K    3689      THR C  81\n"
     ]
    }
   ],
   "source": [
    "# Opción 1\n",
    "grep -n \"TER\" archivos_deber/3c5x_cyx_no_HETATM_CONN.pdb"
   ]
  },
  {
   "cell_type": "code",
   "execution_count": 49,
   "metadata": {},
   "outputs": [
    {
     "name": "stdout",
     "output_type": "stream",
     "text": [
      "\u001b[32m\u001b[K3\u001b[m\u001b[K\u001b[36m\u001b[K:\u001b[m\u001b[KTITLE    2 HE\u001b[01;31m\u001b[KTER\u001b[m\u001b[KODIMER FROM THE DENGUE 2 VIRUS AT LOW PH                        \n",
      "\u001b[32m\u001b[K3051\u001b[m\u001b[K\u001b[36m\u001b[K:\u001b[m\u001b[K\u001b[01;31m\u001b[KTER\u001b[m\u001b[K    3048      LYS A 394\n",
      "\u001b[32m\u001b[K3692\u001b[m\u001b[K\u001b[36m\u001b[K:\u001b[m\u001b[K\u001b[01;31m\u001b[KTER\u001b[m\u001b[K    3689      THR C  81\n"
     ]
    }
   ],
   "source": [
    "# Opción 2\n",
    "grep --line-number \"TER\" archivos_deber/3c5x_cyx_no_HETATM_CONN.pdb"
   ]
  },
  {
   "cell_type": "markdown",
   "metadata": {},
   "source": [
    "1.7. Ahora que conocemos el número de línea en la que termina la cadena A y empieza la cadena C del archivo *3c5x_cyx_no_HETATM_CONN.pdb*, queremos separar las dos cadenas en dos archivos diferentes (*3c5x_cadA.pdb* y *3c5x_cadB.pdb*) (**Pista: se puede realizar con sed o split**)."
   ]
  },
  {
   "cell_type": "code",
   "execution_count": 39,
   "metadata": {},
   "outputs": [],
   "source": [
    "# Opción 1 sed\n",
    "# Cadena A\n",
    "sed -n '1,3051p' archivos_deber/3c5x_cyx_clean.pdb > archivos_deber/3c5x_cadA.pdb\n",
    "# Cadena B \n",
    "sed -n '3052,3692p' archivos_deber/3c5x_cyx_clean.pdb > archivos_deber/3c5x_cadB.pdb"
   ]
  },
  {
   "cell_type": "code",
   "execution_count": 41,
   "metadata": {},
   "outputs": [],
   "source": [
    "# Opción 2 sed\n",
    "# Cadena A\n",
    "sed '3052,3692d' archivos_deber/3c5x_cyx_clean.pdb > archivos_deber/3c5x_cadA.pdb\n",
    "# Cadena B \n",
    "sed '1,3051d' archivos_deber/3c5x_cyx_clean.pdb > archivos_deber/3c5x_cadB.pdb"
   ]
  },
  {
   "cell_type": "code",
   "execution_count": null,
   "metadata": {},
   "outputs": [],
   "source": [
    "# Opción 3 split\n",
    "split -l 3051 archivos_deber/3c5x_cyx_clean.pdb"
   ]
  },
  {
   "cell_type": "markdown",
   "metadata": {},
   "source": [
    "### **2. En este ejercicio se obtendrá información de un archivo fasta, que contiene la secuencia de nucleótidos de un gen de un microorganismo.  Para esto usaremos el archivo *secuencia1.fasta* que se encuentra en la carpeta *archivos_deber***"
   ]
  },
  {
   "cell_type": "markdown",
   "metadata": {},
   "source": [
    "2.1. En las secuencias de ADN se encuentran varios motivos (secuencias pequeñas muy conservadas) como los que dan inicio y término a los procesos de replicación, transcripción y traducción. La señal para el inicio de la transcripción es dada por la presencia de la TATA box (*TATAAA* o *TATAAT*) y la señal para el término de la transcripción es la presencia de varias Adeninas (5 o más), con lo que se obtiene un transcrito (ARN mensajero). Determinar el número de señales de inicio y de terminación del archivo *secuencia1.fasta* y establecer si hay igual número de señales de inicio y terminación (**Pista: se puede realizar con egrep o egrep y wc**)."
   ]
  },
  {
   "cell_type": "code",
   "execution_count": 53,
   "metadata": {},
   "outputs": [
    {
     "name": "stdout",
     "output_type": "stream",
     "text": [
      "6\n",
      "1\n",
      "13\n"
     ]
    }
   ],
   "source": [
    "# Opción 1\n",
    "# Señales de inicio \n",
    "egrep -c \"TATAAA\" archivos_deber/secuencia1.fasta\n",
    "egrep -c \"TATAAT\" archivos_deber/secuencia1.fasta\n",
    "# Señales de terminación \n",
    "egrep -c \"A{5,}\" archivos_deber/secuencia1.fasta"
   ]
  },
  {
   "cell_type": "code",
   "execution_count": 56,
   "metadata": {},
   "outputs": [
    {
     "name": "stdout",
     "output_type": "stream",
     "text": [
      "  7   7 497 archivos_deber/secuencia1_in.fasta\n",
      " 13  13 923 archivos_deber/secuencia1_ter.fasta\n"
     ]
    }
   ],
   "source": [
    "# Opción 2\n",
    "# Señales de inicio \n",
    "grep \"TATAAA\" archivos_deber/secuencia1.fasta > archivos_deber/secuencia1_in.fasta\n",
    "grep \"TATAAT\" archivos_deber/secuencia1.fasta >> archivos_deber/secuencia1_in.fasta\n",
    "wc archivos_deber/secuencia1_in.fasta\n",
    "# Señales de terminación \n",
    "egrep \"A{5,}\" archivos_deber/secuencia1.fasta > archivos_deber/secuencia1_ter.fasta\n",
    "wc archivos_deber/secuencia1_ter.fasta"
   ]
  },
  {
   "cell_type": "markdown",
   "metadata": {},
   "source": [
    "2.2. Otros motivos importantes son los de unión para factores de transcripción (FT). Se conoce que un FT se puede unir específicamente al motivo *ATXXTC*, en donde la X puede corresponder a cualquier nucleótido. Determine si la secuencia del archivo *secuencia1.fasta* posee motivos de unión a FTs, y en caso de tenerlos cuántos de estps motivos posee (**Pista: se puede realizar con egrep o egrep y wc**)."
   ]
  },
  {
   "cell_type": "code",
   "execution_count": 57,
   "metadata": {},
   "outputs": [
    {
     "name": "stdout",
     "output_type": "stream",
     "text": [
      "5\n"
     ]
    }
   ],
   "source": [
    "# Opción 1\n",
    "egrep -c \"AT..TC\" archivos_deber/secuencia1.fasta"
   ]
  },
  {
   "cell_type": "code",
   "execution_count": 58,
   "metadata": {},
   "outputs": [
    {
     "name": "stdout",
     "output_type": "stream",
     "text": [
      "  5   5 355 archivos_deber/secuencia1_FT.fasta\n"
     ]
    }
   ],
   "source": [
    "# Opción 2\n",
    "egrep \"AT..TC\" archivos_deber/secuencia1.fasta > archivos_deber/secuencia1_FT.fasta\n",
    "wc archivos_deber/secuencia1_FT.fasta"
   ]
  },
  {
   "cell_type": "markdown",
   "metadata": {},
   "source": [
    "2.3. Crear una expresión regular para determinar la o las sub-secuencias del archivo *secuencia1.fasta* que empieza con *TACA* y terminen con *AAAAAT* (**Pista: se puede realizar con egrep**)."
   ]
  },
  {
   "cell_type": "code",
   "execution_count": 87,
   "metadata": {},
   "outputs": [
    {
     "name": "stdout",
     "output_type": "stream",
     "text": [
      "AAATATTTT\u001b[01;31m\u001b[KTACACTAATTTTTACATATTTACCACCAAATAAAAAT\u001b[m\u001b[KATAGGAAAATTTCTTGATATGATG\n",
      "GTAATTGATGAGGGAAAAACCAAAAATCAACA\u001b[01;31m\u001b[KTACAAGAATTCTAGATTATTTTAAAAAT\u001b[m\u001b[KATGCTTGAAG\n",
      "TGAAACTTGTTTAAAACTTCAAAATATCGATAT\u001b[01;31m\u001b[KTACACCAAAATATAAAAAAT\u001b[m\u001b[KTAATACACGAAGCATTA\n",
      "ATTT\u001b[01;31m\u001b[KTACAAGAAAGTTGTCCAACAAAAAT\u001b[m\u001b[KATTTTTACCAAATGTTGAAGCCTGGAATAAAGGAAGCGATA\n",
      "\u001b[01;31m\u001b[KTACATAAAGAAAAAT\u001b[m\u001b[KGGGCATATAAATGGCTTGAAGAAAAAGGTATTGATTATTCAAATTTTATAGGAGA\n"
     ]
    }
   ],
   "source": [
    "egrep \"TACA.+AAAAAT\" archivos_deber/secuencia1.fasta"
   ]
  },
  {
   "cell_type": "markdown",
   "metadata": {},
   "source": [
    "2.4. Crear una expresión regular para determinar si la secuencia del archivo *secuencia1.fasta* termina con *TATACAATGA* (**Pista: se puede realizar con egrep**)."
   ]
  },
  {
   "cell_type": "code",
   "execution_count": 90,
   "metadata": {},
   "outputs": [
    {
     "name": "stdout",
     "output_type": "stream",
     "text": [
      "\u001b[01;31m\u001b[KTATACAATGA\u001b[m\u001b[K\n"
     ]
    }
   ],
   "source": [
    "egrep \"TATACAATGA$\" archivos_deber/secuencia1.fasta"
   ]
  },
  {
   "cell_type": "markdown",
   "metadata": {},
   "source": [
    "### **3. En este ejercicio se obtendrá información de un archivo multifasta, compuestos por varias secuencias de nucleótidos, en el que cada secuencia es un genoma completo de diferentes cepas o muestras de *Sulcia muelleri* (un endosimbionte de insectos). Para esto usaremos el archivo *sul_genomas.fasta* que se encuentra en la carpeta *archivos_deber***"
   ]
  },
  {
   "cell_type": "markdown",
   "metadata": {},
   "source": [
    "3.1. Se debe considerar que en un archivo multifasta cada secuencia posee un header que empieza con el caracter *>*. Determinar cuántos genomas en total se encuentran en el archivo *sul_genomas.fasta* (**Pista: se puede realizar con grep y wc**)."
   ]
  },
  {
   "cell_type": "code",
   "execution_count": 4,
   "metadata": {},
   "outputs": [
    {
     "name": "stdout",
     "output_type": "stream",
     "text": [
      "36\n"
     ]
    }
   ],
   "source": [
    "# Opción 1\n",
    "egrep -c \">\" archivos_deber/sul_genomas.fasta"
   ]
  },
  {
   "cell_type": "code",
   "execution_count": 5,
   "metadata": {},
   "outputs": [
    {
     "name": "stdout",
     "output_type": "stream",
     "text": [
      "  36  308 2809 archivos_deber/sul_genomas_head.fasta\n"
     ]
    }
   ],
   "source": [
    "# Opción 2\n",
    "grep \">\" archivos_deber/sul_genomas.fasta > archivos_deber/sul_genomas_head.fasta\n",
    "wc archivos_deber/sul_genomas_head.fasta"
   ]
  },
  {
   "cell_type": "markdown",
   "metadata": {},
   "source": [
    "3.2. Se desea crear una expresión regular que permita identificar los códigos de todas las secuencias, que se encuentran en los headers junto al caracter >, del archivo *sul_genomas.fasta* (**Pista: se puede realizar con egrep**)."
   ]
  },
  {
   "cell_type": "code",
   "execution_count": null,
   "metadata": {},
   "outputs": [],
   "source": [
    "egrep \"^>.+\\.[1-9]\" archivos_deber/sul_genomas.fasta "
   ]
  },
  {
   "cell_type": "markdown",
   "metadata": {},
   "source": [
    "3.3. Se desea extraer los códigos de todas las secuencias del archivo *sul_genomas.fasta* y colocar esta información en un nuevo archivo llamado *sul_genomas_codigos.txt* (**Pista: se puede realizar con grep y cut**)."
   ]
  },
  {
   "cell_type": "code",
   "execution_count": 17,
   "metadata": {},
   "outputs": [],
   "source": [
    "grep \">\" archivos_deber/sul_genomas.fasta > archivos_deber/sul_genomas_head.fasta"
   ]
  },
  {
   "cell_type": "code",
   "execution_count": 20,
   "metadata": {},
   "outputs": [],
   "source": [
    "cut -f1 -d ' ' archivos_deber/sul_genomas_head.fasta > archivos_deber/sul_genomas_codigos.txt"
   ]
  },
  {
   "cell_type": "markdown",
   "metadata": {},
   "source": [
    "3.4. Se desea crear una expresión regular que permita identificar el nombre de la cepa o el nombre de la muestra de todas las secuencias del archivo *sul_genomas.fasta*. Un ejemplo del nombre de la cepa es *Sulcia-ALF* y de la muestra *SMAURBIH* (**Pista: se puede realizar con egrep**)."
   ]
  },
  {
   "cell_type": "code",
   "execution_count": null,
   "metadata": {},
   "outputs": [],
   "source": [
    "egrep \"i .+,\" archivos_deber/sul_genomas.fasta "
   ]
  },
  {
   "cell_type": "markdown",
   "metadata": {},
   "source": [
    "3.5 Se desea buscar la secuencia *TTTATTCCTAAAATAAAAGAAGATGAA* en el genoma de *Candidatus Sulcia muelleri CARI* del archivo *sul_genomas.fasta*."
   ]
  },
  {
   "cell_type": "code",
   "execution_count": null,
   "metadata": {},
   "outputs": [],
   "source": [
    "grep -n \">\" archivos_deber/sul_genomas.fasta"
   ]
  },
  {
   "cell_type": "code",
   "execution_count": 32,
   "metadata": {},
   "outputs": [],
   "source": [
    "sed -n '5446,8903p' archivos_deber/sul_genomas.fasta > archivos_deber/sul_CARI.fasta"
   ]
  },
  {
   "cell_type": "code",
   "execution_count": 33,
   "metadata": {},
   "outputs": [
    {
     "name": "stdout",
     "output_type": "stream",
     "text": [
      "\u001b[32m\u001b[K15\u001b[m\u001b[K\u001b[36m\u001b[K:\u001b[m\u001b[KATTGTAAAAAATTAAATACTTATGAAGTTGAA\u001b[01;31m\u001b[KTTTATTCCTAAAATAAAAGAAGATGAA\u001b[m\u001b[KTTTAAATATACTATTAATATG\n"
     ]
    }
   ],
   "source": [
    "grep -n \"TTTATTCCTAAAATAAAAGAAGATGAA\" archivos_deber/sul_CARI.fasta"
   ]
  },
  {
   "cell_type": "markdown",
   "metadata": {},
   "source": []
  },
  {
   "cell_type": "code",
   "execution_count": null,
   "metadata": {},
   "outputs": [],
   "source": []
  },
  {
   "cell_type": "code",
   "execution_count": null,
   "metadata": {},
   "outputs": [],
   "source": []
  },
  {
   "cell_type": "code",
   "execution_count": null,
   "metadata": {},
   "outputs": [],
   "source": []
  }
 ],
 "metadata": {
  "kernelspec": {
   "display_name": "Bash",
   "language": "bash",
   "name": "bash"
  },
  "language_info": {
   "codemirror_mode": "shell",
   "file_extension": ".sh",
   "mimetype": "text/x-sh",
   "name": "bash"
  }
 },
 "nbformat": 4,
 "nbformat_minor": 4
}
