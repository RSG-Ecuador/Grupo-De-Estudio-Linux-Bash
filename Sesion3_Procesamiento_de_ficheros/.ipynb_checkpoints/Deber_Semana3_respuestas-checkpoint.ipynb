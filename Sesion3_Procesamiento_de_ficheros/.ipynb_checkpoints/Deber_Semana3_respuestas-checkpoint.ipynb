{
 "cells": [
  {
   "cell_type": "markdown",
   "metadata": {},
   "source": [
    "# **Deber Semana 3 Grupo de estudio GNU/Linux y Bash**\n",
    "A continuación se presentan algunos ejercicios sobre manejo de archivos y expresones reglares aplicados a Bioinformática:"
   ]
  },
  {
   "cell_type": "markdown",
   "metadata": {},
   "source": [
    "### **1. Vamos a realizar una simulación de dinámica molecular de la proteína prM del virus del Dengue (PDB ID: 3c5x) para replicar las condiciones biológicas en las que esta proteína se encuentra y obtener una estructura estable. Para esto usaremos el archivo *3c5x.pdb* que se encuentra en la carpeta *archivos_deber.***"
   ]
  },
  {
   "cell_type": "markdown",
   "metadata": {},
   "source": [
    "#### 1.1. Los archivos del Protein Data Bank (PDB) tienen una nomenclatura por defecto para los aminoácidos. En esta nomenclatura, la cysteína se nombra como *CYS*. Sin embargo, en algunos programas de simulación como *Amber* la nomenclatura de los aminoácidos es diferente. Para que el programa pueda reconocer los aminoácidos de cisteína, estos se deben nombrar como *CYX* en lugar de *CYS*. Usando los conocimientos adquiridos en la clase, transformar el nombre de todos los aminoácidos de cisteína del archivo *3c5x.pdb* de *CYS* a *CYX* y guardar el nuevo archivo como *3c5x_cyx.pdb* (**Pista: se puede realizar con sed**)."
   ]
  },
  {
   "cell_type": "code",
   "execution_count": 29,
   "metadata": {},
   "outputs": [],
   "source": [
    "sed 's/CYS/CYX/' archivos_deber/3c5x.pdb > archivos_deber/3c5x_cyx.pdb"
   ]
  },
  {
   "cell_type": "markdown",
   "metadata": {},
   "source": [
    "#### 1.2. Las primeras 579 líneas del archivo *3c5x.pdb* son informativas y no son parte de la secuencia que necesita el programa para realizar la simulación. Por tanto, queremos reemplazar el nombre *CYX* por *CYS* de las primeras 579 líneas del archivo *3c5x_cyx.pdb* creado previamente, y guardar el nuevo archivo como *3c5x_cyx_cys.pdb*. (**Pista: se puede realizar con sed**)."
   ]
  },
  {
   "cell_type": "code",
   "execution_count": 30,
   "metadata": {},
   "outputs": [],
   "source": [
    "sed ' 1,579 s/CYX/CYS/' archivos_deber/3c5x_cyx.pdb > archivos_deber/3c5x_cyx_cys.pdb"
   ]
  },
  {
   "cell_type": "markdown",
   "metadata": {},
   "source": [
    "#### 1.3. Las primeras 579 líneas son solamente informativas y no influyen en la simulación de la proteína. Por tanto, queremos eliminar las líneas 4-579 del archivo *3c5x_cyx_cys.pdb* y guardar el nuevo archivo como *3c5x_cyx_clean.pdb*. (**Pista: se puede realizar con sed**)."
   ]
  },
  {
   "cell_type": "code",
   "execution_count": 33,
   "metadata": {},
   "outputs": [],
   "source": [
    "sed '4, 579d' archivos_deber/3c5x_cyx_cys.pdb  > archivos_deber/3c5x_cyx_clean.pdb"
   ]
  },
  {
   "cell_type": "markdown",
   "metadata": {},
   "source": [
    "#### 1.4. Además de la información de los aminoácidos de las proteínas, los archivos PDB suelen tener información sobre átomos especiales como metales o puentes de hidrógeno, que se identifican con el código *HETATM*. Supongamos que en nuestra simulación no nos interesan estos átomos y queremos eliminarlos del archivo *3c5x_cyx_clean.pdb* y guardar el nuevo archivo como *3c5x_cyx_no_HETATM.pdb*. (**Pista: se puede realizar con grep y sed**)."
   ]
  },
  {
   "cell_type": "code",
   "execution_count": 42,
   "metadata": {},
   "outputs": [
    {
     "name": "stdout",
     "output_type": "stream",
     "text": [
      "\u001b[32m\u001b[K3693\u001b[m\u001b[K\u001b[36m\u001b[K:\u001b[m\u001b[K\u001b[01;31m\u001b[KHETATM\u001b[m\u001b[K 3690  O   HOH A1400       8.865  -1.525  32.961  1.00 35.60           O\n",
      "\u001b[32m\u001b[K3694\u001b[m\u001b[K\u001b[36m\u001b[K:\u001b[m\u001b[K\u001b[01;31m\u001b[KHETATM\u001b[m\u001b[K 3691  O   HOH A1401       3.595 -21.287 -60.740  1.00 40.22           O\n",
      "\u001b[32m\u001b[K3695\u001b[m\u001b[K\u001b[36m\u001b[K:\u001b[m\u001b[K\u001b[01;31m\u001b[KHETATM\u001b[m\u001b[K 3692  O   HOH A1402      -4.072 -24.023 -60.277  1.00 40.83           O\n",
      "\u001b[32m\u001b[K3696\u001b[m\u001b[K\u001b[36m\u001b[K:\u001b[m\u001b[K\u001b[01;31m\u001b[KHETATM\u001b[m\u001b[K 3693  O   HOH A1403      24.112 -26.960 -40.853  1.00 43.53           O\n",
      "\u001b[32m\u001b[K3697\u001b[m\u001b[K\u001b[36m\u001b[K:\u001b[m\u001b[K\u001b[01;31m\u001b[KHETATM\u001b[m\u001b[K 3694  O   HOH A1404      12.922  -7.414  32.767  1.00 38.56           O\n",
      "\u001b[32m\u001b[K3698\u001b[m\u001b[K\u001b[36m\u001b[K:\u001b[m\u001b[K\u001b[01;31m\u001b[KHETATM\u001b[m\u001b[K 3695  O   HOH A1405       8.534 -23.471 -33.892  1.00 41.43           O\n",
      "\u001b[32m\u001b[K3699\u001b[m\u001b[K\u001b[36m\u001b[K:\u001b[m\u001b[K\u001b[01;31m\u001b[KHETATM\u001b[m\u001b[K 3696  O   HOH A1406       5.302 -30.551 -35.099  1.00 41.64           O\n",
      "\u001b[32m\u001b[K3700\u001b[m\u001b[K\u001b[36m\u001b[K:\u001b[m\u001b[K\u001b[01;31m\u001b[KHETATM\u001b[m\u001b[K 3697  O   HOH A1407      16.058  -2.717  23.632  1.00 42.82           O\n",
      "\u001b[32m\u001b[K3701\u001b[m\u001b[K\u001b[36m\u001b[K:\u001b[m\u001b[K\u001b[01;31m\u001b[KHETATM\u001b[m\u001b[K 3698  O   HOH A1408      10.734 -27.713 -22.543  1.00 46.00           O\n",
      "\u001b[32m\u001b[K3702\u001b[m\u001b[K\u001b[36m\u001b[K:\u001b[m\u001b[K\u001b[01;31m\u001b[KHETATM\u001b[m\u001b[K 3699  O   HOH A1409      23.083  -0.714  32.801  1.00 47.32           O\n",
      "\u001b[32m\u001b[K3703\u001b[m\u001b[K\u001b[36m\u001b[K:\u001b[m\u001b[K\u001b[01;31m\u001b[KHETATM\u001b[m\u001b[K 3700  O   HOH A1410      15.430  -7.386  34.003  1.00 40.79           O\n",
      "\u001b[32m\u001b[K3704\u001b[m\u001b[K\u001b[36m\u001b[K:\u001b[m\u001b[K\u001b[01;31m\u001b[KHETATM\u001b[m\u001b[K 3701  O   HOH A1411      13.395 -21.891 -40.807  1.00 41.92           O\n",
      "\u001b[32m\u001b[K3705\u001b[m\u001b[K\u001b[36m\u001b[K:\u001b[m\u001b[K\u001b[01;31m\u001b[KHETATM\u001b[m\u001b[K 3702  O   HOH A1412       1.613 -30.110 -38.095  1.00 45.81           O\n",
      "\u001b[32m\u001b[K3706\u001b[m\u001b[K\u001b[36m\u001b[K:\u001b[m\u001b[K\u001b[01;31m\u001b[KHETATM\u001b[m\u001b[K 3703  O   HOH A1413      -3.418 -21.516 -43.542  1.00 43.88           O\n",
      "\u001b[32m\u001b[K3707\u001b[m\u001b[K\u001b[36m\u001b[K:\u001b[m\u001b[K\u001b[01;31m\u001b[KHETATM\u001b[m\u001b[K 3704  O   HOH A1414      12.549   5.682  39.740  1.00 48.20           O\n",
      "\u001b[32m\u001b[K3708\u001b[m\u001b[K\u001b[36m\u001b[K:\u001b[m\u001b[K\u001b[01;31m\u001b[KHETATM\u001b[m\u001b[K 3705  O   HOH A1415       4.814 -22.833 -30.608  1.00 46.27           O\n",
      "\u001b[32m\u001b[K3709\u001b[m\u001b[K\u001b[36m\u001b[K:\u001b[m\u001b[K\u001b[01;31m\u001b[KHETATM\u001b[m\u001b[K 3706  O   HOH A1416      -8.439 -25.569 -64.602  1.00 44.38           O\n",
      "\u001b[32m\u001b[K3710\u001b[m\u001b[K\u001b[36m\u001b[K:\u001b[m\u001b[K\u001b[01;31m\u001b[KHETATM\u001b[m\u001b[K 3707  O   HOH A1417       7.400  -0.534  25.128  1.00 43.43           O\n",
      "\u001b[32m\u001b[K3711\u001b[m\u001b[K\u001b[36m\u001b[K:\u001b[m\u001b[K\u001b[01;31m\u001b[KHETATM\u001b[m\u001b[K 3708  O   HOH A1418      -5.669 -21.572 -54.841  1.00 46.56           O\n",
      "\u001b[32m\u001b[K3712\u001b[m\u001b[K\u001b[36m\u001b[K:\u001b[m\u001b[K\u001b[01;31m\u001b[KHETATM\u001b[m\u001b[K 3709  O   HOH A1419       7.703 -22.101 -22.750  1.00 46.71           O\n",
      "\u001b[32m\u001b[K3713\u001b[m\u001b[K\u001b[36m\u001b[K:\u001b[m\u001b[K\u001b[01;31m\u001b[KHETATM\u001b[m\u001b[K 3710  O   HOH A1420       4.754 -36.228 -46.276  1.00 45.30           O\n",
      "\u001b[32m\u001b[K3714\u001b[m\u001b[K\u001b[36m\u001b[K:\u001b[m\u001b[K\u001b[01;31m\u001b[KHETATM\u001b[m\u001b[K 3711  O   HOH A1421      19.628 -24.775 -45.116  1.00 44.29           O\n",
      "\u001b[32m\u001b[K3715\u001b[m\u001b[K\u001b[36m\u001b[K:\u001b[m\u001b[K\u001b[01;31m\u001b[KHETATM\u001b[m\u001b[K 3712  O   HOH A1422       8.470 -20.330 -38.948  1.00 45.28           O\n",
      "\u001b[32m\u001b[K3716\u001b[m\u001b[K\u001b[36m\u001b[K:\u001b[m\u001b[K\u001b[01;31m\u001b[KHETATM\u001b[m\u001b[K 3713  O   HOH A1423      20.651   8.790  42.140  1.00 44.23           O\n",
      "\u001b[32m\u001b[K3717\u001b[m\u001b[K\u001b[36m\u001b[K:\u001b[m\u001b[K\u001b[01;31m\u001b[KHETATM\u001b[m\u001b[K 3714  O   HOH A1424      18.255 -38.730 -40.949  1.00 46.09           O\n",
      "\u001b[32m\u001b[K3718\u001b[m\u001b[K\u001b[36m\u001b[K:\u001b[m\u001b[K\u001b[01;31m\u001b[KHETATM\u001b[m\u001b[K 3715  O   HOH A1425       9.413 -33.999 -48.779  1.00 44.51           O\n",
      "\u001b[32m\u001b[K3719\u001b[m\u001b[K\u001b[36m\u001b[K:\u001b[m\u001b[K\u001b[01;31m\u001b[KHETATM\u001b[m\u001b[K 3716  O   HOH A1426       9.209  -8.609  27.537  1.00 43.75           O\n",
      "\u001b[32m\u001b[K3720\u001b[m\u001b[K\u001b[36m\u001b[K:\u001b[m\u001b[K\u001b[01;31m\u001b[KHETATM\u001b[m\u001b[K 3717  O   HOH A1427      11.777 -33.485 -44.566  1.00 45.32           O\n",
      "\u001b[32m\u001b[K3721\u001b[m\u001b[K\u001b[36m\u001b[K:\u001b[m\u001b[K\u001b[01;31m\u001b[KHETATM\u001b[m\u001b[K 3718  O   HOH A1428       3.307 -11.091  15.812  1.00 46.95           O\n",
      "\u001b[32m\u001b[K3722\u001b[m\u001b[K\u001b[36m\u001b[K:\u001b[m\u001b[K\u001b[01;31m\u001b[KHETATM\u001b[m\u001b[K 3719  O   HOH A1429      19.406 -22.207 -38.514  1.00 46.76           O\n",
      "\u001b[32m\u001b[K3723\u001b[m\u001b[K\u001b[36m\u001b[K:\u001b[m\u001b[K\u001b[01;31m\u001b[KHETATM\u001b[m\u001b[K 3720  O   HOH A1430      12.887  -0.700  16.047  1.00 47.31           O\n",
      "\u001b[32m\u001b[K3724\u001b[m\u001b[K\u001b[36m\u001b[K:\u001b[m\u001b[K\u001b[01;31m\u001b[KHETATM\u001b[m\u001b[K 3721  O   HOH A1431      13.665  -2.902  14.028  1.00 45.53           O\n",
      "\u001b[32m\u001b[K3725\u001b[m\u001b[K\u001b[36m\u001b[K:\u001b[m\u001b[K\u001b[01;31m\u001b[KHETATM\u001b[m\u001b[K 3722  O   HOH A1432      -0.523 -31.517 -37.093  1.00 47.49           O\n",
      "\u001b[32m\u001b[K3726\u001b[m\u001b[K\u001b[36m\u001b[K:\u001b[m\u001b[K\u001b[01;31m\u001b[KHETATM\u001b[m\u001b[K 3723  O   HOH A1433       3.320 -28.439 -36.422  1.00 51.25           O\n",
      "\u001b[32m\u001b[K3727\u001b[m\u001b[K\u001b[36m\u001b[K:\u001b[m\u001b[K\u001b[01;31m\u001b[KHETATM\u001b[m\u001b[K 3724  O   HOH A1434       1.971 -18.717 -36.758  1.00 49.39           O\n",
      "\u001b[32m\u001b[K3728\u001b[m\u001b[K\u001b[36m\u001b[K:\u001b[m\u001b[K\u001b[01;31m\u001b[KHETATM\u001b[m\u001b[K 3725  O   HOH A1435      10.608 -25.683 -51.127  1.00 51.38           O\n",
      "\u001b[32m\u001b[K3729\u001b[m\u001b[K\u001b[36m\u001b[K:\u001b[m\u001b[K\u001b[01;31m\u001b[KHETATM\u001b[m\u001b[K 3726  O   HOH A1436       5.027 -21.007 -50.722  1.00 51.19           O\n",
      "\u001b[32m\u001b[K3730\u001b[m\u001b[K\u001b[36m\u001b[K:\u001b[m\u001b[K\u001b[01;31m\u001b[KHETATM\u001b[m\u001b[K 3727  O   HOH A1437      21.943 -25.139 -47.052  1.00 49.64           O\n",
      "\u001b[32m\u001b[K3731\u001b[m\u001b[K\u001b[36m\u001b[K:\u001b[m\u001b[K\u001b[01;31m\u001b[KHETATM\u001b[m\u001b[K 3728  O   HOH A1438      19.285 -34.762 -48.335  1.00 48.99           O\n",
      "\u001b[32m\u001b[K3732\u001b[m\u001b[K\u001b[36m\u001b[K:\u001b[m\u001b[K\u001b[01;31m\u001b[KHETATM\u001b[m\u001b[K 3729  O   HOH A1439      26.167 -30.816 -45.067  1.00 48.00           O\n",
      "\u001b[32m\u001b[K3733\u001b[m\u001b[K\u001b[36m\u001b[K:\u001b[m\u001b[K\u001b[01;31m\u001b[KHETATM\u001b[m\u001b[K 3730  O   HOH A1440      10.079 -17.496 -30.088  1.00 49.47           O\n",
      "\u001b[32m\u001b[K3734\u001b[m\u001b[K\u001b[36m\u001b[K:\u001b[m\u001b[K\u001b[01;31m\u001b[KHETATM\u001b[m\u001b[K 3731  O   HOH A1441      11.169 -32.121 -52.601  1.00 50.92           O\n",
      "\u001b[32m\u001b[K3735\u001b[m\u001b[K\u001b[36m\u001b[K:\u001b[m\u001b[K\u001b[01;31m\u001b[KHETATM\u001b[m\u001b[K 3732  O   HOH A1442      10.992 -29.394 -20.661  1.00 48.40           O\n",
      "\u001b[32m\u001b[K3736\u001b[m\u001b[K\u001b[36m\u001b[K:\u001b[m\u001b[K\u001b[01;31m\u001b[KHETATM\u001b[m\u001b[K 3733  O   HOH A1443      18.708  -9.303  16.291  1.00 48.01           O\n",
      "\u001b[32m\u001b[K3737\u001b[m\u001b[K\u001b[36m\u001b[K:\u001b[m\u001b[K\u001b[01;31m\u001b[KHETATM\u001b[m\u001b[K 3734  O   HOH A1444      18.663 -12.438  14.796  1.00 52.13           O\n",
      "\u001b[32m\u001b[K3738\u001b[m\u001b[K\u001b[36m\u001b[K:\u001b[m\u001b[K\u001b[01;31m\u001b[KHETATM\u001b[m\u001b[K 3735  O   HOH A1445      20.758 -13.438  11.930  1.00 52.15           O\n",
      "\u001b[32m\u001b[K3739\u001b[m\u001b[K\u001b[36m\u001b[K:\u001b[m\u001b[K\u001b[01;31m\u001b[KHETATM\u001b[m\u001b[K 3736  O   HOH A1446      21.050  -9.666  10.687  1.00 51.48           O\n",
      "\u001b[32m\u001b[K3740\u001b[m\u001b[K\u001b[36m\u001b[K:\u001b[m\u001b[K\u001b[01;31m\u001b[KHETATM\u001b[m\u001b[K 3737  O   HOH A1447       4.823 -15.871  -1.586  1.00 52.90           O\n",
      "\u001b[32m\u001b[K3741\u001b[m\u001b[K\u001b[36m\u001b[K:\u001b[m\u001b[K\u001b[01;31m\u001b[KHETATM\u001b[m\u001b[K 3738  O   HOH A1448      17.645 -24.626 -14.587  1.00 51.73           O\n",
      "\u001b[32m\u001b[K3742\u001b[m\u001b[K\u001b[36m\u001b[K:\u001b[m\u001b[K\u001b[01;31m\u001b[KHETATM\u001b[m\u001b[K 3739  O   HOH A1449      19.264 -22.889 -14.967  1.00 51.54           O\n",
      "\u001b[32m\u001b[K3743\u001b[m\u001b[K\u001b[36m\u001b[K:\u001b[m\u001b[K\u001b[01;31m\u001b[KHETATM\u001b[m\u001b[K 3740  O   HOH A1450      16.670 -25.683 -17.119  1.00 53.49           O\n",
      "\u001b[32m\u001b[K3744\u001b[m\u001b[K\u001b[36m\u001b[K:\u001b[m\u001b[K\u001b[01;31m\u001b[KHETATM\u001b[m\u001b[K 3741  O   HOH A1451       2.238 -40.872 -40.404  1.00 48.69           O\n",
      "\u001b[32m\u001b[K3745\u001b[m\u001b[K\u001b[36m\u001b[K:\u001b[m\u001b[K\u001b[01;31m\u001b[KHETATM\u001b[m\u001b[K 3742  O   HOH A1452       5.651 -39.793 -34.880  1.00 51.68           O\n",
      "\u001b[32m\u001b[K3746\u001b[m\u001b[K\u001b[36m\u001b[K:\u001b[m\u001b[K\u001b[01;31m\u001b[KHETATM\u001b[m\u001b[K 3743  O   HOH A1453      25.082  -9.304  -7.365  1.00 51.43           O\n",
      "\u001b[32m\u001b[K3747\u001b[m\u001b[K\u001b[36m\u001b[K:\u001b[m\u001b[K\u001b[01;31m\u001b[KHETATM\u001b[m\u001b[K 3744  O   HOH A1454      11.157 -18.390  10.340  1.00 47.81           O\n",
      "\u001b[32m\u001b[K3748\u001b[m\u001b[K\u001b[36m\u001b[K:\u001b[m\u001b[K\u001b[01;31m\u001b[KHETATM\u001b[m\u001b[K 3745  O   HOH A1455       5.273 -41.806 -46.813  1.00 46.13           O\n",
      "\u001b[32m\u001b[K3749\u001b[m\u001b[K\u001b[36m\u001b[K:\u001b[m\u001b[K\u001b[01;31m\u001b[KHETATM\u001b[m\u001b[K 3746  O   HOH A1456       1.152 -42.329 -52.715  1.00 49.09           O\n",
      "\u001b[32m\u001b[K3750\u001b[m\u001b[K\u001b[36m\u001b[K:\u001b[m\u001b[K\u001b[01;31m\u001b[KHETATM\u001b[m\u001b[K 3747  O   HOH A1457      -4.006 -48.317 -59.551  1.00 53.74           O\n",
      "\u001b[32m\u001b[K3751\u001b[m\u001b[K\u001b[36m\u001b[K:\u001b[m\u001b[K\u001b[01;31m\u001b[KHETATM\u001b[m\u001b[K 3748  O   HOH A1458       4.757 -25.973 -61.725  1.00 49.37           O\n",
      "\u001b[32m\u001b[K3752\u001b[m\u001b[K\u001b[36m\u001b[K:\u001b[m\u001b[K\u001b[01;31m\u001b[KHETATM\u001b[m\u001b[K 3749  O   HOH A1459      -7.307 -44.247 -65.642  1.00 51.66           O\n",
      "\u001b[32m\u001b[K3753\u001b[m\u001b[K\u001b[36m\u001b[K:\u001b[m\u001b[K\u001b[01;31m\u001b[KHETATM\u001b[m\u001b[K 3750  O   HOH A1460      -5.204 -40.149 -65.827  1.00 51.53           O\n",
      "\u001b[32m\u001b[K3754\u001b[m\u001b[K\u001b[36m\u001b[K:\u001b[m\u001b[K\u001b[01;31m\u001b[KHETATM\u001b[m\u001b[K 3751  O   HOH C1401       8.390  -4.816  36.327  1.00 38.99           O\n",
      "\u001b[32m\u001b[K3755\u001b[m\u001b[K\u001b[36m\u001b[K:\u001b[m\u001b[K\u001b[01;31m\u001b[KHETATM\u001b[m\u001b[K 3752  O   HOH C1402       7.721 -14.673  26.853  1.00 41.29           O\n",
      "\u001b[32m\u001b[K3756\u001b[m\u001b[K\u001b[36m\u001b[K:\u001b[m\u001b[K\u001b[01;31m\u001b[KHETATM\u001b[m\u001b[K 3753  O   HOH C1403      -1.817 -15.066  30.578  1.00 43.01           O\n",
      "\u001b[32m\u001b[K3757\u001b[m\u001b[K\u001b[36m\u001b[K:\u001b[m\u001b[K\u001b[01;31m\u001b[KHETATM\u001b[m\u001b[K 3754  O   HOH C1404       7.125  -3.443  34.426  1.00 37.10           O\n",
      "\u001b[32m\u001b[K3758\u001b[m\u001b[K\u001b[36m\u001b[K:\u001b[m\u001b[K\u001b[01;31m\u001b[KHETATM\u001b[m\u001b[K 3755  O   HOH C1405      -1.734  -7.757  42.188  1.00 46.21           O\n",
      "\u001b[32m\u001b[K3759\u001b[m\u001b[K\u001b[36m\u001b[K:\u001b[m\u001b[K\u001b[01;31m\u001b[KHETATM\u001b[m\u001b[K 3756  O   HOH C1406      -0.525  -7.226  45.723  1.00 45.00           O\n",
      "\u001b[32m\u001b[K3760\u001b[m\u001b[K\u001b[36m\u001b[K:\u001b[m\u001b[K\u001b[01;31m\u001b[KHETATM\u001b[m\u001b[K 3757  O   HOH C1407      -3.072  -8.437  37.991  1.00 43.56           O\n",
      "\u001b[32m\u001b[K3761\u001b[m\u001b[K\u001b[36m\u001b[K:\u001b[m\u001b[K\u001b[01;31m\u001b[KHETATM\u001b[m\u001b[K 3758  O   HOH C1408       0.527  -2.032  32.274  1.00 45.42           O\n",
      "\u001b[32m\u001b[K3762\u001b[m\u001b[K\u001b[36m\u001b[K:\u001b[m\u001b[K\u001b[01;31m\u001b[KHETATM\u001b[m\u001b[K 3759  O   HOH C1409      12.054   4.429  33.192  1.00 42.96           O\n",
      "\u001b[32m\u001b[K3763\u001b[m\u001b[K\u001b[36m\u001b[K:\u001b[m\u001b[K\u001b[01;31m\u001b[KHETATM\u001b[m\u001b[K 3760  O   HOH C1410      -2.450 -10.862  39.391  1.00 44.14           O\n",
      "\u001b[32m\u001b[K3764\u001b[m\u001b[K\u001b[36m\u001b[K:\u001b[m\u001b[K\u001b[01;31m\u001b[KHETATM\u001b[m\u001b[K 3761  O   HOH C1411      -5.294 -17.455  30.845  1.00 43.88           O\n",
      "\u001b[32m\u001b[K3765\u001b[m\u001b[K\u001b[36m\u001b[K:\u001b[m\u001b[K\u001b[01;31m\u001b[KHETATM\u001b[m\u001b[K 3762  O   HOH C1412       5.470 -17.186  23.499  1.00 45.37           O\n",
      "\u001b[32m\u001b[K3766\u001b[m\u001b[K\u001b[36m\u001b[K:\u001b[m\u001b[K\u001b[01;31m\u001b[KHETATM\u001b[m\u001b[K 3763  O   HOH C1413      11.476 -20.278  33.528  1.00 47.07           O\n",
      "\u001b[32m\u001b[K3767\u001b[m\u001b[K\u001b[36m\u001b[K:\u001b[m\u001b[K\u001b[01;31m\u001b[KHETATM\u001b[m\u001b[K 3764  O   HOH C1414      15.456 -10.332  45.199  1.00 46.92           O\n",
      "\u001b[32m\u001b[K3768\u001b[m\u001b[K\u001b[36m\u001b[K:\u001b[m\u001b[K\u001b[01;31m\u001b[KHETATM\u001b[m\u001b[K 3765  O   HOH C1415       3.942  -6.495  46.021  1.00 48.00           O\n",
      "\u001b[32m\u001b[K3769\u001b[m\u001b[K\u001b[36m\u001b[K:\u001b[m\u001b[K\u001b[01;31m\u001b[KHETATM\u001b[m\u001b[K 3766  O   HOH C1416       5.102   5.078  36.596  1.00 46.92           O\n",
      "\u001b[32m\u001b[K3770\u001b[m\u001b[K\u001b[36m\u001b[K:\u001b[m\u001b[K\u001b[01;31m\u001b[KHETATM\u001b[m\u001b[K 3767  O   HOH C1417      15.071  -6.952  39.223  1.00 46.04           O\n",
      "\u001b[32m\u001b[K3771\u001b[m\u001b[K\u001b[36m\u001b[K:\u001b[m\u001b[K\u001b[01;31m\u001b[KHETATM\u001b[m\u001b[K 3768  O   HOH C1418      -0.912 -16.745  45.233  1.00 47.99           O\n",
      "\u001b[32m\u001b[K3772\u001b[m\u001b[K\u001b[36m\u001b[K:\u001b[m\u001b[K\u001b[01;31m\u001b[KHETATM\u001b[m\u001b[K 3769  O   HOH C1419      -2.980 -16.557  43.490  1.00 50.12           O\n",
      "\u001b[32m\u001b[K3773\u001b[m\u001b[K\u001b[36m\u001b[K:\u001b[m\u001b[K\u001b[01;31m\u001b[KHETATM\u001b[m\u001b[K 3770  O   HOH C1420       6.632 -13.859  56.144  1.00 49.29           O\n",
      "\u001b[32m\u001b[K3774\u001b[m\u001b[K\u001b[36m\u001b[K:\u001b[m\u001b[K\u001b[01;31m\u001b[KHETATM\u001b[m\u001b[K 3771  O   HOH C1421      -0.032   0.054  34.206  0.50 55.40           O\n",
      "\u001b[32m\u001b[K3775\u001b[m\u001b[K\u001b[36m\u001b[K:\u001b[m\u001b[K\u001b[01;31m\u001b[KHETATM\u001b[m\u001b[K 3772  O   HOH C1422       9.764   6.070  46.219  1.00 53.80           O\n",
      "\u001b[32m\u001b[K3776\u001b[m\u001b[K\u001b[36m\u001b[K:\u001b[m\u001b[K\u001b[01;31m\u001b[KHETATM\u001b[m\u001b[K 3773  O   HOH C1423       8.940   6.566  42.780  1.00 57.67           O\n"
     ]
    }
   ],
   "source": [
    "# Primero buscamos las líneas que poseen el código HETATM \n",
    "grep -n \"HETATM\" archivos_deber/3c5x_cyx_clean.pdb"
   ]
  },
  {
   "cell_type": "code",
   "execution_count": 43,
   "metadata": {},
   "outputs": [],
   "source": [
    "# Ahora eliminamos estas líneas\n",
    "sed '3693,3776d' archivos_deber/3c5x_cyx_clean.pdb > archivos_deber/3c5x_cyx_no_HETATM.pdb"
   ]
  },
  {
   "cell_type": "markdown",
   "metadata": {},
   "source": [
    "#### 1.5. Otros datos que se muestran en los archivos PDB  son los puentes disulfuro entre átomos S de los aminoácidos de cisteína, que se identifican con el código *CONECT*. Supongamos que también queremos eliminar esta información del archivo *3c5x_cyx_no_HETATM.pdb* y guardar el nuevo archivo como *3c5x_cyx_no_HETATM_CONN.pdb*. (**Pista: se puede realizar con grep y sed, es similar al anterior ejercicio**)."
   ]
  },
  {
   "cell_type": "code",
   "execution_count": 44,
   "metadata": {},
   "outputs": [
    {
     "name": "stdout",
     "output_type": "stream",
     "text": [
      "\u001b[32m\u001b[K3693\u001b[m\u001b[K\u001b[36m\u001b[K:\u001b[m\u001b[K\u001b[01;31m\u001b[KCONECT\u001b[m\u001b[K   61   60  259\n",
      "\u001b[32m\u001b[K3694\u001b[m\u001b[K\u001b[36m\u001b[K:\u001b[m\u001b[K\u001b[01;31m\u001b[KCONECT\u001b[m\u001b[K  259   61  258\n",
      "\u001b[32m\u001b[K3695\u001b[m\u001b[K\u001b[36m\u001b[K:\u001b[m\u001b[K\u001b[01;31m\u001b[KCONECT\u001b[m\u001b[K  498  497  961\n",
      "\u001b[32m\u001b[K3696\u001b[m\u001b[K\u001b[36m\u001b[K:\u001b[m\u001b[K\u001b[01;31m\u001b[KCONECT\u001b[m\u001b[K  605  604  848\n",
      "\u001b[32m\u001b[K3697\u001b[m\u001b[K\u001b[36m\u001b[K:\u001b[m\u001b[K\u001b[01;31m\u001b[KCONECT\u001b[m\u001b[K  749  748  920\n",
      "\u001b[32m\u001b[K3698\u001b[m\u001b[K\u001b[36m\u001b[K:\u001b[m\u001b[K\u001b[01;31m\u001b[KCONECT\u001b[m\u001b[K  848  605  847\n",
      "\u001b[32m\u001b[K3699\u001b[m\u001b[K\u001b[36m\u001b[K:\u001b[m\u001b[K\u001b[01;31m\u001b[KCONECT\u001b[m\u001b[K  920  749  919\n",
      "\u001b[32m\u001b[K3700\u001b[m\u001b[K\u001b[36m\u001b[K:\u001b[m\u001b[K\u001b[01;31m\u001b[KCONECT\u001b[m\u001b[K  961  498  960\n",
      "\u001b[32m\u001b[K3701\u001b[m\u001b[K\u001b[36m\u001b[K:\u001b[m\u001b[K\u001b[01;31m\u001b[KCONECT\u001b[m\u001b[K 1407 1406 2179\n",
      "\u001b[32m\u001b[K3702\u001b[m\u001b[K\u001b[36m\u001b[K:\u001b[m\u001b[K\u001b[01;31m\u001b[KCONECT\u001b[m\u001b[K 2179 1407 2178\n",
      "\u001b[32m\u001b[K3703\u001b[m\u001b[K\u001b[36m\u001b[K:\u001b[m\u001b[K\u001b[01;31m\u001b[KCONECT\u001b[m\u001b[K 2318 2317 2555\n",
      "\u001b[32m\u001b[K3704\u001b[m\u001b[K\u001b[36m\u001b[K:\u001b[m\u001b[K\u001b[01;31m\u001b[KCONECT\u001b[m\u001b[K 2555 2318 2554\n",
      "\u001b[32m\u001b[K3705\u001b[m\u001b[K\u001b[36m\u001b[K:\u001b[m\u001b[K\u001b[01;31m\u001b[KCONECT\u001b[m\u001b[K 3319 3318 3590\n",
      "\u001b[32m\u001b[K3706\u001b[m\u001b[K\u001b[36m\u001b[K:\u001b[m\u001b[K\u001b[01;31m\u001b[KCONECT\u001b[m\u001b[K 3398 3397 3681\n",
      "\u001b[32m\u001b[K3707\u001b[m\u001b[K\u001b[36m\u001b[K:\u001b[m\u001b[K\u001b[01;31m\u001b[KCONECT\u001b[m\u001b[K 3464 3463 3570\n",
      "\u001b[32m\u001b[K3708\u001b[m\u001b[K\u001b[36m\u001b[K:\u001b[m\u001b[K\u001b[01;31m\u001b[KCONECT\u001b[m\u001b[K 3570 3464 3569\n",
      "\u001b[32m\u001b[K3709\u001b[m\u001b[K\u001b[36m\u001b[K:\u001b[m\u001b[K\u001b[01;31m\u001b[KCONECT\u001b[m\u001b[K 3590 3319 3589\n",
      "\u001b[32m\u001b[K3710\u001b[m\u001b[K\u001b[36m\u001b[K:\u001b[m\u001b[K\u001b[01;31m\u001b[KCONECT\u001b[m\u001b[K 3681 3398 3680\n"
     ]
    }
   ],
   "source": [
    "# Primero buscamos las líneas que poseen el código CONECT \n",
    "grep -n \"CONECT\" archivos_deber/3c5x_cyx_no_HETATM.pdb"
   ]
  },
  {
   "cell_type": "code",
   "execution_count": 45,
   "metadata": {},
   "outputs": [],
   "source": [
    "# Ahora eliminamos estas líneas\n",
    "sed '3693,3710d' archivos_deber/3c5x_cyx_no_HETATM.pdb > archivos_deber/3c5x_cyx_no_HETATM_CONN.pdb"
   ]
  },
  {
   "cell_type": "markdown",
   "metadata": {},
   "source": [
    "#### 1.6. Los archivos PDB suelen tener más de una cadena en su estructura proteica. Para establecer el fin de una cadena y el inicio de otra, en estos archivos se usa el código *TER*. Buscar el número de línea en el que finaliza la cadena A y empieza la cadena C del  del archivo *3c5x_cyx_no_HETATM_CONN.pdb* (**Pista: se puede realizar con grep**)"
   ]
  },
  {
   "cell_type": "code",
   "execution_count": 48,
   "metadata": {},
   "outputs": [
    {
     "name": "stdout",
     "output_type": "stream",
     "text": [
      "\u001b[32m\u001b[K3\u001b[m\u001b[K\u001b[36m\u001b[K:\u001b[m\u001b[KTITLE    2 HE\u001b[01;31m\u001b[KTER\u001b[m\u001b[KODIMER FROM THE DENGUE 2 VIRUS AT LOW PH                        \n",
      "\u001b[32m\u001b[K3051\u001b[m\u001b[K\u001b[36m\u001b[K:\u001b[m\u001b[K\u001b[01;31m\u001b[KTER\u001b[m\u001b[K    3048      LYS A 394\n",
      "\u001b[32m\u001b[K3692\u001b[m\u001b[K\u001b[36m\u001b[K:\u001b[m\u001b[K\u001b[01;31m\u001b[KTER\u001b[m\u001b[K    3689      THR C  81\n"
     ]
    }
   ],
   "source": [
    "# Opción 1\n",
    "grep -n \"TER\" archivos_deber/3c5x_cyx_no_HETATM_CONN.pdb"
   ]
  },
  {
   "cell_type": "code",
   "execution_count": 49,
   "metadata": {},
   "outputs": [
    {
     "name": "stdout",
     "output_type": "stream",
     "text": [
      "\u001b[32m\u001b[K3\u001b[m\u001b[K\u001b[36m\u001b[K:\u001b[m\u001b[KTITLE    2 HE\u001b[01;31m\u001b[KTER\u001b[m\u001b[KODIMER FROM THE DENGUE 2 VIRUS AT LOW PH                        \n",
      "\u001b[32m\u001b[K3051\u001b[m\u001b[K\u001b[36m\u001b[K:\u001b[m\u001b[K\u001b[01;31m\u001b[KTER\u001b[m\u001b[K    3048      LYS A 394\n",
      "\u001b[32m\u001b[K3692\u001b[m\u001b[K\u001b[36m\u001b[K:\u001b[m\u001b[K\u001b[01;31m\u001b[KTER\u001b[m\u001b[K    3689      THR C  81\n"
     ]
    }
   ],
   "source": [
    "# Opción 2\n",
    "grep --line-number \"TER\" archivos_deber/3c5x_cyx_no_HETATM_CONN.pdb"
   ]
  },
  {
   "cell_type": "markdown",
   "metadata": {},
   "source": [
    "#### 1.7. Ahora que conocemos el número de línea en la que termina la cadena A y empieza la cadena C del archivo *3c5x_cyx_no_HETATM_CONN.pdb*, queremos separar las dos cadenas en dos archivos diferentes (*3c5x_cadA.pdb* y *3c5x_cadB.pdb*) (**Pista: se puede realizar con sed o split**)."
   ]
  },
  {
   "cell_type": "code",
   "execution_count": 39,
   "metadata": {},
   "outputs": [],
   "source": [
    "# Opción 1 sed\n",
    "# Cadena A\n",
    "sed -n '1,3051p' archivos_deber/3c5x_cyx_clean.pdb > archivos_deber/3c5x_cadA.pdb\n",
    "# Cadena B \n",
    "sed -n '3052,3692p' archivos_deber/3c5x_cyx_clean.pdb > archivos_deber/3c5x_cadB.pdb"
   ]
  },
  {
   "cell_type": "code",
   "execution_count": 41,
   "metadata": {},
   "outputs": [],
   "source": [
    "# Opción 2 sed\n",
    "# Cadena A\n",
    "sed '3052,3692d' archivos_deber/3c5x_cyx_clean.pdb > archivos_deber/3c5x_cadA.pdb\n",
    "# Cadena B \n",
    "sed '1,3051d' archivos_deber/3c5x_cyx_clean.pdb > archivos_deber/3c5x_cadB.pdb"
   ]
  },
  {
   "cell_type": "code",
   "execution_count": null,
   "metadata": {},
   "outputs": [],
   "source": [
    "# Opción 3 split\n",
    "split -l 3051 archivos_deber/3c5x_cyx_clean.pdb"
   ]
  }
 ],
 "metadata": {
  "kernelspec": {
   "display_name": "Bash",
   "language": "bash",
   "name": "bash"
  },
  "language_info": {
   "codemirror_mode": "shell",
   "file_extension": ".sh",
   "mimetype": "text/x-sh",
   "name": "bash"
  }
 },
 "nbformat": 4,
 "nbformat_minor": 4
}
