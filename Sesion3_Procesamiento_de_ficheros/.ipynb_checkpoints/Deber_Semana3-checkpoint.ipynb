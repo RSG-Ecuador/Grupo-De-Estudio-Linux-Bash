{
 "cells": [
  {
   "cell_type": "markdown",
   "metadata": {},
   "source": [
    "# **Deber Semana 3 Grupo de estudio GNU/Linux y Bash**\n",
    "A continuación se presentan algunos ejercicios sobre manejo de archivos y expresones reglares aplicados a Bioinformática:"
   ]
  },
  {
   "cell_type": "markdown",
   "metadata": {},
   "source": [
    "### **1. Vamos a realizar una simulación de dinámica molecular de la proteína prM del virus del Dengue (PDB ID: 3c5x) para replicar las condiciones biológicas en las que esta proteína se encuentra y obtener una estructura estable. Para esto usaremos el archivo *3c5x.pdb* que se encuentra en la carpeta *archivos_deber.***"
   ]
  },
  {
   "cell_type": "markdown",
   "metadata": {},
   "source": [
    "1.1. Los archivos del Protein Data Bank (PDB) tienen una nomenclatura por defecto para los aminoácidos. En esta nomenclatura, la cysteína se nombra como *CYS*. Sin embargo, en algunos programas de simulación como *Amber* la nomenclatura de los aminoácidos es diferente. Para que el programa pueda reconocer los aminoácidos de cisteína, estos se deben nombrar como *CYX* en lugar de *CYS*. Usando los conocimientos adquiridos en la clase, transformar el nombre de todos los aminoácidos de cisteína del archivo *3c5x.pdb* de *CYS* a *CYX* y guardar el nuevo archivo como *3c5x_cyx.pdb* (**Pista: se puede realizar con sed**)."
   ]
  },
  {
   "cell_type": "code",
   "execution_count": 29,
   "metadata": {},
   "outputs": [],
   "source": []
  },
  {
   "cell_type": "markdown",
   "metadata": {},
   "source": [
    "1.2. Las primeras 579 líneas del archivo *3c5x.pdb* son informativas y no son parte de la secuencia que necesita el programa para realizar la simulación. Por tanto, queremos reemplazar el nombre *CYX* por *CYS* de las primeras 579 líneas del archivo *3c5x_cyx.pdb* creado previamente, y guardar el nuevo archivo como *3c5x_cyx_cys.pdb*. (**Pista: se puede realizar con sed**)."
   ]
  },
  {
   "cell_type": "code",
   "execution_count": 30,
   "metadata": {},
   "outputs": [],
   "source": []
  },
  {
   "cell_type": "markdown",
   "metadata": {},
   "source": [
    "1.3. Las primeras 579 líneas son solamente informativas y no influyen en la simulación de la proteína. Por tanto, queremos eliminar las líneas 4-579 del archivo *3c5x_cyx_cys.pdb* y guardar el nuevo archivo como *3c5x_cyx_clean.pdb*. (**Pista: se puede realizar con sed**)."
   ]
  },
  {
   "cell_type": "code",
   "execution_count": 33,
   "metadata": {},
   "outputs": [],
   "source": []
  },
  {
   "cell_type": "markdown",
   "metadata": {},
   "source": [
    "1.4. Además de la información de los aminoácidos de las proteínas, los archivos PDB suelen tener información sobre átomos especiales como metales o puentes de hidrógeno, que se identifican con el código *HETATM*. Supongamos que en nuestra simulación no nos interesan estos átomos y queremos eliminarlos del archivo *3c5x_cyx_clean.pdb* y guardar el nuevo archivo como *3c5x_cyx_no_HETATM.pdb*. (**Pista: se puede realizar con grep y sed**)."
   ]
  },
  {
   "cell_type": "code",
   "execution_count": null,
   "metadata": {},
   "outputs": [],
   "source": []
  },
  {
   "cell_type": "code",
   "execution_count": 43,
   "metadata": {},
   "outputs": [],
   "source": []
  },
  {
   "cell_type": "markdown",
   "metadata": {},
   "source": [
    "1.5. Otros datos que se muestran en los archivos PDB  son los puentes disulfuro entre átomos S de los aminoácidos de cisteína, que se identifican con el código *CONECT*. Supongamos que también queremos eliminar esta información del archivo *3c5x_cyx_no_HETATM.pdb* y guardar el nuevo archivo como *3c5x_cyx_no_HETATM_CONN.pdb*. (**Pista: se puede realizar con grep y sed, es similar al anterior ejercicio**)."
   ]
  },
  {
   "cell_type": "code",
   "execution_count": null,
   "metadata": {},
   "outputs": [],
   "source": []
  },
  {
   "cell_type": "code",
   "execution_count": 45,
   "metadata": {},
   "outputs": [],
   "source": []
  },
  {
   "cell_type": "markdown",
   "metadata": {},
   "source": [
    "1.6. Los archivos PDB suelen tener más de una cadena en su estructura proteica. Para establecer el fin de una cadena y el inicio de otra, en estos archivos se usa el código *TER*. Buscar el número de línea en el que finaliza la cadena A y empieza la cadena C del  del archivo *3c5x_cyx_no_HETATM_CONN.pdb* (**Pista: se puede realizar con grep**)"
   ]
  },
  {
   "cell_type": "code",
   "execution_count": null,
   "metadata": {},
   "outputs": [],
   "source": []
  },
  {
   "cell_type": "markdown",
   "metadata": {},
   "source": [
    "1.7. Ahora que conocemos el número de línea en la que termina la cadena A y empieza la cadena C del archivo *3c5x_cyx_no_HETATM_CONN.pdb*, queremos separar las dos cadenas en dos archivos diferentes (*3c5x_cadA.pdb* y *3c5x_cadB.pdb*) (**Pista: se puede realizar con sed o split**)."
   ]
  },
  {
   "cell_type": "code",
   "execution_count": 39,
   "metadata": {},
   "outputs": [],
   "source": []
  },
  {
   "cell_type": "markdown",
   "metadata": {},
   "source": [
    "### **2. En este ejercicio se obtendrá información de un archivo fasta, que contiene la secuencia de nucleótidos de un gen de un microorganismo.  Para esto usaremos el archivo *secuencia1.fasta* que se encuentra en la carpeta *archivos_deber***"
   ]
  },
  {
   "cell_type": "markdown",
   "metadata": {},
   "source": [
    "2.1. En las secuencias de ADN se encuentran varios motivos (secuencias pequeñas muy conservadas) como los que dan inicio y término a los procesos de replicación, transcripción y traducción. La señal para el inicio de la transcripción es dada por la presencia de la TATA box (*TATAAA* o *TATAAT*) y la señal para el término de la transcripción es la presencia de varias Adeninas (5 o más), con lo que se obtiene un transcrito (ARN mensajero). Determinar el número de señales de inicio y de terminación del archivo *secuencia1.fasta* y establecer si hay igual número de señales de inicio y terminación (**Pista: se puede realizar con egrep o egrep y wc**)."
   ]
  },
  {
   "cell_type": "code",
   "execution_count": null,
   "metadata": {},
   "outputs": [],
   "source": []
  },
  {
   "cell_type": "markdown",
   "metadata": {},
   "source": [
    "2.2. Otros motivos importantes son los de unión para factores de transcripción (FT). Se conoce que un FT se puede unir específicamente al motivo *ATXXTC*, en donde la X puede corresponder a cualquier nucleótido. Determine si la secuencia del archivo *secuencia1.fasta* posee motivos de unión a FTs, y en caso de tenerlos cuántos de estps motivos posee (**Pista: se puede realizar con egrep o egrep y wc**)."
   ]
  },
  {
   "cell_type": "code",
   "execution_count": null,
   "metadata": {},
   "outputs": [],
   "source": []
  },
  {
   "cell_type": "markdown",
   "metadata": {},
   "source": [
    "2.3. Crear una expresión regular para determinar la o las sub-secuencias del archivo *secuencia1.fasta* que empieza con *TACA* y terminen con *AAAAAT* (**Pista: se puede realizar con egrep**)."
   ]
  },
  {
   "cell_type": "code",
   "execution_count": null,
   "metadata": {},
   "outputs": [],
   "source": []
  },
  {
   "cell_type": "markdown",
   "metadata": {},
   "source": [
    "2.4. Crear una expresión regular para determinar si la secuencia del archivo *secuencia1.fasta* termina con *TATACAATGA* (**Pista: se puede realizar con egrep**)."
   ]
  },
  {
   "cell_type": "code",
   "execution_count": null,
   "metadata": {},
   "outputs": [],
   "source": []
  },
  {
   "cell_type": "markdown",
   "metadata": {},
   "source": [
    "### **3. En este ejercicio se obtendrá información de un archivo multifasta, compuestos por varias secuencias de nucleótidos, en el que cada secuencia es un genoma completo de diferentes cepas o muestras de *Sulcia muelleri* (un endosimbionte de insectos). Para esto usaremos el archivo *sul_genomas.fasta* que se encuentra en la carpeta *archivos_deber***"
   ]
  },
  {
   "cell_type": "markdown",
   "metadata": {},
   "source": [
    "3.1. Se debe considerar que en un archivo multifasta cada secuencia posee un header que empieza con el caracter *>*. Determinar cuántos genomas en total se encuentran en el archivo *sul_genomas.fasta* (**Pista: se puede realizar con grep y wc**)."
   ]
  },
  {
   "cell_type": "code",
   "execution_count": null,
   "metadata": {},
   "outputs": [],
   "source": []
  },
  {
   "cell_type": "markdown",
   "metadata": {},
   "source": [
    "3.2. Se desea crear una expresión regular que permita identificar los códigos de todas las secuencias, que se encuentran en los headers junto al caracter >, del archivo *sul_genomas.fasta* (**Pista: se puede realizar con egrep**)."
   ]
  },
  {
   "cell_type": "code",
   "execution_count": null,
   "metadata": {},
   "outputs": [],
   "source": []
  },
  {
   "cell_type": "markdown",
   "metadata": {},
   "source": [
    "3.3. Se desea extraer los códigos de todas las secuencias del archivo *sul_genomas.fasta* y colocar esta información en un nuevo archivo llamado *sul_genomas_codigos.txt* (**Pista: se puede realizar con grep y cut**)."
   ]
  },
  {
   "cell_type": "code",
   "execution_count": null,
   "metadata": {},
   "outputs": [],
   "source": []
  },
  {
   "cell_type": "markdown",
   "metadata": {},
   "source": [
    "3.4. Se desea crear una expresión regular que permita identificar el nombre de la cepa o el nombre de la muestra de todas las secuencias del archivo *sul_genomas.fasta*. Un ejemplo del nombre de la cepa es *Sulcia-ALF* y de la muestra *SMAURBIH* (**Pista: se puede realizar con egrep**)."
   ]
  },
  {
   "cell_type": "code",
   "execution_count": null,
   "metadata": {},
   "outputs": [],
   "source": []
  },
  {
   "cell_type": "markdown",
   "metadata": {},
   "source": [
    "3.5 Se desea buscar la secuencia *TTTATTCCTAAAATAAAAGAAGATGAA* en el genoma de *Candidatus Sulcia muelleri CARI* del archivo *sul_genomas.fasta*."
   ]
  },
  {
   "cell_type": "code",
   "execution_count": null,
   "metadata": {},
   "outputs": [],
   "source": []
  },
  {
   "cell_type": "code",
   "execution_count": null,
   "metadata": {},
   "outputs": [],
   "source": []
  }
 ],
 "metadata": {
  "kernelspec": {
   "display_name": "Bash",
   "language": "bash",
   "name": "bash"
  },
  "language_info": {
   "codemirror_mode": "shell",
   "file_extension": ".sh",
   "mimetype": "text/x-sh",
   "name": "bash"
  }
 },
 "nbformat": 4,
 "nbformat_minor": 4
}
