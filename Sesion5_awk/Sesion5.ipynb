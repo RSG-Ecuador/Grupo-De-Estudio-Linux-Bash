{
 "cells": [
  {
   "cell_type": "markdown",
   "metadata": {},
   "source": [
    "# **AWK**\n",
    "* Lenguaje de programación diseñado para procesamiento de archivos de texto. Fue implementado en UNIX. \n",
    "* *awk* es el programa de UNIX que permite correr scripts escritos en AWK.\n",
    "* AWK es un lenguaje interpretado por el intérprete *awk*.\n",
    "* *awk* fue implementado en GNU/Linux con el nombre de *gawk*, del que actualmente hay mucha [documentación](https://www.gnu.org/software/gawk/manual/gawk.html)."
   ]
  },
  {
   "cell_type": "markdown",
   "metadata": {},
   "source": [
    "## **1. Verificar *gawk* en el sistema o instalarlo**\n",
    "Para verificar si poseen *awk* en el sistema deben abrir una terminal y escribir:"
   ]
  },
  {
   "cell_type": "code",
   "execution_count": null,
   "metadata": {},
   "outputs": [],
   "source": [
    "gawk --version"
   ]
  },
  {
   "cell_type": "markdown",
   "metadata": {},
   "source": [
    "En caso de que no tengan instalada la aplicación deben instalarla usando el gestor de paquetes apt, de la siguiente manera:"
   ]
  },
  {
   "cell_type": "markdown",
   "metadata": {},
   "source": [
    "> sudo apt install gawk"
   ]
  },
  {
   "cell_type": "markdown",
   "metadata": {},
   "source": [
    "## **2. Elementos y variables internas de *gawk***"
   ]
  },
  {
   "cell_type": "markdown",
   "metadata": {},
   "source": [
    "* El intérprete *awk* necesita dos elementos:\n",
    "    1. Archivo con instrucciones escritos en AWK.\n",
    "    2. Uno o más archivos de entrada.\n",
    "    \n",
    "    \n",
    "  La estructura sería de la siguiente forma:\n",
    "    \n",
    "> gawk ‘programa_AWK’ archivo1 archivo2 …\n",
    "\n",
    "* El nombre del archivo que se procesa por *gawk* se guarda en la variable interna (vi) **FILENAME**.\n",
    "* *gawk* procesa los archivos por elementos llamados *registros* que siguen las instrucciones del archivo AWK.\n",
    "* El **separador de registros** se almacena en la vi **RS**. Por defecto, los registros se separan por saltos de línea (RS = \"\\n\"), pero esto se puede cambiar. \n",
    "* El número de registros del archivo en procesamiento se almacena en la vi **FNR**. \n",
    "* El número de registros que se han procesado se guarda de forma acumulativa en la vi **NR**.\n",
    "\n",
    "**Pregunta: ¿En archivos multifasta y pdb cuáles serían separadores de registros adecuados?**\n"
   ]
  },
  {
   "cell_type": "markdown",
   "metadata": {},
   "source": [
    "Ejemplo sencillo con archivos multifasta:"
   ]
  },
  {
   "cell_type": "code",
   "execution_count": null,
   "metadata": {},
   "outputs": [],
   "source": [
    "gawk  '{print FILENAME, FNR, NR}' archivos/secuencias.fasta"
   ]
  },
  {
   "cell_type": "markdown",
   "metadata": {},
   "source": [
    "**Preguntas: ¿Porqué los valores de FNR y NR son iguales en todas las líneas? ¿Cuántas líneas se imprimen y porqué se imprime este número de líneas?**"
   ]
  },
  {
   "cell_type": "code",
   "execution_count": null,
   "metadata": {},
   "outputs": [],
   "source": [
    "gawk  '{print FILENAME, FNR, NR}' archivos/secuencias.fasta archivos/secuencias3.fastq"
   ]
  },
  {
   "cell_type": "markdown",
   "metadata": {},
   "source": [
    "**Pregunta: ¿Son iguales los valores FNR y NR en todas las líneas?**"
   ]
  },
  {
   "cell_type": "markdown",
   "metadata": {},
   "source": [
    "* Por defecto, cada registro procesado por *gawk* se divide por campos separados por espacios, tabuladores o saltos de línea. El separador de campo se almacena en la vi **FS**. Por defecto, el separador de campo es un espacio (FS = \" \").\n",
    "* Cada campo del registro se guarda en variables internas entre `$1` y `$n`\n",
    "\n",
    "* El contenido completo del registro se almacena en `$0`, y el número total de campos en la vi **NF**"
   ]
  },
  {
   "cell_type": "code",
   "execution_count": null,
   "metadata": {},
   "outputs": [],
   "source": [
    "echo -e  \" campo1  campo2\\tcampo3,-#%...  \" | gawk '{print NF, \"[\"$1\"]\", \"[\"$2\"]\"}'\n",
    "echo -e  \" campo1  campo2\\tcampo3,-#%...  \" | gawk '{print NF, \"[\"$3\"]\", \"[\"$1\"]\"}'\n",
    "echo -e  \" campo1  campo2\\tcampo3,-#%...  \" | gawk '{print NF, \"[\"$0\"]\"}'"
   ]
  },
  {
   "cell_type": "code",
   "execution_count": null,
   "metadata": {},
   "outputs": [],
   "source": [
    "echo -e  \" campo1  campo2\\tcampo3,-#%...  \" | gawk '{print NF, $NF}'"
   ]
  },
  {
   "cell_type": "markdown",
   "metadata": {},
   "source": [
    "**Pregunta: ¿Porqué al poner $NF se imprime el campo 3?**"
   ]
  },
  {
   "cell_type": "markdown",
   "metadata": {},
   "source": [
    "Notas importantes:\n",
    "1. Múltiples espacios en blanco (incluyendo tabuladores) separando campos de texto se ignoran, colapsándose, por lo que NF vale 3.\n",
    "2. Por lo explicado en 1, las variables `$1-$n` sólo llevan el valor del campo delimitado por los espacios, como muestran las salidas de las líneas 1 a 3.\n",
    "3. En cambio la variable `$0`, que lleva un registro completo, imprime los separadores de campo del mismo, como muestra la línea 4 de la salida mostrada arriba.\n",
    "4.Print imprime los argumentos que se le pasan separados por comas, dejando por defecto un espacio sencillo entre ellos (OFS=\" “)."
   ]
  },
  {
   "cell_type": "markdown",
   "metadata": {},
   "source": [
    "Para encadenar otro programa de GNU/Linux con *awk* se realiza lo siguiente:\n",
    "> programa_GNU/Linux | gawk ‘programa_AWK’ > resultado.txt"
   ]
  },
  {
   "cell_type": "markdown",
   "metadata": {},
   "source": [
    "## **3. Estructura programas AWK**"
   ]
  },
  {
   "cell_type": "markdown",
   "metadata": {},
   "source": [
    "Un script típico del lenguaje AWK consiste en varias líneas de código con la siguiente estructuras:\n",
    "* `/patrón/ {acción}`: Se ejecuta una acción o acciones en las líneas que tengan un patrón (caracteres normales o regex).\n",
    "* `/patrón/`: Se imprimen las líneas que contengan un patrón.\n",
    "* `{acción}`: Se ejecuta una acción en todos los registros del archivo analizado. \n",
    "* `BEGIN {acción}`: Ejecuta ciertas acciones antes de que el o los archivo(s) sea(n) procesado(s). Se establecen variables como RS, FS, OFS, entre otras.\n",
    "* `END {acción}`: Ejecuta ciertas acciones luego de procesar el o los archivo(s). \n",
    "\n",
    "El intérprete *gawk* analiza el script de AWK línea por línea, de izquierda a derecha. Si existen dos sentencias *BEGIN*, sus contenidos se ejecutan en orden de aparición. *BEGIN* y *END* no deben estar en orden en el script.\n",
    "\n",
    "Como vimos, un separador de registro adecuado para los archivos multifasta sería el símbolo `>`, por lo que podemos establecer esta vi en la sentencia *BEGIN* para trabajar con estos archivos, de la siguiente forma:"
   ]
  },
  {
   "cell_type": "code",
   "execution_count": null,
   "metadata": {},
   "outputs": [],
   "source": [
    "gawk 'BEGIN {RS=\">\"} {print RS, NR, $1, $2}' archivos/secuencias.fasta"
   ]
  },
  {
   "cell_type": "markdown",
   "metadata": {},
   "source": [
    "Algunos ejemplos sencillos de comandos de AWK:"
   ]
  },
  {
   "cell_type": "markdown",
   "metadata": {},
   "source": [
    "**Pregunta: ¿Cómo imprimo la inicial del elemento de los átomos del archivo 3c5x.pdb usando un comando de AWK?**"
   ]
  },
  {
   "cell_type": "code",
   "execution_count": null,
   "metadata": {},
   "outputs": [],
   "source": []
  },
  {
   "cell_type": "markdown",
   "metadata": {},
   "source": [
    "**Pregunta: ¿Cómo imprimo las líneas del archivo 3c5x.pdb solamente de los átomos, sin incluir la parte informativa inicial, usando un comando de AWK y otros comandos de GNU/Linux aprendidos?**"
   ]
  },
  {
   "cell_type": "code",
   "execution_count": null,
   "metadata": {},
   "outputs": [],
   "source": []
  },
  {
   "cell_type": "markdown",
   "metadata": {},
   "source": [
    "**Pregunta: ¿Cómo imprimo las líneas del archivo 3c5x.pdb que contengan un aminoácido de cisteína (CYS) usando un comando de AWK?**"
   ]
  },
  {
   "cell_type": "code",
   "execution_count": null,
   "metadata": {},
   "outputs": [],
   "source": []
  },
  {
   "cell_type": "markdown",
   "metadata": {},
   "source": [
    "**Pregunta: Sin usar el comando sed ¿De qué otra forma puedo imprimir las líneas del archivo 3c5x.pdb solamente de los átomos que contengan CYS, sin incluir la parte informativa inicial, usando un comando de AWK y otros comandos de GNU/Linux aprendidos?**"
   ]
  },
  {
   "cell_type": "code",
   "execution_count": null,
   "metadata": {},
   "outputs": [],
   "source": []
  },
  {
   "cell_type": "markdown",
   "metadata": {},
   "source": [
    "**Pregunta: Sin especificar RS como `>` y dejando el separador de registros por defecto, ¿De qué otra forma imprimo los nombres de las secuencias del archivo secuencias.fasta usando un comando de AWK?**"
   ]
  },
  {
   "cell_type": "code",
   "execution_count": null,
   "metadata": {},
   "outputs": [],
   "source": []
  },
  {
   "cell_type": "markdown",
   "metadata": {},
   "source": [
    "**Pregunta: ¿Cómo imprimo la línea 1000 del archivo 3c5x.pdb usando un comando de AWK? Pista: se puede usar la vi NR**"
   ]
  },
  {
   "cell_type": "code",
   "execution_count": null,
   "metadata": {},
   "outputs": [],
   "source": []
  },
  {
   "cell_type": "markdown",
   "metadata": {},
   "source": [
    "**Pregunta: ¿Cómo imprimo las líneas del archivo sul_genomas.fasta que tengan más de 3 espacios usando un comando de AWK? Pista: se puede usar la vi NF**"
   ]
  },
  {
   "cell_type": "code",
   "execution_count": null,
   "metadata": {},
   "outputs": [],
   "source": []
  },
  {
   "cell_type": "markdown",
   "metadata": {},
   "source": [
    "**Pregunta: ¿Cómo imprimo la información solo de la cepa TETUND de Candidatus Sulcia muelleri del archivo sul_genomas.fasta usando un comando de AWK?**"
   ]
  },
  {
   "cell_type": "code",
   "execution_count": null,
   "metadata": {},
   "outputs": [],
   "source": []
  },
  {
   "cell_type": "code",
   "execution_count": null,
   "metadata": {},
   "outputs": [],
   "source": []
  },
  {
   "cell_type": "markdown",
   "metadata": {},
   "source": [
    "**Pregunta: ¿Cómo imprimo el ID de la cepa OLIH de Candidatus Sulcia muelleri del archivo sul_genomas.fasta usando un comando de AWK?**"
   ]
  },
  {
   "cell_type": "code",
   "execution_count": null,
   "metadata": {},
   "outputs": [],
   "source": []
  },
  {
   "cell_type": "code",
   "execution_count": null,
   "metadata": {},
   "outputs": [],
   "source": []
  },
  {
   "cell_type": "markdown",
   "metadata": {},
   "source": [
    "**Pregunta: ¿Cómo verifico si la cepa GWSS de Candidatus Sulcia muelleri del archivo sul_genomas.fasta posee el motivo CXXXAAA usando un comando de AWK?**"
   ]
  },
  {
   "cell_type": "code",
   "execution_count": null,
   "metadata": {},
   "outputs": [],
   "source": []
  },
  {
   "cell_type": "markdown",
   "metadata": {},
   "source": [
    "## **4. Sintaxis de AWK**"
   ]
  },
  {
   "cell_type": "markdown",
   "metadata": {},
   "source": [
    "Los usos que se han visto hasta ahora se podrían haber realizado con otras herramientas ya conocidas como grep, sed, y otras. Sin embargo, AWK va más allá de las herramientas mencionadas, puesto que es un lenguaje de programación completo y posee condicionales, bucles, algunos operadores y muchas funciones para trabajar con archivos de texto. A continuación se presenta un resumen de las principales estructuras sintácticas:\n",
    "\n",
    "* **Condicionales:** `if(condicion1){code1}else if(condición2){code2}else{code3}`\n",
    "* **Bucles for:** `for (i in array){code}; for(initialization;condition;increment|decrement)`\n",
    "* **Bucles while:** `while(true){code}`\n",
    "* **Operadores aritméticos:** `+, -, *, /, %, =, ++, –, +=, -=)`\n",
    "* **Operadores boleanos:** `||, &&`\n",
    "* **Operadores relacionales:** `<, <=, == !=, >=, >`\n",
    "* **Funciones integradas:** `length(str); int(num); index(str1, str2); split(str,arr,del); substr(str,pos,len); printf(fmt,args); tolower(str); toupper(str); gsub(regexp, replacement [, target])`\n",
    "* **Funciones escritas por el usuario:** `function FUNNAME (arg1, arg1){code}`\n",
    "* **Estructuras de datos (hashes o arreglos asociativos):** `array[string]=value`\n",
    "\n",
    "En este resumen se encuentran las estrcuturas más usadas, pero existen muchas más partes en el lenguaje AWK."
   ]
  },
  {
   "cell_type": "markdown",
   "metadata": {},
   "source": [
    "## **5. Resumen de las variables internas de AWK más comunes**"
   ]
  },
  {
   "cell_type": "markdown",
   "metadata": {},
   "source": [
    "* `$0`: guarda el valor de la fila actual en memoria de un archivo de entrada\n",
    "\n",
    "* `$1-$n`: guarda los contenidos de los campos de una fila\n",
    "\n",
    "* `ARGC`: variable que guarda el número de argumentos (+1) pasados al script desde la línea de comandos, después del bloque de código\n",
    "* `ARGV`: arreglo que guarda los argumentos pasados al script desde la línea de comandos, después del bloque de código. ARGV[0] contiene awk\n",
    "* `FILENAME`: nombre del archivo de entrada actualmente en procesamiento\n",
    "* `FS (Field Separator)`: separador de campos (por defecto SPACE or TAB)\n",
    "* `NR (Number or Records)`: guarda el número de campos delimitados por FS en registro o fila actual\n",
    "* `OFS (Output Field Separator)`: separador de campo de la salida (SPACE por defecto)\n",
    "* `ORS (Output Return Separator)`: separador de registro de la salida (\\n por defecto)"
   ]
  },
  {
   "cell_type": "markdown",
   "metadata": {},
   "source": [
    "Algunos ejemplos más complicados de awk aplicados a Bioinformática: "
   ]
  },
  {
   "cell_type": "markdown",
   "metadata": {},
   "source": [
    "**Pregunta: ¿Cómo se podría determinar la longitud de una cadena (de oligonucleótido de DNA) usando un comando de AWK?**"
   ]
  },
  {
   "cell_type": "code",
   "execution_count": null,
   "metadata": {},
   "outputs": [],
   "source": [
    "echo 'atattGAATTCTAGCACATACTAACGGACC' | awk 'END{print \"oligo\",  $0, \"tiene\", length($0), \"nt de longitud\"}'"
   ]
  },
  {
   "cell_type": "markdown",
   "metadata": {},
   "source": [
    "**Ejemplo de uso de awk para determinar el número de procesadores de un equipo**"
   ]
  },
  {
   "cell_type": "code",
   "execution_count": 1,
   "metadata": {},
   "outputs": [
    {
     "name": "stdout",
     "output_type": "stream",
     "text": [
      "This computer has 4 processors\n"
     ]
    }
   ],
   "source": [
    "awk '/^processor/ {n++} END{ print \"This computer has\", n, \"processors\"}' /proc/cpuinfo "
   ]
  },
  {
   "cell_type": "markdown",
   "metadata": {},
   "source": [
    "**Ejemplo de uso de awk para limpiar archos pdb**"
   ]
  },
  {
   "cell_type": "code",
   "execution_count": null,
   "metadata": {},
   "outputs": [],
   "source": [
    "awk '$1==\"ATOM\" || $1==\"HETATM\" || $1==\"TER\" || $1==\"END\"' archivos/3c5x.pdb > 3c5x_clean.pdb"
   ]
  },
  {
   "cell_type": "markdown",
   "metadata": {},
   "source": [
    "## **Referencias**\n",
    "\n",
    "* Vinuesa, P (2020). Curso avanzado de programación AWK y Bash para bioinformática y biocómputo en sistemas GNU/Linux. https://vinuesa.github.io/intro2linux/index.html#el-lenguaje-de-procesamiento-de-patrones-awk-y-su-sucesor-gawk\n"
   ]
  }
 ],
 "metadata": {
  "kernelspec": {
   "display_name": "Bash",
   "language": "bash",
   "name": "bash"
  },
  "language_info": {
   "codemirror_mode": "shell",
   "file_extension": ".sh",
   "mimetype": "text/x-sh",
   "name": "bash"
  }
 },
 "nbformat": 4,
 "nbformat_minor": 4
}
