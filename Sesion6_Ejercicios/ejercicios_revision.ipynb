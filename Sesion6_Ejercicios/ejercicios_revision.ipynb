{
 "cells": [
  {
   "cell_type": "markdown",
   "metadata": {},
   "source": [
    "# **Ejercicios de revisión de ficheros de texto, pipes, awk**\n",
    "Para estos ejercicios vamos a utilizar archivos fasta, fastq y txt"
   ]
  },
  {
   "cell_type": "markdown",
   "metadata": {},
   "source": [
    "### **1. En este ejercicio se obtendrá información de un archivo multifasta, compuestos por varias secuencias de proteínas, en el que cada secuencia es una proteína de la bacteria *Streptomyces calvuligerus*. Para esto usaremos el archivo `S_clavuligerus_proteome.fasta` que se encuentra en la carpeta `archivos`**"
   ]
  },
  {
   "cell_type": "markdown",
   "metadata": {},
   "source": [
    "**1.1.** Determinar cuántas proteínas posee el proteoma de *Streptomyces calvuligerus*. "
   ]
  },
  {
   "cell_type": "code",
   "execution_count": null,
   "metadata": {},
   "outputs": [],
   "source": [
    "# Usando comandos como grep y wc\n"
   ]
  },
  {
   "cell_type": "code",
   "execution_count": null,
   "metadata": {},
   "outputs": [],
   "source": [
    "# Usando gawk\n"
   ]
  },
  {
   "cell_type": "markdown",
   "metadata": {},
   "source": [
    "¿Los resultados de ambos métodos son iguales?. Si no son iguales, ¿porqué podría ocurrir esto?"
   ]
  },
  {
   "cell_type": "markdown",
   "metadata": {},
   "source": [
    "**1.2.** Listar los headers de las secuencias de todas las proteínas y colocar esta información en una archivo llamado `headers_S_clavuligerus_proteome.txt`. Realizar un archivo independiente para cada método. "
   ]
  },
  {
   "cell_type": "code",
   "execution_count": null,
   "metadata": {},
   "outputs": [],
   "source": [
    "# Usando comandos como grep, set, etc\n"
   ]
  },
  {
   "cell_type": "code",
   "execution_count": null,
   "metadata": {},
   "outputs": [],
   "source": [
    "# Usando gawk\n"
   ]
  },
  {
   "cell_type": "markdown",
   "metadata": {},
   "source": [
    "¿Los resultados de ambos métodos son iguales?. Si no son iguales, ¿porqué podría ocurrir esto?"
   ]
  },
  {
   "cell_type": "markdown",
   "metadata": {},
   "source": [
    "**1.3.** Obtener solamente el código Uniprot (está entre | |) de los headers de todas las secuencias de proteínas y añadir esta información en un archivo llamado `codigosUniptot_S_clavuligerus_proteome.txt`. Para realizar esto se puede tomar como input los archivos generados en el anterior literal. Realizar un archivo independiente para cada método. "
   ]
  },
  {
   "cell_type": "code",
   "execution_count": null,
   "metadata": {},
   "outputs": [],
   "source": [
    "# Usando comandos como grep, set, cut, etc\n"
   ]
  },
  {
   "cell_type": "code",
   "execution_count": null,
   "metadata": {},
   "outputs": [],
   "source": [
    "# Usando gawk\n"
   ]
  },
  {
   "cell_type": "markdown",
   "metadata": {},
   "source": [
    "**1.4.** Obtener solamente el organismo (Nombre que está luego de OX=) de los headers de todas las secuencias de proteínas y añadir esta información en un archivo llamado Organismos_S_clavuligerus_proteome.txt. Para realizar esto se puede tomar como input los archivos generados en el literal 1.3. Realizar un archivo independiente para cada método. "
   ]
  },
  {
   "cell_type": "code",
   "execution_count": null,
   "metadata": {},
   "outputs": [],
   "source": [
    "# Usando comandos como grep, set, cut, etc\n"
   ]
  },
  {
   "cell_type": "code",
   "execution_count": null,
   "metadata": {},
   "outputs": [],
   "source": [
    "# Usando gawk\n"
   ]
  },
  {
   "cell_type": "markdown",
   "metadata": {},
   "source": [
    "**1.5.** Separar los headers y las secuencias de aminoácidos de las proteínas que tienen los siguientes códigos: B5GNS8, B5H296, B5GRF2 y B5GTR3. Colocar esta información en un archivo llamado `4seq_S_clavuligerus_proteome.fasta`. Realizar un archivo independiente para cada método. "
   ]
  },
  {
   "cell_type": "code",
   "execution_count": null,
   "metadata": {},
   "outputs": [],
   "source": [
    "# Usando comandos como grep, set, cut, etc\n"
   ]
  },
  {
   "cell_type": "code",
   "execution_count": null,
   "metadata": {},
   "outputs": [],
   "source": [
    "# Usando gawk\n"
   ]
  },
  {
   "cell_type": "markdown",
   "metadata": {},
   "source": [
    "**1.6.** Determinar si en la secuencia de la proteína con código Uniprot B5H296 existe un aminoácido de serina (S), seguido de una prolina (P), con tres alaninas (A) en medio de los dos aminoácidos (S y P).   "
   ]
  },
  {
   "cell_type": "code",
   "execution_count": null,
   "metadata": {},
   "outputs": [],
   "source": [
    "# Usando comandos como grep, set, cut, etc\n"
   ]
  },
  {
   "cell_type": "code",
   "execution_count": null,
   "metadata": {},
   "outputs": [],
   "source": [
    "# Usando gawk\n"
   ]
  },
  {
   "cell_type": "markdown",
   "metadata": {},
   "source": [
    "### **2. En este ejercicio se obtendrá información de archivos fastq, compuestos por varias secuencias de nucleótidos. Para esto usaremos los archivos `secuencias1.fastq` y `secuencias2.fastq` que se encuentra en la carpeta `archivos`**"
   ]
  },
  {
   "cell_type": "markdown",
   "metadata": {},
   "source": [
    "**2.1.** Determinar el número de lecturas de los archivos `secuencias1.fastq` y `secuencias2.fastq`. "
   ]
  },
  {
   "cell_type": "code",
   "execution_count": null,
   "metadata": {},
   "outputs": [],
   "source": [
    "# Usando comandos como grep, set, cut, etc\n"
   ]
  },
  {
   "cell_type": "code",
   "execution_count": null,
   "metadata": {},
   "outputs": [],
   "source": [
    "# Usando gawk\n"
   ]
  },
  {
   "cell_type": "markdown",
   "metadata": {},
   "source": [
    "**2.2.** Cuando no se logra identificar el nucleótido, se coloca una **N**, por lo que queremos buscar lecturas con diez **N** seguidas"
   ]
  },
  {
   "cell_type": "code",
   "execution_count": null,
   "metadata": {},
   "outputs": [],
   "source": [
    "# Usando comandos como grep, set, cut, etc\n"
   ]
  },
  {
   "cell_type": "code",
   "execution_count": null,
   "metadata": {},
   "outputs": [],
   "source": [
    "# Usando gawk\n"
   ]
  },
  {
   "cell_type": "markdown",
   "metadata": {},
   "source": [
    "**2.3.** Pero ¿cuántas lecturas contienen la secuencia con diez **N** seguidas?"
   ]
  },
  {
   "cell_type": "code",
   "execution_count": null,
   "metadata": {},
   "outputs": [],
   "source": [
    "# Usando comandos como grep, set, cut, etc\n"
   ]
  },
  {
   "cell_type": "code",
   "execution_count": null,
   "metadata": {},
   "outputs": [],
   "source": [
    "# Usando gawk\n"
   ]
  },
  {
   "cell_type": "markdown",
   "metadata": {},
   "source": [
    "**2.4.** Se quiere obtener el identificador y la calidad de la secuencia con diez **N** seguidas, y almacenar las lescuras deficientes de los dos archivos fastq en el fichero `malas.txt`. Realizar un archivo independiente para cada método. "
   ]
  },
  {
   "cell_type": "code",
   "execution_count": null,
   "metadata": {},
   "outputs": [],
   "source": [
    "# Usando comandos como grep, set, cut, etc\n"
   ]
  },
  {
   "cell_type": "code",
   "execution_count": null,
   "metadata": {},
   "outputs": [],
   "source": [
    "# Usando gawk\n"
   ]
  },
  {
   "cell_type": "markdown",
   "metadata": {},
   "source": [
    "### **3. En este ejercicio se obtendrá información de un archivo obtenido de un experimento de microarray, en el que se calcula la expresión génica de una muestra. Para esto usaremos el archivo `microarray.txt` que se encuentra en la carpeta `archivos`**"
   ]
  },
  {
   "cell_type": "markdown",
   "metadata": {},
   "source": [
    "**3.1.** Determinar el número genes relacionados con la leucemia (leukemia). En este caso esto se determinará por la presencia del nombre de la enfermedad en los nombres de los genes."
   ]
  },
  {
   "cell_type": "code",
   "execution_count": null,
   "metadata": {},
   "outputs": [],
   "source": [
    "# Usando comandos como grep, set, cut, etc\n"
   ]
  },
  {
   "cell_type": "code",
   "execution_count": null,
   "metadata": {},
   "outputs": [],
   "source": [
    "# Usando gawk\n"
   ]
  },
  {
   "cell_type": "markdown",
   "metadata": {},
   "source": [
    "**3.2.** De todo el registro, solo queremos el nombre y la descripción de los genes relacionados con leucemia (campos 3 y 4), lo que se desea copiar a un archivo llamado `genes.txt`. Realizar un archivo independiente para cada método. "
   ]
  },
  {
   "cell_type": "code",
   "execution_count": null,
   "metadata": {},
   "outputs": [],
   "source": [
    "# Usando comandos como grep, set, cut, etc\n"
   ]
  },
  {
   "cell_type": "code",
   "execution_count": null,
   "metadata": {},
   "outputs": [],
   "source": [
    "# Usando gawk\n"
   ]
  },
  {
   "cell_type": "markdown",
   "metadata": {},
   "source": [
    "**3.3.** Se desea eliminar las comillas de los nombres y descripción de los genes relacionados con leucemia, obtenidos en el archivo del literal anterior, y guardar el resulta en el archivo `genes_clean.txt`"
   ]
  },
  {
   "cell_type": "code",
   "execution_count": null,
   "metadata": {},
   "outputs": [],
   "source": [
    "# Usando comandos como grep, set, cut, etc\n"
   ]
  },
  {
   "cell_type": "code",
   "execution_count": null,
   "metadata": {},
   "outputs": [],
   "source": [
    "# Usando gawk\n"
   ]
  },
  {
   "cell_type": "markdown",
   "metadata": {},
   "source": [
    "**3.4.** Ordenar alfabéticamente los genes del archivo `genes_clean.txt`, y guardar el resultado en un archivo llamado `genes_clean_ord.txt`"
   ]
  },
  {
   "cell_type": "code",
   "execution_count": null,
   "metadata": {},
   "outputs": [],
   "source": []
  },
  {
   "cell_type": "markdown",
   "metadata": {},
   "source": [
    "**3.5.** Eliminar los genes repetidos del archivo `genes_clean_ord.txt`, y almacenar el resultado en un archivo llamado `genes_clean_ord_unicos.txt`"
   ]
  },
  {
   "cell_type": "code",
   "execution_count": null,
   "metadata": {},
   "outputs": [],
   "source": []
  },
  {
   "cell_type": "markdown",
   "metadata": {},
   "source": [
    "**3.6.**¿Cuántos genes estaban repetidos?"
   ]
  },
  {
   "cell_type": "code",
   "execution_count": null,
   "metadata": {},
   "outputs": [],
   "source": []
  },
  {
   "cell_type": "markdown",
   "metadata": {},
   "source": [
    "### **4. En este ejercicio se buscarán sitios d reconocimiento de enzimas de restricción de secuencias ITS de hongos. Para esto usaremos los archivos de la carpeta `ITS_region` que se encuentra dentro de la carpeta `archivos`**"
   ]
  },
  {
   "cell_type": "markdown",
   "metadata": {},
   "source": [
    "## Mapa de restricción"
   ]
  },
  {
   "cell_type": "markdown",
   "metadata": {},
   "source": [
    "#### Un mapa de restricción representa los sitios en los que diferentes enzimas de restricción poseen dianas en una molecula particular de ADN"
   ]
  },
  {
   "cell_type": "markdown",
   "metadata": {},
   "source": [
    "<img src=\"img/map_plasmid.png\"> <img src=\"img/lineal_map.png\"> "
   ]
  },
  {
   "cell_type": "markdown",
   "metadata": {},
   "source": [
    "#### En este ejemplo se van a seleccionar 10 enzimas de restricción"
   ]
  },
  {
   "cell_type": "markdown",
   "metadata": {},
   "source": [
    "<img src=\"img/enz_restriccion.png\">"
   ]
  },
  {
   "cell_type": "markdown",
   "metadata": {},
   "source": [
    "#### Los sitios de reconocimiento se buscaran en 10 secuencias de la región ITS de diferntes especies de hongos"
   ]
  },
  {
   "cell_type": "markdown",
   "metadata": {},
   "source": [
    "**4.1.** Determinar qué archivo posee la secuencia de reconocimiento de la enzima EcoRI (Se puede utilizar egrep con la etiqueta  **-l** o **-c** )"
   ]
  },
  {
   "cell_type": "code",
   "execution_count": null,
   "metadata": {},
   "outputs": [],
   "source": []
  },
  {
   "cell_type": "code",
   "execution_count": null,
   "metadata": {},
   "outputs": [],
   "source": []
  },
  {
   "cell_type": "markdown",
   "metadata": {},
   "source": [
    "**4.2.** Determinar qué archivo posee doble o triple secuencia de reconocimiento de las enzimas SmaI y TaiI (Se puede utilizar egrep con la etiqueta **-c** )"
   ]
  },
  {
   "cell_type": "code",
   "execution_count": null,
   "metadata": {},
   "outputs": [],
   "source": []
  },
  {
   "cell_type": "code",
   "execution_count": null,
   "metadata": {},
   "outputs": [],
   "source": []
  },
  {
   "cell_type": "markdown",
   "metadata": {},
   "source": [
    "**4.3.** Especificar la línea donde hubo la o las coincidencias del sitio de reconocimiento de la enzima TaiI del archivo `T_delbrueckii.fasta` (Se puede utilizar egrep con la etiqueta **-n**)"
   ]
  },
  {
   "cell_type": "code",
   "execution_count": null,
   "metadata": {},
   "outputs": [],
   "source": []
  },
  {
   "cell_type": "markdown",
   "metadata": {},
   "source": [
    "**4.4.** La enzima HincII presenta una secuencia de reconocimiento \"degenerada\", en la que la letra Y puede ser los nucleótidos C o T y la letra R puede ser G o A. Buscar la cantidad de estas secuencias en todos los archivos fasta de la carpeta `ITS_region` que se encuentra dentro de la carpeta `archivos` (Se pueden utilizar operadores lógicos OR (|) dentro de la regex o usar grupos de caracteres con [])."
   ]
  },
  {
   "cell_type": "markdown",
   "metadata": {},
   "source": [
    "#### <center>__GTYRAC__</center>"
   ]
  },
  {
   "cell_type": "code",
   "execution_count": null,
   "metadata": {},
   "outputs": [],
   "source": []
  },
  {
   "cell_type": "code",
   "execution_count": null,
   "metadata": {},
   "outputs": [],
   "source": []
  },
  {
   "cell_type": "code",
   "execution_count": null,
   "metadata": {},
   "outputs": [],
   "source": []
  },
  {
   "cell_type": "markdown",
   "metadata": {},
   "source": [
    "**4.4.** Mostrar las 10 lineas posteriores y 10 anteriores donde hubo la coincidencia de la enzima EcoRI con todas las secuencias fasta (Se puede utilizar egrep con las etiquetas -A, -B, y -h)"
   ]
  },
  {
   "cell_type": "code",
   "execution_count": null,
   "metadata": {},
   "outputs": [],
   "source": []
  },
  {
   "cell_type": "code",
   "execution_count": null,
   "metadata": {},
   "outputs": [],
   "source": []
  },
  {
   "cell_type": "markdown",
   "metadata": {},
   "source": [
    "**4.5.** Utilizar la información del archivo `secuencia.txt` de la carpeta `ITS_region` que se encuentra dentro de la carpeta `archivos` para buscar si esta secuencia está presente en el archivo `secuencias.txt` que está en la misma carpeta (Se puede utilizar egrep con las etiquetas -f)"
   ]
  },
  {
   "cell_type": "code",
   "execution_count": null,
   "metadata": {},
   "outputs": [],
   "source": []
  },
  {
   "cell_type": "markdown",
   "metadata": {},
   "source": [
    "**4.6.** Utilizar la información del archivo `sites.txt` de la carpeta `ITS_region` que se encuentra dentro de la carpeta `archivos` para buscar si estos sitios de restricción estań presentes en los archivos fasta de la carpeta `ITS_region` y cuántos existen (Se puede utilizar egrep con las etiquetas **-f** y **-c**)"
   ]
  },
  {
   "cell_type": "code",
   "execution_count": null,
   "metadata": {},
   "outputs": [],
   "source": []
  },
  {
   "cell_type": "markdown",
   "metadata": {},
   "source": [
    "**4.7.** Utilizar la información del archivo `sites.txt` de la carpeta `ITS_region` que se encuentra dentro de la carpeta `archivos` para buscar todos los sitios de restricción presentes en los archivos fasta de la carpeta `ITS_region`(Se puede utilizar egrep con las etiquetas **-h**, **-o**, **-f**, y **wc**)"
   ]
  },
  {
   "cell_type": "code",
   "execution_count": null,
   "metadata": {},
   "outputs": [],
   "source": []
  },
  {
   "cell_type": "markdown",
   "metadata": {},
   "source": [
    "**4.8.** Utilizar la información del archivo `sites.txt` de la carpeta `ITS_region` que se encuentra dentro de la carpeta `archivos` para buscar todos los sitios de restricción únicos presentes en los archivos fasta de la carpeta `ITS_region`(Se puede utilizar egrep con las etiquetas **-h**, **-o**, **-f**, **wc**, y **uniq**)"
   ]
  },
  {
   "cell_type": "code",
   "execution_count": null,
   "metadata": {},
   "outputs": [],
   "source": []
  },
  {
   "cell_type": "markdown",
   "metadata": {},
   "source": [
    "### **Recursos adicionales con más ejercicios**\n",
    "* https://bioinformatics.cvr.ac.uk/short-command-lines-for-manipulation-fastq-and-fasta-sequence-files/\n",
    "* http://people.duke.edu/~ccc14/duke-hts-2018/cliburn/Bash_in_Jupyter.html#1.-Working-with-FASTA-files\n",
    "* https://tobyhodges.gitbooks.io/introduction-to-regular-expressions/content/\n",
    "* https://vinuesa.github.io/intro2linux/index.html#el-lenguaje-de-procesamiento-de-patrones-awk-y-su-sucesor-gawk"
   ]
  }
 ],
 "metadata": {
  "kernelspec": {
   "display_name": "Bash",
   "language": "bash",
   "name": "bash"
  },
  "language_info": {
   "codemirror_mode": "shell",
   "file_extension": ".sh",
   "mimetype": "text/x-sh",
   "name": "bash"
  }
 },
 "nbformat": 4,
 "nbformat_minor": 4
}
