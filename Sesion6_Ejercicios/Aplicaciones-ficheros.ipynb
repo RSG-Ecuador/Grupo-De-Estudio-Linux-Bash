{
 "cells": [
  {
   "cell_type": "markdown",
   "metadata": {},
   "source": [
    "# Ejercicios procesamiento de ficheros "
   ]
  },
  {
   "cell_type": "markdown",
   "metadata": {},
   "source": [
    "### grep unicamente necesita dos argumentos que son el patron de busqueda regex y el archivo donde se va a realizar la busqueda "
   ]
  },
  {
   "cell_type": "markdown",
   "metadata": {},
   "source": [
    "<img src=\"img/tabla_regex.png\">"
   ]
  },
  {
   "cell_type": "markdown",
   "metadata": {},
   "source": [
    "### Contar las secuencias "
   ]
  },
  {
   "cell_type": "code",
   "execution_count": null,
   "metadata": {},
   "outputs": [],
   "source": [
    "grep -c \"^>\" secuencias.fasta"
   ]
  },
  {
   "cell_type": "markdown",
   "metadata": {},
   "source": [
    "### Buscando genes y caracteristicas"
   ]
  },
  {
   "cell_type": "code",
   "execution_count": null,
   "metadata": {},
   "outputs": [],
   "source": [
    "grep \">\" secuencias.fasta"
   ]
  },
  {
   "cell_type": "markdown",
   "metadata": {},
   "source": [
    "#### -o indica parte de la linea que hubo coincidencia -n imprime el numero de la linea donde hubo la coincidencia. "
   ]
  },
  {
   "cell_type": "markdown",
   "metadata": {},
   "source": [
    "## Mapa de restricción"
   ]
  },
  {
   "cell_type": "markdown",
   "metadata": {},
   "source": [
    "#### Un mapa de restricción representa los sitios en los que diferentes enzimas de restricción poseen dianas en una molecula particular de ADN"
   ]
  },
  {
   "cell_type": "markdown",
   "metadata": {},
   "source": [
    "<img src=\"Imagenes/map_plasmid.png\"> <img src=\"Imagenes/lineal_map.png\"> "
   ]
  },
  {
   "cell_type": "markdown",
   "metadata": {},
   "source": [
    "#### En este ejemplo se van a seleccionar 10 enzimas de restricción"
   ]
  },
  {
   "cell_type": "markdown",
   "metadata": {},
   "source": [
    "<img src=\"Imagenes/enz_restriccion.png\">"
   ]
  },
  {
   "cell_type": "markdown",
   "metadata": {},
   "source": [
    "#### Los sitios de reconocimiento se buscaran en 10 secuencias de la región ITS de hongos"
   ]
  },
  {
   "cell_type": "markdown",
   "metadata": {},
   "source": [
    "#### Para poder determinar que archivo posee la secuencia de reconocimiento de la enzima se puede utilizar la etiqueta  __-l__ "
   ]
  },
  {
   "cell_type": "code",
   "execution_count": null,
   "metadata": {},
   "outputs": [],
   "source": [
    "egrep -l \"GAATTC\" ~/Escritorio/rsg/Notebooks/ITS_region/*.fasta"
   ]
  },
  {
   "cell_type": "code",
   "execution_count": null,
   "metadata": {},
   "outputs": [],
   "source": [
    "egrep -L \"GAATTC\" ~/Escritorio/rsg/Notebooks/ITS_region/*.fasta"
   ]
  },
  {
   "cell_type": "markdown",
   "metadata": {},
   "source": [
    "#### Una alternativa podría ser utilizar la etiqueta -c"
   ]
  },
  {
   "cell_type": "code",
   "execution_count": null,
   "metadata": {},
   "outputs": [],
   "source": [
    "egrep -c \"GAATTC\" ~/Escritorio/rsg/Notebooks/ITS_region/*.fasta "
   ]
  },
  {
   "cell_type": "markdown",
   "metadata": {},
   "source": [
    "#### Puede ver si alguna enzima presenta una doble o triple digestión"
   ]
  },
  {
   "cell_type": "code",
   "execution_count": null,
   "metadata": {},
   "outputs": [],
   "source": [
    "egrep -c \"CCCGGG\" ~/Escritorio/rsg/Notebooks/ITS_region/*.fasta "
   ]
  },
  {
   "cell_type": "code",
   "execution_count": null,
   "metadata": {},
   "outputs": [],
   "source": [
    "egrep -c \"ACGT\" ~/Escritorio/rsg/Notebooks/ITS_region/*.fasta \n"
   ]
  },
  {
   "cell_type": "markdown",
   "metadata": {},
   "source": [
    "#### Especificar la linea donde hubo la coincidencia  "
   ]
  },
  {
   "cell_type": "code",
   "execution_count": null,
   "metadata": {},
   "outputs": [],
   "source": [
    "egrep -n \"ACGT\" ~/Escritorio/rsg/Notebooks/ITS_region/T_delbrueckii.fasta "
   ]
  },
  {
   "cell_type": "code",
   "execution_count": null,
   "metadata": {},
   "outputs": [],
   "source": [
    "Obtener la linea de la primera o segunda coincidencia "
   ]
  },
  {
   "cell_type": "code",
   "execution_count": null,
   "metadata": {},
   "outputs": [],
   "source": [
    "egrep -nm2 \"ACGT\" ~/Escritorio/rsg/Notebooks/ITS_region/T_delbrueckii.fasta "
   ]
  },
  {
   "cell_type": "markdown",
   "metadata": {},
   "source": [
    "#### En en caso de la enzima HincII presenta una secuencia de reconocimiento \"degenerada\". "
   ]
  },
  {
   "cell_type": "markdown",
   "metadata": {},
   "source": [
    "#### <center>__GTYRAC__</center>"
   ]
  },
  {
   "cell_type": "markdown",
   "metadata": {},
   "source": [
    "- En esos casos se puede realizar la busqueda de dos maneras "
   ]
  },
  {
   "cell_type": "markdown",
   "metadata": {},
   "source": [
    "#### La primera es mediante la utilización del simbolo pipe ( __|__ )"
   ]
  },
  {
   "cell_type": "code",
   "execution_count": null,
   "metadata": {},
   "outputs": [],
   "source": [
    "egrep -c \"GTCAAC|GTCGAC|GTTAAC|GTTGAC\" ~/Escritorio/rsg/Notebooks/ITS_region/*.fasta "
   ]
  },
  {
   "cell_type": "markdown",
   "metadata": {},
   "source": [
    "#### Verificar mediante la etiqueta __-o__ "
   ]
  },
  {
   "cell_type": "code",
   "execution_count": null,
   "metadata": {},
   "outputs": [],
   "source": [
    "egrep -o \"GTCAAC|GTCGAC|GTTAAC|GTTGAC\" ~/Escritorio/rsg/Notebooks/ITS_region/*.fasta "
   ]
  },
  {
   "cell_type": "markdown",
   "metadata": {},
   "source": [
    "#### La segunda mediante la utilización de conjunto de caracteres __[ ]__"
   ]
  },
  {
   "cell_type": "code",
   "execution_count": null,
   "metadata": {},
   "outputs": [],
   "source": [
    "egrep -c \"GT[CT][AG]AC\" ~/Escritorio/rsg/Notebooks/ITS_region/*.fasta "
   ]
  },
  {
   "cell_type": "markdown",
   "metadata": {},
   "source": [
    "#### Verificar mediante la etiqueta __-o__"
   ]
  },
  {
   "cell_type": "code",
   "execution_count": null,
   "metadata": {},
   "outputs": [],
   "source": [
    "egrep -o \"GAATTC\" ~/Escritorio/rsg/Notebooks/ITS_region/*.fasta "
   ]
  },
  {
   "cell_type": "markdown",
   "metadata": {},
   "source": [
    "#### Mostrar las lineas posterior y anterior donde hubo la coincidencia "
   ]
  },
  {
   "cell_type": "code",
   "execution_count": null,
   "metadata": {},
   "outputs": [],
   "source": [
    "grep -B10 -A10 -H \"GAATTC\" ~/Escritorio/rsg/Notebooks/ITS_region/*.fasta "
   ]
  },
  {
   "cell_type": "markdown",
   "metadata": {},
   "source": [
    "#### Se puede utilizar la etiqueta __-h__ para obtener la salida mas clara "
   ]
  },
  {
   "cell_type": "code",
   "execution_count": null,
   "metadata": {},
   "outputs": [],
   "source": [
    "egrep -B10-A10 -h \"GAATTC\" ~/Escritorio/rsg/Notebooks/ITS_region/*.fasta "
   ]
  },
  {
   "cell_type": "code",
   "execution_count": null,
   "metadata": {},
   "outputs": [],
   "source": [
    "egrep -v -h \"GAATTC\" ~/Escritorio/rsg/Notebooks/ITS_region/*.fasta "
   ]
  },
  {
   "cell_type": "markdown",
   "metadata": {},
   "source": [
    "#### Realizar busquedas utilizando como entrada un fichero "
   ]
  },
  {
   "cell_type": "code",
   "execution_count": null,
   "metadata": {},
   "outputs": [],
   "source": [
    "grep -f ~/Escritorio/rsg/Notebooks/secuencia.txt ~/Escritorio/rsg/Notebooks/secuencias.fasta "
   ]
  },
  {
   "cell_type": "markdown",
   "metadata": {},
   "source": [
    "#### Mostrar donde las enzimas de digestión realizan la escisión "
   ]
  },
  {
   "cell_type": "code",
   "execution_count": null,
   "metadata": {},
   "outputs": [],
   "source": [
    "egrep -A10 -B10 -h -n -f  ~/Escritorio/rsg/Notebooks/sites.txt ~/Escritorio/rsg/Notebooks/ITS_region/*.fasta "
   ]
  },
  {
   "cell_type": "code",
   "execution_count": null,
   "metadata": {},
   "outputs": [],
   "source": [
    "egrep -c -f ~/Escritorio/rsg/Notebooks/sites.txt ~/Escritorio/rsg/Notebooks/ITS_region/*.fasta "
   ]
  },
  {
   "cell_type": "code",
   "execution_count": null,
   "metadata": {},
   "outputs": [],
   "source": [
    "egrep -H -o -f  ~/Escritorio/rsg/Notebooks/sites.txt ~/Escritorio/rsg/Notebooks/ITS_region/*.fasta "
   ]
  },
  {
   "cell_type": "markdown",
   "metadata": {},
   "source": [
    "#### Contar los sitios de reconocimientos totales "
   ]
  },
  {
   "cell_type": "code",
   "execution_count": null,
   "metadata": {},
   "outputs": [],
   "source": [
    "egrep -h -o -f  ~/Escritorio/rsg/Notebooks/sites.txt ~/Escritorio/rsg/Notebooks/ITS_region/T_delbrueckii.fasta | wc -l  "
   ]
  },
  {
   "cell_type": "markdown",
   "metadata": {},
   "source": [
    "#### Contar las enzimas que reconocen el sitio activo "
   ]
  },
  {
   "cell_type": "code",
   "execution_count": null,
   "metadata": {},
   "outputs": [],
   "source": [
    "egrep -h -o -f  ~/Escritorio/rsg/Notebooks/sites.txt ~/Escritorio/rsg/Notebooks/ITS_region/T_delbrueckii.fasta | uniq -u | wc -l "
   ]
  }
 ],
 "metadata": {
  "kernelspec": {
   "display_name": "Bash",
   "language": "bash",
   "name": "bash"
  },
  "language_info": {
   "codemirror_mode": "shell",
   "file_extension": ".sh",
   "mimetype": "text/x-sh",
   "name": "bash"
  }
 },
 "nbformat": 4,
 "nbformat_minor": 4
}
