{
 "cells": [
  {
   "cell_type": "markdown",
   "metadata": {},
   "source": [
    "# Ejercicios procesamiento de ficheros "
   ]
  },
  {
   "cell_type": "markdown",
   "metadata": {},
   "source": [
    "### grep unicamente necesita dos argumentos que son el patron de busqueda regex y el archivo donde se va a realizar la busqueda "
   ]
  },
  {
   "cell_type": "markdown",
   "metadata": {},
   "source": [
    "<img src=\"Imagenes/tabla_regex.png\">"
   ]
  },
  {
   "cell_type": "markdown",
   "metadata": {},
   "source": [
    "### Contar las secuencias "
   ]
  },
  {
   "cell_type": "code",
   "execution_count": 2,
   "metadata": {},
   "outputs": [
    {
     "name": "stdout",
     "output_type": "stream",
     "text": [
      "30\n"
     ]
    }
   ],
   "source": [
    "grep -c \"^>\" secuencias.fasta"
   ]
  },
  {
   "cell_type": "markdown",
   "metadata": {},
   "source": [
    "### Buscando genes y caracteristicas"
   ]
  },
  {
   "cell_type": "code",
   "execution_count": 1,
   "metadata": {},
   "outputs": [
    {
     "name": "stdout",
     "output_type": "stream",
     "text": [
      "\u001b[01;31m\u001b[K>\u001b[m\u001b[KAB055229.2\n",
      "\u001b[01;31m\u001b[K>\u001b[m\u001b[KAB055249.1\n",
      "\u001b[01;31m\u001b[K>\u001b[m\u001b[KAB071844.1\n",
      "\u001b[01;31m\u001b[K>\u001b[m\u001b[KFJ011535.1\n",
      "\u001b[01;31m\u001b[K>\u001b[m\u001b[KKC693548.1\n",
      "\u001b[01;31m\u001b[K>\u001b[m\u001b[KKC693549.1\n",
      "\u001b[01;31m\u001b[K>\u001b[m\u001b[KKC693550.1\n",
      "\u001b[01;31m\u001b[K>\u001b[m\u001b[KKC693551.1\n",
      "\u001b[01;31m\u001b[K>\u001b[m\u001b[KKC693552.1\n",
      "\u001b[01;31m\u001b[K>\u001b[m\u001b[KKC693553.1\n",
      "\u001b[01;31m\u001b[K>\u001b[m\u001b[KKC693554.1\n",
      "\u001b[01;31m\u001b[K>\u001b[m\u001b[KKC693555.1\n",
      "\u001b[01;31m\u001b[K>\u001b[m\u001b[KKF724844.1\n",
      "\u001b[01;31m\u001b[K>\u001b[m\u001b[KKF724845.1\n",
      "\u001b[01;31m\u001b[K>\u001b[m\u001b[KKF724846.1\n",
      "\u001b[01;31m\u001b[K>\u001b[m\u001b[KKF724847.1\n",
      "\u001b[01;31m\u001b[K>\u001b[m\u001b[KKF724848.1\n",
      "\u001b[01;31m\u001b[K>\u001b[m\u001b[KKF724850.1\n",
      "\u001b[01;31m\u001b[K>\u001b[m\u001b[KKM361509.1\n",
      "\u001b[01;31m\u001b[K>\u001b[m\u001b[KKP132296.1\n",
      "\u001b[01;31m\u001b[K>\u001b[m\u001b[KKR674032.1\n",
      "\u001b[01;31m\u001b[K>\u001b[m\u001b[KKR674035.1\n",
      "\u001b[01;31m\u001b[K>\u001b[m\u001b[KKY684059.1\n",
      "\u001b[01;31m\u001b[K>\u001b[m\u001b[KKY792633.1\n",
      "\u001b[01;31m\u001b[K>\u001b[m\u001b[KMH861777.1\n",
      "\u001b[01;31m\u001b[K>\u001b[m\u001b[KKC693543.1\n",
      "\u001b[01;31m\u001b[K>\u001b[m\u001b[KKC693544.1\n",
      "\u001b[01;31m\u001b[K>\u001b[m\u001b[KKC693546.1\n",
      "\u001b[01;31m\u001b[K>\u001b[m\u001b[KKC693542.1\n",
      "\u001b[01;31m\u001b[K>\u001b[m\u001b[KKC693545.1\n"
     ]
    }
   ],
   "source": [
    "grep \">\" secuencias.fasta"
   ]
  },
  {
   "cell_type": "markdown",
   "metadata": {},
   "source": [
    "#### -o indica parte de la linea que hubo coincidencia -n imprime el numero de la linea donde hubo la coincidencia. "
   ]
  },
  {
   "cell_type": "markdown",
   "metadata": {},
   "source": [
    "## Mapa de restricción"
   ]
  },
  {
   "cell_type": "markdown",
   "metadata": {},
   "source": [
    "#### Un mapa de restricción representa los sitios en los que diferentes enzimas de restricción poseen dianas en una molecula particular de ADN"
   ]
  },
  {
   "cell_type": "markdown",
   "metadata": {},
   "source": [
    "<img src=\"Imagenes/map_plasmid.png\"> <img src=\"Imagenes/lineal_map.png\"> "
   ]
  },
  {
   "cell_type": "markdown",
   "metadata": {},
   "source": [
    "#### En este ejemplo se van a seleccionar 10 enzimas de restricción"
   ]
  },
  {
   "cell_type": "markdown",
   "metadata": {},
   "source": [
    "<img src=\"Imagenes/enz_restriccion.png\">"
   ]
  },
  {
   "cell_type": "markdown",
   "metadata": {},
   "source": [
    "#### Los sitios de reconocimiento se buscaran en 10 secuencias de la región ITS de hongos"
   ]
  },
  {
   "cell_type": "markdown",
   "metadata": {},
   "source": [
    "#### Para poder determinar que archivo posee la secuencia de reconocimiento de la enzima se puede utilizar la etiqueta  __-l__ "
   ]
  },
  {
   "cell_type": "code",
   "execution_count": 21,
   "metadata": {},
   "outputs": [
    {
     "name": "stdout",
     "output_type": "stream",
     "text": [
      "\u001b[35m\u001b[K/home/jeanramos/Escritorio/rsg/Notebooks/ITS_region/A_lentulus.fasta\u001b[m\u001b[K\n",
      "\u001b[35m\u001b[K/home/jeanramos/Escritorio/rsg/Notebooks/ITS_region/A_niger.fasta\u001b[m\u001b[K\n",
      "\u001b[35m\u001b[K/home/jeanramos/Escritorio/rsg/Notebooks/ITS_region/A_tubingensis.fasta\u001b[m\u001b[K\n",
      "\u001b[35m\u001b[K/home/jeanramos/Escritorio/rsg/Notebooks/ITS_region/C_galbrata.fasta\u001b[m\u001b[K\n",
      "\u001b[35m\u001b[K/home/jeanramos/Escritorio/rsg/Notebooks/ITS_region/S_eubayanus.fasta\u001b[m\u001b[K\n",
      "\u001b[35m\u001b[K/home/jeanramos/Escritorio/rsg/Notebooks/ITS_region/S_paradoxus.fasta\u001b[m\u001b[K\n",
      "\u001b[35m\u001b[K/home/jeanramos/Escritorio/rsg/Notebooks/ITS_region/T_delbrueckii.fasta\u001b[m\u001b[K\n",
      "\u001b[35m\u001b[K/home/jeanramos/Escritorio/rsg/Notebooks/ITS_region/T_gamsii.fasta\u001b[m\u001b[K\n"
     ]
    }
   ],
   "source": [
    "egrep -l \"GAATTC\" ~/Escritorio/rsg/Notebooks/ITS_region/*.fasta"
   ]
  },
  {
   "cell_type": "code",
   "execution_count": 22,
   "metadata": {},
   "outputs": [
    {
     "name": "stdout",
     "output_type": "stream",
     "text": [
      "\u001b[35m\u001b[K/home/jeanramos/Escritorio/rsg/Notebooks/ITS_region/C_auris.fasta\u001b[m\u001b[K\n",
      "\u001b[35m\u001b[K/home/jeanramos/Escritorio/rsg/Notebooks/ITS_region/P_expansum.fasta\u001b[m\u001b[K\n"
     ]
    }
   ],
   "source": [
    "egrep -L \"GAATTC\" ~/Escritorio/rsg/Notebooks/ITS_region/*.fasta"
   ]
  },
  {
   "cell_type": "markdown",
   "metadata": {},
   "source": [
    "#### Una alternativa podría ser utilizar la etiqueta -c"
   ]
  },
  {
   "cell_type": "code",
   "execution_count": 11,
   "metadata": {},
   "outputs": [
    {
     "name": "stdout",
     "output_type": "stream",
     "text": [
      "\u001b[35m\u001b[K/home/jeanramos/Escritorio/rsg/Notebooks/ITS_region/A_lentulus.fasta\u001b[m\u001b[K\u001b[36m\u001b[K:\u001b[m\u001b[K1\n",
      "\u001b[35m\u001b[K/home/jeanramos/Escritorio/rsg/Notebooks/ITS_region/A_niger.fasta\u001b[m\u001b[K\u001b[36m\u001b[K:\u001b[m\u001b[K1\n",
      "\u001b[35m\u001b[K/home/jeanramos/Escritorio/rsg/Notebooks/ITS_region/A_tubingensis.fasta\u001b[m\u001b[K\u001b[36m\u001b[K:\u001b[m\u001b[K1\n",
      "\u001b[35m\u001b[K/home/jeanramos/Escritorio/rsg/Notebooks/ITS_region/C_auris.fasta\u001b[m\u001b[K\u001b[36m\u001b[K:\u001b[m\u001b[K0\n",
      "\u001b[35m\u001b[K/home/jeanramos/Escritorio/rsg/Notebooks/ITS_region/C_galbrata.fasta\u001b[m\u001b[K\u001b[36m\u001b[K:\u001b[m\u001b[K1\n",
      "\u001b[35m\u001b[K/home/jeanramos/Escritorio/rsg/Notebooks/ITS_region/P_expansum.fasta\u001b[m\u001b[K\u001b[36m\u001b[K:\u001b[m\u001b[K0\n",
      "\u001b[35m\u001b[K/home/jeanramos/Escritorio/rsg/Notebooks/ITS_region/S_eubayanus.fasta\u001b[m\u001b[K\u001b[36m\u001b[K:\u001b[m\u001b[K1\n",
      "\u001b[35m\u001b[K/home/jeanramos/Escritorio/rsg/Notebooks/ITS_region/S_paradoxus.fasta\u001b[m\u001b[K\u001b[36m\u001b[K:\u001b[m\u001b[K1\n",
      "\u001b[35m\u001b[K/home/jeanramos/Escritorio/rsg/Notebooks/ITS_region/T_delbrueckii.fasta\u001b[m\u001b[K\u001b[36m\u001b[K:\u001b[m\u001b[K1\n",
      "\u001b[35m\u001b[K/home/jeanramos/Escritorio/rsg/Notebooks/ITS_region/T_gamsii.fasta\u001b[m\u001b[K\u001b[36m\u001b[K:\u001b[m\u001b[K1\n"
     ]
    }
   ],
   "source": [
    "egrep -c \"GAATTC\" ~/Escritorio/rsg/Notebooks/ITS_region/*.fasta "
   ]
  },
  {
   "cell_type": "markdown",
   "metadata": {},
   "source": [
    "#### Puede ver si alguna enzima presenta una doble o triple digestión"
   ]
  },
  {
   "cell_type": "code",
   "execution_count": 7,
   "metadata": {},
   "outputs": [
    {
     "name": "stdout",
     "output_type": "stream",
     "text": [
      "\u001b[35m\u001b[K/home/jeanramos/Escritorio/rsg/Notebooks/ITS_region/A_lentulus.fasta\u001b[m\u001b[K\u001b[36m\u001b[K:\u001b[m\u001b[K2\n",
      "\u001b[35m\u001b[K/home/jeanramos/Escritorio/rsg/Notebooks/ITS_region/A_niger.fasta\u001b[m\u001b[K\u001b[36m\u001b[K:\u001b[m\u001b[K1\n",
      "\u001b[35m\u001b[K/home/jeanramos/Escritorio/rsg/Notebooks/ITS_region/A_tubingensis.fasta\u001b[m\u001b[K\u001b[36m\u001b[K:\u001b[m\u001b[K1\n",
      "\u001b[35m\u001b[K/home/jeanramos/Escritorio/rsg/Notebooks/ITS_region/C_auris.fasta\u001b[m\u001b[K\u001b[36m\u001b[K:\u001b[m\u001b[K0\n",
      "\u001b[35m\u001b[K/home/jeanramos/Escritorio/rsg/Notebooks/ITS_region/C_galbrata.fasta\u001b[m\u001b[K\u001b[36m\u001b[K:\u001b[m\u001b[K0\n",
      "\u001b[35m\u001b[K/home/jeanramos/Escritorio/rsg/Notebooks/ITS_region/P_expansum.fasta\u001b[m\u001b[K\u001b[36m\u001b[K:\u001b[m\u001b[K1\n",
      "\u001b[35m\u001b[K/home/jeanramos/Escritorio/rsg/Notebooks/ITS_region/S_eubayanus.fasta\u001b[m\u001b[K\u001b[36m\u001b[K:\u001b[m\u001b[K0\n",
      "\u001b[35m\u001b[K/home/jeanramos/Escritorio/rsg/Notebooks/ITS_region/S_paradoxus.fasta\u001b[m\u001b[K\u001b[36m\u001b[K:\u001b[m\u001b[K0\n",
      "\u001b[35m\u001b[K/home/jeanramos/Escritorio/rsg/Notebooks/ITS_region/T_delbrueckii.fasta\u001b[m\u001b[K\u001b[36m\u001b[K:\u001b[m\u001b[K0\n",
      "\u001b[35m\u001b[K/home/jeanramos/Escritorio/rsg/Notebooks/ITS_region/T_gamsii.fasta\u001b[m\u001b[K\u001b[36m\u001b[K:\u001b[m\u001b[K0\n"
     ]
    }
   ],
   "source": [
    "egrep -c \"CCCGGG\" ~/Escritorio/rsg/Notebooks/ITS_region/*.fasta "
   ]
  },
  {
   "cell_type": "code",
   "execution_count": 9,
   "metadata": {},
   "outputs": [
    {
     "name": "stdout",
     "output_type": "stream",
     "text": [
      "\u001b[35m\u001b[K/home/jeanramos/Escritorio/rsg/Notebooks/ITS_region/A_lentulus.fasta\u001b[m\u001b[K\u001b[36m\u001b[K:\u001b[m\u001b[K0\n",
      "\u001b[35m\u001b[K/home/jeanramos/Escritorio/rsg/Notebooks/ITS_region/A_niger.fasta\u001b[m\u001b[K\u001b[36m\u001b[K:\u001b[m\u001b[K1\n",
      "\u001b[35m\u001b[K/home/jeanramos/Escritorio/rsg/Notebooks/ITS_region/A_tubingensis.fasta\u001b[m\u001b[K\u001b[36m\u001b[K:\u001b[m\u001b[K1\n",
      "\u001b[35m\u001b[K/home/jeanramos/Escritorio/rsg/Notebooks/ITS_region/C_auris.fasta\u001b[m\u001b[K\u001b[36m\u001b[K:\u001b[m\u001b[K2\n",
      "\u001b[35m\u001b[K/home/jeanramos/Escritorio/rsg/Notebooks/ITS_region/C_galbrata.fasta\u001b[m\u001b[K\u001b[36m\u001b[K:\u001b[m\u001b[K2\n",
      "\u001b[35m\u001b[K/home/jeanramos/Escritorio/rsg/Notebooks/ITS_region/P_expansum.fasta\u001b[m\u001b[K\u001b[36m\u001b[K:\u001b[m\u001b[K1\n",
      "\u001b[35m\u001b[K/home/jeanramos/Escritorio/rsg/Notebooks/ITS_region/S_eubayanus.fasta\u001b[m\u001b[K\u001b[36m\u001b[K:\u001b[m\u001b[K2\n",
      "\u001b[35m\u001b[K/home/jeanramos/Escritorio/rsg/Notebooks/ITS_region/S_paradoxus.fasta\u001b[m\u001b[K\u001b[36m\u001b[K:\u001b[m\u001b[K1\n",
      "\u001b[35m\u001b[K/home/jeanramos/Escritorio/rsg/Notebooks/ITS_region/T_delbrueckii.fasta\u001b[m\u001b[K\u001b[36m\u001b[K:\u001b[m\u001b[K3\n",
      "\u001b[35m\u001b[K/home/jeanramos/Escritorio/rsg/Notebooks/ITS_region/T_gamsii.fasta\u001b[m\u001b[K\u001b[36m\u001b[K:\u001b[m\u001b[K1\n"
     ]
    }
   ],
   "source": [
    "egrep -c \"ACGT\" ~/Escritorio/rsg/Notebooks/ITS_region/*.fasta \n"
   ]
  },
  {
   "cell_type": "markdown",
   "metadata": {},
   "source": [
    "#### Especificar la linea donde hubo la coincidencia  "
   ]
  },
  {
   "cell_type": "code",
   "execution_count": 80,
   "metadata": {},
   "outputs": [
    {
     "name": "stdout",
     "output_type": "stream",
     "text": [
      "\u001b[32m\u001b[K2\u001b[m\u001b[K\u001b[36m\u001b[K:\u001b[m\u001b[KGATCATTAGAGAAATCTATATGAATGAAGTTAGAGG\u001b[01;31m\u001b[KACGT\u001b[m\u001b[KCTAAAGATACTGTAAGAGAGGATCAGGTTC\n",
      "\u001b[32m\u001b[K4\u001b[m\u001b[K\u001b[36m\u001b[K:\u001b[m\u001b[KACTCTACTTCAACTTCTACAACACTGTGGAGTTTTCTACACAACTTTTCTTCTTTGGGAAGAT\u001b[01;31m\u001b[KACGT\u001b[m\u001b[KCTT\n",
      "\u001b[32m\u001b[K7\u001b[m\u001b[K\u001b[36m\u001b[K:\u001b[m\u001b[KCGAAATGCGAT\u001b[01;31m\u001b[KACGT\u001b[m\u001b[KAATGTGAATTGCAGAATTCCGTGAATCATCGAATCTTTGAACGCACATTGCGCCC\n"
     ]
    }
   ],
   "source": [
    "egrep -n \"ACGT\" ~/Escritorio/rsg/Notebooks/ITS_region/T_delbrueckii.fasta "
   ]
  },
  {
   "cell_type": "code",
   "execution_count": null,
   "metadata": {},
   "outputs": [],
   "source": [
    "Obtener la linea de la primera o segunda coincidencia "
   ]
  },
  {
   "cell_type": "code",
   "execution_count": 82,
   "metadata": {},
   "outputs": [
    {
     "name": "stdout",
     "output_type": "stream",
     "text": [
      "\u001b[32m\u001b[K2\u001b[m\u001b[K\u001b[36m\u001b[K:\u001b[m\u001b[KGATCATTAGAGAAATCTATATGAATGAAGTTAGAGG\u001b[01;31m\u001b[KACGT\u001b[m\u001b[KCTAAAGATACTGTAAGAGAGGATCAGGTTC\n",
      "\u001b[32m\u001b[K4\u001b[m\u001b[K\u001b[36m\u001b[K:\u001b[m\u001b[KACTCTACTTCAACTTCTACAACACTGTGGAGTTTTCTACACAACTTTTCTTCTTTGGGAAGAT\u001b[01;31m\u001b[KACGT\u001b[m\u001b[KCTT\n"
     ]
    }
   ],
   "source": [
    "egrep -nm2 \"ACGT\" ~/Escritorio/rsg/Notebooks/ITS_region/T_delbrueckii.fasta "
   ]
  },
  {
   "cell_type": "markdown",
   "metadata": {},
   "source": [
    "#### En en caso de la enzima HincII presenta una secuencia de reconocimiento \"degenerada\". "
   ]
  },
  {
   "cell_type": "markdown",
   "metadata": {},
   "source": [
    "#### <center>__GTYRAC__</center>"
   ]
  },
  {
   "cell_type": "markdown",
   "metadata": {},
   "source": [
    "- En esos casos se puede realizar la busqueda de dos maneras "
   ]
  },
  {
   "cell_type": "markdown",
   "metadata": {},
   "source": [
    "#### La primera es mediante la utilización del simbolo pipe ( __|__ )"
   ]
  },
  {
   "cell_type": "code",
   "execution_count": 15,
   "metadata": {},
   "outputs": [
    {
     "name": "stdout",
     "output_type": "stream",
     "text": [
      "\u001b[35m\u001b[K/home/jeanramos/Escritorio/rsg/Notebooks/ITS_region/A_lentulus.fasta\u001b[m\u001b[K\u001b[36m\u001b[K:\u001b[m\u001b[K1\n",
      "\u001b[35m\u001b[K/home/jeanramos/Escritorio/rsg/Notebooks/ITS_region/A_niger.fasta\u001b[m\u001b[K\u001b[36m\u001b[K:\u001b[m\u001b[K1\n",
      "\u001b[35m\u001b[K/home/jeanramos/Escritorio/rsg/Notebooks/ITS_region/A_tubingensis.fasta\u001b[m\u001b[K\u001b[36m\u001b[K:\u001b[m\u001b[K1\n",
      "\u001b[35m\u001b[K/home/jeanramos/Escritorio/rsg/Notebooks/ITS_region/C_auris.fasta\u001b[m\u001b[K\u001b[36m\u001b[K:\u001b[m\u001b[K0\n",
      "\u001b[35m\u001b[K/home/jeanramos/Escritorio/rsg/Notebooks/ITS_region/C_galbrata.fasta\u001b[m\u001b[K\u001b[36m\u001b[K:\u001b[m\u001b[K1\n",
      "\u001b[35m\u001b[K/home/jeanramos/Escritorio/rsg/Notebooks/ITS_region/P_expansum.fasta\u001b[m\u001b[K\u001b[36m\u001b[K:\u001b[m\u001b[K1\n",
      "\u001b[35m\u001b[K/home/jeanramos/Escritorio/rsg/Notebooks/ITS_region/S_eubayanus.fasta\u001b[m\u001b[K\u001b[36m\u001b[K:\u001b[m\u001b[K1\n",
      "\u001b[35m\u001b[K/home/jeanramos/Escritorio/rsg/Notebooks/ITS_region/S_paradoxus.fasta\u001b[m\u001b[K\u001b[36m\u001b[K:\u001b[m\u001b[K0\n",
      "\u001b[35m\u001b[K/home/jeanramos/Escritorio/rsg/Notebooks/ITS_region/T_delbrueckii.fasta\u001b[m\u001b[K\u001b[36m\u001b[K:\u001b[m\u001b[K1\n",
      "\u001b[35m\u001b[K/home/jeanramos/Escritorio/rsg/Notebooks/ITS_region/T_gamsii.fasta\u001b[m\u001b[K\u001b[36m\u001b[K:\u001b[m\u001b[K1\n"
     ]
    }
   ],
   "source": [
    "egrep -c \"GTCAAC|GTCGAC|GTTAAC|GTTGAC\" ~/Escritorio/rsg/Notebooks/ITS_region/*.fasta "
   ]
  },
  {
   "cell_type": "markdown",
   "metadata": {},
   "source": [
    "#### Verificar mediante la etiqueta __-o__ "
   ]
  },
  {
   "cell_type": "code",
   "execution_count": 23,
   "metadata": {},
   "outputs": [
    {
     "name": "stdout",
     "output_type": "stream",
     "text": [
      "\u001b[35m\u001b[K/home/jeanramos/Escritorio/rsg/Notebooks/ITS_region/A_lentulus.fasta\u001b[m\u001b[K\u001b[36m\u001b[K:\u001b[m\u001b[K\u001b[01;31m\u001b[KGTTGAC\u001b[m\u001b[K\n",
      "\u001b[35m\u001b[K/home/jeanramos/Escritorio/rsg/Notebooks/ITS_region/A_niger.fasta\u001b[m\u001b[K\u001b[36m\u001b[K:\u001b[m\u001b[K\u001b[01;31m\u001b[KGTTGAC\u001b[m\u001b[K\n",
      "\u001b[35m\u001b[K/home/jeanramos/Escritorio/rsg/Notebooks/ITS_region/A_tubingensis.fasta\u001b[m\u001b[K\u001b[36m\u001b[K:\u001b[m\u001b[K\u001b[01;31m\u001b[KGTTGAC\u001b[m\u001b[K\n",
      "\u001b[35m\u001b[K/home/jeanramos/Escritorio/rsg/Notebooks/ITS_region/C_galbrata.fasta\u001b[m\u001b[K\u001b[36m\u001b[K:\u001b[m\u001b[K\u001b[01;31m\u001b[KGTCAAC\u001b[m\u001b[K\n",
      "\u001b[35m\u001b[K/home/jeanramos/Escritorio/rsg/Notebooks/ITS_region/P_expansum.fasta\u001b[m\u001b[K\u001b[36m\u001b[K:\u001b[m\u001b[K\u001b[01;31m\u001b[KGTTGAC\u001b[m\u001b[K\n",
      "\u001b[35m\u001b[K/home/jeanramos/Escritorio/rsg/Notebooks/ITS_region/S_eubayanus.fasta\u001b[m\u001b[K\u001b[36m\u001b[K:\u001b[m\u001b[K\u001b[01;31m\u001b[KGTTAAC\u001b[m\u001b[K\n",
      "\u001b[35m\u001b[K/home/jeanramos/Escritorio/rsg/Notebooks/ITS_region/T_delbrueckii.fasta\u001b[m\u001b[K\u001b[36m\u001b[K:\u001b[m\u001b[K\u001b[01;31m\u001b[KGTTAAC\u001b[m\u001b[K\n",
      "\u001b[35m\u001b[K/home/jeanramos/Escritorio/rsg/Notebooks/ITS_region/T_gamsii.fasta\u001b[m\u001b[K\u001b[36m\u001b[K:\u001b[m\u001b[K\u001b[01;31m\u001b[KGTTGAC\u001b[m\u001b[K\n"
     ]
    }
   ],
   "source": [
    "egrep -o \"GTCAAC|GTCGAC|GTTAAC|GTTGAC\" ~/Escritorio/rsg/Notebooks/ITS_region/*.fasta "
   ]
  },
  {
   "cell_type": "markdown",
   "metadata": {},
   "source": [
    "#### La segunda mediante la utilización de conjunto de caracteres __[ ]__"
   ]
  },
  {
   "cell_type": "code",
   "execution_count": 16,
   "metadata": {},
   "outputs": [
    {
     "name": "stdout",
     "output_type": "stream",
     "text": [
      "\u001b[35m\u001b[K/home/jeanramos/Escritorio/rsg/Notebooks/ITS_region/A_lentulus.fasta\u001b[m\u001b[K\u001b[36m\u001b[K:\u001b[m\u001b[K1\n",
      "\u001b[35m\u001b[K/home/jeanramos/Escritorio/rsg/Notebooks/ITS_region/A_niger.fasta\u001b[m\u001b[K\u001b[36m\u001b[K:\u001b[m\u001b[K1\n",
      "\u001b[35m\u001b[K/home/jeanramos/Escritorio/rsg/Notebooks/ITS_region/A_tubingensis.fasta\u001b[m\u001b[K\u001b[36m\u001b[K:\u001b[m\u001b[K1\n",
      "\u001b[35m\u001b[K/home/jeanramos/Escritorio/rsg/Notebooks/ITS_region/C_auris.fasta\u001b[m\u001b[K\u001b[36m\u001b[K:\u001b[m\u001b[K0\n",
      "\u001b[35m\u001b[K/home/jeanramos/Escritorio/rsg/Notebooks/ITS_region/C_galbrata.fasta\u001b[m\u001b[K\u001b[36m\u001b[K:\u001b[m\u001b[K1\n",
      "\u001b[35m\u001b[K/home/jeanramos/Escritorio/rsg/Notebooks/ITS_region/P_expansum.fasta\u001b[m\u001b[K\u001b[36m\u001b[K:\u001b[m\u001b[K1\n",
      "\u001b[35m\u001b[K/home/jeanramos/Escritorio/rsg/Notebooks/ITS_region/S_eubayanus.fasta\u001b[m\u001b[K\u001b[36m\u001b[K:\u001b[m\u001b[K1\n",
      "\u001b[35m\u001b[K/home/jeanramos/Escritorio/rsg/Notebooks/ITS_region/S_paradoxus.fasta\u001b[m\u001b[K\u001b[36m\u001b[K:\u001b[m\u001b[K0\n",
      "\u001b[35m\u001b[K/home/jeanramos/Escritorio/rsg/Notebooks/ITS_region/T_delbrueckii.fasta\u001b[m\u001b[K\u001b[36m\u001b[K:\u001b[m\u001b[K1\n",
      "\u001b[35m\u001b[K/home/jeanramos/Escritorio/rsg/Notebooks/ITS_region/T_gamsii.fasta\u001b[m\u001b[K\u001b[36m\u001b[K:\u001b[m\u001b[K1\n"
     ]
    }
   ],
   "source": [
    "egrep -c \"GT[CT][AG]AC\" ~/Escritorio/rsg/Notebooks/ITS_region/*.fasta "
   ]
  },
  {
   "cell_type": "markdown",
   "metadata": {},
   "source": [
    "#### Verificar mediante la etiqueta __-o__"
   ]
  },
  {
   "cell_type": "code",
   "execution_count": 93,
   "metadata": {},
   "outputs": [
    {
     "name": "stdout",
     "output_type": "stream",
     "text": [
      "\u001b[35m\u001b[K/home/jeanramos/Escritorio/rsg/Notebooks/ITS_region/A_lentulus.fasta\u001b[m\u001b[K\u001b[36m\u001b[K:\u001b[m\u001b[K\u001b[01;31m\u001b[KGAATTC\u001b[m\u001b[K\n",
      "\u001b[35m\u001b[K/home/jeanramos/Escritorio/rsg/Notebooks/ITS_region/A_niger.fasta\u001b[m\u001b[K\u001b[36m\u001b[K:\u001b[m\u001b[K\u001b[01;31m\u001b[KGAATTC\u001b[m\u001b[K\n",
      "\u001b[35m\u001b[K/home/jeanramos/Escritorio/rsg/Notebooks/ITS_region/A_tubingensis.fasta\u001b[m\u001b[K\u001b[36m\u001b[K:\u001b[m\u001b[K\u001b[01;31m\u001b[KGAATTC\u001b[m\u001b[K\n",
      "\u001b[35m\u001b[K/home/jeanramos/Escritorio/rsg/Notebooks/ITS_region/C_galbrata.fasta\u001b[m\u001b[K\u001b[36m\u001b[K:\u001b[m\u001b[K\u001b[01;31m\u001b[KGAATTC\u001b[m\u001b[K\n",
      "\u001b[35m\u001b[K/home/jeanramos/Escritorio/rsg/Notebooks/ITS_region/S_eubayanus.fasta\u001b[m\u001b[K\u001b[36m\u001b[K:\u001b[m\u001b[K\u001b[01;31m\u001b[KGAATTC\u001b[m\u001b[K\n",
      "\u001b[35m\u001b[K/home/jeanramos/Escritorio/rsg/Notebooks/ITS_region/S_paradoxus.fasta\u001b[m\u001b[K\u001b[36m\u001b[K:\u001b[m\u001b[K\u001b[01;31m\u001b[KGAATTC\u001b[m\u001b[K\n",
      "\u001b[35m\u001b[K/home/jeanramos/Escritorio/rsg/Notebooks/ITS_region/T_delbrueckii.fasta\u001b[m\u001b[K\u001b[36m\u001b[K:\u001b[m\u001b[K\u001b[01;31m\u001b[KGAATTC\u001b[m\u001b[K\n",
      "\u001b[35m\u001b[K/home/jeanramos/Escritorio/rsg/Notebooks/ITS_region/T_gamsii.fasta\u001b[m\u001b[K\u001b[36m\u001b[K:\u001b[m\u001b[K\u001b[01;31m\u001b[KGAATTC\u001b[m\u001b[K\n"
     ]
    }
   ],
   "source": [
    "egrep -o \"GAATTC\" ~/Escritorio/rsg/Notebooks/ITS_region/*.fasta "
   ]
  },
  {
   "cell_type": "markdown",
   "metadata": {},
   "source": [
    "#### Mostrar las lineas posterior y anterior donde hubo la coincidencia "
   ]
  },
  {
   "cell_type": "code",
   "execution_count": 83,
   "metadata": {},
   "outputs": [
    {
     "name": "stdout",
     "output_type": "stream",
     "text": [
      "\u001b[35m\u001b[K/home/jeanramos/Escritorio/rsg/Notebooks/ITS_region/A_lentulus.fasta\u001b[m\u001b[K\u001b[36m\u001b[K-\u001b[m\u001b[K>NR_135407.1 Aspergillus lentulus NRRL 35552 ITS region; from TYPE material\n",
      "\u001b[35m\u001b[K/home/jeanramos/Escritorio/rsg/Notebooks/ITS_region/A_lentulus.fasta\u001b[m\u001b[K\u001b[36m\u001b[K-\u001b[m\u001b[KAAGGATCATTACCGAGTGAGGGCCCTCTGGGTCCAACCTCCCACCCGTGTCTATCGTACCTTGTTGCTTC\n",
      "\u001b[35m\u001b[K/home/jeanramos/Escritorio/rsg/Notebooks/ITS_region/A_lentulus.fasta\u001b[m\u001b[K\u001b[36m\u001b[K-\u001b[m\u001b[KGGCGGGCCCGCCGTTTCGACGGCCGCCGGGGAGGCCTCGCGCCCCCGGGCCCGCGCCCGCCGAAGACCCC\n",
      "\u001b[35m\u001b[K/home/jeanramos/Escritorio/rsg/Notebooks/ITS_region/A_lentulus.fasta\u001b[m\u001b[K\u001b[36m\u001b[K-\u001b[m\u001b[KAACATGAACGCTGTTCTGAAAGTATGCAGTCTGAGTTGATTATCATAATCAGTTAAAACTTTCAACAACG\n",
      "\u001b[35m\u001b[K/home/jeanramos/Escritorio/rsg/Notebooks/ITS_region/A_lentulus.fasta\u001b[m\u001b[K\u001b[36m\u001b[K:\u001b[m\u001b[KGATCTCTTGGTTCCGGCATCGATGAAGAACGCAGCGAAATGCGATAAGTAATGTGAATTGCA\u001b[01;31m\u001b[KGAATTC\u001b[m\u001b[KAG\n",
      "\u001b[35m\u001b[K/home/jeanramos/Escritorio/rsg/Notebooks/ITS_region/A_lentulus.fasta\u001b[m\u001b[K\u001b[36m\u001b[K-\u001b[m\u001b[KTGAATCATCGAGTCTTTGAACGCACATTGCGCCCCCTGGTATTCCGGGGGGCATGCCTGTCCGAGCGTCA\n",
      "\u001b[35m\u001b[K/home/jeanramos/Escritorio/rsg/Notebooks/ITS_region/A_lentulus.fasta\u001b[m\u001b[K\u001b[36m\u001b[K-\u001b[m\u001b[KTTGCTGCCCTCAAGCACGGCTTGTGTGTTGGGCCCCGTCCCCTCCCCCGGGGACGGGCCCGAAAGGCAGC\n",
      "\u001b[35m\u001b[K/home/jeanramos/Escritorio/rsg/Notebooks/ITS_region/A_lentulus.fasta\u001b[m\u001b[K\u001b[36m\u001b[K-\u001b[m\u001b[KGGCGGCACCGCGTCCGGTCCTCGAGCGTATGGGGCTTTGTCACCCGCTCTGTAGGCCCGGCCGGCGCCAG\n",
      "\u001b[35m\u001b[K/home/jeanramos/Escritorio/rsg/Notebooks/ITS_region/A_lentulus.fasta\u001b[m\u001b[K\u001b[36m\u001b[K-\u001b[m\u001b[KCCGACACCCAACTTTATTTTCTAAGGTTGACCTCGGATCAGGTAGGGATACCCGCTGAACTTACGCATAT\n",
      "\u001b[35m\u001b[K/home/jeanramos/Escritorio/rsg/Notebooks/ITS_region/A_lentulus.fasta\u001b[m\u001b[K\u001b[36m\u001b[K-\u001b[m\u001b[KCAATAAGCGGAGGAAAAGAAACCAACAGGGATTGCCTCAGTAACGGCGAGTGAA\n",
      "\u001b[35m\u001b[K/home/jeanramos/Escritorio/rsg/Notebooks/ITS_region/A_lentulus.fasta\u001b[m\u001b[K\u001b[36m\u001b[K-\u001b[m\u001b[K\n",
      "\u001b[36m\u001b[K--\u001b[m\u001b[K\n",
      "\u001b[35m\u001b[K/home/jeanramos/Escritorio/rsg/Notebooks/ITS_region/A_niger.fasta\u001b[m\u001b[K\u001b[36m\u001b[K-\u001b[m\u001b[K>NR_111348.1 Aspergillus niger ATCC 16888 ITS region; from TYPE material\n",
      "\u001b[35m\u001b[K/home/jeanramos/Escritorio/rsg/Notebooks/ITS_region/A_niger.fasta\u001b[m\u001b[K\u001b[36m\u001b[K-\u001b[m\u001b[KGTAGGTGAACCTGCGGAAGGATCATTACCGAGTGCGGGTCCTTTGGGCCCAACCTCCCATCCGTGTCTAT\n",
      "\u001b[35m\u001b[K/home/jeanramos/Escritorio/rsg/Notebooks/ITS_region/A_niger.fasta\u001b[m\u001b[K\u001b[36m\u001b[K-\u001b[m\u001b[KTGTACCCTGTTGCTTCGGCGGGCCCGCCGCTTGTCGGCCGCCGGGGGGGCGCCTCTGCCCCCCGGGCCCG\n",
      "\u001b[35m\u001b[K/home/jeanramos/Escritorio/rsg/Notebooks/ITS_region/A_niger.fasta\u001b[m\u001b[K\u001b[36m\u001b[K-\u001b[m\u001b[KTGCCCGCCGGAGACCCCAACACGAACACTGTCTGAAAGCGTGCAGTCTGAGTTGATTGAATGCAATCAGT\n",
      "\u001b[35m\u001b[K/home/jeanramos/Escritorio/rsg/Notebooks/ITS_region/A_niger.fasta\u001b[m\u001b[K\u001b[36m\u001b[K-\u001b[m\u001b[KTAAAACTTTCAACAATGGATCTCTTGGTTCCGGCATCGATGAAGAACGCAGCGAAATGCGATAACTAATG\n",
      "\u001b[35m\u001b[K/home/jeanramos/Escritorio/rsg/Notebooks/ITS_region/A_niger.fasta\u001b[m\u001b[K\u001b[36m\u001b[K:\u001b[m\u001b[KTGAATTGCA\u001b[01;31m\u001b[KGAATTC\u001b[m\u001b[KAGTGAATCATCGAGTCTTTGAACGCACATTGCGCCCCCTGGTATTCCGGGGGGCA\n",
      "\u001b[35m\u001b[K/home/jeanramos/Escritorio/rsg/Notebooks/ITS_region/A_niger.fasta\u001b[m\u001b[K\u001b[36m\u001b[K-\u001b[m\u001b[KTGCCTGTCCGAGCGTCATTGCTGCCCTCAAGCCCGGCTTGTGTGTTGGGTCGCCGTCCCCCTCTCCGGGG\n",
      "\u001b[35m\u001b[K/home/jeanramos/Escritorio/rsg/Notebooks/ITS_region/A_niger.fasta\u001b[m\u001b[K\u001b[36m\u001b[K-\u001b[m\u001b[KGGACGGGCCCGAAAGGCAGCGGCGGCACCGCGTCCGATCCTCGAGCGTATGGGGCTTTGTCACATGCTCT\n",
      "\u001b[35m\u001b[K/home/jeanramos/Escritorio/rsg/Notebooks/ITS_region/A_niger.fasta\u001b[m\u001b[K\u001b[36m\u001b[K-\u001b[m\u001b[KGTAGGATTGGCCGGCGCCTGCCGACGTTTTCCAACCATTCTTTCCAGGTTGACCTCGGATCAGGTAGGGA\n",
      "\u001b[35m\u001b[K/home/jeanramos/Escritorio/rsg/Notebooks/ITS_region/A_niger.fasta\u001b[m\u001b[K\u001b[36m\u001b[K-\u001b[m\u001b[KTACCCGCTGAACTTAA\n",
      "\u001b[35m\u001b[K/home/jeanramos/Escritorio/rsg/Notebooks/ITS_region/A_niger.fasta\u001b[m\u001b[K\u001b[36m\u001b[K-\u001b[m\u001b[K\n",
      "\u001b[36m\u001b[K--\u001b[m\u001b[K\n",
      "\u001b[35m\u001b[K/home/jeanramos/Escritorio/rsg/Notebooks/ITS_region/A_tubingensis.fasta\u001b[m\u001b[K\u001b[36m\u001b[K-\u001b[m\u001b[K>NR_131293.1 Aspergillus tubingensis NRRL 4875 ITS region; from TYPE material\n",
      "\u001b[35m\u001b[K/home/jeanramos/Escritorio/rsg/Notebooks/ITS_region/A_tubingensis.fasta\u001b[m\u001b[K\u001b[36m\u001b[K-\u001b[m\u001b[KCGAGTGCGGGTCCTTTGGGCCCAACCTCCCATCCGTGTCTATTATACCCTGTTGCTTCGGCGGGCCCGCC\n",
      "\u001b[35m\u001b[K/home/jeanramos/Escritorio/rsg/Notebooks/ITS_region/A_tubingensis.fasta\u001b[m\u001b[K\u001b[36m\u001b[K-\u001b[m\u001b[KGCTTGTCGGCCGCCGGGGGGGCGCCTTTGCCCCCCGGGCCCGTGCCCGCCGGAGACCCCAACACGAACAC\n",
      "\u001b[35m\u001b[K/home/jeanramos/Escritorio/rsg/Notebooks/ITS_region/A_tubingensis.fasta\u001b[m\u001b[K\u001b[36m\u001b[K-\u001b[m\u001b[KTGTCTGAAAGCGTGCAGTCTGAGTTGATTGAATGCAATCAGTTAAAACTTTCAACAATGGATCTCTTGGT\n",
      "\u001b[35m\u001b[K/home/jeanramos/Escritorio/rsg/Notebooks/ITS_region/A_tubingensis.fasta\u001b[m\u001b[K\u001b[36m\u001b[K:\u001b[m\u001b[KTCCGGCATCGATGAAGAACGCAGCGAAATGCGATAACTAATGTGAATTGCA\u001b[01;31m\u001b[KGAATTC\u001b[m\u001b[KAGTGAATCATCGA\n",
      "\u001b[35m\u001b[K/home/jeanramos/Escritorio/rsg/Notebooks/ITS_region/A_tubingensis.fasta\u001b[m\u001b[K\u001b[36m\u001b[K-\u001b[m\u001b[KGTCTTTGAACGCACATTGCGCCCCCTGGTATTCCGGGGGGCATGCCTGTCCGAGCGTCATTGCTGCCCTC\n",
      "\u001b[35m\u001b[K/home/jeanramos/Escritorio/rsg/Notebooks/ITS_region/A_tubingensis.fasta\u001b[m\u001b[K\u001b[36m\u001b[K-\u001b[m\u001b[KAAGCCCGGCTTGTGTGTTGGGTCGCCGTCCCCCTCTCCGGGGGGACGGGCCCGAAAGGCAGCGGCGGCAC\n",
      "\u001b[35m\u001b[K/home/jeanramos/Escritorio/rsg/Notebooks/ITS_region/A_tubingensis.fasta\u001b[m\u001b[K\u001b[36m\u001b[K-\u001b[m\u001b[KCGCGTCCGATCCTCGAGCGTATGGGGCTTTGTCACATGCTCTGTAGGATTGGCCGGCGCCTGCCGACGTT\n",
      "\u001b[35m\u001b[K/home/jeanramos/Escritorio/rsg/Notebooks/ITS_region/A_tubingensis.fasta\u001b[m\u001b[K\u001b[36m\u001b[K-\u001b[m\u001b[KTTCCAACCATTTTTTCCAGGTTGACCTCGGATCAGGTAGGGATACCCGCTGAACTTAAGCATATCAATAA\n",
      "\u001b[35m\u001b[K/home/jeanramos/Escritorio/rsg/Notebooks/ITS_region/A_tubingensis.fasta\u001b[m\u001b[K\u001b[36m\u001b[K-\u001b[m\u001b[KGCGGAGGAAAAGAAACCAACCGGGATTGCCTCAGTAACGGCGAGTGAA\n",
      "\u001b[35m\u001b[K/home/jeanramos/Escritorio/rsg/Notebooks/ITS_region/A_tubingensis.fasta\u001b[m\u001b[K\u001b[36m\u001b[K-\u001b[m\u001b[K\n",
      "\u001b[36m\u001b[K--\u001b[m\u001b[K\n",
      "\u001b[35m\u001b[K/home/jeanramos/Escritorio/rsg/Notebooks/ITS_region/C_galbrata.fasta\u001b[m\u001b[K\u001b[36m\u001b[K-\u001b[m\u001b[K>NR_130691.1 [Candida] glabrata NRRL Y-65 ITS region; from TYPE material\n",
      "\u001b[35m\u001b[K/home/jeanramos/Escritorio/rsg/Notebooks/ITS_region/C_galbrata.fasta\u001b[m\u001b[K\u001b[36m\u001b[K-\u001b[m\u001b[KTAAGTGCGCGGTTGGTGGGTGTTCTGCAGTGGGGGGAGGGAGCCGACAAAGACCTGGGAGTGTGCGTGGA\n",
      "\u001b[35m\u001b[K/home/jeanramos/Escritorio/rsg/Notebooks/ITS_region/C_galbrata.fasta\u001b[m\u001b[K\u001b[36m\u001b[K-\u001b[m\u001b[KTCTCTCTATTCCAAAGGAGGTGTTTTATCACACGACTCGACACTTTCTAATTACTACACACAGTGGAGTT\n",
      "\u001b[35m\u001b[K/home/jeanramos/Escritorio/rsg/Notebooks/ITS_region/C_galbrata.fasta\u001b[m\u001b[K\u001b[36m\u001b[K-\u001b[m\u001b[KTACTTTACTACTATTCTTTTGTTCGTTGGGGGAACGCTCTCTTTCGGGGGGGAGTTCTCCCAGTGGATGC\n",
      "\u001b[35m\u001b[K/home/jeanramos/Escritorio/rsg/Notebooks/ITS_region/C_galbrata.fasta\u001b[m\u001b[K\u001b[36m\u001b[K-\u001b[m\u001b[KAAACACAAACAAATATTTTTTTAAACTAATTCAGTCAACACAAGATTTCTTTTAGTAGAAAACAACTTCA\n",
      "\u001b[35m\u001b[K/home/jeanramos/Escritorio/rsg/Notebooks/ITS_region/C_galbrata.fasta\u001b[m\u001b[K\u001b[36m\u001b[K-\u001b[m\u001b[KAAACTTTCAACAATGGATCTCTTGGTTCTCGCATCGATGAAGAACGCAGCGAAATGCGATACGTAATGTG\n",
      "\u001b[35m\u001b[K/home/jeanramos/Escritorio/rsg/Notebooks/ITS_region/C_galbrata.fasta\u001b[m\u001b[K\u001b[36m\u001b[K:\u001b[m\u001b[KAATTGCA\u001b[01;31m\u001b[KGAATTC\u001b[m\u001b[KCGTGAATCATCGAATCTTTGAACGCACATTGCGCCCTCTGGTATTCCGGGGGGCATG\n",
      "\u001b[35m\u001b[K/home/jeanramos/Escritorio/rsg/Notebooks/ITS_region/C_galbrata.fasta\u001b[m\u001b[K\u001b[36m\u001b[K-\u001b[m\u001b[KCCTGTTTGAGCGTCATTTCCTTCTCAAACACATTGTGTTTGGTAGTGAGTGATACTCGTTTTTGAGTTAA\n",
      "\u001b[35m\u001b[K/home/jeanramos/Escritorio/rsg/Notebooks/ITS_region/C_galbrata.fasta\u001b[m\u001b[K\u001b[36m\u001b[K-\u001b[m\u001b[KCTTGAAATTGTAGGCCATATCAGTATGTGGGACACGAGCGCAAGCTTCTCTATTAATCTGCTGCTCGTTT\n",
      "\u001b[35m\u001b[K/home/jeanramos/Escritorio/rsg/Notebooks/ITS_region/C_galbrata.fasta\u001b[m\u001b[K\u001b[36m\u001b[K-\u001b[m\u001b[KGCGCGAGCGGCGGGGGTTAATACTGTATTAGGTTTTACCAACTCGGTGTTGATCTAGGGAGGGATAAGTG\n",
      "\u001b[35m\u001b[K/home/jeanramos/Escritorio/rsg/Notebooks/ITS_region/C_galbrata.fasta\u001b[m\u001b[K\u001b[36m\u001b[K-\u001b[m\u001b[KAGTGTTTTGTGCGTGCTGGGCAGACAGACGTCTTTAAGTTTGACCTCAAATCAGGTAGGGTTACCCGCTG\n",
      "\u001b[35m\u001b[K/home/jeanramos/Escritorio/rsg/Notebooks/ITS_region/C_galbrata.fasta\u001b[m\u001b[K\u001b[36m\u001b[K-\u001b[m\u001b[KAACTTAA\n",
      "\u001b[35m\u001b[K/home/jeanramos/Escritorio/rsg/Notebooks/ITS_region/C_galbrata.fasta\u001b[m\u001b[K\u001b[36m\u001b[K-\u001b[m\u001b[K\n",
      "\u001b[36m\u001b[K--\u001b[m\u001b[K\n",
      "\u001b[35m\u001b[K/home/jeanramos/Escritorio/rsg/Notebooks/ITS_region/S_eubayanus.fasta\u001b[m\u001b[K\u001b[36m\u001b[K-\u001b[m\u001b[K>NR_137586.1 Saccharomyces eubayanus PYCC 6148 ITS region; from TYPE material\n",
      "\u001b[35m\u001b[K/home/jeanramos/Escritorio/rsg/Notebooks/ITS_region/S_eubayanus.fasta\u001b[m\u001b[K\u001b[36m\u001b[K-\u001b[m\u001b[KGAGCGTGAGAGCTTTTACTGGGCAAGAAGACAAGAGATGGAGAGTCCAGCCGGGCCTGCGCTTAAGTGCG\n",
      "\u001b[35m\u001b[K/home/jeanramos/Escritorio/rsg/Notebooks/ITS_region/S_eubayanus.fasta\u001b[m\u001b[K\u001b[36m\u001b[K-\u001b[m\u001b[KCGGTCTTGCTAGGCTTGCAAATTTCTTTCTTGCTATTCCAAACAGTGAGACTTCTCTGTTTTTGTTATAG\n",
      "\u001b[35m\u001b[K/home/jeanramos/Escritorio/rsg/Notebooks/ITS_region/S_eubayanus.fasta\u001b[m\u001b[K\u001b[36m\u001b[K-\u001b[m\u001b[KGACAATTAAAACCGTTTCAATACAACACACTGTGGAGTTTTTATACTTTTGCAACTTTTTCTTTGGGTTT\n",
      "\u001b[35m\u001b[K/home/jeanramos/Escritorio/rsg/Notebooks/ITS_region/S_eubayanus.fasta\u001b[m\u001b[K\u001b[36m\u001b[K-\u001b[m\u001b[KCGAGCAATCGAGCCCAGAGGTAACAAACACAAACAATTTTATTTATTCATTAAATTTTTGTCAAAAACAA\n",
      "\u001b[35m\u001b[K/home/jeanramos/Escritorio/rsg/Notebooks/ITS_region/S_eubayanus.fasta\u001b[m\u001b[K\u001b[36m\u001b[K-\u001b[m\u001b[KGAATTTTCGTAACTGGAAATTTTAAAAATAATTAAAAACTTTCAACAACGGATCTCTTGGTTCTCGCATC\n",
      "\u001b[35m\u001b[K/home/jeanramos/Escritorio/rsg/Notebooks/ITS_region/S_eubayanus.fasta\u001b[m\u001b[K\u001b[36m\u001b[K:\u001b[m\u001b[KGATGAAGAACGCAGCGAAATGCGATACGTAATGTGAATTGCA\u001b[01;31m\u001b[KGAATTC\u001b[m\u001b[KCGTGAATCATCGAATCTTTGAA\n",
      "\u001b[35m\u001b[K/home/jeanramos/Escritorio/rsg/Notebooks/ITS_region/S_eubayanus.fasta\u001b[m\u001b[K\u001b[36m\u001b[K-\u001b[m\u001b[KCGCACATTGCGCCCCTTGGTATTCCAGGGGGCATGCCTGTTTGAGCGTCATTTCCTTCTCAAACATTCTG\n",
      "\u001b[35m\u001b[K/home/jeanramos/Escritorio/rsg/Notebooks/ITS_region/S_eubayanus.fasta\u001b[m\u001b[K\u001b[36m\u001b[K-\u001b[m\u001b[KTTTGGTAGTGAGTGATACTCTCTGGAGTTAACTTGAAATTGCTGGCCTTTTCATTGGATGTTTTTTTTCC\n",
      "\u001b[35m\u001b[K/home/jeanramos/Escritorio/rsg/Notebooks/ITS_region/S_eubayanus.fasta\u001b[m\u001b[K\u001b[36m\u001b[K-\u001b[m\u001b[KAAAGAGAGGTTTCTCTGCGTGCTTGAGGTATAATGCAAGTACGGTCGTTTTAGGTTTTACCAACTGCGGC\n",
      "\u001b[35m\u001b[K/home/jeanramos/Escritorio/rsg/Notebooks/ITS_region/S_eubayanus.fasta\u001b[m\u001b[K\u001b[36m\u001b[K-\u001b[m\u001b[KTAATCTTTTTTGTACTGAGCGTATTGAAACGTTATCGATAAGAAGAGAGCGTCTAGGCGAACAATGTTCT\n",
      "\u001b[35m\u001b[K/home/jeanramos/Escritorio/rsg/Notebooks/ITS_region/S_eubayanus.fasta\u001b[m\u001b[K\u001b[36m\u001b[K-\u001b[m\u001b[KTAAAGTTTGACCTCAAATC\n",
      "\u001b[35m\u001b[K/home/jeanramos/Escritorio/rsg/Notebooks/ITS_region/S_eubayanus.fasta\u001b[m\u001b[K\u001b[36m\u001b[K-\u001b[m\u001b[K\n",
      "\u001b[36m\u001b[K--\u001b[m\u001b[K\n",
      "\u001b[35m\u001b[K/home/jeanramos/Escritorio/rsg/Notebooks/ITS_region/S_paradoxus.fasta\u001b[m\u001b[K\u001b[36m\u001b[K-\u001b[m\u001b[K>NR_138272.1 Saccharomyces paradoxus CBS 432 ITS region; from TYPE material\n",
      "\u001b[35m\u001b[K/home/jeanramos/Escritorio/rsg/Notebooks/ITS_region/S_paradoxus.fasta\u001b[m\u001b[K\u001b[36m\u001b[K-\u001b[m\u001b[KAATTTAATAATTTTGAAAATGGATTTTTTGTTTTGGCAGGAGCATGAGAGCTTTTACTGGGCAAGAAGAC\n",
      "\u001b[35m\u001b[K/home/jeanramos/Escritorio/rsg/Notebooks/ITS_region/S_paradoxus.fasta\u001b[m\u001b[K\u001b[36m\u001b[K-\u001b[m\u001b[KAAGAGATGGAGAGTCCAGTCGGGCCTGCGCTTAAGTGCGCGGTCTTGCTTGGCTTGTAAGTTTCTTTCTT\n",
      "\u001b[35m\u001b[K/home/jeanramos/Escritorio/rsg/Notebooks/ITS_region/S_paradoxus.fasta\u001b[m\u001b[K\u001b[36m\u001b[K-\u001b[m\u001b[KGCTATTCCAAACGGTGAGAGATTTCTGTGCTATTGTTATAGGACAATTAAAACCGTTTCAATACAACACA\n",
      "\u001b[35m\u001b[K/home/jeanramos/Escritorio/rsg/Notebooks/ITS_region/S_paradoxus.fasta\u001b[m\u001b[K\u001b[36m\u001b[K-\u001b[m\u001b[KCTGTGGAGTTTTCATATCTTTGCAACTTTTTCTTTGGGCATTCGAGCAATCGAGGCCCAGAGGTAACAAA\n",
      "\u001b[35m\u001b[K/home/jeanramos/Escritorio/rsg/Notebooks/ITS_region/S_paradoxus.fasta\u001b[m\u001b[K\u001b[36m\u001b[K-\u001b[m\u001b[KCACAAACAATTTTATTTATTCATTAAATTTTTGTCAAAAACAAGAATTTTCGTAACTGGAAATTTTAAAA\n",
      "\u001b[35m\u001b[K/home/jeanramos/Escritorio/rsg/Notebooks/ITS_region/S_paradoxus.fasta\u001b[m\u001b[K\u001b[36m\u001b[K-\u001b[m\u001b[KATATTAAAAACTTTCAACAACGGATCTCTTGGTTCTCGCATCGATGAAGAACGCAGCGAAATGCGATACG\n",
      "\u001b[35m\u001b[K/home/jeanramos/Escritorio/rsg/Notebooks/ITS_region/S_paradoxus.fasta\u001b[m\u001b[K\u001b[36m\u001b[K:\u001b[m\u001b[KTAATGTGAATTGCA\u001b[01;31m\u001b[KGAATTC\u001b[m\u001b[KCGTGAATCATCGAATCTTTGAACGCACATTGCGCCCCTTGGTATTCCAGG\n",
      "\u001b[35m\u001b[K/home/jeanramos/Escritorio/rsg/Notebooks/ITS_region/S_paradoxus.fasta\u001b[m\u001b[K\u001b[36m\u001b[K-\u001b[m\u001b[KGGGCATGCCTGTTTGAGCGTCATTTCCTTCTCAAACATTCTGTTTGGTAGTGAGTGATACTCTTTGGAGT\n",
      "\u001b[35m\u001b[K/home/jeanramos/Escritorio/rsg/Notebooks/ITS_region/S_paradoxus.fasta\u001b[m\u001b[K\u001b[36m\u001b[K-\u001b[m\u001b[KTAACTTGAAATTGCTGGCCTTTTCATTGGATGTTTTTTTTCCAAAGAGAGGTTTCTCTGCGTGCTTGAGG\n",
      "\u001b[35m\u001b[K/home/jeanramos/Escritorio/rsg/Notebooks/ITS_region/S_paradoxus.fasta\u001b[m\u001b[K\u001b[36m\u001b[K-\u001b[m\u001b[KTATAATGCAAGTACGGTCGTTTTAGGTTTTACCAACTGCGGCTAATCTTTTTTGTACTGAGCGTATTGGA\n",
      "\u001b[35m\u001b[K/home/jeanramos/Escritorio/rsg/Notebooks/ITS_region/S_paradoxus.fasta\u001b[m\u001b[K\u001b[36m\u001b[K-\u001b[m\u001b[KACGTTATCGATAAGAAGAGAGCGTCTAGGCGAACAATGTTTCTTAAAGTTTGACCTCAAATCAGGT\n",
      "\u001b[35m\u001b[K/home/jeanramos/Escritorio/rsg/Notebooks/ITS_region/S_paradoxus.fasta\u001b[m\u001b[K\u001b[36m\u001b[K-\u001b[m\u001b[K\n",
      "\u001b[36m\u001b[K--\u001b[m\u001b[K\n",
      "\u001b[35m\u001b[K/home/jeanramos/Escritorio/rsg/Notebooks/ITS_region/T_delbrueckii.fasta\u001b[m\u001b[K\u001b[36m\u001b[K-\u001b[m\u001b[K>NR_111257.1 Torulaspora delbrueckii CBS 1146 ITS region; from TYPE material\n",
      "\u001b[35m\u001b[K/home/jeanramos/Escritorio/rsg/Notebooks/ITS_region/T_delbrueckii.fasta\u001b[m\u001b[K\u001b[36m\u001b[K-\u001b[m\u001b[KGATCATTAGAGAAATCTATATGAATGAAGTTAGAGGACGTCTAAAGATACTGTAAGAGAGGATCAGGTTC\n",
      "\u001b[35m\u001b[K/home/jeanramos/Escritorio/rsg/Notebooks/ITS_region/T_delbrueckii.fasta\u001b[m\u001b[K\u001b[36m\u001b[K-\u001b[m\u001b[KAAGACCAGCGCTTAATTGCGCGGTTGCGGCTTGGTTCGCCTTTTGCGGAACATGTCTTTTCTCGTTGTTA\n",
      "\u001b[35m\u001b[K/home/jeanramos/Escritorio/rsg/Notebooks/ITS_region/T_delbrueckii.fasta\u001b[m\u001b[K\u001b[36m\u001b[K-\u001b[m\u001b[KACTCTACTTCAACTTCTACAACACTGTGGAGTTTTCTACACAACTTTTCTTCTTTGGGAAGATACGTCTT\n",
      "\u001b[35m\u001b[K/home/jeanramos/Escritorio/rsg/Notebooks/ITS_region/T_delbrueckii.fasta\u001b[m\u001b[K\u001b[36m\u001b[K-\u001b[m\u001b[KGTGCGTGCTTCCCAGAGGTGACAAACACAAACAACTTTTTATTATTATAAACCAGTCAAAACCAATTTCG\n",
      "\u001b[35m\u001b[K/home/jeanramos/Escritorio/rsg/Notebooks/ITS_region/T_delbrueckii.fasta\u001b[m\u001b[K\u001b[36m\u001b[K-\u001b[m\u001b[KTTATGAAATTAAAAATATTTAAAACTTTCAACAACGGATCTCTTGGTTCTCGCATCGATGAAGAACGCAG\n",
      "\u001b[35m\u001b[K/home/jeanramos/Escritorio/rsg/Notebooks/ITS_region/T_delbrueckii.fasta\u001b[m\u001b[K\u001b[36m\u001b[K:\u001b[m\u001b[KCGAAATGCGATACGTAATGTGAATTGCA\u001b[01;31m\u001b[KGAATTC\u001b[m\u001b[KCGTGAATCATCGAATCTTTGAACGCACATTGCGCCC\n",
      "\u001b[35m\u001b[K/home/jeanramos/Escritorio/rsg/Notebooks/ITS_region/T_delbrueckii.fasta\u001b[m\u001b[K\u001b[36m\u001b[K-\u001b[m\u001b[KCTTGGTATTCCAGGGGGCATGCCTGTTTGAGCGTCATTTCCTTCTCAAACAATCATGTTTGGTAGTGAGT\n",
      "\u001b[35m\u001b[K/home/jeanramos/Escritorio/rsg/Notebooks/ITS_region/T_delbrueckii.fasta\u001b[m\u001b[K\u001b[36m\u001b[K-\u001b[m\u001b[KGATACTCTGTCAAGGGTTAACTTGAAATTGCTAGCCTGTTATTTGGTTGTGATTTTGCTGGCTTGGATGA\n",
      "\u001b[35m\u001b[K/home/jeanramos/Escritorio/rsg/Notebooks/ITS_region/T_delbrueckii.fasta\u001b[m\u001b[K\u001b[36m\u001b[K-\u001b[m\u001b[KCTTTGTCCAGTCTAGCTAATACCGAATTGTCGTATTAGGTTTTACCAACTTCGGCAGACTGTGTGTTGGC\n",
      "\u001b[35m\u001b[K/home/jeanramos/Escritorio/rsg/Notebooks/ITS_region/T_delbrueckii.fasta\u001b[m\u001b[K\u001b[36m\u001b[K-\u001b[m\u001b[KTCGGGCGCTTTAAAGACTTTGTCGTAAACGATTTATCGTTTGTTTGAGCTTTTCGCATACGCAATCCGGC\n",
      "\u001b[35m\u001b[K/home/jeanramos/Escritorio/rsg/Notebooks/ITS_region/T_delbrueckii.fasta\u001b[m\u001b[K\u001b[36m\u001b[K-\u001b[m\u001b[KGAACAATACTCTCAAAGTTTGACCTCAAATCAGGTAGGAATACCCGCTGAACTTAA\n",
      "\u001b[35m\u001b[K/home/jeanramos/Escritorio/rsg/Notebooks/ITS_region/T_delbrueckii.fasta\u001b[m\u001b[K\u001b[36m\u001b[K-\u001b[m\u001b[K\n",
      "\u001b[36m\u001b[K--\u001b[m\u001b[K\n",
      "\u001b[35m\u001b[K/home/jeanramos/Escritorio/rsg/Notebooks/ITS_region/T_gamsii.fasta\u001b[m\u001b[K\u001b[36m\u001b[K-\u001b[m\u001b[K>NR_131317.1 Trichoderma gamsii ITS region; from reference material\n",
      "\u001b[35m\u001b[K/home/jeanramos/Escritorio/rsg/Notebooks/ITS_region/T_gamsii.fasta\u001b[m\u001b[K\u001b[36m\u001b[K-\u001b[m\u001b[KTTACCGAGTTTACACTCCCAAACCCAATGTGAACCATACCAAACTGTTGCCTCGGCGGGGTCACGCCCCG\n",
      "\u001b[35m\u001b[K/home/jeanramos/Escritorio/rsg/Notebooks/ITS_region/T_gamsii.fasta\u001b[m\u001b[K\u001b[36m\u001b[K-\u001b[m\u001b[KGGTGCGTCGCAGCCCCGGAACCAGGCGCCCGCCGGAGGGACCAACCAAACTCTTTTCTGTAGTCCCCTCG\n",
      "\u001b[35m\u001b[K/home/jeanramos/Escritorio/rsg/Notebooks/ITS_region/T_gamsii.fasta\u001b[m\u001b[K\u001b[36m\u001b[K-\u001b[m\u001b[KCGGACGTTATTTCTTACAGCTCTGAGCAAAAATTCAAAATGAATCAAAACTTTCAACAACGGATCTCTTG\n",
      "\u001b[35m\u001b[K/home/jeanramos/Escritorio/rsg/Notebooks/ITS_region/T_gamsii.fasta\u001b[m\u001b[K\u001b[36m\u001b[K:\u001b[m\u001b[KGTTCTGGCATCGATGAAGAACGCAGCGAAATGCGATAAGTAATGTGAATTGCA\u001b[01;31m\u001b[KGAATTC\u001b[m\u001b[KAGTGAATCATC\n",
      "\u001b[35m\u001b[K/home/jeanramos/Escritorio/rsg/Notebooks/ITS_region/T_gamsii.fasta\u001b[m\u001b[K\u001b[36m\u001b[K-\u001b[m\u001b[KGAATCTTTGAACGCACATTGCGCCCGCCAGTATTCTGGCGGGCATGCCTGTCCGAGCGTCATTTCAACCC\n",
      "\u001b[35m\u001b[K/home/jeanramos/Escritorio/rsg/Notebooks/ITS_region/T_gamsii.fasta\u001b[m\u001b[K\u001b[36m\u001b[K-\u001b[m\u001b[KTCGAACCCCTCCGGGGGGTCGGCGTTGGGGATCGGGAACCCCTAAGACGGGATCCCGGCCCCGAAATACA\n",
      "\u001b[35m\u001b[K/home/jeanramos/Escritorio/rsg/Notebooks/ITS_region/T_gamsii.fasta\u001b[m\u001b[K\u001b[36m\u001b[K-\u001b[m\u001b[KGTGGCGGTCTCGCCGCAGCCTCTCCTGCGCAGTAGTTTGCACAACTCGCACCGGGAGCGCGGCGCGTCCA\n",
      "\u001b[35m\u001b[K/home/jeanramos/Escritorio/rsg/Notebooks/ITS_region/T_gamsii.fasta\u001b[m\u001b[K\u001b[36m\u001b[K-\u001b[m\u001b[KCGTCCGTAAAACACCCAACTTCTGAAATGTTGACCTCGGATCAGGTAGGAATACCCGCTGAACTTAAGCA\n",
      "\u001b[35m\u001b[K/home/jeanramos/Escritorio/rsg/Notebooks/ITS_region/T_gamsii.fasta\u001b[m\u001b[K\u001b[36m\u001b[K-\u001b[m\u001b[KTATCAATAA\n",
      "\u001b[35m\u001b[K/home/jeanramos/Escritorio/rsg/Notebooks/ITS_region/T_gamsii.fasta\u001b[m\u001b[K\u001b[36m\u001b[K-\u001b[m\u001b[K\n"
     ]
    }
   ],
   "source": [
    "grep -B10 -A10 -H \"GAATTC\" ~/Escritorio/rsg/Notebooks/ITS_region/*.fasta "
   ]
  },
  {
   "cell_type": "markdown",
   "metadata": {},
   "source": [
    "#### Se puede utilizar la etiqueta __-h__ para obtener la salida mas clara "
   ]
  },
  {
   "cell_type": "code",
   "execution_count": 85,
   "metadata": {},
   "outputs": [
    {
     "name": "stdout",
     "output_type": "stream",
     "text": [
      ">NR_135407.1 Aspergillus lentulus NRRL 35552 ITS region; from TYPE material\n",
      "AAGGATCATTACCGAGTGAGGGCCCTCTGGGTCCAACCTCCCACCCGTGTCTATCGTACCTTGTTGCTTC\n",
      "GGCGGGCCCGCCGTTTCGACGGCCGCCGGGGAGGCCTCGCGCCCCCGGGCCCGCGCCCGCCGAAGACCCC\n",
      "AACATGAACGCTGTTCTGAAAGTATGCAGTCTGAGTTGATTATCATAATCAGTTAAAACTTTCAACAACG\n",
      "GATCTCTTGGTTCCGGCATCGATGAAGAACGCAGCGAAATGCGATAAGTAATGTGAATTGCA\u001b[01;31m\u001b[KGAATTC\u001b[m\u001b[KAG\n",
      "TGAATCATCGAGTCTTTGAACGCACATTGCGCCCCCTGGTATTCCGGGGGGCATGCCTGTCCGAGCGTCA\n",
      "TTGCTGCCCTCAAGCACGGCTTGTGTGTTGGGCCCCGTCCCCTCCCCCGGGGACGGGCCCGAAAGGCAGC\n",
      "GGCGGCACCGCGTCCGGTCCTCGAGCGTATGGGGCTTTGTCACCCGCTCTGTAGGCCCGGCCGGCGCCAG\n",
      "CCGACACCCAACTTTATTTTCTAAGGTTGACCTCGGATCAGGTAGGGATACCCGCTGAACTTACGCATAT\n",
      "CAATAAGCGGAGGAAAAGAAACCAACAGGGATTGCCTCAGTAACGGCGAGTGAA\n",
      "\n",
      "\u001b[36m\u001b[K--\u001b[m\u001b[K\n",
      ">NR_111348.1 Aspergillus niger ATCC 16888 ITS region; from TYPE material\n",
      "GTAGGTGAACCTGCGGAAGGATCATTACCGAGTGCGGGTCCTTTGGGCCCAACCTCCCATCCGTGTCTAT\n",
      "TGTACCCTGTTGCTTCGGCGGGCCCGCCGCTTGTCGGCCGCCGGGGGGGCGCCTCTGCCCCCCGGGCCCG\n",
      "TGCCCGCCGGAGACCCCAACACGAACACTGTCTGAAAGCGTGCAGTCTGAGTTGATTGAATGCAATCAGT\n",
      "TAAAACTTTCAACAATGGATCTCTTGGTTCCGGCATCGATGAAGAACGCAGCGAAATGCGATAACTAATG\n",
      "TGAATTGCA\u001b[01;31m\u001b[KGAATTC\u001b[m\u001b[KAGTGAATCATCGAGTCTTTGAACGCACATTGCGCCCCCTGGTATTCCGGGGGGCA\n",
      "TGCCTGTCCGAGCGTCATTGCTGCCCTCAAGCCCGGCTTGTGTGTTGGGTCGCCGTCCCCCTCTCCGGGG\n",
      "GGACGGGCCCGAAAGGCAGCGGCGGCACCGCGTCCGATCCTCGAGCGTATGGGGCTTTGTCACATGCTCT\n",
      "GTAGGATTGGCCGGCGCCTGCCGACGTTTTCCAACCATTCTTTCCAGGTTGACCTCGGATCAGGTAGGGA\n",
      "TACCCGCTGAACTTAA\n",
      "\n",
      "\u001b[36m\u001b[K--\u001b[m\u001b[K\n",
      ">NR_131293.1 Aspergillus tubingensis NRRL 4875 ITS region; from TYPE material\n",
      "CGAGTGCGGGTCCTTTGGGCCCAACCTCCCATCCGTGTCTATTATACCCTGTTGCTTCGGCGGGCCCGCC\n",
      "GCTTGTCGGCCGCCGGGGGGGCGCCTTTGCCCCCCGGGCCCGTGCCCGCCGGAGACCCCAACACGAACAC\n",
      "TGTCTGAAAGCGTGCAGTCTGAGTTGATTGAATGCAATCAGTTAAAACTTTCAACAATGGATCTCTTGGT\n",
      "TCCGGCATCGATGAAGAACGCAGCGAAATGCGATAACTAATGTGAATTGCA\u001b[01;31m\u001b[KGAATTC\u001b[m\u001b[KAGTGAATCATCGA\n",
      "GTCTTTGAACGCACATTGCGCCCCCTGGTATTCCGGGGGGCATGCCTGTCCGAGCGTCATTGCTGCCCTC\n",
      "AAGCCCGGCTTGTGTGTTGGGTCGCCGTCCCCCTCTCCGGGGGGACGGGCCCGAAAGGCAGCGGCGGCAC\n",
      "CGCGTCCGATCCTCGAGCGTATGGGGCTTTGTCACATGCTCTGTAGGATTGGCCGGCGCCTGCCGACGTT\n",
      "TTCCAACCATTTTTTCCAGGTTGACCTCGGATCAGGTAGGGATACCCGCTGAACTTAAGCATATCAATAA\n",
      "GCGGAGGAAAAGAAACCAACCGGGATTGCCTCAGTAACGGCGAGTGAA\n",
      "\n",
      "\u001b[36m\u001b[K--\u001b[m\u001b[K\n",
      ">NR_130691.1 [Candida] glabrata NRRL Y-65 ITS region; from TYPE material\n",
      "TAAGTGCGCGGTTGGTGGGTGTTCTGCAGTGGGGGGAGGGAGCCGACAAAGACCTGGGAGTGTGCGTGGA\n",
      "TCTCTCTATTCCAAAGGAGGTGTTTTATCACACGACTCGACACTTTCTAATTACTACACACAGTGGAGTT\n",
      "TACTTTACTACTATTCTTTTGTTCGTTGGGGGAACGCTCTCTTTCGGGGGGGAGTTCTCCCAGTGGATGC\n",
      "AAACACAAACAAATATTTTTTTAAACTAATTCAGTCAACACAAGATTTCTTTTAGTAGAAAACAACTTCA\n",
      "AAACTTTCAACAATGGATCTCTTGGTTCTCGCATCGATGAAGAACGCAGCGAAATGCGATACGTAATGTG\n",
      "AATTGCA\u001b[01;31m\u001b[KGAATTC\u001b[m\u001b[KCGTGAATCATCGAATCTTTGAACGCACATTGCGCCCTCTGGTATTCCGGGGGGCATG\n",
      "CCTGTTTGAGCGTCATTTCCTTCTCAAACACATTGTGTTTGGTAGTGAGTGATACTCGTTTTTGAGTTAA\n",
      "CTTGAAATTGTAGGCCATATCAGTATGTGGGACACGAGCGCAAGCTTCTCTATTAATCTGCTGCTCGTTT\n",
      "GCGCGAGCGGCGGGGGTTAATACTGTATTAGGTTTTACCAACTCGGTGTTGATCTAGGGAGGGATAAGTG\n",
      "AGTGTTTTGTGCGTGCTGGGCAGACAGACGTCTTTAAGTTTGACCTCAAATCAGGTAGGGTTACCCGCTG\n",
      "AACTTAA\n",
      "\n",
      "\u001b[36m\u001b[K--\u001b[m\u001b[K\n",
      ">NR_137586.1 Saccharomyces eubayanus PYCC 6148 ITS region; from TYPE material\n",
      "GAGCGTGAGAGCTTTTACTGGGCAAGAAGACAAGAGATGGAGAGTCCAGCCGGGCCTGCGCTTAAGTGCG\n",
      "CGGTCTTGCTAGGCTTGCAAATTTCTTTCTTGCTATTCCAAACAGTGAGACTTCTCTGTTTTTGTTATAG\n",
      "GACAATTAAAACCGTTTCAATACAACACACTGTGGAGTTTTTATACTTTTGCAACTTTTTCTTTGGGTTT\n",
      "CGAGCAATCGAGCCCAGAGGTAACAAACACAAACAATTTTATTTATTCATTAAATTTTTGTCAAAAACAA\n",
      "GAATTTTCGTAACTGGAAATTTTAAAAATAATTAAAAACTTTCAACAACGGATCTCTTGGTTCTCGCATC\n",
      "GATGAAGAACGCAGCGAAATGCGATACGTAATGTGAATTGCA\u001b[01;31m\u001b[KGAATTC\u001b[m\u001b[KCGTGAATCATCGAATCTTTGAA\n",
      "CGCACATTGCGCCCCTTGGTATTCCAGGGGGCATGCCTGTTTGAGCGTCATTTCCTTCTCAAACATTCTG\n",
      "TTTGGTAGTGAGTGATACTCTCTGGAGTTAACTTGAAATTGCTGGCCTTTTCATTGGATGTTTTTTTTCC\n",
      "AAAGAGAGGTTTCTCTGCGTGCTTGAGGTATAATGCAAGTACGGTCGTTTTAGGTTTTACCAACTGCGGC\n",
      "TAATCTTTTTTGTACTGAGCGTATTGAAACGTTATCGATAAGAAGAGAGCGTCTAGGCGAACAATGTTCT\n",
      "TAAAGTTTGACCTCAAATC\n",
      "\n",
      "\u001b[36m\u001b[K--\u001b[m\u001b[K\n",
      ">NR_138272.1 Saccharomyces paradoxus CBS 432 ITS region; from TYPE material\n",
      "AATTTAATAATTTTGAAAATGGATTTTTTGTTTTGGCAGGAGCATGAGAGCTTTTACTGGGCAAGAAGAC\n",
      "AAGAGATGGAGAGTCCAGTCGGGCCTGCGCTTAAGTGCGCGGTCTTGCTTGGCTTGTAAGTTTCTTTCTT\n",
      "GCTATTCCAAACGGTGAGAGATTTCTGTGCTATTGTTATAGGACAATTAAAACCGTTTCAATACAACACA\n",
      "CTGTGGAGTTTTCATATCTTTGCAACTTTTTCTTTGGGCATTCGAGCAATCGAGGCCCAGAGGTAACAAA\n",
      "CACAAACAATTTTATTTATTCATTAAATTTTTGTCAAAAACAAGAATTTTCGTAACTGGAAATTTTAAAA\n",
      "ATATTAAAAACTTTCAACAACGGATCTCTTGGTTCTCGCATCGATGAAGAACGCAGCGAAATGCGATACG\n",
      "TAATGTGAATTGCA\u001b[01;31m\u001b[KGAATTC\u001b[m\u001b[KCGTGAATCATCGAATCTTTGAACGCACATTGCGCCCCTTGGTATTCCAGG\n",
      "GGGCATGCCTGTTTGAGCGTCATTTCCTTCTCAAACATTCTGTTTGGTAGTGAGTGATACTCTTTGGAGT\n",
      "TAACTTGAAATTGCTGGCCTTTTCATTGGATGTTTTTTTTCCAAAGAGAGGTTTCTCTGCGTGCTTGAGG\n",
      "TATAATGCAAGTACGGTCGTTTTAGGTTTTACCAACTGCGGCTAATCTTTTTTGTACTGAGCGTATTGGA\n",
      "ACGTTATCGATAAGAAGAGAGCGTCTAGGCGAACAATGTTTCTTAAAGTTTGACCTCAAATCAGGT\n",
      "\n",
      "\u001b[36m\u001b[K--\u001b[m\u001b[K\n",
      ">NR_111257.1 Torulaspora delbrueckii CBS 1146 ITS region; from TYPE material\n",
      "GATCATTAGAGAAATCTATATGAATGAAGTTAGAGGACGTCTAAAGATACTGTAAGAGAGGATCAGGTTC\n",
      "AAGACCAGCGCTTAATTGCGCGGTTGCGGCTTGGTTCGCCTTTTGCGGAACATGTCTTTTCTCGTTGTTA\n",
      "ACTCTACTTCAACTTCTACAACACTGTGGAGTTTTCTACACAACTTTTCTTCTTTGGGAAGATACGTCTT\n",
      "GTGCGTGCTTCCCAGAGGTGACAAACACAAACAACTTTTTATTATTATAAACCAGTCAAAACCAATTTCG\n",
      "TTATGAAATTAAAAATATTTAAAACTTTCAACAACGGATCTCTTGGTTCTCGCATCGATGAAGAACGCAG\n",
      "CGAAATGCGATACGTAATGTGAATTGCA\u001b[01;31m\u001b[KGAATTC\u001b[m\u001b[KCGTGAATCATCGAATCTTTGAACGCACATTGCGCCC\n",
      "CTTGGTATTCCAGGGGGCATGCCTGTTTGAGCGTCATTTCCTTCTCAAACAATCATGTTTGGTAGTGAGT\n",
      "GATACTCTGTCAAGGGTTAACTTGAAATTGCTAGCCTGTTATTTGGTTGTGATTTTGCTGGCTTGGATGA\n",
      "CTTTGTCCAGTCTAGCTAATACCGAATTGTCGTATTAGGTTTTACCAACTTCGGCAGACTGTGTGTTGGC\n",
      "TCGGGCGCTTTAAAGACTTTGTCGTAAACGATTTATCGTTTGTTTGAGCTTTTCGCATACGCAATCCGGC\n",
      "GAACAATACTCTCAAAGTTTGACCTCAAATCAGGTAGGAATACCCGCTGAACTTAA\n",
      "\n",
      "\u001b[36m\u001b[K--\u001b[m\u001b[K\n",
      ">NR_131317.1 Trichoderma gamsii ITS region; from reference material\n",
      "TTACCGAGTTTACACTCCCAAACCCAATGTGAACCATACCAAACTGTTGCCTCGGCGGGGTCACGCCCCG\n",
      "GGTGCGTCGCAGCCCCGGAACCAGGCGCCCGCCGGAGGGACCAACCAAACTCTTTTCTGTAGTCCCCTCG\n",
      "CGGACGTTATTTCTTACAGCTCTGAGCAAAAATTCAAAATGAATCAAAACTTTCAACAACGGATCTCTTG\n",
      "GTTCTGGCATCGATGAAGAACGCAGCGAAATGCGATAAGTAATGTGAATTGCA\u001b[01;31m\u001b[KGAATTC\u001b[m\u001b[KAGTGAATCATC\n",
      "GAATCTTTGAACGCACATTGCGCCCGCCAGTATTCTGGCGGGCATGCCTGTCCGAGCGTCATTTCAACCC\n",
      "TCGAACCCCTCCGGGGGGTCGGCGTTGGGGATCGGGAACCCCTAAGACGGGATCCCGGCCCCGAAATACA\n",
      "GTGGCGGTCTCGCCGCAGCCTCTCCTGCGCAGTAGTTTGCACAACTCGCACCGGGAGCGCGGCGCGTCCA\n",
      "CGTCCGTAAAACACCCAACTTCTGAAATGTTGACCTCGGATCAGGTAGGAATACCCGCTGAACTTAAGCA\n",
      "TATCAATAA\n",
      "\n"
     ]
    }
   ],
   "source": [
    "egrep -B10-A10 -h \"GAATTC\" ~/Escritorio/rsg/Notebooks/ITS_region/*.fasta "
   ]
  },
  {
   "cell_type": "code",
   "execution_count": 87,
   "metadata": {},
   "outputs": [
    {
     "name": "stdout",
     "output_type": "stream",
     "text": [
      ">NR_135407.1 Aspergillus lentulus NRRL 35552 ITS region; from TYPE material\n",
      "AAGGATCATTACCGAGTGAGGGCCCTCTGGGTCCAACCTCCCACCCGTGTCTATCGTACCTTGTTGCTTC\n",
      "GGCGGGCCCGCCGTTTCGACGGCCGCCGGGGAGGCCTCGCGCCCCCGGGCCCGCGCCCGCCGAAGACCCC\n",
      "AACATGAACGCTGTTCTGAAAGTATGCAGTCTGAGTTGATTATCATAATCAGTTAAAACTTTCAACAACG\n",
      "TGAATCATCGAGTCTTTGAACGCACATTGCGCCCCCTGGTATTCCGGGGGGCATGCCTGTCCGAGCGTCA\n",
      "TTGCTGCCCTCAAGCACGGCTTGTGTGTTGGGCCCCGTCCCCTCCCCCGGGGACGGGCCCGAAAGGCAGC\n",
      "GGCGGCACCGCGTCCGGTCCTCGAGCGTATGGGGCTTTGTCACCCGCTCTGTAGGCCCGGCCGGCGCCAG\n",
      "CCGACACCCAACTTTATTTTCTAAGGTTGACCTCGGATCAGGTAGGGATACCCGCTGAACTTACGCATAT\n",
      "CAATAAGCGGAGGAAAAGAAACCAACAGGGATTGCCTCAGTAACGGCGAGTGAA\n",
      "\n",
      ">NR_111348.1 Aspergillus niger ATCC 16888 ITS region; from TYPE material\n",
      "GTAGGTGAACCTGCGGAAGGATCATTACCGAGTGCGGGTCCTTTGGGCCCAACCTCCCATCCGTGTCTAT\n",
      "TGTACCCTGTTGCTTCGGCGGGCCCGCCGCTTGTCGGCCGCCGGGGGGGCGCCTCTGCCCCCCGGGCCCG\n",
      "TGCCCGCCGGAGACCCCAACACGAACACTGTCTGAAAGCGTGCAGTCTGAGTTGATTGAATGCAATCAGT\n",
      "TAAAACTTTCAACAATGGATCTCTTGGTTCCGGCATCGATGAAGAACGCAGCGAAATGCGATAACTAATG\n",
      "TGCCTGTCCGAGCGTCATTGCTGCCCTCAAGCCCGGCTTGTGTGTTGGGTCGCCGTCCCCCTCTCCGGGG\n",
      "GGACGGGCCCGAAAGGCAGCGGCGGCACCGCGTCCGATCCTCGAGCGTATGGGGCTTTGTCACATGCTCT\n",
      "GTAGGATTGGCCGGCGCCTGCCGACGTTTTCCAACCATTCTTTCCAGGTTGACCTCGGATCAGGTAGGGA\n",
      "TACCCGCTGAACTTAA\n",
      "\n",
      ">NR_131293.1 Aspergillus tubingensis NRRL 4875 ITS region; from TYPE material\n",
      "CGAGTGCGGGTCCTTTGGGCCCAACCTCCCATCCGTGTCTATTATACCCTGTTGCTTCGGCGGGCCCGCC\n",
      "GCTTGTCGGCCGCCGGGGGGGCGCCTTTGCCCCCCGGGCCCGTGCCCGCCGGAGACCCCAACACGAACAC\n",
      "TGTCTGAAAGCGTGCAGTCTGAGTTGATTGAATGCAATCAGTTAAAACTTTCAACAATGGATCTCTTGGT\n",
      "GTCTTTGAACGCACATTGCGCCCCCTGGTATTCCGGGGGGCATGCCTGTCCGAGCGTCATTGCTGCCCTC\n",
      "AAGCCCGGCTTGTGTGTTGGGTCGCCGTCCCCCTCTCCGGGGGGACGGGCCCGAAAGGCAGCGGCGGCAC\n",
      "CGCGTCCGATCCTCGAGCGTATGGGGCTTTGTCACATGCTCTGTAGGATTGGCCGGCGCCTGCCGACGTT\n",
      "TTCCAACCATTTTTTCCAGGTTGACCTCGGATCAGGTAGGGATACCCGCTGAACTTAAGCATATCAATAA\n",
      "GCGGAGGAAAAGAAACCAACCGGGATTGCCTCAGTAACGGCGAGTGAA\n",
      "\n",
      ">NR_154998.1 [Candida] auris CBS 10913 ITS region; from TYPE material\n",
      "AAGGATCATTATTGATATTTTGCATACACACTGATTTGGATTTTAAAACTAACCCAACGTTAAGTTCAAC\n",
      "TAAACTATAAAGAAAACTTTCAACAACGGATCTCTTGGTTCTCGCATCGATGAAGAACGCAGCGAAATGC\n",
      "GATACGTAGTATGACTTGCAGACGTGAATCATCGAATCTTTGAACGCACATTGCGCCTTGGGGTATTCCC\n",
      "CAAGGCATGCCTGTTTGAGCGTGATGTCTTCTCACCAATCTTCGCGGTGGCGTTGCATTCACAAAATTAC\n",
      "AGCTTGCACGAAAAAAATCTACGCTTTTTTTTCGTTTTGTTGTCGCCTCAAATCAGGTAGGACTACCCGC\n",
      "TGAACTTAA\n",
      "\n",
      ">NR_130691.1 [Candida] glabrata NRRL Y-65 ITS region; from TYPE material\n",
      "TAAGTGCGCGGTTGGTGGGTGTTCTGCAGTGGGGGGAGGGAGCCGACAAAGACCTGGGAGTGTGCGTGGA\n",
      "TCTCTCTATTCCAAAGGAGGTGTTTTATCACACGACTCGACACTTTCTAATTACTACACACAGTGGAGTT\n",
      "TACTTTACTACTATTCTTTTGTTCGTTGGGGGAACGCTCTCTTTCGGGGGGGAGTTCTCCCAGTGGATGC\n",
      "AAACACAAACAAATATTTTTTTAAACTAATTCAGTCAACACAAGATTTCTTTTAGTAGAAAACAACTTCA\n",
      "AAACTTTCAACAATGGATCTCTTGGTTCTCGCATCGATGAAGAACGCAGCGAAATGCGATACGTAATGTG\n",
      "CCTGTTTGAGCGTCATTTCCTTCTCAAACACATTGTGTTTGGTAGTGAGTGATACTCGTTTTTGAGTTAA\n",
      "CTTGAAATTGTAGGCCATATCAGTATGTGGGACACGAGCGCAAGCTTCTCTATTAATCTGCTGCTCGTTT\n",
      "GCGCGAGCGGCGGGGGTTAATACTGTATTAGGTTTTACCAACTCGGTGTTGATCTAGGGAGGGATAAGTG\n",
      "AGTGTTTTGTGCGTGCTGGGCAGACAGACGTCTTTAAGTTTGACCTCAAATCAGGTAGGGTTACCCGCTG\n",
      "AACTTAA\n",
      "\n",
      ">NR_077154.1 Penicillium expansum ATCC 7861 ITS region; from TYPE material\n",
      "TCCGTAGGTGAACCTGCGGAAGGATCATTACCGAGTGAGGGCCCTTTGGGTCCAACCTCCCACCCGTGTT\n",
      "TATTTACCTCGTTGCTTCGGCGGGCCCGCCTTAACTGGCCGCCGGGGGGCTCACGCCCCCGGGCCCGCGC\n",
      "CCGCCGAAGACACCCCCGAACTCTGCCTGAAGATTGTCGTCTGAGTGAAAATATAAATTATTTAAAACTT\n",
      "TCAACAACGGATCTCTTGGTTCCGGCATCGATGAAGAACGCAGCGAAATGCGATACGTAATGTGAATTGC\n",
      "AAATTCAGTGAATCATCGAGTCTTTGAACGCACATTGCGCCCCCTGGTATTCCGGGGGGCATGCCTGTCC\n",
      "GAGCGTCATTGCTGCCCTCAAGCCCGGCTTGTGTGTTGGGCCCCGTCCTCCGATTCCGGGGGACGGGCCC\n",
      "GAAAGGCAGCGGCGGCACCGCGTCCGGTCCTCGAGCGTATGGGGCTTTGTCACCCGCTCTGTAGGCCCGG\n",
      "CCGGCGCTTGCCGATCAACCCAAATTTTTATCCAGGTTGACCTCGGATCAGGTAGGGATACCCGCTGAAC\n",
      "TTAAGCATATCAATAAGCGGAGGAAAAGAAACCAACAGGGATTGCCCC\n",
      "\n",
      ">NR_137586.1 Saccharomyces eubayanus PYCC 6148 ITS region; from TYPE material\n",
      "GAGCGTGAGAGCTTTTACTGGGCAAGAAGACAAGAGATGGAGAGTCCAGCCGGGCCTGCGCTTAAGTGCG\n",
      "CGGTCTTGCTAGGCTTGCAAATTTCTTTCTTGCTATTCCAAACAGTGAGACTTCTCTGTTTTTGTTATAG\n",
      "GACAATTAAAACCGTTTCAATACAACACACTGTGGAGTTTTTATACTTTTGCAACTTTTTCTTTGGGTTT\n",
      "CGAGCAATCGAGCCCAGAGGTAACAAACACAAACAATTTTATTTATTCATTAAATTTTTGTCAAAAACAA\n",
      "GAATTTTCGTAACTGGAAATTTTAAAAATAATTAAAAACTTTCAACAACGGATCTCTTGGTTCTCGCATC\n",
      "CGCACATTGCGCCCCTTGGTATTCCAGGGGGCATGCCTGTTTGAGCGTCATTTCCTTCTCAAACATTCTG\n",
      "TTTGGTAGTGAGTGATACTCTCTGGAGTTAACTTGAAATTGCTGGCCTTTTCATTGGATGTTTTTTTTCC\n",
      "AAAGAGAGGTTTCTCTGCGTGCTTGAGGTATAATGCAAGTACGGTCGTTTTAGGTTTTACCAACTGCGGC\n",
      "TAATCTTTTTTGTACTGAGCGTATTGAAACGTTATCGATAAGAAGAGAGCGTCTAGGCGAACAATGTTCT\n",
      "TAAAGTTTGACCTCAAATC\n",
      "\n",
      ">NR_138272.1 Saccharomyces paradoxus CBS 432 ITS region; from TYPE material\n",
      "AATTTAATAATTTTGAAAATGGATTTTTTGTTTTGGCAGGAGCATGAGAGCTTTTACTGGGCAAGAAGAC\n",
      "AAGAGATGGAGAGTCCAGTCGGGCCTGCGCTTAAGTGCGCGGTCTTGCTTGGCTTGTAAGTTTCTTTCTT\n",
      "GCTATTCCAAACGGTGAGAGATTTCTGTGCTATTGTTATAGGACAATTAAAACCGTTTCAATACAACACA\n",
      "CTGTGGAGTTTTCATATCTTTGCAACTTTTTCTTTGGGCATTCGAGCAATCGAGGCCCAGAGGTAACAAA\n",
      "CACAAACAATTTTATTTATTCATTAAATTTTTGTCAAAAACAAGAATTTTCGTAACTGGAAATTTTAAAA\n",
      "ATATTAAAAACTTTCAACAACGGATCTCTTGGTTCTCGCATCGATGAAGAACGCAGCGAAATGCGATACG\n",
      "GGGCATGCCTGTTTGAGCGTCATTTCCTTCTCAAACATTCTGTTTGGTAGTGAGTGATACTCTTTGGAGT\n",
      "TAACTTGAAATTGCTGGCCTTTTCATTGGATGTTTTTTTTCCAAAGAGAGGTTTCTCTGCGTGCTTGAGG\n",
      "TATAATGCAAGTACGGTCGTTTTAGGTTTTACCAACTGCGGCTAATCTTTTTTGTACTGAGCGTATTGGA\n",
      "ACGTTATCGATAAGAAGAGAGCGTCTAGGCGAACAATGTTTCTTAAAGTTTGACCTCAAATCAGGT\n",
      "\n",
      ">NR_111257.1 Torulaspora delbrueckii CBS 1146 ITS region; from TYPE material\n",
      "GATCATTAGAGAAATCTATATGAATGAAGTTAGAGGACGTCTAAAGATACTGTAAGAGAGGATCAGGTTC\n",
      "AAGACCAGCGCTTAATTGCGCGGTTGCGGCTTGGTTCGCCTTTTGCGGAACATGTCTTTTCTCGTTGTTA\n",
      "ACTCTACTTCAACTTCTACAACACTGTGGAGTTTTCTACACAACTTTTCTTCTTTGGGAAGATACGTCTT\n",
      "GTGCGTGCTTCCCAGAGGTGACAAACACAAACAACTTTTTATTATTATAAACCAGTCAAAACCAATTTCG\n",
      "TTATGAAATTAAAAATATTTAAAACTTTCAACAACGGATCTCTTGGTTCTCGCATCGATGAAGAACGCAG\n",
      "CTTGGTATTCCAGGGGGCATGCCTGTTTGAGCGTCATTTCCTTCTCAAACAATCATGTTTGGTAGTGAGT\n",
      "GATACTCTGTCAAGGGTTAACTTGAAATTGCTAGCCTGTTATTTGGTTGTGATTTTGCTGGCTTGGATGA\n",
      "CTTTGTCCAGTCTAGCTAATACCGAATTGTCGTATTAGGTTTTACCAACTTCGGCAGACTGTGTGTTGGC\n",
      "TCGGGCGCTTTAAAGACTTTGTCGTAAACGATTTATCGTTTGTTTGAGCTTTTCGCATACGCAATCCGGC\n",
      "GAACAATACTCTCAAAGTTTGACCTCAAATCAGGTAGGAATACCCGCTGAACTTAA\n",
      "\n",
      ">NR_131317.1 Trichoderma gamsii ITS region; from reference material\n",
      "TTACCGAGTTTACACTCCCAAACCCAATGTGAACCATACCAAACTGTTGCCTCGGCGGGGTCACGCCCCG\n",
      "GGTGCGTCGCAGCCCCGGAACCAGGCGCCCGCCGGAGGGACCAACCAAACTCTTTTCTGTAGTCCCCTCG\n",
      "CGGACGTTATTTCTTACAGCTCTGAGCAAAAATTCAAAATGAATCAAAACTTTCAACAACGGATCTCTTG\n",
      "GAATCTTTGAACGCACATTGCGCCCGCCAGTATTCTGGCGGGCATGCCTGTCCGAGCGTCATTTCAACCC\n",
      "TCGAACCCCTCCGGGGGGTCGGCGTTGGGGATCGGGAACCCCTAAGACGGGATCCCGGCCCCGAAATACA\n",
      "GTGGCGGTCTCGCCGCAGCCTCTCCTGCGCAGTAGTTTGCACAACTCGCACCGGGAGCGCGGCGCGTCCA\n",
      "CGTCCGTAAAACACCCAACTTCTGAAATGTTGACCTCGGATCAGGTAGGAATACCCGCTGAACTTAAGCA\n",
      "TATCAATAA\n",
      "\n"
     ]
    }
   ],
   "source": [
    "egrep -v -h \"GAATTC\" ~/Escritorio/rsg/Notebooks/ITS_region/*.fasta "
   ]
  },
  {
   "cell_type": "markdown",
   "metadata": {},
   "source": [
    "#### Realizar busquedas utilizando como entrada un fichero "
   ]
  },
  {
   "cell_type": "code",
   "execution_count": 37,
   "metadata": {},
   "outputs": [
    {
     "name": "stdout",
     "output_type": "stream",
     "text": [
      "\u001b[01;31m\u001b[K>AB055229.2\u001b[m\u001b[K\n",
      "\u001b[01;31m\u001b[KCACGCCGTGGGGGGCTGGGAGCCTCTGACCGGGACCCCGCCCCTCTACCCGGCCACCCTTGTCTACCGGA\u001b[m\u001b[K\n",
      "\u001b[01;31m\u001b[KCCTGTTGCCTCGGCGGGCCTGCAGCGATGCTGCCGGGGGAGCTTCTCCCCGGGCCCGTGTCCGCCGGGGA\u001b[m\u001b[K\n",
      "\u001b[01;31m\u001b[KCACCGTAAGAACCGTCGGTGAACGATTGGCGTCTGAGCATGAGAGCGATAATAATCCAGTCAAAACTTTC\u001b[m\u001b[K\n",
      "\u001b[01;31m\u001b[KAACAACGGATCTCTTGGAACCGACATCGATGAAGAACGCAGCGAAATGCGATAAGTAATGTGAATTGCAG\u001b[m\u001b[K\n",
      "\u001b[01;31m\u001b[KAATTCCGTGAATCATCGAAAAAAAAAAAAGCTACTGCGCCCCCTGGTATTCCGGGGGGCATGCCTGTCCG\u001b[m\u001b[K\n",
      "\u001b[01;31m\u001b[KAGCGTCATTGCAACCCTCTATAGCGCGGCTTGTGTGTTGGGCGGTCGTCCCCCCTCAACCGGCGGGACGTGC\u001b[m\u001b[K\n",
      "\u001b[01;31m\u001b[KCCGAAATGAAGTGGCGGTGTCGAGTTCCGGTGCCCGAGCGTATGGGGCTTTGCCACCCGCTCTGGAGGCC\u001b[m\u001b[K\n",
      "\u001b[01;31m\u001b[KCGGCCGGCTCCAGCCCACCATCGTAACCCCCCCCCCCCTTTCACACCAGG\u001b[m\u001b[K\n"
     ]
    }
   ],
   "source": [
    "grep -f ~/Escritorio/rsg/Notebooks/secuencia.txt ~/Escritorio/rsg/Notebooks/secuencias.fasta "
   ]
  },
  {
   "cell_type": "markdown",
   "metadata": {},
   "source": [
    "#### Mostrar donde las enzimas de digestión realizan la escisión "
   ]
  },
  {
   "cell_type": "code",
   "execution_count": 43,
   "metadata": {},
   "outputs": [
    {
     "name": "stdout",
     "output_type": "stream",
     "text": [
      "\u001b[32m\u001b[K1\u001b[m\u001b[K\u001b[36m\u001b[K-\u001b[m\u001b[K>NR_135407.1 Aspergillus lentulus NRRL 35552 ITS region; from TYPE material\n",
      "\u001b[32m\u001b[K2\u001b[m\u001b[K\u001b[36m\u001b[K-\u001b[m\u001b[KAAGGATCATTACCGAGTGAGGGCCCTCTGGGTCCAACCTCCCACCCGTGTCTATCGTACCTTGTTGCTTC\n",
      "\u001b[32m\u001b[K3\u001b[m\u001b[K\u001b[36m\u001b[K:\u001b[m\u001b[KGGCGGGCCCGCCGTTTCGACGGCCGCCGGGGAGGCCTCGCGCC\u001b[01;31m\u001b[KCCCGGG\u001b[m\u001b[KCCCGCGCCCGCCGAAGACCCC\n",
      "\u001b[32m\u001b[K4\u001b[m\u001b[K\u001b[36m\u001b[K-\u001b[m\u001b[KAACATGAACGCTGTTCTGAAAGTATGCAGTCTGAGTTGATTATCATAATCAGTTAAAACTTTCAACAACG\n",
      "\u001b[32m\u001b[K5\u001b[m\u001b[K\u001b[36m\u001b[K:\u001b[m\u001b[KGATCTCTTGGTTCCGGCATCGATGAAGAACGCAGCGAAATGCGATAAGTAATGTGAATTGCA\u001b[01;31m\u001b[KGAATTC\u001b[m\u001b[KAG\n",
      "\u001b[32m\u001b[K6\u001b[m\u001b[K\u001b[36m\u001b[K:\u001b[m\u001b[KTGAATCATCGAGTCTTTGAACGCACATTGCGCCCCCTGGTATTCCGGGGG\u001b[01;31m\u001b[KGCATGC\u001b[m\u001b[KCTGTCCGAGCGTCA\n",
      "\u001b[32m\u001b[K7\u001b[m\u001b[K\u001b[36m\u001b[K:\u001b[m\u001b[KTTGCTGCCCTCAAGCACGGCTTGTGTGTTGGGCCCCGTCCCCTCC\u001b[01;31m\u001b[KCCCGGG\u001b[m\u001b[KGACGGGCCCGAAAGGCAGC\n",
      "\u001b[32m\u001b[K8\u001b[m\u001b[K\u001b[36m\u001b[K:\u001b[m\u001b[KGGCGGCACCGCGTCCGGTC\u001b[01;31m\u001b[KCTCGAG\u001b[m\u001b[KCGTATGGGGCTTTGTCACCCGCTCTGTAGGCCCG\u001b[01;31m\u001b[KGCCGGC\u001b[m\u001b[KGCCAG\n",
      "\u001b[32m\u001b[K9\u001b[m\u001b[K\u001b[36m\u001b[K:\u001b[m\u001b[KCCGACACCCAACTTTATTTTCTAAG\u001b[01;31m\u001b[KGTTGAC\u001b[m\u001b[KCTCGGATCAGGTAGGGATACCCGCTGAACTTACGCATAT\n",
      "\u001b[32m\u001b[K10\u001b[m\u001b[K\u001b[36m\u001b[K-\u001b[m\u001b[KCAATAAGCGGAGGAAAAGAAACCAACAGGGATTGCCTCAGTAACGGCGAGTGAA\n",
      "\u001b[32m\u001b[K11\u001b[m\u001b[K\u001b[36m\u001b[K-\u001b[m\u001b[K\n",
      "\u001b[36m\u001b[K--\u001b[m\u001b[K\n",
      "\u001b[32m\u001b[K1\u001b[m\u001b[K\u001b[36m\u001b[K-\u001b[m\u001b[K>NR_111348.1 Aspergillus niger ATCC 16888 ITS region; from TYPE material\n",
      "\u001b[32m\u001b[K2\u001b[m\u001b[K\u001b[36m\u001b[K:\u001b[m\u001b[KGTA\u001b[01;31m\u001b[KGGTGA\u001b[m\u001b[K\u001b[01;31m\u001b[KACCTGC\u001b[m\u001b[KGGAAGGATCATTACCGAGTGCGGGTCCTTTGGGCCCAACCTCCCATCCGTGTCTAT\n",
      "\u001b[32m\u001b[K3\u001b[m\u001b[K\u001b[36m\u001b[K:\u001b[m\u001b[KTGTACCCTGTTGCTTCGGCGGGCCCGCCGCTTGTCGGCCGCCGGGGGGGCGCCTCTGCCC\u001b[01;31m\u001b[KCCCGGG\u001b[m\u001b[KCCCG\n",
      "\u001b[32m\u001b[K4\u001b[m\u001b[K\u001b[36m\u001b[K-\u001b[m\u001b[KTGCCCGCCGGAGACCCCAACACGAACACTGTCTGAAAGCGTGCAGTCTGAGTTGATTGAATGCAATCAGT\n",
      "\u001b[32m\u001b[K5\u001b[m\u001b[K\u001b[36m\u001b[K-\u001b[m\u001b[KTAAAACTTTCAACAATGGATCTCTTGGTTCCGGCATCGATGAAGAACGCAGCGAAATGCGATAACTAATG\n",
      "\u001b[32m\u001b[K6\u001b[m\u001b[K\u001b[36m\u001b[K:\u001b[m\u001b[KTGAATTGCA\u001b[01;31m\u001b[KGAATTC\u001b[m\u001b[KAGTGAATCATCGAGTCTTTGAACGCACATTGCGCCCCCTGGTATTCCGGGGGGCA\n",
      "\u001b[32m\u001b[K7\u001b[m\u001b[K\u001b[36m\u001b[K-\u001b[m\u001b[KTGCCTGTCCGAGCGTCATTGCTGCCCTCAAGCCCGGCTTGTGTGTTGGGTCGCCGTCCCCCTCTCCGGGG\n",
      "\u001b[32m\u001b[K8\u001b[m\u001b[K\u001b[36m\u001b[K:\u001b[m\u001b[KGGACGGGCCCGAAAGGCAGCGGCGGCACCGCGTCCGATC\u001b[01;31m\u001b[KCTCGAG\u001b[m\u001b[KCGTATGGGGCTTTGTCACATGCTCT\n",
      "\u001b[32m\u001b[K9\u001b[m\u001b[K\u001b[36m\u001b[K:\u001b[m\u001b[KGTAGGATTG\u001b[01;31m\u001b[KGCCGGC\u001b[m\u001b[KGCCTGCCG\u001b[01;31m\u001b[KACGT\u001b[m\u001b[KTTTCCAACCATTCTTTCCAG\u001b[01;31m\u001b[KGTTGAC\u001b[m\u001b[KCTCGGATCAGGTAGGGA\n",
      "\u001b[32m\u001b[K10\u001b[m\u001b[K\u001b[36m\u001b[K-\u001b[m\u001b[KTACCCGCTGAACTTAA\n",
      "\u001b[32m\u001b[K11\u001b[m\u001b[K\u001b[36m\u001b[K-\u001b[m\u001b[K\n",
      "\u001b[36m\u001b[K--\u001b[m\u001b[K\n",
      "\u001b[32m\u001b[K1\u001b[m\u001b[K\u001b[36m\u001b[K-\u001b[m\u001b[K>NR_131293.1 Aspergillus tubingensis NRRL 4875 ITS region; from TYPE material\n",
      "\u001b[32m\u001b[K2\u001b[m\u001b[K\u001b[36m\u001b[K-\u001b[m\u001b[KCGAGTGCGGGTCCTTTGGGCCCAACCTCCCATCCGTGTCTATTATACCCTGTTGCTTCGGCGGGCCCGCC\n",
      "\u001b[32m\u001b[K3\u001b[m\u001b[K\u001b[36m\u001b[K:\u001b[m\u001b[KGCTTGTCGGCCGCCGGGGGGGCGCCTTTGCCC\u001b[01;31m\u001b[KCCCGGG\u001b[m\u001b[KCCCGTGCCCGCCGGAGACCCCAACACGAACAC\n",
      "\u001b[32m\u001b[K4\u001b[m\u001b[K\u001b[36m\u001b[K-\u001b[m\u001b[KTGTCTGAAAGCGTGCAGTCTGAGTTGATTGAATGCAATCAGTTAAAACTTTCAACAATGGATCTCTTGGT\n",
      "\u001b[32m\u001b[K5\u001b[m\u001b[K\u001b[36m\u001b[K:\u001b[m\u001b[KTCCGGCATCGATGAAGAACGCAGCGAAATGCGATAACTAATGTGAATTGCA\u001b[01;31m\u001b[KGAATTC\u001b[m\u001b[KAGTGAATCATCGA\n",
      "\u001b[32m\u001b[K6\u001b[m\u001b[K\u001b[36m\u001b[K:\u001b[m\u001b[KGTCTTTGAACGCACATTGCGCCCCCTGGTATTCCGGGGG\u001b[01;31m\u001b[KGCATGC\u001b[m\u001b[KCTGTCCGAGCGTCATTGCTGCCCTC\n",
      "\u001b[32m\u001b[K7\u001b[m\u001b[K\u001b[36m\u001b[K-\u001b[m\u001b[KAAGCCCGGCTTGTGTGTTGGGTCGCCGTCCCCCTCTCCGGGGGGACGGGCCCGAAAGGCAGCGGCGGCAC\n",
      "\u001b[32m\u001b[K8\u001b[m\u001b[K\u001b[36m\u001b[K:\u001b[m\u001b[KCGCGTCCGATC\u001b[01;31m\u001b[KCTCGAG\u001b[m\u001b[KCGTATGGGGCTTTGTCACATGCTCTGTAGGATTG\u001b[01;31m\u001b[KGCCGGC\u001b[m\u001b[KGCCTGCCG\u001b[01;31m\u001b[KACGT\u001b[m\u001b[KT\n",
      "\u001b[32m\u001b[K9\u001b[m\u001b[K\u001b[36m\u001b[K:\u001b[m\u001b[KTTCCAACCATTTTTTCCAG\u001b[01;31m\u001b[KGTTGAC\u001b[m\u001b[KCTCGGATCAGGTAGGGATACCCGCTGAACTTAAGCATATCAATAA\n",
      "\u001b[32m\u001b[K10\u001b[m\u001b[K\u001b[36m\u001b[K-\u001b[m\u001b[KGCGGAGGAAAAGAAACCAACCGGGATTGCCTCAGTAACGGCGAGTGAA\n",
      "\u001b[32m\u001b[K11\u001b[m\u001b[K\u001b[36m\u001b[K-\u001b[m\u001b[K\n",
      "\u001b[36m\u001b[K--\u001b[m\u001b[K\n",
      "\u001b[32m\u001b[K1\u001b[m\u001b[K\u001b[36m\u001b[K-\u001b[m\u001b[K>NR_154998.1 [Candida] auris CBS 10913 ITS region; from TYPE material\n",
      "\u001b[32m\u001b[K2\u001b[m\u001b[K\u001b[36m\u001b[K:\u001b[m\u001b[KAAGGATCATTATTGATATTTTGCATACACACTGATTTGGATTTTAAAACTAACCCA\u001b[01;31m\u001b[KACGT\u001b[m\u001b[KTAAGTTCAAC\n",
      "\u001b[32m\u001b[K3\u001b[m\u001b[K\u001b[36m\u001b[K-\u001b[m\u001b[KTAAACTATAAAGAAAACTTTCAACAACGGATCTCTTGGTTCTCGCATCGATGAAGAACGCAGCGAAATGC\n",
      "\u001b[32m\u001b[K4\u001b[m\u001b[K\u001b[36m\u001b[K:\u001b[m\u001b[KGAT\u001b[01;31m\u001b[KACGT\u001b[m\u001b[KAGTATGACTTGCAG\u001b[01;31m\u001b[KACGT\u001b[m\u001b[KGAATCATCGAATCTTTGAACGCACATTGCGCCTTGGGGTATTCCC\n",
      "\u001b[32m\u001b[K5\u001b[m\u001b[K\u001b[36m\u001b[K:\u001b[m\u001b[KCAAG\u001b[01;31m\u001b[KGCATGC\u001b[m\u001b[KCTGTTTGAGCGTGATGTCTTCTCACCAATCTTCGCGGTGGCGTTGCATTCACAAAATTAC\n",
      "\u001b[32m\u001b[K6\u001b[m\u001b[K\u001b[36m\u001b[K-\u001b[m\u001b[KAGCTTGCACGAAAAAAATCTACGCTTTTTTTTCGTTTTGTTGTCGCCTCAAATCAGGTAGGACTACCCGC\n",
      "\u001b[32m\u001b[K7\u001b[m\u001b[K\u001b[36m\u001b[K-\u001b[m\u001b[KTGAACTTAA\n",
      "\u001b[32m\u001b[K8\u001b[m\u001b[K\u001b[36m\u001b[K-\u001b[m\u001b[K\n",
      "\u001b[36m\u001b[K--\u001b[m\u001b[K\n",
      "\u001b[32m\u001b[K1\u001b[m\u001b[K\u001b[36m\u001b[K-\u001b[m\u001b[K>NR_130691.1 [Candida] glabrata NRRL Y-65 ITS region; from TYPE material\n",
      "\u001b[32m\u001b[K2\u001b[m\u001b[K\u001b[36m\u001b[K-\u001b[m\u001b[KTAAGTGCGCGGTTGGTGGGTGTTCTGCAGTGGGGGGAGGGAGCCGACAAAGACCTGGGAGTGTGCGTGGA\n",
      "\u001b[32m\u001b[K3\u001b[m\u001b[K\u001b[36m\u001b[K-\u001b[m\u001b[KTCTCTCTATTCCAAAGGAGGTGTTTTATCACACGACTCGACACTTTCTAATTACTACACACAGTGGAGTT\n",
      "\u001b[32m\u001b[K4\u001b[m\u001b[K\u001b[36m\u001b[K:\u001b[m\u001b[KTACTTTACTACTATTCTTTTGTTCGTTGGGGGAACGCTCTCTTTCGGGGGGGAGTTCTCCCAGT\u001b[01;31m\u001b[KGGATG\u001b[m\u001b[KC\n",
      "\u001b[32m\u001b[K5\u001b[m\u001b[K\u001b[36m\u001b[K:\u001b[m\u001b[KAAACACAAACAAATATTTTTTTAAACTAATTCA\u001b[01;31m\u001b[KGTCAAC\u001b[m\u001b[KACAAGATTTCTTTTAGTAGAAAACAACTTCA\n",
      "\u001b[32m\u001b[K6\u001b[m\u001b[K\u001b[36m\u001b[K:\u001b[m\u001b[KAAACTTTCAACAATGGATCTCTTGGTTCTCGCATCGATGAAGAACGCAGCGAAATGCGAT\u001b[01;31m\u001b[KACGT\u001b[m\u001b[KAATGTG\n",
      "\u001b[32m\u001b[K7\u001b[m\u001b[K\u001b[36m\u001b[K:\u001b[m\u001b[KAATTGCA\u001b[01;31m\u001b[KGAATTC\u001b[m\u001b[KCGTGAATCATCGAATCTTTGAACGCACATTGCGCCCTCTGGTATTCCGGGGGGCATG\n",
      "\u001b[32m\u001b[K8\u001b[m\u001b[K\u001b[36m\u001b[K-\u001b[m\u001b[KCCTGTTTGAGCGTCATTTCCTTCTCAAACACATTGTGTTTGGTAGTGAGTGATACTCGTTTTTGAGTTAA\n",
      "\u001b[32m\u001b[K9\u001b[m\u001b[K\u001b[36m\u001b[K-\u001b[m\u001b[KCTTGAAATTGTAGGCCATATCAGTATGTGGGACACGAGCGCAAGCTTCTCTATTAATCTGCTGCTCGTTT\n",
      "\u001b[32m\u001b[K10\u001b[m\u001b[K\u001b[36m\u001b[K-\u001b[m\u001b[KGCGCGAGCGGCGGGGGTTAATACTGTATTAGGTTTTACCAACTCGGTGTTGATCTAGGGAGGGATAAGTG\n",
      "\u001b[32m\u001b[K11\u001b[m\u001b[K\u001b[36m\u001b[K:\u001b[m\u001b[KAGTGTTTTGTGCGTGCTGGGCAGACAG\u001b[01;31m\u001b[KACGT\u001b[m\u001b[KCTTTAAGTTTGACCTCAAATCAGGTAGGGTTACCCGCTG\n",
      "\u001b[32m\u001b[K12\u001b[m\u001b[K\u001b[36m\u001b[K-\u001b[m\u001b[KAACTTAA\n",
      "\u001b[32m\u001b[K13\u001b[m\u001b[K\u001b[36m\u001b[K-\u001b[m\u001b[K\n",
      "\u001b[36m\u001b[K--\u001b[m\u001b[K\n",
      "\u001b[32m\u001b[K1\u001b[m\u001b[K\u001b[36m\u001b[K-\u001b[m\u001b[K>NR_077154.1 Penicillium expansum ATCC 7861 ITS region; from TYPE material\n",
      "\u001b[32m\u001b[K2\u001b[m\u001b[K\u001b[36m\u001b[K:\u001b[m\u001b[KTCCGTA\u001b[01;31m\u001b[KGGTGA\u001b[m\u001b[K\u001b[01;31m\u001b[KACCTGC\u001b[m\u001b[KGGAAGGATCATTACCGAGTGAGGGCCCTTTGGGTCCAACCTCCCACCCGTGTT\n",
      "\u001b[32m\u001b[K3\u001b[m\u001b[K\u001b[36m\u001b[K:\u001b[m\u001b[KTATTTACCTCGTTGCTTCGGCGGGCCCGCCTTAACTGGCCGCCGGGGGGCTCACGCC\u001b[01;31m\u001b[KCCCGGG\u001b[m\u001b[KCCCGCGC\n",
      "\u001b[32m\u001b[K4\u001b[m\u001b[K\u001b[36m\u001b[K-\u001b[m\u001b[KCCGCCGAAGACACCCCCGAACTCTGCCTGAAGATTGTCGTCTGAGTGAAAATATAAATTATTTAAAACTT\n",
      "\u001b[32m\u001b[K5\u001b[m\u001b[K\u001b[36m\u001b[K:\u001b[m\u001b[KTCAACAACGGATCTCTTGGTTCCGGCATCGATGAAGAACGCAGCGAAATGCGAT\u001b[01;31m\u001b[KACGT\u001b[m\u001b[KAATGTGAATTGC\n",
      "\u001b[32m\u001b[K6\u001b[m\u001b[K\u001b[36m\u001b[K:\u001b[m\u001b[KAAATTCAGTGAATCATCGAGTCTTTGAACGCACATTGCGCCCCCTGGTATTCCGGGGG\u001b[01;31m\u001b[KGCATGC\u001b[m\u001b[KCTGTCC\n",
      "\u001b[32m\u001b[K7\u001b[m\u001b[K\u001b[36m\u001b[K-\u001b[m\u001b[KGAGCGTCATTGCTGCCCTCAAGCCCGGCTTGTGTGTTGGGCCCCGTCCTCCGATTCCGGGGGACGGGCCC\n",
      "\u001b[32m\u001b[K8\u001b[m\u001b[K\u001b[36m\u001b[K:\u001b[m\u001b[KGAAAGGCAGCGGCGGCACCGCGTCCGGTC\u001b[01;31m\u001b[KCTCGAG\u001b[m\u001b[KCGTATGGGGCTTTGTCACCCGCTCTGTAGGCCCGG\n",
      "\u001b[32m\u001b[K9\u001b[m\u001b[K\u001b[36m\u001b[K:\u001b[m\u001b[KCCGGCGCTTGCCGATCAACCCAAATTTTTATCCAG\u001b[01;31m\u001b[KGTTGAC\u001b[m\u001b[KCTCGGATCAGGTAGGGATACCCGCTGAAC\n",
      "\u001b[32m\u001b[K10\u001b[m\u001b[K\u001b[36m\u001b[K-\u001b[m\u001b[KTTAAGCATATCAATAAGCGGAGGAAAAGAAACCAACAGGGATTGCCCC\n",
      "\u001b[32m\u001b[K11\u001b[m\u001b[K\u001b[36m\u001b[K-\u001b[m\u001b[K\n",
      "\u001b[36m\u001b[K--\u001b[m\u001b[K\n",
      "\u001b[32m\u001b[K1\u001b[m\u001b[K\u001b[36m\u001b[K-\u001b[m\u001b[K>NR_137586.1 Saccharomyces eubayanus PYCC 6148 ITS region; from TYPE material\n",
      "\u001b[32m\u001b[K2\u001b[m\u001b[K\u001b[36m\u001b[K-\u001b[m\u001b[KGAGCGTGAGAGCTTTTACTGGGCAAGAAGACAAGAGATGGAGAGTCCAGCCGGGCCTGCGCTTAAGTGCG\n",
      "\u001b[32m\u001b[K3\u001b[m\u001b[K\u001b[36m\u001b[K-\u001b[m\u001b[KCGGTCTTGCTAGGCTTGCAAATTTCTTTCTTGCTATTCCAAACAGTGAGACTTCTCTGTTTTTGTTATAG\n",
      "\u001b[32m\u001b[K4\u001b[m\u001b[K\u001b[36m\u001b[K-\u001b[m\u001b[KGACAATTAAAACCGTTTCAATACAACACACTGTGGAGTTTTTATACTTTTGCAACTTTTTCTTTGGGTTT\n",
      "\u001b[32m\u001b[K5\u001b[m\u001b[K\u001b[36m\u001b[K-\u001b[m\u001b[KCGAGCAATCGAGCCCAGAGGTAACAAACACAAACAATTTTATTTATTCATTAAATTTTTGTCAAAAACAA\n",
      "\u001b[32m\u001b[K6\u001b[m\u001b[K\u001b[36m\u001b[K-\u001b[m\u001b[KGAATTTTCGTAACTGGAAATTTTAAAAATAATTAAAAACTTTCAACAACGGATCTCTTGGTTCTCGCATC\n",
      "\u001b[32m\u001b[K7\u001b[m\u001b[K\u001b[36m\u001b[K:\u001b[m\u001b[KGATGAAGAACGCAGCGAAATGCGAT\u001b[01;31m\u001b[KACGT\u001b[m\u001b[KAATGTGAATTGCA\u001b[01;31m\u001b[KGAATTC\u001b[m\u001b[KCGTGAATCATCGAATCTTTGAA\n",
      "\u001b[32m\u001b[K8\u001b[m\u001b[K\u001b[36m\u001b[K:\u001b[m\u001b[KCGCACATTGCGCCCCTTGGTATTCCAGGGG\u001b[01;31m\u001b[KGCATGC\u001b[m\u001b[KCTGTTTGAGCGTCATTTCCTTCTCAAACATTCTG\n",
      "\u001b[32m\u001b[K9\u001b[m\u001b[K\u001b[36m\u001b[K:\u001b[m\u001b[KTTTGGTAGTGAGTGATACTCTCTGGA\u001b[01;31m\u001b[KGTTAAC\u001b[m\u001b[KTTGAAATTGCTGGCCTTTTCATT\u001b[01;31m\u001b[KGGATG\u001b[m\u001b[KTTTTTTTTCC\n",
      "\u001b[32m\u001b[K10\u001b[m\u001b[K\u001b[36m\u001b[K-\u001b[m\u001b[KAAAGAGAGGTTTCTCTGCGTGCTTGAGGTATAATGCAAGTACGGTCGTTTTAGGTTTTACCAACTGCGGC\n",
      "\u001b[32m\u001b[K11\u001b[m\u001b[K\u001b[36m\u001b[K:\u001b[m\u001b[KTAATCTTTTTTGTACTGAGCGTATTGAA\u001b[01;31m\u001b[KACGT\u001b[m\u001b[KTATCGATAAGAAGAGAGCGTCTAGGCGAACAATGTTCT\n",
      "\u001b[32m\u001b[K12\u001b[m\u001b[K\u001b[36m\u001b[K-\u001b[m\u001b[KTAAAGTTTGACCTCAAATC\n",
      "\u001b[32m\u001b[K13\u001b[m\u001b[K\u001b[36m\u001b[K-\u001b[m\u001b[K\n",
      "\u001b[36m\u001b[K--\u001b[m\u001b[K\n",
      "\u001b[32m\u001b[K1\u001b[m\u001b[K\u001b[36m\u001b[K-\u001b[m\u001b[K>NR_138272.1 Saccharomyces paradoxus CBS 432 ITS region; from TYPE material\n",
      "\u001b[32m\u001b[K2\u001b[m\u001b[K\u001b[36m\u001b[K-\u001b[m\u001b[KAATTTAATAATTTTGAAAATGGATTTTTTGTTTTGGCAGGAGCATGAGAGCTTTTACTGGGCAAGAAGAC\n",
      "\u001b[32m\u001b[K3\u001b[m\u001b[K\u001b[36m\u001b[K-\u001b[m\u001b[KAAGAGATGGAGAGTCCAGTCGGGCCTGCGCTTAAGTGCGCGGTCTTGCTTGGCTTGTAAGTTTCTTTCTT\n",
      "\u001b[32m\u001b[K4\u001b[m\u001b[K\u001b[36m\u001b[K:\u001b[m\u001b[KGCTATTCCAAAC\u001b[01;31m\u001b[KGGTGA\u001b[m\u001b[KGAGATTTCTGTGCTATTGTTATAGGACAATTAAAACCGTTTCAATACAACACA\n",
      "\u001b[32m\u001b[K5\u001b[m\u001b[K\u001b[36m\u001b[K-\u001b[m\u001b[KCTGTGGAGTTTTCATATCTTTGCAACTTTTTCTTTGGGCATTCGAGCAATCGAGGCCCAGAGGTAACAAA\n",
      "\u001b[32m\u001b[K6\u001b[m\u001b[K\u001b[36m\u001b[K-\u001b[m\u001b[KCACAAACAATTTTATTTATTCATTAAATTTTTGTCAAAAACAAGAATTTTCGTAACTGGAAATTTTAAAA\n",
      "\u001b[32m\u001b[K7\u001b[m\u001b[K\u001b[36m\u001b[K-\u001b[m\u001b[KATATTAAAAACTTTCAACAACGGATCTCTTGGTTCTCGCATCGATGAAGAACGCAGCGAAATGCGATACG\n",
      "\u001b[32m\u001b[K8\u001b[m\u001b[K\u001b[36m\u001b[K:\u001b[m\u001b[KTAATGTGAATTGCA\u001b[01;31m\u001b[KGAATTC\u001b[m\u001b[KCGTGAATCATCGAATCTTTGAACGCACATTGCGCCCCTTGGTATTCCAGG\n",
      "\u001b[32m\u001b[K9\u001b[m\u001b[K\u001b[36m\u001b[K:\u001b[m\u001b[KGG\u001b[01;31m\u001b[KGCATGC\u001b[m\u001b[KCTGTTTGAGCGTCATTTCCTTCTCAAACATTCTGTTTGGTAGTGAGTGATACTCTTTGGAGT\n",
      "\u001b[32m\u001b[K10\u001b[m\u001b[K\u001b[36m\u001b[K:\u001b[m\u001b[KTAACTTGAAATTGCTGGCCTTTTCATT\u001b[01;31m\u001b[KGGATG\u001b[m\u001b[KTTTTTTTTCCAAAGAGAGGTTTCTCTGCGTGCTTGAGG\n",
      "\u001b[32m\u001b[K11\u001b[m\u001b[K\u001b[36m\u001b[K-\u001b[m\u001b[KTATAATGCAAGTACGGTCGTTTTAGGTTTTACCAACTGCGGCTAATCTTTTTTGTACTGAGCGTATTGGA\n",
      "\u001b[32m\u001b[K12\u001b[m\u001b[K\u001b[36m\u001b[K:\u001b[m\u001b[K\u001b[01;31m\u001b[KACGT\u001b[m\u001b[KTATCGATAAGAAGAGAGCGTCTAGGCGAACAATGTTTCTTAAAGTTTGACCTCAAATCAGGT\n",
      "\u001b[32m\u001b[K13\u001b[m\u001b[K\u001b[36m\u001b[K-\u001b[m\u001b[K\n",
      "\u001b[36m\u001b[K--\u001b[m\u001b[K\n",
      "\u001b[32m\u001b[K1\u001b[m\u001b[K\u001b[36m\u001b[K-\u001b[m\u001b[K>NR_111257.1 Torulaspora delbrueckii CBS 1146 ITS region; from TYPE material\n",
      "\u001b[32m\u001b[K2\u001b[m\u001b[K\u001b[36m\u001b[K:\u001b[m\u001b[KGATCATTAGAGAAATCTATATGAATGAAGTTAGAGG\u001b[01;31m\u001b[KACGT\u001b[m\u001b[KCTAAAGATACTGTAAGAGAGGATCAGGTTC\n",
      "\u001b[32m\u001b[K3\u001b[m\u001b[K\u001b[36m\u001b[K-\u001b[m\u001b[KAAGACCAGCGCTTAATTGCGCGGTTGCGGCTTGGTTCGCCTTTTGCGGAACATGTCTTTTCTCGTTGTTA\n",
      "\u001b[32m\u001b[K4\u001b[m\u001b[K\u001b[36m\u001b[K:\u001b[m\u001b[KACTCTACTTCAACTTCTACAACACTGTGGAGTTTTCTACACAACTTTTCTTCTTTGGGAAGAT\u001b[01;31m\u001b[KACGT\u001b[m\u001b[KCTT\n",
      "\u001b[32m\u001b[K5\u001b[m\u001b[K\u001b[36m\u001b[K:\u001b[m\u001b[KGTGCGTGCTTCCCAGA\u001b[01;31m\u001b[KGGTGA\u001b[m\u001b[KCAAACACAAACAACTTTTTATTATTATAAACCAGTCAAAACCAATTTCG\n",
      "\u001b[32m\u001b[K6\u001b[m\u001b[K\u001b[36m\u001b[K-\u001b[m\u001b[KTTATGAAATTAAAAATATTTAAAACTTTCAACAACGGATCTCTTGGTTCTCGCATCGATGAAGAACGCAG\n",
      "\u001b[32m\u001b[K7\u001b[m\u001b[K\u001b[36m\u001b[K:\u001b[m\u001b[KCGAAATGCGAT\u001b[01;31m\u001b[KACGT\u001b[m\u001b[KAATGTGAATTGCA\u001b[01;31m\u001b[KGAATTC\u001b[m\u001b[KCGTGAATCATCGAATCTTTGAACGCACATTGCGCCC\n",
      "\u001b[32m\u001b[K8\u001b[m\u001b[K\u001b[36m\u001b[K:\u001b[m\u001b[KCTTGGTATTCCAGGGG\u001b[01;31m\u001b[KGCATGC\u001b[m\u001b[KCTGTTTGAGCGTCATTTCCTTCTCAAACAATCATGTTTGGTAGTGAGT\n",
      "\u001b[32m\u001b[K9\u001b[m\u001b[K\u001b[36m\u001b[K:\u001b[m\u001b[KGATACTCTGTCAAGG\u001b[01;31m\u001b[KGTTAAC\u001b[m\u001b[KTTGAAATTGCTAGCCTGTTATTTGGTTGTGATTTTGCTGGCTT\u001b[01;31m\u001b[KGGATG\u001b[m\u001b[KA\n",
      "\u001b[32m\u001b[K10\u001b[m\u001b[K\u001b[36m\u001b[K-\u001b[m\u001b[KCTTTGTCCAGTCTAGCTAATACCGAATTGTCGTATTAGGTTTTACCAACTTCGGCAGACTGTGTGTTGGC\n",
      "\u001b[32m\u001b[K11\u001b[m\u001b[K\u001b[36m\u001b[K-\u001b[m\u001b[KTCGGGCGCTTTAAAGACTTTGTCGTAAACGATTTATCGTTTGTTTGAGCTTTTCGCATACGCAATCCGGC\n",
      "\u001b[32m\u001b[K12\u001b[m\u001b[K\u001b[36m\u001b[K-\u001b[m\u001b[KGAACAATACTCTCAAAGTTTGACCTCAAATCAGGTAGGAATACCCGCTGAACTTAA\n",
      "\u001b[32m\u001b[K13\u001b[m\u001b[K\u001b[36m\u001b[K-\u001b[m\u001b[K\n",
      "\u001b[36m\u001b[K--\u001b[m\u001b[K\n",
      "\u001b[32m\u001b[K1\u001b[m\u001b[K\u001b[36m\u001b[K-\u001b[m\u001b[K>NR_131317.1 Trichoderma gamsii ITS region; from reference material\n",
      "\u001b[32m\u001b[K2\u001b[m\u001b[K\u001b[36m\u001b[K-\u001b[m\u001b[KTTACCGAGTTTACACTCCCAAACCCAATGTGAACCATACCAAACTGTTGCCTCGGCGGGGTCACGCCCCG\n",
      "\u001b[32m\u001b[K3\u001b[m\u001b[K\u001b[36m\u001b[K-\u001b[m\u001b[KGGTGCGTCGCAGCCCCGGAACCAGGCGCCCGCCGGAGGGACCAACCAAACTCTTTTCTGTAGTCCCCTCG\n",
      "\u001b[32m\u001b[K4\u001b[m\u001b[K\u001b[36m\u001b[K:\u001b[m\u001b[KCGG\u001b[01;31m\u001b[KACGT\u001b[m\u001b[KTATTTCTTACAGCTCTGAGCAAAAATTCAAAATGAATCAAAACTTTCAACAACGGATCTCTTG\n",
      "\u001b[32m\u001b[K5\u001b[m\u001b[K\u001b[36m\u001b[K:\u001b[m\u001b[KGTTCTGGCATCGATGAAGAACGCAGCGAAATGCGATAAGTAATGTGAATTGCA\u001b[01;31m\u001b[KGAATTC\u001b[m\u001b[KAGTGAATCATC\n",
      "\u001b[32m\u001b[K6\u001b[m\u001b[K\u001b[36m\u001b[K:\u001b[m\u001b[KGAATCTTTGAACGCACATTGCGCCCGCCAGTATTCTGGCGG\u001b[01;31m\u001b[KGCATGC\u001b[m\u001b[KCTGTCCGAGCGTCATTTCAACCC\n",
      "\u001b[32m\u001b[K7\u001b[m\u001b[K\u001b[36m\u001b[K-\u001b[m\u001b[KTCGAACCCCTCCGGGGGGTCGGCGTTGGGGATCGGGAACCCCTAAGACGGGATCCCGGCCCCGAAATACA\n",
      "\u001b[32m\u001b[K8\u001b[m\u001b[K\u001b[36m\u001b[K-\u001b[m\u001b[KGTGGCGGTCTCGCCGCAGCCTCTCCTGCGCAGTAGTTTGCACAACTCGCACCGGGAGCGCGGCGCGTCCA\n",
      "\u001b[32m\u001b[K9\u001b[m\u001b[K\u001b[36m\u001b[K:\u001b[m\u001b[KCGTCCGTAAAACACCCAACTTCTGAAAT\u001b[01;31m\u001b[KGTTGAC\u001b[m\u001b[KCTCGGATCAGGTAGGAATACCCGCTGAACTTAAGCA\n",
      "\u001b[32m\u001b[K10\u001b[m\u001b[K\u001b[36m\u001b[K-\u001b[m\u001b[KTATCAATAA\n",
      "\u001b[32m\u001b[K11\u001b[m\u001b[K\u001b[36m\u001b[K-\u001b[m\u001b[K\n"
     ]
    }
   ],
   "source": [
    "egrep -A10 -B10 -h -n -f  ~/Escritorio/rsg/Notebooks/sites.txt ~/Escritorio/rsg/Notebooks/ITS_region/*.fasta "
   ]
  },
  {
   "cell_type": "code",
   "execution_count": 129,
   "metadata": {},
   "outputs": [
    {
     "name": "stdout",
     "output_type": "stream",
     "text": [
      "\u001b[35m\u001b[K/home/jeanramos/Escritorio/rsg/Notebooks/ITS_region/A_lentulus.fasta\u001b[m\u001b[K\u001b[36m\u001b[K:\u001b[m\u001b[K6\n",
      "\u001b[35m\u001b[K/home/jeanramos/Escritorio/rsg/Notebooks/ITS_region/A_niger.fasta\u001b[m\u001b[K\u001b[36m\u001b[K:\u001b[m\u001b[K5\n",
      "\u001b[35m\u001b[K/home/jeanramos/Escritorio/rsg/Notebooks/ITS_region/A_tubingensis.fasta\u001b[m\u001b[K\u001b[36m\u001b[K:\u001b[m\u001b[K5\n",
      "\u001b[35m\u001b[K/home/jeanramos/Escritorio/rsg/Notebooks/ITS_region/C_auris.fasta\u001b[m\u001b[K\u001b[36m\u001b[K:\u001b[m\u001b[K3\n",
      "\u001b[35m\u001b[K/home/jeanramos/Escritorio/rsg/Notebooks/ITS_region/C_galbrata.fasta\u001b[m\u001b[K\u001b[36m\u001b[K:\u001b[m\u001b[K5\n",
      "\u001b[35m\u001b[K/home/jeanramos/Escritorio/rsg/Notebooks/ITS_region/P_expansum.fasta\u001b[m\u001b[K\u001b[36m\u001b[K:\u001b[m\u001b[K6\n",
      "\u001b[35m\u001b[K/home/jeanramos/Escritorio/rsg/Notebooks/ITS_region/S_eubayanus.fasta\u001b[m\u001b[K\u001b[36m\u001b[K:\u001b[m\u001b[K4\n",
      "\u001b[35m\u001b[K/home/jeanramos/Escritorio/rsg/Notebooks/ITS_region/S_paradoxus.fasta\u001b[m\u001b[K\u001b[36m\u001b[K:\u001b[m\u001b[K5\n",
      "\u001b[35m\u001b[K/home/jeanramos/Escritorio/rsg/Notebooks/ITS_region/T_delbrueckii.fasta\u001b[m\u001b[K\u001b[36m\u001b[K:\u001b[m\u001b[K6\n",
      "\u001b[35m\u001b[K/home/jeanramos/Escritorio/rsg/Notebooks/ITS_region/T_gamsii.fasta\u001b[m\u001b[K\u001b[36m\u001b[K:\u001b[m\u001b[K4\n"
     ]
    }
   ],
   "source": [
    "egrep -c -f ~/Escritorio/rsg/Notebooks/sites.txt ~/Escritorio/rsg/Notebooks/ITS_region/*.fasta "
   ]
  },
  {
   "cell_type": "code",
   "execution_count": 83,
   "metadata": {},
   "outputs": [
    {
     "name": "stdout",
     "output_type": "stream",
     "text": [
      "\u001b[35m\u001b[K/home/jeanramos/Escritorio/rsg/Notebooks/ITS_region/A_lentulus.fasta\u001b[m\u001b[K\u001b[36m\u001b[K:\u001b[m\u001b[K\u001b[01;31m\u001b[KCCCGGG\u001b[m\u001b[K\n",
      "\u001b[35m\u001b[K/home/jeanramos/Escritorio/rsg/Notebooks/ITS_region/A_lentulus.fasta\u001b[m\u001b[K\u001b[36m\u001b[K:\u001b[m\u001b[K\u001b[01;31m\u001b[KGAATTC\u001b[m\u001b[K\n",
      "\u001b[35m\u001b[K/home/jeanramos/Escritorio/rsg/Notebooks/ITS_region/A_lentulus.fasta\u001b[m\u001b[K\u001b[36m\u001b[K:\u001b[m\u001b[K\u001b[01;31m\u001b[KGCATGC\u001b[m\u001b[K\n",
      "\u001b[35m\u001b[K/home/jeanramos/Escritorio/rsg/Notebooks/ITS_region/A_lentulus.fasta\u001b[m\u001b[K\u001b[36m\u001b[K:\u001b[m\u001b[K\u001b[01;31m\u001b[KCCCGGG\u001b[m\u001b[K\n",
      "\u001b[35m\u001b[K/home/jeanramos/Escritorio/rsg/Notebooks/ITS_region/A_lentulus.fasta\u001b[m\u001b[K\u001b[36m\u001b[K:\u001b[m\u001b[K\u001b[01;31m\u001b[KCTCGAG\u001b[m\u001b[K\n",
      "\u001b[35m\u001b[K/home/jeanramos/Escritorio/rsg/Notebooks/ITS_region/A_lentulus.fasta\u001b[m\u001b[K\u001b[36m\u001b[K:\u001b[m\u001b[K\u001b[01;31m\u001b[KGCCGGC\u001b[m\u001b[K\n",
      "\u001b[35m\u001b[K/home/jeanramos/Escritorio/rsg/Notebooks/ITS_region/A_lentulus.fasta\u001b[m\u001b[K\u001b[36m\u001b[K:\u001b[m\u001b[K\u001b[01;31m\u001b[KGTTGAC\u001b[m\u001b[K\n",
      "\u001b[35m\u001b[K/home/jeanramos/Escritorio/rsg/Notebooks/ITS_region/A_niger.fasta\u001b[m\u001b[K\u001b[36m\u001b[K:\u001b[m\u001b[K\u001b[01;31m\u001b[KGGTGA\u001b[m\u001b[K\n",
      "\u001b[35m\u001b[K/home/jeanramos/Escritorio/rsg/Notebooks/ITS_region/A_niger.fasta\u001b[m\u001b[K\u001b[36m\u001b[K:\u001b[m\u001b[K\u001b[01;31m\u001b[KACCTGC\u001b[m\u001b[K\n",
      "\u001b[35m\u001b[K/home/jeanramos/Escritorio/rsg/Notebooks/ITS_region/A_niger.fasta\u001b[m\u001b[K\u001b[36m\u001b[K:\u001b[m\u001b[K\u001b[01;31m\u001b[KCCCGGG\u001b[m\u001b[K\n",
      "\u001b[35m\u001b[K/home/jeanramos/Escritorio/rsg/Notebooks/ITS_region/A_niger.fasta\u001b[m\u001b[K\u001b[36m\u001b[K:\u001b[m\u001b[K\u001b[01;31m\u001b[KGAATTC\u001b[m\u001b[K\n",
      "\u001b[35m\u001b[K/home/jeanramos/Escritorio/rsg/Notebooks/ITS_region/A_niger.fasta\u001b[m\u001b[K\u001b[36m\u001b[K:\u001b[m\u001b[K\u001b[01;31m\u001b[KCTCGAG\u001b[m\u001b[K\n",
      "\u001b[35m\u001b[K/home/jeanramos/Escritorio/rsg/Notebooks/ITS_region/A_niger.fasta\u001b[m\u001b[K\u001b[36m\u001b[K:\u001b[m\u001b[K\u001b[01;31m\u001b[KGCCGGC\u001b[m\u001b[K\n",
      "\u001b[35m\u001b[K/home/jeanramos/Escritorio/rsg/Notebooks/ITS_region/A_niger.fasta\u001b[m\u001b[K\u001b[36m\u001b[K:\u001b[m\u001b[K\u001b[01;31m\u001b[KACGT\u001b[m\u001b[K\n",
      "\u001b[35m\u001b[K/home/jeanramos/Escritorio/rsg/Notebooks/ITS_region/A_niger.fasta\u001b[m\u001b[K\u001b[36m\u001b[K:\u001b[m\u001b[K\u001b[01;31m\u001b[KGTTGAC\u001b[m\u001b[K\n",
      "\u001b[35m\u001b[K/home/jeanramos/Escritorio/rsg/Notebooks/ITS_region/A_tubingensis.fasta\u001b[m\u001b[K\u001b[36m\u001b[K:\u001b[m\u001b[K\u001b[01;31m\u001b[KCCCGGG\u001b[m\u001b[K\n",
      "\u001b[35m\u001b[K/home/jeanramos/Escritorio/rsg/Notebooks/ITS_region/A_tubingensis.fasta\u001b[m\u001b[K\u001b[36m\u001b[K:\u001b[m\u001b[K\u001b[01;31m\u001b[KGAATTC\u001b[m\u001b[K\n",
      "\u001b[35m\u001b[K/home/jeanramos/Escritorio/rsg/Notebooks/ITS_region/A_tubingensis.fasta\u001b[m\u001b[K\u001b[36m\u001b[K:\u001b[m\u001b[K\u001b[01;31m\u001b[KGCATGC\u001b[m\u001b[K\n",
      "\u001b[35m\u001b[K/home/jeanramos/Escritorio/rsg/Notebooks/ITS_region/A_tubingensis.fasta\u001b[m\u001b[K\u001b[36m\u001b[K:\u001b[m\u001b[K\u001b[01;31m\u001b[KCTCGAG\u001b[m\u001b[K\n",
      "\u001b[35m\u001b[K/home/jeanramos/Escritorio/rsg/Notebooks/ITS_region/A_tubingensis.fasta\u001b[m\u001b[K\u001b[36m\u001b[K:\u001b[m\u001b[K\u001b[01;31m\u001b[KGCCGGC\u001b[m\u001b[K\n",
      "\u001b[35m\u001b[K/home/jeanramos/Escritorio/rsg/Notebooks/ITS_region/A_tubingensis.fasta\u001b[m\u001b[K\u001b[36m\u001b[K:\u001b[m\u001b[K\u001b[01;31m\u001b[KACGT\u001b[m\u001b[K\n",
      "\u001b[35m\u001b[K/home/jeanramos/Escritorio/rsg/Notebooks/ITS_region/A_tubingensis.fasta\u001b[m\u001b[K\u001b[36m\u001b[K:\u001b[m\u001b[K\u001b[01;31m\u001b[KGTTGAC\u001b[m\u001b[K\n",
      "\u001b[35m\u001b[K/home/jeanramos/Escritorio/rsg/Notebooks/ITS_region/C_auris.fasta\u001b[m\u001b[K\u001b[36m\u001b[K:\u001b[m\u001b[K\u001b[01;31m\u001b[KACGT\u001b[m\u001b[K\n",
      "\u001b[35m\u001b[K/home/jeanramos/Escritorio/rsg/Notebooks/ITS_region/C_auris.fasta\u001b[m\u001b[K\u001b[36m\u001b[K:\u001b[m\u001b[K\u001b[01;31m\u001b[KACGT\u001b[m\u001b[K\n",
      "\u001b[35m\u001b[K/home/jeanramos/Escritorio/rsg/Notebooks/ITS_region/C_auris.fasta\u001b[m\u001b[K\u001b[36m\u001b[K:\u001b[m\u001b[K\u001b[01;31m\u001b[KACGT\u001b[m\u001b[K\n",
      "\u001b[35m\u001b[K/home/jeanramos/Escritorio/rsg/Notebooks/ITS_region/C_auris.fasta\u001b[m\u001b[K\u001b[36m\u001b[K:\u001b[m\u001b[K\u001b[01;31m\u001b[KGCATGC\u001b[m\u001b[K\n",
      "\u001b[35m\u001b[K/home/jeanramos/Escritorio/rsg/Notebooks/ITS_region/C_galbrata.fasta\u001b[m\u001b[K\u001b[36m\u001b[K:\u001b[m\u001b[K\u001b[01;31m\u001b[KGGATG\u001b[m\u001b[K\n",
      "\u001b[35m\u001b[K/home/jeanramos/Escritorio/rsg/Notebooks/ITS_region/C_galbrata.fasta\u001b[m\u001b[K\u001b[36m\u001b[K:\u001b[m\u001b[K\u001b[01;31m\u001b[KGTCAAC\u001b[m\u001b[K\n",
      "\u001b[35m\u001b[K/home/jeanramos/Escritorio/rsg/Notebooks/ITS_region/C_galbrata.fasta\u001b[m\u001b[K\u001b[36m\u001b[K:\u001b[m\u001b[K\u001b[01;31m\u001b[KACGT\u001b[m\u001b[K\n",
      "\u001b[35m\u001b[K/home/jeanramos/Escritorio/rsg/Notebooks/ITS_region/C_galbrata.fasta\u001b[m\u001b[K\u001b[36m\u001b[K:\u001b[m\u001b[K\u001b[01;31m\u001b[KGAATTC\u001b[m\u001b[K\n",
      "\u001b[35m\u001b[K/home/jeanramos/Escritorio/rsg/Notebooks/ITS_region/C_galbrata.fasta\u001b[m\u001b[K\u001b[36m\u001b[K:\u001b[m\u001b[K\u001b[01;31m\u001b[KACGT\u001b[m\u001b[K\n",
      "\u001b[35m\u001b[K/home/jeanramos/Escritorio/rsg/Notebooks/ITS_region/P_expansum.fasta\u001b[m\u001b[K\u001b[36m\u001b[K:\u001b[m\u001b[K\u001b[01;31m\u001b[KGGTGA\u001b[m\u001b[K\n",
      "\u001b[35m\u001b[K/home/jeanramos/Escritorio/rsg/Notebooks/ITS_region/P_expansum.fasta\u001b[m\u001b[K\u001b[36m\u001b[K:\u001b[m\u001b[K\u001b[01;31m\u001b[KACCTGC\u001b[m\u001b[K\n",
      "\u001b[35m\u001b[K/home/jeanramos/Escritorio/rsg/Notebooks/ITS_region/P_expansum.fasta\u001b[m\u001b[K\u001b[36m\u001b[K:\u001b[m\u001b[K\u001b[01;31m\u001b[KCCCGGG\u001b[m\u001b[K\n",
      "\u001b[35m\u001b[K/home/jeanramos/Escritorio/rsg/Notebooks/ITS_region/P_expansum.fasta\u001b[m\u001b[K\u001b[36m\u001b[K:\u001b[m\u001b[K\u001b[01;31m\u001b[KACGT\u001b[m\u001b[K\n",
      "\u001b[35m\u001b[K/home/jeanramos/Escritorio/rsg/Notebooks/ITS_region/P_expansum.fasta\u001b[m\u001b[K\u001b[36m\u001b[K:\u001b[m\u001b[K\u001b[01;31m\u001b[KGCATGC\u001b[m\u001b[K\n",
      "\u001b[35m\u001b[K/home/jeanramos/Escritorio/rsg/Notebooks/ITS_region/P_expansum.fasta\u001b[m\u001b[K\u001b[36m\u001b[K:\u001b[m\u001b[K\u001b[01;31m\u001b[KCTCGAG\u001b[m\u001b[K\n",
      "\u001b[35m\u001b[K/home/jeanramos/Escritorio/rsg/Notebooks/ITS_region/P_expansum.fasta\u001b[m\u001b[K\u001b[36m\u001b[K:\u001b[m\u001b[K\u001b[01;31m\u001b[KGTTGAC\u001b[m\u001b[K\n",
      "\u001b[35m\u001b[K/home/jeanramos/Escritorio/rsg/Notebooks/ITS_region/S_eubayanus.fasta\u001b[m\u001b[K\u001b[36m\u001b[K:\u001b[m\u001b[K\u001b[01;31m\u001b[KACGT\u001b[m\u001b[K\n",
      "\u001b[35m\u001b[K/home/jeanramos/Escritorio/rsg/Notebooks/ITS_region/S_eubayanus.fasta\u001b[m\u001b[K\u001b[36m\u001b[K:\u001b[m\u001b[K\u001b[01;31m\u001b[KGAATTC\u001b[m\u001b[K\n",
      "\u001b[35m\u001b[K/home/jeanramos/Escritorio/rsg/Notebooks/ITS_region/S_eubayanus.fasta\u001b[m\u001b[K\u001b[36m\u001b[K:\u001b[m\u001b[K\u001b[01;31m\u001b[KGCATGC\u001b[m\u001b[K\n",
      "\u001b[35m\u001b[K/home/jeanramos/Escritorio/rsg/Notebooks/ITS_region/S_eubayanus.fasta\u001b[m\u001b[K\u001b[36m\u001b[K:\u001b[m\u001b[K\u001b[01;31m\u001b[KGTTAAC\u001b[m\u001b[K\n",
      "\u001b[35m\u001b[K/home/jeanramos/Escritorio/rsg/Notebooks/ITS_region/S_eubayanus.fasta\u001b[m\u001b[K\u001b[36m\u001b[K:\u001b[m\u001b[K\u001b[01;31m\u001b[KGGATG\u001b[m\u001b[K\n",
      "\u001b[35m\u001b[K/home/jeanramos/Escritorio/rsg/Notebooks/ITS_region/S_eubayanus.fasta\u001b[m\u001b[K\u001b[36m\u001b[K:\u001b[m\u001b[K\u001b[01;31m\u001b[KACGT\u001b[m\u001b[K\n",
      "\u001b[35m\u001b[K/home/jeanramos/Escritorio/rsg/Notebooks/ITS_region/S_paradoxus.fasta\u001b[m\u001b[K\u001b[36m\u001b[K:\u001b[m\u001b[K\u001b[01;31m\u001b[KGGTGA\u001b[m\u001b[K\n",
      "\u001b[35m\u001b[K/home/jeanramos/Escritorio/rsg/Notebooks/ITS_region/S_paradoxus.fasta\u001b[m\u001b[K\u001b[36m\u001b[K:\u001b[m\u001b[K\u001b[01;31m\u001b[KGAATTC\u001b[m\u001b[K\n",
      "\u001b[35m\u001b[K/home/jeanramos/Escritorio/rsg/Notebooks/ITS_region/S_paradoxus.fasta\u001b[m\u001b[K\u001b[36m\u001b[K:\u001b[m\u001b[K\u001b[01;31m\u001b[KGCATGC\u001b[m\u001b[K\n",
      "\u001b[35m\u001b[K/home/jeanramos/Escritorio/rsg/Notebooks/ITS_region/S_paradoxus.fasta\u001b[m\u001b[K\u001b[36m\u001b[K:\u001b[m\u001b[K\u001b[01;31m\u001b[KGGATG\u001b[m\u001b[K\n",
      "\u001b[35m\u001b[K/home/jeanramos/Escritorio/rsg/Notebooks/ITS_region/S_paradoxus.fasta\u001b[m\u001b[K\u001b[36m\u001b[K:\u001b[m\u001b[K\u001b[01;31m\u001b[KACGT\u001b[m\u001b[K\n",
      "\u001b[35m\u001b[K/home/jeanramos/Escritorio/rsg/Notebooks/ITS_region/T_delbrueckii.fasta\u001b[m\u001b[K\u001b[36m\u001b[K:\u001b[m\u001b[K\u001b[01;31m\u001b[KACGT\u001b[m\u001b[K\n",
      "\u001b[35m\u001b[K/home/jeanramos/Escritorio/rsg/Notebooks/ITS_region/T_delbrueckii.fasta\u001b[m\u001b[K\u001b[36m\u001b[K:\u001b[m\u001b[K\u001b[01;31m\u001b[KACGT\u001b[m\u001b[K\n",
      "\u001b[35m\u001b[K/home/jeanramos/Escritorio/rsg/Notebooks/ITS_region/T_delbrueckii.fasta\u001b[m\u001b[K\u001b[36m\u001b[K:\u001b[m\u001b[K\u001b[01;31m\u001b[KGGTGA\u001b[m\u001b[K\n",
      "\u001b[35m\u001b[K/home/jeanramos/Escritorio/rsg/Notebooks/ITS_region/T_delbrueckii.fasta\u001b[m\u001b[K\u001b[36m\u001b[K:\u001b[m\u001b[K\u001b[01;31m\u001b[KACGT\u001b[m\u001b[K\n",
      "\u001b[35m\u001b[K/home/jeanramos/Escritorio/rsg/Notebooks/ITS_region/T_delbrueckii.fasta\u001b[m\u001b[K\u001b[36m\u001b[K:\u001b[m\u001b[K\u001b[01;31m\u001b[KGAATTC\u001b[m\u001b[K\n",
      "\u001b[35m\u001b[K/home/jeanramos/Escritorio/rsg/Notebooks/ITS_region/T_delbrueckii.fasta\u001b[m\u001b[K\u001b[36m\u001b[K:\u001b[m\u001b[K\u001b[01;31m\u001b[KGCATGC\u001b[m\u001b[K\n",
      "\u001b[35m\u001b[K/home/jeanramos/Escritorio/rsg/Notebooks/ITS_region/T_delbrueckii.fasta\u001b[m\u001b[K\u001b[36m\u001b[K:\u001b[m\u001b[K\u001b[01;31m\u001b[KGTTAAC\u001b[m\u001b[K\n",
      "\u001b[35m\u001b[K/home/jeanramos/Escritorio/rsg/Notebooks/ITS_region/T_delbrueckii.fasta\u001b[m\u001b[K\u001b[36m\u001b[K:\u001b[m\u001b[K\u001b[01;31m\u001b[KGGATG\u001b[m\u001b[K\n",
      "\u001b[35m\u001b[K/home/jeanramos/Escritorio/rsg/Notebooks/ITS_region/T_gamsii.fasta\u001b[m\u001b[K\u001b[36m\u001b[K:\u001b[m\u001b[K\u001b[01;31m\u001b[KACGT\u001b[m\u001b[K\n",
      "\u001b[35m\u001b[K/home/jeanramos/Escritorio/rsg/Notebooks/ITS_region/T_gamsii.fasta\u001b[m\u001b[K\u001b[36m\u001b[K:\u001b[m\u001b[K\u001b[01;31m\u001b[KGAATTC\u001b[m\u001b[K\n",
      "\u001b[35m\u001b[K/home/jeanramos/Escritorio/rsg/Notebooks/ITS_region/T_gamsii.fasta\u001b[m\u001b[K\u001b[36m\u001b[K:\u001b[m\u001b[K\u001b[01;31m\u001b[KGCATGC\u001b[m\u001b[K\n",
      "\u001b[35m\u001b[K/home/jeanramos/Escritorio/rsg/Notebooks/ITS_region/T_gamsii.fasta\u001b[m\u001b[K\u001b[36m\u001b[K:\u001b[m\u001b[K\u001b[01;31m\u001b[KGTTGAC\u001b[m\u001b[K\n"
     ]
    }
   ],
   "source": [
    "egrep -H -o -f  ~/Escritorio/rsg/Notebooks/sites.txt ~/Escritorio/rsg/Notebooks/ITS_region/*.fasta "
   ]
  },
  {
   "cell_type": "markdown",
   "metadata": {},
   "source": [
    "#### Contar los sitios de reconocimientos totales "
   ]
  },
  {
   "cell_type": "code",
   "execution_count": 91,
   "metadata": {},
   "outputs": [
    {
     "name": "stdout",
     "output_type": "stream",
     "text": [
      "8\n"
     ]
    }
   ],
   "source": [
    "egrep -h -o -f  ~/Escritorio/rsg/Notebooks/sites.txt ~/Escritorio/rsg/Notebooks/ITS_region/T_delbrueckii.fasta | wc -l  "
   ]
  },
  {
   "cell_type": "markdown",
   "metadata": {},
   "source": [
    "#### Contar las enzimas que reconocen el sitio activo "
   ]
  },
  {
   "cell_type": "code",
   "execution_count": 92,
   "metadata": {},
   "outputs": [
    {
     "name": "stdout",
     "output_type": "stream",
     "text": [
      "6\n"
     ]
    }
   ],
   "source": [
    "egrep -h -o -f  ~/Escritorio/rsg/Notebooks/sites.txt ~/Escritorio/rsg/Notebooks/ITS_region/T_delbrueckii.fasta | uniq -u | wc -l "
   ]
  }
 ],
 "metadata": {
  "kernelspec": {
   "display_name": "Bash",
   "language": "bash",
   "name": "bash"
  },
  "language_info": {
   "codemirror_mode": "shell",
   "file_extension": ".sh",
   "mimetype": "text/x-sh",
   "name": "bash"
  }
 },
 "nbformat": 4,
 "nbformat_minor": 4
}
